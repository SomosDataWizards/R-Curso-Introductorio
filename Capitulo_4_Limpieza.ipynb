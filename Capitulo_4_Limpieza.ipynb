{
  "nbformat": 4,
  "nbformat_minor": 0,
  "metadata": {
    "colab": {
      "provenance": [],
      "toc_visible": true
    },
    "kernelspec": {
      "name": "ir",
      "display_name": "R"
    }
  },
  "cells": [
    {
      "cell_type": "markdown",
      "source": [
        "# **Introducción a R para Análisis de Datos**\n",
        "## Capítulo 4: Limpieza de Datos\n",
        "--- \n",
        "\n",
        "**Autor:** Juan Martin Bellido  \n",
        "\n",
        "**Descripción**  \n",
        "En este capitulo aprenderemos a instrumentar las operaciones típicas de limpieza de datos. \n",
        "\n",
        "**¿Feedback? ¿comentarios?** Por favor compártelo conmigo escribiéndome por [LinkedIn](https://www.linkedin.com/in/jmartinbellido/)  \n",
        "\n",
        "**Material Adicional**\n",
        "* [Comandos Jupyter Notebook](https://datawizards.es/contenido/codigo-para-analisis-de-datos/guias/comandos-rapidos-jupyter)\n",
        "* [Sintaxis Markdown](https://datawizards.es/contenido/codigo-para-analisis-de-datos/guias/sintaxis-markdown)"
      ],
      "metadata": {
        "id": "pjPZkfoCeSPe"
      }
    },
    {
      "cell_type": "markdown",
      "source": [
        "\n",
        "## INDICE\n",
        "---\n",
        "1. Valores nulos \n",
        "2. Valores duplicados\n",
        "3. Outliers\n",
        "4. Ejercicios\n"
      ],
      "metadata": {
        "id": "nNYXqcuXelZf"
      }
    },
    {
      "cell_type": "markdown",
      "source": [
        "Convenciones utilizadas en este documento\n",
        "> 👉 *Esto es una nota u observación*\n",
        "\n",
        "> ⚠️ *Esto es una advertencia*"
      ],
      "metadata": {
        "id": "4v7HerhvVJcQ"
      }
    },
    {
      "cell_type": "code",
      "metadata": {
        "id": "wLlxs1m-tpjO"
      },
      "source": [
        "# instalamos librería \"data.table\" porque Google colab no la incluye por defecto\n",
        "install.packages(\"data.table\")"
      ],
      "execution_count": null,
      "outputs": []
    },
    {
      "cell_type": "code",
      "metadata": {
        "id": "TxEwN93qtcWt"
      },
      "source": [
        "# importamos las librerías que utilizaremos\n",
        "require(dplyr)\n",
        "require(data.table)"
      ],
      "execution_count": null,
      "outputs": []
    },
    {
      "cell_type": "code",
      "metadata": {
        "id": "-w2HuB9hz5fM"
      },
      "source": [
        "# (opcional) editamos las opciones globales para evitar que R utilice notación científica\n",
        "options(scipen=999)"
      ],
      "execution_count": 3,
      "outputs": []
    },
    {
      "cell_type": "markdown",
      "metadata": {
        "id": "EadzEfEu9Xbf"
      },
      "source": [
        "# 1. Valores nulos\n",
        "---\n"
      ]
    },
    {
      "cell_type": "code",
      "source": [
        "# importamos DataFrame\n",
        "df_jamesbond = fread(\"https://data-wizards.s3.amazonaws.com/datasets/jamesbond.csv\")\n",
        "glimpse(df_jamesbond)"
      ],
      "metadata": {
        "colab": {
          "base_uri": "https://localhost:8080/"
        },
        "id": "2lUbdYUYl3_o",
        "outputId": "db4bb89e-e00d-4f88-8a16-b84a836a3049"
      },
      "execution_count": 4,
      "outputs": [
        {
          "output_type": "stream",
          "name": "stdout",
          "text": [
            "Rows: 26\n",
            "Columns: 7\n",
            "$ Film                \u001b[3m\u001b[90m<chr>\u001b[39m\u001b[23m \"Dr. No\", \"From Russia with Love\", \"Goldfinger\", \"…\n",
            "$ Year                \u001b[3m\u001b[90m<int>\u001b[39m\u001b[23m 1962, 1963, 1964, 1965, 1967, 1967, 1969, 1971, 19…\n",
            "$ Actor               \u001b[3m\u001b[90m<chr>\u001b[39m\u001b[23m \"Sean Connery\", \"Sean Connery\", \"Sean Connery\", \"S…\n",
            "$ Director            \u001b[3m\u001b[90m<chr>\u001b[39m\u001b[23m \"Terence Young\", \"Terence Young\", \"Guy Hamilton\", …\n",
            "$ `Box Office`        \u001b[3m\u001b[90m<dbl>\u001b[39m\u001b[23m 448.8, 543.8, 820.4, 848.1, 315.0, 514.2, 291.5, 4…\n",
            "$ Budget              \u001b[3m\u001b[90m<dbl>\u001b[39m\u001b[23m 7.0, 12.6, 18.6, 41.9, 85.0, 59.9, 37.3, 34.7, 30.…\n",
            "$ `Bond Actor Salary` \u001b[3m\u001b[90m<dbl>\u001b[39m\u001b[23m 0.6, 1.6, 3.2, 4.7, NA, 4.4, 0.6, 5.8, NA, NA, NA,…\n"
          ]
        }
      ]
    },
    {
      "cell_type": "markdown",
      "source": [
        "### Identificar valores nulos"
      ],
      "metadata": {
        "id": "rKh6uJU1k2M2"
      }
    },
    {
      "cell_type": "markdown",
      "source": [
        "La función `is.na()` determina si un elemento es un valor nulo (NA). Esta función se utiliza a menudo para detectar y manipular valores nulos en data frames y vectores."
      ],
      "metadata": {
        "id": "jtuTIUPEj-Ts"
      }
    },
    {
      "cell_type": "code",
      "source": [
        "# la función is.na() comprueba valor a valor si se trata de un nulo (TRUE), en caso contrario (FALSE)\n",
        "df_jamesbond$Film %>% is.na()"
      ],
      "metadata": {
        "colab": {
          "base_uri": "https://localhost:8080/",
          "height": 52
        },
        "id": "DR6ZuPzApKPE",
        "outputId": "1f4cea73-5e90-41d0-d81c-c13db9d6efc7"
      },
      "execution_count": null,
      "outputs": [
        {
          "output_type": "display_data",
          "data": {
            "text/html": [
              "<style>\n",
              ".list-inline {list-style: none; margin:0; padding: 0}\n",
              ".list-inline>li {display: inline-block}\n",
              ".list-inline>li:not(:last-child)::after {content: \"\\00b7\"; padding: 0 .5ex}\n",
              "</style>\n",
              "<ol class=list-inline><li>FALSE</li><li>FALSE</li><li>FALSE</li><li>FALSE</li><li>FALSE</li><li>FALSE</li><li>FALSE</li><li>FALSE</li><li>FALSE</li><li>FALSE</li><li>FALSE</li><li>FALSE</li><li>FALSE</li><li>FALSE</li><li>FALSE</li><li>FALSE</li><li>FALSE</li><li>FALSE</li><li>FALSE</li><li>FALSE</li><li>FALSE</li><li>FALSE</li><li>FALSE</li><li>FALSE</li><li>FALSE</li><li>FALSE</li></ol>\n"
            ],
            "text/markdown": "1. FALSE\n2. FALSE\n3. FALSE\n4. FALSE\n5. FALSE\n6. FALSE\n7. FALSE\n8. FALSE\n9. FALSE\n10. FALSE\n11. FALSE\n12. FALSE\n13. FALSE\n14. FALSE\n15. FALSE\n16. FALSE\n17. FALSE\n18. FALSE\n19. FALSE\n20. FALSE\n21. FALSE\n22. FALSE\n23. FALSE\n24. FALSE\n25. FALSE\n26. FALSE\n\n\n",
            "text/latex": "\\begin{enumerate*}\n\\item FALSE\n\\item FALSE\n\\item FALSE\n\\item FALSE\n\\item FALSE\n\\item FALSE\n\\item FALSE\n\\item FALSE\n\\item FALSE\n\\item FALSE\n\\item FALSE\n\\item FALSE\n\\item FALSE\n\\item FALSE\n\\item FALSE\n\\item FALSE\n\\item FALSE\n\\item FALSE\n\\item FALSE\n\\item FALSE\n\\item FALSE\n\\item FALSE\n\\item FALSE\n\\item FALSE\n\\item FALSE\n\\item FALSE\n\\end{enumerate*}\n",
            "text/plain": [
              " [1] FALSE FALSE FALSE FALSE FALSE FALSE FALSE FALSE FALSE FALSE FALSE FALSE\n",
              "[13] FALSE FALSE FALSE FALSE FALSE FALSE FALSE FALSE FALSE FALSE FALSE FALSE\n",
              "[25] FALSE FALSE"
            ]
          },
          "metadata": {}
        }
      ]
    },
    {
      "cell_type": "code",
      "source": [
        "# podríamos sumar booleanos en un vector (o columna), estaríamos contando la cantidad de valores TRUE\n",
        "df_jamesbond$Film %>% is.na() %>% sum()"
      ],
      "metadata": {
        "colab": {
          "base_uri": "https://localhost:8080/",
          "height": 34
        },
        "id": "bsaRM0t2pb0D",
        "outputId": "4cf62738-d5fa-4149-ca9a-15e2b0f06c5f"
      },
      "execution_count": null,
      "outputs": [
        {
          "output_type": "display_data",
          "data": {
            "text/html": [
              "0"
            ],
            "text/markdown": "0",
            "text/latex": "0",
            "text/plain": [
              "[1] 0"
            ]
          },
          "metadata": {}
        }
      ]
    },
    {
      "cell_type": "code",
      "source": [
        "# para esta otra columna, encontramos que existen 8 valores nulos\n",
        "df_jamesbond$`Bond Actor Salary` %>% is.na() %>% sum()"
      ],
      "metadata": {
        "colab": {
          "base_uri": "https://localhost:8080/",
          "height": 34
        },
        "id": "8ZtvjAtOpm6v",
        "outputId": "11707ce1-c7f8-4ae9-a65f-fe85d07ba3bc"
      },
      "execution_count": null,
      "outputs": [
        {
          "output_type": "display_data",
          "data": {
            "text/html": [
              "8"
            ],
            "text/markdown": "8",
            "text/latex": "8",
            "text/plain": [
              "[1] 8"
            ]
          },
          "metadata": {}
        }
      ]
    },
    {
      "cell_type": "markdown",
      "source": [
        "La función `apply()` permite aplicar una función a cada columna en un data frame."
      ],
      "metadata": {
        "id": "qJ_j5OyEkd8N"
      }
    },
    {
      "cell_type": "code",
      "source": [
        "# la función apply() nos permite realizar una operación para todas las columnas (o filas) en un dataframe de forma automática\n",
        "# por ejemplo, podríamos contar valores únicos para cada una de las columnas\n",
        "apply(df_jamesbond, # seleccionamos dataframe\n",
        "      2,            # 2 = indica que operamos según columnas (y no filas)\n",
        "      n_distinct    # el nombre de la función\n",
        ")"
      ],
      "metadata": {
        "colab": {
          "base_uri": "https://localhost:8080/",
          "height": 34
        },
        "id": "jkhncUL7pujk",
        "outputId": "b97d8e43-6c97-43f0-e043-ae263dfbd60a"
      },
      "execution_count": null,
      "outputs": [
        {
          "output_type": "display_data",
          "data": {
            "text/html": [
              "<style>\n",
              ".dl-inline {width: auto; margin:0; padding: 0}\n",
              ".dl-inline>dt, .dl-inline>dd {float: none; width: auto; display: inline-block}\n",
              ".dl-inline>dt::after {content: \":\\0020\"; padding-right: .5ex}\n",
              ".dl-inline>dt:not(:first-of-type) {padding-left: .5ex}\n",
              "</style><dl class=dl-inline><dt>Film</dt><dd>25</dd><dt>Year</dt><dd>24</dd><dt>Actor</dt><dd>7</dd><dt>Director</dt><dd>13</dd><dt>Box Office</dt><dd>25</dd><dt>Budget</dt><dd>26</dd><dt>Bond Actor Salary</dt><dd>18</dd></dl>\n"
            ],
            "text/markdown": "Film\n:   25Year\n:   24Actor\n:   7Director\n:   13Box Office\n:   25Budget\n:   26Bond Actor Salary\n:   18\n\n",
            "text/latex": "\\begin{description*}\n\\item[Film] 25\n\\item[Year] 24\n\\item[Actor] 7\n\\item[Director] 13\n\\item[Box Office] 25\n\\item[Budget] 26\n\\item[Bond Actor Salary] 18\n\\end{description*}\n",
            "text/plain": [
              "             Film              Year             Actor          Director \n",
              "               25                24                 7                13 \n",
              "       Box Office            Budget Bond Actor Salary \n",
              "               25                26                18 "
            ]
          },
          "metadata": {}
        }
      ]
    },
    {
      "cell_type": "code",
      "source": [
        "# aplicamos la función apply() combinándola con el método anterior, para sumar la cantidad de nulos en cada columna\n",
        "apply(is.na(df_jamesbond),2,sum)"
      ],
      "metadata": {
        "colab": {
          "base_uri": "https://localhost:8080/",
          "height": 34
        },
        "id": "-LThA998nLNQ",
        "outputId": "e6bbc6e8-2b9b-42dc-c9cb-266dea884664"
      },
      "execution_count": null,
      "outputs": [
        {
          "output_type": "display_data",
          "data": {
            "text/html": [
              "<style>\n",
              ".dl-inline {width: auto; margin:0; padding: 0}\n",
              ".dl-inline>dt, .dl-inline>dd {float: none; width: auto; display: inline-block}\n",
              ".dl-inline>dt::after {content: \":\\0020\"; padding-right: .5ex}\n",
              ".dl-inline>dt:not(:first-of-type) {padding-left: .5ex}\n",
              "</style><dl class=dl-inline><dt>Film</dt><dd>0</dd><dt>Year</dt><dd>0</dd><dt>Actor</dt><dd>0</dd><dt>Director</dt><dd>0</dd><dt>Box Office</dt><dd>0</dd><dt>Budget</dt><dd>0</dd><dt>Bond Actor Salary</dt><dd>8</dd></dl>\n"
            ],
            "text/markdown": "Film\n:   0Year\n:   0Actor\n:   0Director\n:   0Box Office\n:   0Budget\n:   0Bond Actor Salary\n:   8\n\n",
            "text/latex": "\\begin{description*}\n\\item[Film] 0\n\\item[Year] 0\n\\item[Actor] 0\n\\item[Director] 0\n\\item[Box Office] 0\n\\item[Budget] 0\n\\item[Bond Actor Salary] 8\n\\end{description*}\n",
            "text/plain": [
              "             Film              Year             Actor          Director \n",
              "                0                 0                 0                 0 \n",
              "       Box Office            Budget Bond Actor Salary \n",
              "                0                 0                 8 "
            ]
          },
          "metadata": {}
        }
      ]
    },
    {
      "cell_type": "code",
      "source": [
        "# hemos identificado que los nulos se encuentran en una única columna\n",
        "# podríamos filtrar por filas con valores nulos para este campo\n",
        "df_jamesbond %>% filter(\n",
        "  is.na(`Bond Actor Salary`)\n",
        ")"
      ],
      "metadata": {
        "colab": {
          "base_uri": "https://localhost:8080/",
          "height": 349
        },
        "id": "4yochA-LsIKY",
        "outputId": "72d59218-192d-4e2d-932e-9324c1fd8692"
      },
      "execution_count": null,
      "outputs": [
        {
          "output_type": "display_data",
          "data": {
            "text/html": [
              "<table class=\"dataframe\">\n",
              "<caption>A data.table: 8 × 7</caption>\n",
              "<thead>\n",
              "\t<tr><th scope=col>Film</th><th scope=col>Year</th><th scope=col>Actor</th><th scope=col>Director</th><th scope=col>Box Office</th><th scope=col>Budget</th><th scope=col>Bond Actor Salary</th></tr>\n",
              "\t<tr><th scope=col>&lt;chr&gt;</th><th scope=col>&lt;int&gt;</th><th scope=col>&lt;chr&gt;</th><th scope=col>&lt;chr&gt;</th><th scope=col>&lt;dbl&gt;</th><th scope=col>&lt;dbl&gt;</th><th scope=col>&lt;dbl&gt;</th></tr>\n",
              "</thead>\n",
              "<tbody>\n",
              "\t<tr><td>Casino Royale              </td><td>1967</td><td>David Niven </td><td>Ken Hughes    </td><td>315.0</td><td> 85.0</td><td>NA</td></tr>\n",
              "\t<tr><td>Live and Let Die           </td><td>1973</td><td>Roger Moore </td><td>Guy Hamilton  </td><td>460.3</td><td> 30.8</td><td>NA</td></tr>\n",
              "\t<tr><td>The Man with the Golden Gun</td><td>1974</td><td>Roger Moore </td><td>Guy Hamilton  </td><td>334.0</td><td> 27.7</td><td>NA</td></tr>\n",
              "\t<tr><td>The Spy Who Loved Me       </td><td>1977</td><td>Roger Moore </td><td>Lewis Gilbert </td><td>533.0</td><td> 45.1</td><td>NA</td></tr>\n",
              "\t<tr><td>Moonraker                  </td><td>1979</td><td>Roger Moore </td><td>Lewis Gilbert </td><td>535.0</td><td> 91.5</td><td>NA</td></tr>\n",
              "\t<tr><td>For Your Eyes Only         </td><td>1981</td><td>Roger Moore </td><td>John Glen     </td><td>449.4</td><td> 60.2</td><td>NA</td></tr>\n",
              "\t<tr><td>Never Say Never Again      </td><td>1983</td><td>Sean Connery</td><td>Irvin Kershner</td><td>380.0</td><td> 86.0</td><td>NA</td></tr>\n",
              "\t<tr><td>Spectre                    </td><td>2015</td><td>Daniel Craig</td><td>Sam Mendes    </td><td>726.7</td><td>206.3</td><td>NA</td></tr>\n",
              "</tbody>\n",
              "</table>\n"
            ],
            "text/markdown": "\nA data.table: 8 × 7\n\n| Film &lt;chr&gt; | Year &lt;int&gt; | Actor &lt;chr&gt; | Director &lt;chr&gt; | Box Office &lt;dbl&gt; | Budget &lt;dbl&gt; | Bond Actor Salary &lt;dbl&gt; |\n|---|---|---|---|---|---|---|\n| Casino Royale               | 1967 | David Niven  | Ken Hughes     | 315.0 |  85.0 | NA |\n| Live and Let Die            | 1973 | Roger Moore  | Guy Hamilton   | 460.3 |  30.8 | NA |\n| The Man with the Golden Gun | 1974 | Roger Moore  | Guy Hamilton   | 334.0 |  27.7 | NA |\n| The Spy Who Loved Me        | 1977 | Roger Moore  | Lewis Gilbert  | 533.0 |  45.1 | NA |\n| Moonraker                   | 1979 | Roger Moore  | Lewis Gilbert  | 535.0 |  91.5 | NA |\n| For Your Eyes Only          | 1981 | Roger Moore  | John Glen      | 449.4 |  60.2 | NA |\n| Never Say Never Again       | 1983 | Sean Connery | Irvin Kershner | 380.0 |  86.0 | NA |\n| Spectre                     | 2015 | Daniel Craig | Sam Mendes     | 726.7 | 206.3 | NA |\n\n",
            "text/latex": "A data.table: 8 × 7\n\\begin{tabular}{lllllll}\n Film & Year & Actor & Director & Box Office & Budget & Bond Actor Salary\\\\\n <chr> & <int> & <chr> & <chr> & <dbl> & <dbl> & <dbl>\\\\\n\\hline\n\t Casino Royale               & 1967 & David Niven  & Ken Hughes     & 315.0 &  85.0 & NA\\\\\n\t Live and Let Die            & 1973 & Roger Moore  & Guy Hamilton   & 460.3 &  30.8 & NA\\\\\n\t The Man with the Golden Gun & 1974 & Roger Moore  & Guy Hamilton   & 334.0 &  27.7 & NA\\\\\n\t The Spy Who Loved Me        & 1977 & Roger Moore  & Lewis Gilbert  & 533.0 &  45.1 & NA\\\\\n\t Moonraker                   & 1979 & Roger Moore  & Lewis Gilbert  & 535.0 &  91.5 & NA\\\\\n\t For Your Eyes Only          & 1981 & Roger Moore  & John Glen      & 449.4 &  60.2 & NA\\\\\n\t Never Say Never Again       & 1983 & Sean Connery & Irvin Kershner & 380.0 &  86.0 & NA\\\\\n\t Spectre                     & 2015 & Daniel Craig & Sam Mendes     & 726.7 & 206.3 & NA\\\\\n\\end{tabular}\n",
            "text/plain": [
              "  Film                        Year Actor        Director       Box Office\n",
              "1 Casino Royale               1967 David Niven  Ken Hughes     315.0     \n",
              "2 Live and Let Die            1973 Roger Moore  Guy Hamilton   460.3     \n",
              "3 The Man with the Golden Gun 1974 Roger Moore  Guy Hamilton   334.0     \n",
              "4 The Spy Who Loved Me        1977 Roger Moore  Lewis Gilbert  533.0     \n",
              "5 Moonraker                   1979 Roger Moore  Lewis Gilbert  535.0     \n",
              "6 For Your Eyes Only          1981 Roger Moore  John Glen      449.4     \n",
              "7 Never Say Never Again       1983 Sean Connery Irvin Kershner 380.0     \n",
              "8 Spectre                     2015 Daniel Craig Sam Mendes     726.7     \n",
              "  Budget Bond Actor Salary\n",
              "1  85.0  NA               \n",
              "2  30.8  NA               \n",
              "3  27.7  NA               \n",
              "4  45.1  NA               \n",
              "5  91.5  NA               \n",
              "6  60.2  NA               \n",
              "7  86.0  NA               \n",
              "8 206.3  NA               "
            ]
          },
          "metadata": {}
        }
      ]
    },
    {
      "cell_type": "markdown",
      "source": [
        "### Operar valores nulos"
      ],
      "metadata": {
        "id": "1nnHl6Rak5GV"
      }
    },
    {
      "cell_type": "markdown",
      "source": [
        "La función `complete.cases()` comprueba que las filas no contengan ningún valor nulo.\n"
      ],
      "metadata": {
        "id": "7_LACTAok_kE"
      }
    },
    {
      "cell_type": "code",
      "source": [
        "# demostración de la función complete.cases()\n",
        "complete.cases(df_jamesbond)"
      ],
      "metadata": {
        "colab": {
          "base_uri": "https://localhost:8080/",
          "height": 52
        },
        "id": "JmyPGQJgrSLv",
        "outputId": "b8942bc6-bac1-4cf2-a4c3-97b4d92394dd"
      },
      "execution_count": null,
      "outputs": [
        {
          "output_type": "display_data",
          "data": {
            "text/html": [
              "<style>\n",
              ".list-inline {list-style: none; margin:0; padding: 0}\n",
              ".list-inline>li {display: inline-block}\n",
              ".list-inline>li:not(:last-child)::after {content: \"\\00b7\"; padding: 0 .5ex}\n",
              "</style>\n",
              "<ol class=list-inline><li>TRUE</li><li>TRUE</li><li>TRUE</li><li>TRUE</li><li>FALSE</li><li>TRUE</li><li>TRUE</li><li>TRUE</li><li>FALSE</li><li>FALSE</li><li>FALSE</li><li>FALSE</li><li>FALSE</li><li>FALSE</li><li>TRUE</li><li>TRUE</li><li>TRUE</li><li>TRUE</li><li>TRUE</li><li>TRUE</li><li>TRUE</li><li>TRUE</li><li>TRUE</li><li>TRUE</li><li>TRUE</li><li>FALSE</li></ol>\n"
            ],
            "text/markdown": "1. TRUE\n2. TRUE\n3. TRUE\n4. TRUE\n5. FALSE\n6. TRUE\n7. TRUE\n8. TRUE\n9. FALSE\n10. FALSE\n11. FALSE\n12. FALSE\n13. FALSE\n14. FALSE\n15. TRUE\n16. TRUE\n17. TRUE\n18. TRUE\n19. TRUE\n20. TRUE\n21. TRUE\n22. TRUE\n23. TRUE\n24. TRUE\n25. TRUE\n26. FALSE\n\n\n",
            "text/latex": "\\begin{enumerate*}\n\\item TRUE\n\\item TRUE\n\\item TRUE\n\\item TRUE\n\\item FALSE\n\\item TRUE\n\\item TRUE\n\\item TRUE\n\\item FALSE\n\\item FALSE\n\\item FALSE\n\\item FALSE\n\\item FALSE\n\\item FALSE\n\\item TRUE\n\\item TRUE\n\\item TRUE\n\\item TRUE\n\\item TRUE\n\\item TRUE\n\\item TRUE\n\\item TRUE\n\\item TRUE\n\\item TRUE\n\\item TRUE\n\\item FALSE\n\\end{enumerate*}\n",
            "text/plain": [
              " [1]  TRUE  TRUE  TRUE  TRUE FALSE  TRUE  TRUE  TRUE FALSE FALSE FALSE FALSE\n",
              "[13] FALSE FALSE  TRUE  TRUE  TRUE  TRUE  TRUE  TRUE  TRUE  TRUE  TRUE  TRUE\n",
              "[25]  TRUE FALSE"
            ]
          },
          "metadata": {}
        }
      ]
    },
    {
      "cell_type": "code",
      "source": [
        "# podría utilizar la función complete.cases() para filtrar únicamente por las filas completas en mi df\n",
        "cond = complete.cases(df_jamesbond)\n",
        "df_jamesbond[cond,]"
      ],
      "metadata": {
        "colab": {
          "base_uri": "https://localhost:8080/",
          "height": 662
        },
        "id": "dijtsuTQriYe",
        "outputId": "6f89f6eb-218b-4506-a239-df5d9c235149"
      },
      "execution_count": null,
      "outputs": [
        {
          "output_type": "display_data",
          "data": {
            "text/html": [
              "<table class=\"dataframe\">\n",
              "<caption>A data.table: 18 × 7</caption>\n",
              "<thead>\n",
              "\t<tr><th scope=col>Film</th><th scope=col>Year</th><th scope=col>Actor</th><th scope=col>Director</th><th scope=col>Box Office</th><th scope=col>Budget</th><th scope=col>Bond Actor Salary</th></tr>\n",
              "\t<tr><th scope=col>&lt;chr&gt;</th><th scope=col>&lt;int&gt;</th><th scope=col>&lt;chr&gt;</th><th scope=col>&lt;chr&gt;</th><th scope=col>&lt;dbl&gt;</th><th scope=col>&lt;dbl&gt;</th><th scope=col>&lt;dbl&gt;</th></tr>\n",
              "</thead>\n",
              "<tbody>\n",
              "\t<tr><td>Dr. No                         </td><td>1962</td><td>Sean Connery  </td><td>Terence Young     </td><td>448.8</td><td>  7.0</td><td> 0.6</td></tr>\n",
              "\t<tr><td>From Russia with Love          </td><td>1963</td><td>Sean Connery  </td><td>Terence Young     </td><td>543.8</td><td> 12.6</td><td> 1.6</td></tr>\n",
              "\t<tr><td>Goldfinger                     </td><td>1964</td><td>Sean Connery  </td><td>Guy Hamilton      </td><td>820.4</td><td> 18.6</td><td> 3.2</td></tr>\n",
              "\t<tr><td>Thunderball                    </td><td>1965</td><td>Sean Connery  </td><td>Terence Young     </td><td>848.1</td><td> 41.9</td><td> 4.7</td></tr>\n",
              "\t<tr><td>You Only Live Twice            </td><td>1967</td><td>Sean Connery  </td><td>Lewis Gilbert     </td><td>514.2</td><td> 59.9</td><td> 4.4</td></tr>\n",
              "\t<tr><td>On Her Majesty's Secret Service</td><td>1969</td><td>George Lazenby</td><td>Peter R. Hunt     </td><td>291.5</td><td> 37.3</td><td> 0.6</td></tr>\n",
              "\t<tr><td>Diamonds Are Forever           </td><td>1971</td><td>Sean Connery  </td><td>Guy Hamilton      </td><td>442.5</td><td> 34.7</td><td> 5.8</td></tr>\n",
              "\t<tr><td>Octopussy                      </td><td>1983</td><td>Roger Moore   </td><td>John Glen         </td><td>373.8</td><td> 53.9</td><td> 7.8</td></tr>\n",
              "\t<tr><td>A View to a Kill               </td><td>1985</td><td>Roger Moore   </td><td>John Glen         </td><td>275.2</td><td> 54.5</td><td> 9.1</td></tr>\n",
              "\t<tr><td>The Living Daylights           </td><td>1987</td><td>Timothy Dalton</td><td>John Glen         </td><td>313.5</td><td> 68.8</td><td> 5.2</td></tr>\n",
              "\t<tr><td>Licence to Kill                </td><td>1989</td><td>Timothy Dalton</td><td>John Glen         </td><td>250.9</td><td> 56.7</td><td> 7.9</td></tr>\n",
              "\t<tr><td>GoldenEye                      </td><td>1995</td><td>Pierce Brosnan</td><td>Martin Campbell   </td><td>518.5</td><td> 76.9</td><td> 5.1</td></tr>\n",
              "\t<tr><td>Tomorrow Never Dies            </td><td>1997</td><td>Pierce Brosnan</td><td>Roger Spottiswoode</td><td>463.2</td><td>133.9</td><td>10.0</td></tr>\n",
              "\t<tr><td>The World Is Not Enough        </td><td>1999</td><td>Pierce Brosnan</td><td>Michael Apted     </td><td>439.5</td><td>158.3</td><td>13.5</td></tr>\n",
              "\t<tr><td>Die Another Day                </td><td>2002</td><td>Pierce Brosnan</td><td>Lee Tamahori      </td><td>465.4</td><td>154.2</td><td>17.9</td></tr>\n",
              "\t<tr><td>Casino Royale                  </td><td>2006</td><td>Daniel Craig  </td><td>Martin Campbell   </td><td>581.5</td><td>145.3</td><td> 3.3</td></tr>\n",
              "\t<tr><td>Quantum of Solace              </td><td>2008</td><td>Daniel Craig  </td><td>Marc Forster      </td><td>514.2</td><td>181.4</td><td> 8.1</td></tr>\n",
              "\t<tr><td>Skyfall                        </td><td>2012</td><td>Daniel Craig  </td><td>Sam Mendes        </td><td>943.5</td><td>170.2</td><td>14.5</td></tr>\n",
              "</tbody>\n",
              "</table>\n"
            ],
            "text/markdown": "\nA data.table: 18 × 7\n\n| Film &lt;chr&gt; | Year &lt;int&gt; | Actor &lt;chr&gt; | Director &lt;chr&gt; | Box Office &lt;dbl&gt; | Budget &lt;dbl&gt; | Bond Actor Salary &lt;dbl&gt; |\n|---|---|---|---|---|---|---|\n| Dr. No                          | 1962 | Sean Connery   | Terence Young      | 448.8 |   7.0 |  0.6 |\n| From Russia with Love           | 1963 | Sean Connery   | Terence Young      | 543.8 |  12.6 |  1.6 |\n| Goldfinger                      | 1964 | Sean Connery   | Guy Hamilton       | 820.4 |  18.6 |  3.2 |\n| Thunderball                     | 1965 | Sean Connery   | Terence Young      | 848.1 |  41.9 |  4.7 |\n| You Only Live Twice             | 1967 | Sean Connery   | Lewis Gilbert      | 514.2 |  59.9 |  4.4 |\n| On Her Majesty's Secret Service | 1969 | George Lazenby | Peter R. Hunt      | 291.5 |  37.3 |  0.6 |\n| Diamonds Are Forever            | 1971 | Sean Connery   | Guy Hamilton       | 442.5 |  34.7 |  5.8 |\n| Octopussy                       | 1983 | Roger Moore    | John Glen          | 373.8 |  53.9 |  7.8 |\n| A View to a Kill                | 1985 | Roger Moore    | John Glen          | 275.2 |  54.5 |  9.1 |\n| The Living Daylights            | 1987 | Timothy Dalton | John Glen          | 313.5 |  68.8 |  5.2 |\n| Licence to Kill                 | 1989 | Timothy Dalton | John Glen          | 250.9 |  56.7 |  7.9 |\n| GoldenEye                       | 1995 | Pierce Brosnan | Martin Campbell    | 518.5 |  76.9 |  5.1 |\n| Tomorrow Never Dies             | 1997 | Pierce Brosnan | Roger Spottiswoode | 463.2 | 133.9 | 10.0 |\n| The World Is Not Enough         | 1999 | Pierce Brosnan | Michael Apted      | 439.5 | 158.3 | 13.5 |\n| Die Another Day                 | 2002 | Pierce Brosnan | Lee Tamahori       | 465.4 | 154.2 | 17.9 |\n| Casino Royale                   | 2006 | Daniel Craig   | Martin Campbell    | 581.5 | 145.3 |  3.3 |\n| Quantum of Solace               | 2008 | Daniel Craig   | Marc Forster       | 514.2 | 181.4 |  8.1 |\n| Skyfall                         | 2012 | Daniel Craig   | Sam Mendes         | 943.5 | 170.2 | 14.5 |\n\n",
            "text/latex": "A data.table: 18 × 7\n\\begin{tabular}{lllllll}\n Film & Year & Actor & Director & Box Office & Budget & Bond Actor Salary\\\\\n <chr> & <int> & <chr> & <chr> & <dbl> & <dbl> & <dbl>\\\\\n\\hline\n\t Dr. No                          & 1962 & Sean Connery   & Terence Young      & 448.8 &   7.0 &  0.6\\\\\n\t From Russia with Love           & 1963 & Sean Connery   & Terence Young      & 543.8 &  12.6 &  1.6\\\\\n\t Goldfinger                      & 1964 & Sean Connery   & Guy Hamilton       & 820.4 &  18.6 &  3.2\\\\\n\t Thunderball                     & 1965 & Sean Connery   & Terence Young      & 848.1 &  41.9 &  4.7\\\\\n\t You Only Live Twice             & 1967 & Sean Connery   & Lewis Gilbert      & 514.2 &  59.9 &  4.4\\\\\n\t On Her Majesty's Secret Service & 1969 & George Lazenby & Peter R. Hunt      & 291.5 &  37.3 &  0.6\\\\\n\t Diamonds Are Forever            & 1971 & Sean Connery   & Guy Hamilton       & 442.5 &  34.7 &  5.8\\\\\n\t Octopussy                       & 1983 & Roger Moore    & John Glen          & 373.8 &  53.9 &  7.8\\\\\n\t A View to a Kill                & 1985 & Roger Moore    & John Glen          & 275.2 &  54.5 &  9.1\\\\\n\t The Living Daylights            & 1987 & Timothy Dalton & John Glen          & 313.5 &  68.8 &  5.2\\\\\n\t Licence to Kill                 & 1989 & Timothy Dalton & John Glen          & 250.9 &  56.7 &  7.9\\\\\n\t GoldenEye                       & 1995 & Pierce Brosnan & Martin Campbell    & 518.5 &  76.9 &  5.1\\\\\n\t Tomorrow Never Dies             & 1997 & Pierce Brosnan & Roger Spottiswoode & 463.2 & 133.9 & 10.0\\\\\n\t The World Is Not Enough         & 1999 & Pierce Brosnan & Michael Apted      & 439.5 & 158.3 & 13.5\\\\\n\t Die Another Day                 & 2002 & Pierce Brosnan & Lee Tamahori       & 465.4 & 154.2 & 17.9\\\\\n\t Casino Royale                   & 2006 & Daniel Craig   & Martin Campbell    & 581.5 & 145.3 &  3.3\\\\\n\t Quantum of Solace               & 2008 & Daniel Craig   & Marc Forster       & 514.2 & 181.4 &  8.1\\\\\n\t Skyfall                         & 2012 & Daniel Craig   & Sam Mendes         & 943.5 & 170.2 & 14.5\\\\\n\\end{tabular}\n",
            "text/plain": [
              "   Film                            Year Actor          Director          \n",
              "1  Dr. No                          1962 Sean Connery   Terence Young     \n",
              "2  From Russia with Love           1963 Sean Connery   Terence Young     \n",
              "3  Goldfinger                      1964 Sean Connery   Guy Hamilton      \n",
              "4  Thunderball                     1965 Sean Connery   Terence Young     \n",
              "5  You Only Live Twice             1967 Sean Connery   Lewis Gilbert     \n",
              "6  On Her Majesty's Secret Service 1969 George Lazenby Peter R. Hunt     \n",
              "7  Diamonds Are Forever            1971 Sean Connery   Guy Hamilton      \n",
              "8  Octopussy                       1983 Roger Moore    John Glen         \n",
              "9  A View to a Kill                1985 Roger Moore    John Glen         \n",
              "10 The Living Daylights            1987 Timothy Dalton John Glen         \n",
              "11 Licence to Kill                 1989 Timothy Dalton John Glen         \n",
              "12 GoldenEye                       1995 Pierce Brosnan Martin Campbell   \n",
              "13 Tomorrow Never Dies             1997 Pierce Brosnan Roger Spottiswoode\n",
              "14 The World Is Not Enough         1999 Pierce Brosnan Michael Apted     \n",
              "15 Die Another Day                 2002 Pierce Brosnan Lee Tamahori      \n",
              "16 Casino Royale                   2006 Daniel Craig   Martin Campbell   \n",
              "17 Quantum of Solace               2008 Daniel Craig   Marc Forster      \n",
              "18 Skyfall                         2012 Daniel Craig   Sam Mendes        \n",
              "   Box Office Budget Bond Actor Salary\n",
              "1  448.8        7.0   0.6             \n",
              "2  543.8       12.6   1.6             \n",
              "3  820.4       18.6   3.2             \n",
              "4  848.1       41.9   4.7             \n",
              "5  514.2       59.9   4.4             \n",
              "6  291.5       37.3   0.6             \n",
              "7  442.5       34.7   5.8             \n",
              "8  373.8       53.9   7.8             \n",
              "9  275.2       54.5   9.1             \n",
              "10 313.5       68.8   5.2             \n",
              "11 250.9       56.7   7.9             \n",
              "12 518.5       76.9   5.1             \n",
              "13 463.2      133.9  10.0             \n",
              "14 439.5      158.3  13.5             \n",
              "15 465.4      154.2  17.9             \n",
              "16 581.5      145.3   3.3             \n",
              "17 514.2      181.4   8.1             \n",
              "18 943.5      170.2  14.5             "
            ]
          },
          "metadata": {}
        }
      ]
    },
    {
      "cell_type": "markdown",
      "source": [
        "De forma alternativa, podríamos reemplazar valores nulos. La función `ifelse()` permite asignar valores según una prueba lógica."
      ],
      "metadata": {
        "id": "OFroS1v3ldLv"
      }
    },
    {
      "cell_type": "code",
      "source": [
        "# reemplazamos los valores nulos en campo \"Bond Actor Salary\" por un 0\n",
        "df_jamesbond$`Bond Actor Salary` = ifelse(is.na(df_jamesbond$`Bond Actor Salary`), 0, df_jamesbond$`Bond Actor Salary`)"
      ],
      "metadata": {
        "id": "HpiUBEUpjtVQ"
      },
      "execution_count": null,
      "outputs": []
    },
    {
      "cell_type": "markdown",
      "source": [
        "El problema de reemplazar nulos por un valor arbitrario es que estamos alternado la distribución de la variable. A continución, repetiremos ejercicio, pero esta vez reemplazando nulos por el valor de la media para la distribución."
      ],
      "metadata": {
        "id": "NpTsJkA2l0L_"
      }
    },
    {
      "cell_type": "code",
      "source": [
        "# importamos DataFrame\n",
        "df_jamesbond = fread(\"https://data-wizards.s3.amazonaws.com/datasets/jamesbond.csv\")\n",
        "glimpse(df_jamesbond)"
      ],
      "metadata": {
        "colab": {
          "base_uri": "https://localhost:8080/"
        },
        "id": "kAeDsOg0P1th",
        "outputId": "9a63e4e1-7a81-4469-aaea-4d550041ac30"
      },
      "execution_count": null,
      "outputs": [
        {
          "output_type": "stream",
          "name": "stdout",
          "text": [
            "Rows: 26\n",
            "Columns: 7\n",
            "$ Film                \u001b[3m\u001b[90m<chr>\u001b[39m\u001b[23m \"Dr. No\", \"From Russia with Love\", \"Goldfinger\", \"…\n",
            "$ Year                \u001b[3m\u001b[90m<int>\u001b[39m\u001b[23m 1962, 1963, 1964, 1965, 1967, 1967, 1969, 1971, 19…\n",
            "$ Actor               \u001b[3m\u001b[90m<chr>\u001b[39m\u001b[23m \"Sean Connery\", \"Sean Connery\", \"Sean Connery\", \"S…\n",
            "$ Director            \u001b[3m\u001b[90m<chr>\u001b[39m\u001b[23m \"Terence Young\", \"Terence Young\", \"Guy Hamilton\", …\n",
            "$ `Box Office`        \u001b[3m\u001b[90m<dbl>\u001b[39m\u001b[23m 448.8, 543.8, 820.4, 848.1, 315.0, 514.2, 291.5, 4…\n",
            "$ Budget              \u001b[3m\u001b[90m<dbl>\u001b[39m\u001b[23m 7.0, 12.6, 18.6, 41.9, 85.0, 59.9, 37.3, 34.7, 30.…\n",
            "$ `Bond Actor Salary` \u001b[3m\u001b[90m<dbl>\u001b[39m\u001b[23m 0.6, 1.6, 3.2, 4.7, NA, 4.4, 0.6, 5.8, NA, NA, NA,…\n"
          ]
        }
      ]
    },
    {
      "cell_type": "code",
      "source": [
        "# reemplazamos valores nulos por valor medio\n",
        "mean_salary = mean(df_jamesbond$`Bond Actor Salary`, na.rm = TRUE) # calculamos valor medio\n",
        "df_jamesbond$`Bond Actor Salary` = ifelse(is.na(df_jamesbond$`Bond Actor Salary`), mean_salary, df_jamesbond$`Bond Actor Salary`)"
      ],
      "metadata": {
        "id": "jwkPGkduPc6k"
      },
      "execution_count": null,
      "outputs": []
    },
    {
      "cell_type": "markdown",
      "source": [
        "# 2. Valores duplicados\n",
        "---"
      ],
      "metadata": {
        "id": "hIU6WFKplnBq"
      }
    },
    {
      "cell_type": "code",
      "source": [
        "# importamos un DataFrame que contiene valores duplicados\n",
        "df_duplicates = fread(\"https://data-wizards.s3.amazonaws.com/datasets/renfe_estaciones_duplicates.csv\")\n",
        "glimpse(df_duplicates)"
      ],
      "metadata": {
        "colab": {
          "base_uri": "https://localhost:8080/"
        },
        "id": "Eh49Lde1QfEJ",
        "outputId": "89a5fe4d-5072-4a3e-9ab2-971ef5a17122"
      },
      "execution_count": null,
      "outputs": [
        {
          "output_type": "stream",
          "name": "stdout",
          "text": [
            "Rows: 630\n",
            "Columns: 9\n",
            "$ CODIGO      \u001b[3m\u001b[90m<int>\u001b[39m\u001b[23m 1003, 1005, 1007, 1009, 2002, 2003, 3001, 3100, 3208, 3213…\n",
            "$ DESCRIPCION \u001b[3m\u001b[90m<chr>\u001b[39m\u001b[23m \"ARAHAL\", \"MARCHENA\", \"OSUNA\", \"PEDRERA\", \"PUENTE GENIL-HE…\n",
            "$ LATITUD     \u001b[3m\u001b[90m<dbl>\u001b[39m\u001b[23m 37.26814, 37.33425, 37.23378, 37.22235, 37.35971, 37.07028…\n",
            "$ LONGITUD    \u001b[3m\u001b[90m<dbl>\u001b[39m\u001b[23m -5.5484006, -5.4254295, -5.1148398, -4.8936960, -4.8221946…\n",
            "$ DIRECCION   \u001b[3m\u001b[90m<chr>\u001b[39m\u001b[23m \"CALLE VIRGEN DE LOS DOLORES. S/N\", \"AVENIDA MAESTRO SANTO…\n",
            "$ C.P.        \u001b[3m\u001b[90m<int>\u001b[39m\u001b[23m 41600, 41620, 41640, 41566, 14500, 29540, 23620, 23007, 16…\n",
            "$ POBLACION   \u001b[3m\u001b[90m<chr>\u001b[39m\u001b[23m \"Arahal\", \"Marchena\", \"Osuna\", \"Pedrera\", \"Puente Genil\", …\n",
            "$ PROVINCIA   \u001b[3m\u001b[90m<chr>\u001b[39m\u001b[23m \"Sevilla\", \"Sevilla\", \"Sevilla\", \"Sevilla\", \"Córdoba\", \"Má…\n",
            "$ PAIS        \u001b[3m\u001b[90m<chr>\u001b[39m\u001b[23m \"España\", \"España\", \"España\", \"España\", \"España\", \"España\"…\n"
          ]
        }
      ]
    },
    {
      "cell_type": "code",
      "source": [
        "# consultamos cantidad de filas\n",
        "nrow(df_duplicates)"
      ],
      "metadata": {
        "colab": {
          "base_uri": "https://localhost:8080/",
          "height": 34
        },
        "id": "qn7kD68vR6kJ",
        "outputId": "4153deb9-7458-4388-c895-69e17aaa53d2"
      },
      "execution_count": null,
      "outputs": [
        {
          "output_type": "display_data",
          "data": {
            "text/html": [
              "630"
            ],
            "text/markdown": "630",
            "text/latex": "630",
            "text/plain": [
              "[1] 630"
            ]
          },
          "metadata": {}
        }
      ]
    },
    {
      "cell_type": "markdown",
      "source": [
        "La función `duplicated()` permite identificar las filas duplicadas."
      ],
      "metadata": {
        "id": "PgusmqBvmdEJ"
      }
    },
    {
      "cell_type": "code",
      "source": [
        "# demostración de la función duplicated()\n",
        "duplicated(df_duplicates)"
      ],
      "metadata": {
        "colab": {
          "base_uri": "https://localhost:8080/",
          "height": 312
        },
        "id": "R-lTZZFHQfGv",
        "outputId": "31e3cc89-56ad-4cd3-aca3-24a0844ac22f"
      },
      "execution_count": null,
      "outputs": [
        {
          "output_type": "display_data",
          "data": {
            "text/html": [
              "<style>\n",
              ".list-inline {list-style: none; margin:0; padding: 0}\n",
              ".list-inline>li {display: inline-block}\n",
              ".list-inline>li:not(:last-child)::after {content: \"\\00b7\"; padding: 0 .5ex}\n",
              "</style>\n",
              "<ol class=list-inline><li>FALSE</li><li>FALSE</li><li>FALSE</li><li>FALSE</li><li>FALSE</li><li>FALSE</li><li>FALSE</li><li>FALSE</li><li>FALSE</li><li>FALSE</li><li>FALSE</li><li>FALSE</li><li>FALSE</li><li>FALSE</li><li>FALSE</li><li>FALSE</li><li>TRUE</li><li>FALSE</li><li>FALSE</li><li>FALSE</li><li>FALSE</li><li>FALSE</li><li>FALSE</li><li>FALSE</li><li>TRUE</li><li>FALSE</li><li>FALSE</li><li>FALSE</li><li>FALSE</li><li>FALSE</li><li>FALSE</li><li>FALSE</li><li>FALSE</li><li>FALSE</li><li>FALSE</li><li>FALSE</li><li>FALSE</li><li>FALSE</li><li>FALSE</li><li>FALSE</li><li>FALSE</li><li>FALSE</li><li>FALSE</li><li>FALSE</li><li>FALSE</li><li>FALSE</li><li>FALSE</li><li>FALSE</li><li>FALSE</li><li>FALSE</li><li>FALSE</li><li>FALSE</li><li>FALSE</li><li>FALSE</li><li>FALSE</li><li>FALSE</li><li>FALSE</li><li>TRUE</li><li>FALSE</li><li>FALSE</li><li>FALSE</li><li>FALSE</li><li>FALSE</li><li>FALSE</li><li>FALSE</li><li>FALSE</li><li>FALSE</li><li>FALSE</li><li>FALSE</li><li>FALSE</li><li>FALSE</li><li>FALSE</li><li>FALSE</li><li>FALSE</li><li>TRUE</li><li>FALSE</li><li>FALSE</li><li>FALSE</li><li>FALSE</li><li>FALSE</li><li>FALSE</li><li>FALSE</li><li>FALSE</li><li>FALSE</li><li>FALSE</li><li>FALSE</li><li>FALSE</li><li>FALSE</li><li>FALSE</li><li>FALSE</li><li>TRUE</li><li>FALSE</li><li>FALSE</li><li>FALSE</li><li>FALSE</li><li>FALSE</li><li>FALSE</li><li>FALSE</li><li>FALSE</li><li>FALSE</li><li>FALSE</li><li>FALSE</li><li>FALSE</li><li>FALSE</li><li>FALSE</li><li>FALSE</li><li>FALSE</li><li>FALSE</li><li>FALSE</li><li>FALSE</li><li>FALSE</li><li>FALSE</li><li>FALSE</li><li>FALSE</li><li>FALSE</li><li>FALSE</li><li>FALSE</li><li>FALSE</li><li>FALSE</li><li>FALSE</li><li>FALSE</li><li>FALSE</li><li>FALSE</li><li>FALSE</li><li>FALSE</li><li>FALSE</li><li>FALSE</li><li>FALSE</li><li>FALSE</li><li>FALSE</li><li>FALSE</li><li>FALSE</li><li>FALSE</li><li>FALSE</li><li>FALSE</li><li>FALSE</li><li>FALSE</li><li>FALSE</li><li>FALSE</li><li>FALSE</li><li>FALSE</li><li>FALSE</li><li>FALSE</li><li>FALSE</li><li>FALSE</li><li>FALSE</li><li>FALSE</li><li>FALSE</li><li>FALSE</li><li>FALSE</li><li>FALSE</li><li>FALSE</li><li>FALSE</li><li>FALSE</li><li>FALSE</li><li>FALSE</li><li>FALSE</li><li>FALSE</li><li>FALSE</li><li>FALSE</li><li>FALSE</li><li>FALSE</li><li>FALSE</li><li>FALSE</li><li>FALSE</li><li>FALSE</li><li>FALSE</li><li>FALSE</li><li>FALSE</li><li>FALSE</li><li>FALSE</li><li>FALSE</li><li>FALSE</li><li>FALSE</li><li>FALSE</li><li>FALSE</li><li>FALSE</li><li>FALSE</li><li>FALSE</li><li>FALSE</li><li>FALSE</li><li>TRUE</li><li>FALSE</li><li>FALSE</li><li>FALSE</li><li>FALSE</li><li>FALSE</li><li>FALSE</li><li>FALSE</li><li>FALSE</li><li>FALSE</li><li>FALSE</li><li>FALSE</li><li>FALSE</li><li>FALSE</li><li>FALSE</li><li>FALSE</li><li>FALSE</li><li>FALSE</li><li>FALSE</li><li>⋯</li><li>FALSE</li><li>FALSE</li><li>FALSE</li><li>FALSE</li><li>FALSE</li><li>FALSE</li><li>FALSE</li><li>FALSE</li><li>FALSE</li><li>FALSE</li><li>FALSE</li><li>FALSE</li><li>FALSE</li><li>FALSE</li><li>FALSE</li><li>FALSE</li><li>FALSE</li><li>FALSE</li><li>FALSE</li><li>FALSE</li><li>FALSE</li><li>FALSE</li><li>FALSE</li><li>FALSE</li><li>FALSE</li><li>FALSE</li><li>FALSE</li><li>FALSE</li><li>FALSE</li><li>FALSE</li><li>FALSE</li><li>FALSE</li><li>FALSE</li><li>FALSE</li><li>FALSE</li><li>FALSE</li><li>FALSE</li><li>FALSE</li><li>FALSE</li><li>FALSE</li><li>FALSE</li><li>FALSE</li><li>FALSE</li><li>FALSE</li><li>FALSE</li><li>FALSE</li><li>FALSE</li><li>FALSE</li><li>FALSE</li><li>FALSE</li><li>FALSE</li><li>FALSE</li><li>FALSE</li><li>FALSE</li><li>FALSE</li><li>FALSE</li><li>FALSE</li><li>FALSE</li><li>FALSE</li><li>FALSE</li><li>FALSE</li><li>FALSE</li><li>FALSE</li><li>FALSE</li><li>FALSE</li><li>FALSE</li><li>FALSE</li><li>FALSE</li><li>FALSE</li><li>FALSE</li><li>FALSE</li><li>FALSE</li><li>FALSE</li><li>FALSE</li><li>FALSE</li><li>FALSE</li><li>FALSE</li><li>FALSE</li><li>FALSE</li><li>FALSE</li><li>FALSE</li><li>FALSE</li><li>FALSE</li><li>FALSE</li><li>FALSE</li><li>FALSE</li><li>FALSE</li><li>FALSE</li><li>FALSE</li><li>FALSE</li><li>FALSE</li><li>FALSE</li><li>FALSE</li><li>FALSE</li><li>FALSE</li><li>FALSE</li><li>FALSE</li><li>FALSE</li><li>FALSE</li><li>FALSE</li><li>FALSE</li><li>FALSE</li><li>FALSE</li><li>FALSE</li><li>FALSE</li><li>FALSE</li><li>FALSE</li><li>FALSE</li><li>FALSE</li><li>FALSE</li><li>FALSE</li><li>FALSE</li><li>FALSE</li><li>FALSE</li><li>FALSE</li><li>FALSE</li><li>FALSE</li><li>FALSE</li><li>FALSE</li><li>FALSE</li><li>FALSE</li><li>FALSE</li><li>FALSE</li><li>FALSE</li><li>FALSE</li><li>FALSE</li><li>FALSE</li><li>FALSE</li><li>FALSE</li><li>FALSE</li><li>FALSE</li><li>FALSE</li><li>FALSE</li><li>FALSE</li><li>FALSE</li><li>FALSE</li><li>FALSE</li><li>FALSE</li><li>FALSE</li><li>FALSE</li><li>FALSE</li><li>FALSE</li><li>FALSE</li><li>FALSE</li><li>FALSE</li><li>FALSE</li><li>FALSE</li><li>FALSE</li><li>FALSE</li><li>FALSE</li><li>FALSE</li><li>FALSE</li><li>FALSE</li><li>FALSE</li><li>FALSE</li><li>FALSE</li><li>FALSE</li><li>FALSE</li><li>FALSE</li><li>FALSE</li><li>FALSE</li><li>FALSE</li><li>FALSE</li><li>FALSE</li><li>FALSE</li><li>FALSE</li><li>FALSE</li><li>FALSE</li><li>FALSE</li><li>FALSE</li><li>FALSE</li><li>FALSE</li><li>FALSE</li><li>FALSE</li><li>FALSE</li><li>FALSE</li><li>FALSE</li><li>FALSE</li><li>FALSE</li><li>FALSE</li><li>FALSE</li><li>FALSE</li><li>FALSE</li><li>FALSE</li><li>FALSE</li><li>FALSE</li><li>FALSE</li><li>FALSE</li><li>FALSE</li><li>FALSE</li><li>FALSE</li><li>FALSE</li><li>FALSE</li><li>FALSE</li><li>FALSE</li><li>FALSE</li><li>FALSE</li><li>FALSE</li><li>FALSE</li><li>FALSE</li></ol>\n"
            ],
            "text/markdown": "1. FALSE\n2. FALSE\n3. FALSE\n4. FALSE\n5. FALSE\n6. FALSE\n7. FALSE\n8. FALSE\n9. FALSE\n10. FALSE\n11. FALSE\n12. FALSE\n13. FALSE\n14. FALSE\n15. FALSE\n16. FALSE\n17. TRUE\n18. FALSE\n19. FALSE\n20. FALSE\n21. FALSE\n22. FALSE\n23. FALSE\n24. FALSE\n25. TRUE\n26. FALSE\n27. FALSE\n28. FALSE\n29. FALSE\n30. FALSE\n31. FALSE\n32. FALSE\n33. FALSE\n34. FALSE\n35. FALSE\n36. FALSE\n37. FALSE\n38. FALSE\n39. FALSE\n40. FALSE\n41. FALSE\n42. FALSE\n43. FALSE\n44. FALSE\n45. FALSE\n46. FALSE\n47. FALSE\n48. FALSE\n49. FALSE\n50. FALSE\n51. FALSE\n52. FALSE\n53. FALSE\n54. FALSE\n55. FALSE\n56. FALSE\n57. FALSE\n58. TRUE\n59. FALSE\n60. FALSE\n61. FALSE\n62. FALSE\n63. FALSE\n64. FALSE\n65. FALSE\n66. FALSE\n67. FALSE\n68. FALSE\n69. FALSE\n70. FALSE\n71. FALSE\n72. FALSE\n73. FALSE\n74. FALSE\n75. TRUE\n76. FALSE\n77. FALSE\n78. FALSE\n79. FALSE\n80. FALSE\n81. FALSE\n82. FALSE\n83. FALSE\n84. FALSE\n85. FALSE\n86. FALSE\n87. FALSE\n88. FALSE\n89. FALSE\n90. FALSE\n91. TRUE\n92. FALSE\n93. FALSE\n94. FALSE\n95. FALSE\n96. FALSE\n97. FALSE\n98. FALSE\n99. FALSE\n100. FALSE\n101. FALSE\n102. FALSE\n103. FALSE\n104. FALSE\n105. FALSE\n106. FALSE\n107. FALSE\n108. FALSE\n109. FALSE\n110. FALSE\n111. FALSE\n112. FALSE\n113. FALSE\n114. FALSE\n115. FALSE\n116. FALSE\n117. FALSE\n118. FALSE\n119. FALSE\n120. FALSE\n121. FALSE\n122. FALSE\n123. FALSE\n124. FALSE\n125. FALSE\n126. FALSE\n127. FALSE\n128. FALSE\n129. FALSE\n130. FALSE\n131. FALSE\n132. FALSE\n133. FALSE\n134. FALSE\n135. FALSE\n136. FALSE\n137. FALSE\n138. FALSE\n139. FALSE\n140. FALSE\n141. FALSE\n142. FALSE\n143. FALSE\n144. FALSE\n145. FALSE\n146. FALSE\n147. FALSE\n148. FALSE\n149. FALSE\n150. FALSE\n151. FALSE\n152. FALSE\n153. FALSE\n154. FALSE\n155. FALSE\n156. FALSE\n157. FALSE\n158. FALSE\n159. FALSE\n160. FALSE\n161. FALSE\n162. FALSE\n163. FALSE\n164. FALSE\n165. FALSE\n166. FALSE\n167. FALSE\n168. FALSE\n169. FALSE\n170. FALSE\n171. FALSE\n172. FALSE\n173. FALSE\n174. FALSE\n175. FALSE\n176. FALSE\n177. FALSE\n178. FALSE\n179. FALSE\n180. FALSE\n181. FALSE\n182. TRUE\n183. FALSE\n184. FALSE\n185. FALSE\n186. FALSE\n187. FALSE\n188. FALSE\n189. FALSE\n190. FALSE\n191. FALSE\n192. FALSE\n193. FALSE\n194. FALSE\n195. FALSE\n196. FALSE\n197. FALSE\n198. FALSE\n199. FALSE\n200. FALSE\n201. ⋯\n202. FALSE\n203. FALSE\n204. FALSE\n205. FALSE\n206. FALSE\n207. FALSE\n208. FALSE\n209. FALSE\n210. FALSE\n211. FALSE\n212. FALSE\n213. FALSE\n214. FALSE\n215. FALSE\n216. FALSE\n217. FALSE\n218. FALSE\n219. FALSE\n220. FALSE\n221. FALSE\n222. FALSE\n223. FALSE\n224. FALSE\n225. FALSE\n226. FALSE\n227. FALSE\n228. FALSE\n229. FALSE\n230. FALSE\n231. FALSE\n232. FALSE\n233. FALSE\n234. FALSE\n235. FALSE\n236. FALSE\n237. FALSE\n238. FALSE\n239. FALSE\n240. FALSE\n241. FALSE\n242. FALSE\n243. FALSE\n244. FALSE\n245. FALSE\n246. FALSE\n247. FALSE\n248. FALSE\n249. FALSE\n250. FALSE\n251. FALSE\n252. FALSE\n253. FALSE\n254. FALSE\n255. FALSE\n256. FALSE\n257. FALSE\n258. FALSE\n259. FALSE\n260. FALSE\n261. FALSE\n262. FALSE\n263. FALSE\n264. FALSE\n265. FALSE\n266. FALSE\n267. FALSE\n268. FALSE\n269. FALSE\n270. FALSE\n271. FALSE\n272. FALSE\n273. FALSE\n274. FALSE\n275. FALSE\n276. FALSE\n277. FALSE\n278. FALSE\n279. FALSE\n280. FALSE\n281. FALSE\n282. FALSE\n283. FALSE\n284. FALSE\n285. FALSE\n286. FALSE\n287. FALSE\n288. FALSE\n289. FALSE\n290. FALSE\n291. FALSE\n292. FALSE\n293. FALSE\n294. FALSE\n295. FALSE\n296. FALSE\n297. FALSE\n298. FALSE\n299. FALSE\n300. FALSE\n301. FALSE\n302. FALSE\n303. FALSE\n304. FALSE\n305. FALSE\n306. FALSE\n307. FALSE\n308. FALSE\n309. FALSE\n310. FALSE\n311. FALSE\n312. FALSE\n313. FALSE\n314. FALSE\n315. FALSE\n316. FALSE\n317. FALSE\n318. FALSE\n319. FALSE\n320. FALSE\n321. FALSE\n322. FALSE\n323. FALSE\n324. FALSE\n325. FALSE\n326. FALSE\n327. FALSE\n328. FALSE\n329. FALSE\n330. FALSE\n331. FALSE\n332. FALSE\n333. FALSE\n334. FALSE\n335. FALSE\n336. FALSE\n337. FALSE\n338. FALSE\n339. FALSE\n340. FALSE\n341. FALSE\n342. FALSE\n343. FALSE\n344. FALSE\n345. FALSE\n346. FALSE\n347. FALSE\n348. FALSE\n349. FALSE\n350. FALSE\n351. FALSE\n352. FALSE\n353. FALSE\n354. FALSE\n355. FALSE\n356. FALSE\n357. FALSE\n358. FALSE\n359. FALSE\n360. FALSE\n361. FALSE\n362. FALSE\n363. FALSE\n364. FALSE\n365. FALSE\n366. FALSE\n367. FALSE\n368. FALSE\n369. FALSE\n370. FALSE\n371. FALSE\n372. FALSE\n373. FALSE\n374. FALSE\n375. FALSE\n376. FALSE\n377. FALSE\n378. FALSE\n379. FALSE\n380. FALSE\n381. FALSE\n382. FALSE\n383. FALSE\n384. FALSE\n385. FALSE\n386. FALSE\n387. FALSE\n388. FALSE\n389. FALSE\n390. FALSE\n391. FALSE\n392. FALSE\n393. FALSE\n394. FALSE\n395. FALSE\n396. FALSE\n397. FALSE\n398. FALSE\n399. FALSE\n400. FALSE\n401. FALSE\n\n\n",
            "text/latex": "\\begin{enumerate*}\n\\item FALSE\n\\item FALSE\n\\item FALSE\n\\item FALSE\n\\item FALSE\n\\item FALSE\n\\item FALSE\n\\item FALSE\n\\item FALSE\n\\item FALSE\n\\item FALSE\n\\item FALSE\n\\item FALSE\n\\item FALSE\n\\item FALSE\n\\item FALSE\n\\item TRUE\n\\item FALSE\n\\item FALSE\n\\item FALSE\n\\item FALSE\n\\item FALSE\n\\item FALSE\n\\item FALSE\n\\item TRUE\n\\item FALSE\n\\item FALSE\n\\item FALSE\n\\item FALSE\n\\item FALSE\n\\item FALSE\n\\item FALSE\n\\item FALSE\n\\item FALSE\n\\item FALSE\n\\item FALSE\n\\item FALSE\n\\item FALSE\n\\item FALSE\n\\item FALSE\n\\item FALSE\n\\item FALSE\n\\item FALSE\n\\item FALSE\n\\item FALSE\n\\item FALSE\n\\item FALSE\n\\item FALSE\n\\item FALSE\n\\item FALSE\n\\item FALSE\n\\item FALSE\n\\item FALSE\n\\item FALSE\n\\item FALSE\n\\item FALSE\n\\item FALSE\n\\item TRUE\n\\item FALSE\n\\item FALSE\n\\item FALSE\n\\item FALSE\n\\item FALSE\n\\item FALSE\n\\item FALSE\n\\item FALSE\n\\item FALSE\n\\item FALSE\n\\item FALSE\n\\item FALSE\n\\item FALSE\n\\item FALSE\n\\item FALSE\n\\item FALSE\n\\item TRUE\n\\item FALSE\n\\item FALSE\n\\item FALSE\n\\item FALSE\n\\item FALSE\n\\item FALSE\n\\item FALSE\n\\item FALSE\n\\item FALSE\n\\item FALSE\n\\item FALSE\n\\item FALSE\n\\item FALSE\n\\item FALSE\n\\item FALSE\n\\item TRUE\n\\item FALSE\n\\item FALSE\n\\item FALSE\n\\item FALSE\n\\item FALSE\n\\item FALSE\n\\item FALSE\n\\item FALSE\n\\item FALSE\n\\item FALSE\n\\item FALSE\n\\item FALSE\n\\item FALSE\n\\item FALSE\n\\item FALSE\n\\item FALSE\n\\item FALSE\n\\item FALSE\n\\item FALSE\n\\item FALSE\n\\item FALSE\n\\item FALSE\n\\item FALSE\n\\item FALSE\n\\item FALSE\n\\item FALSE\n\\item FALSE\n\\item FALSE\n\\item FALSE\n\\item FALSE\n\\item FALSE\n\\item FALSE\n\\item FALSE\n\\item FALSE\n\\item FALSE\n\\item FALSE\n\\item FALSE\n\\item FALSE\n\\item FALSE\n\\item FALSE\n\\item FALSE\n\\item FALSE\n\\item FALSE\n\\item FALSE\n\\item FALSE\n\\item FALSE\n\\item FALSE\n\\item FALSE\n\\item FALSE\n\\item FALSE\n\\item FALSE\n\\item FALSE\n\\item FALSE\n\\item FALSE\n\\item FALSE\n\\item FALSE\n\\item FALSE\n\\item FALSE\n\\item FALSE\n\\item FALSE\n\\item FALSE\n\\item FALSE\n\\item FALSE\n\\item FALSE\n\\item FALSE\n\\item FALSE\n\\item FALSE\n\\item FALSE\n\\item FALSE\n\\item FALSE\n\\item FALSE\n\\item FALSE\n\\item FALSE\n\\item FALSE\n\\item FALSE\n\\item FALSE\n\\item FALSE\n\\item FALSE\n\\item FALSE\n\\item FALSE\n\\item FALSE\n\\item FALSE\n\\item FALSE\n\\item FALSE\n\\item FALSE\n\\item FALSE\n\\item FALSE\n\\item FALSE\n\\item FALSE\n\\item FALSE\n\\item TRUE\n\\item FALSE\n\\item FALSE\n\\item FALSE\n\\item FALSE\n\\item FALSE\n\\item FALSE\n\\item FALSE\n\\item FALSE\n\\item FALSE\n\\item FALSE\n\\item FALSE\n\\item FALSE\n\\item FALSE\n\\item FALSE\n\\item FALSE\n\\item FALSE\n\\item FALSE\n\\item FALSE\n\\item ⋯\n\\item FALSE\n\\item FALSE\n\\item FALSE\n\\item FALSE\n\\item FALSE\n\\item FALSE\n\\item FALSE\n\\item FALSE\n\\item FALSE\n\\item FALSE\n\\item FALSE\n\\item FALSE\n\\item FALSE\n\\item FALSE\n\\item FALSE\n\\item FALSE\n\\item FALSE\n\\item FALSE\n\\item FALSE\n\\item FALSE\n\\item FALSE\n\\item FALSE\n\\item FALSE\n\\item FALSE\n\\item FALSE\n\\item FALSE\n\\item FALSE\n\\item FALSE\n\\item FALSE\n\\item FALSE\n\\item FALSE\n\\item FALSE\n\\item FALSE\n\\item FALSE\n\\item FALSE\n\\item FALSE\n\\item FALSE\n\\item FALSE\n\\item FALSE\n\\item FALSE\n\\item FALSE\n\\item FALSE\n\\item FALSE\n\\item FALSE\n\\item FALSE\n\\item FALSE\n\\item FALSE\n\\item FALSE\n\\item FALSE\n\\item FALSE\n\\item FALSE\n\\item FALSE\n\\item FALSE\n\\item FALSE\n\\item FALSE\n\\item FALSE\n\\item FALSE\n\\item FALSE\n\\item FALSE\n\\item FALSE\n\\item FALSE\n\\item FALSE\n\\item FALSE\n\\item FALSE\n\\item FALSE\n\\item FALSE\n\\item FALSE\n\\item FALSE\n\\item FALSE\n\\item FALSE\n\\item FALSE\n\\item FALSE\n\\item FALSE\n\\item FALSE\n\\item FALSE\n\\item FALSE\n\\item FALSE\n\\item FALSE\n\\item FALSE\n\\item FALSE\n\\item FALSE\n\\item FALSE\n\\item FALSE\n\\item FALSE\n\\item FALSE\n\\item FALSE\n\\item FALSE\n\\item FALSE\n\\item FALSE\n\\item FALSE\n\\item FALSE\n\\item FALSE\n\\item FALSE\n\\item FALSE\n\\item FALSE\n\\item FALSE\n\\item FALSE\n\\item FALSE\n\\item FALSE\n\\item FALSE\n\\item FALSE\n\\item FALSE\n\\item FALSE\n\\item FALSE\n\\item FALSE\n\\item FALSE\n\\item FALSE\n\\item FALSE\n\\item FALSE\n\\item FALSE\n\\item FALSE\n\\item FALSE\n\\item FALSE\n\\item FALSE\n\\item FALSE\n\\item FALSE\n\\item FALSE\n\\item FALSE\n\\item FALSE\n\\item FALSE\n\\item FALSE\n\\item FALSE\n\\item FALSE\n\\item FALSE\n\\item FALSE\n\\item FALSE\n\\item FALSE\n\\item FALSE\n\\item FALSE\n\\item FALSE\n\\item FALSE\n\\item FALSE\n\\item FALSE\n\\item FALSE\n\\item FALSE\n\\item FALSE\n\\item FALSE\n\\item FALSE\n\\item FALSE\n\\item FALSE\n\\item FALSE\n\\item FALSE\n\\item FALSE\n\\item FALSE\n\\item FALSE\n\\item FALSE\n\\item FALSE\n\\item FALSE\n\\item FALSE\n\\item FALSE\n\\item FALSE\n\\item FALSE\n\\item FALSE\n\\item FALSE\n\\item FALSE\n\\item FALSE\n\\item FALSE\n\\item FALSE\n\\item FALSE\n\\item FALSE\n\\item FALSE\n\\item FALSE\n\\item FALSE\n\\item FALSE\n\\item FALSE\n\\item FALSE\n\\item FALSE\n\\item FALSE\n\\item FALSE\n\\item FALSE\n\\item FALSE\n\\item FALSE\n\\item FALSE\n\\item FALSE\n\\item FALSE\n\\item FALSE\n\\item FALSE\n\\item FALSE\n\\item FALSE\n\\item FALSE\n\\item FALSE\n\\item FALSE\n\\item FALSE\n\\item FALSE\n\\item FALSE\n\\item FALSE\n\\item FALSE\n\\item FALSE\n\\item FALSE\n\\item FALSE\n\\item FALSE\n\\item FALSE\n\\item FALSE\n\\item FALSE\n\\item FALSE\n\\item FALSE\n\\item FALSE\n\\item FALSE\n\\item FALSE\n\\item FALSE\n\\end{enumerate*}\n",
            "text/plain": [
              "  [1] FALSE FALSE FALSE FALSE FALSE FALSE FALSE FALSE FALSE FALSE FALSE FALSE\n",
              " [13] FALSE FALSE FALSE FALSE  TRUE FALSE FALSE FALSE FALSE FALSE FALSE FALSE\n",
              " [25]  TRUE FALSE FALSE FALSE FALSE FALSE FALSE FALSE FALSE FALSE FALSE FALSE\n",
              " [37] FALSE FALSE FALSE FALSE FALSE FALSE FALSE FALSE FALSE FALSE FALSE FALSE\n",
              " [49] FALSE FALSE FALSE FALSE FALSE FALSE FALSE FALSE FALSE  TRUE FALSE FALSE\n",
              " [61] FALSE FALSE FALSE FALSE FALSE FALSE FALSE FALSE FALSE FALSE FALSE FALSE\n",
              " [73] FALSE FALSE  TRUE FALSE FALSE FALSE FALSE FALSE FALSE FALSE FALSE FALSE\n",
              " [85] FALSE FALSE FALSE FALSE FALSE FALSE  TRUE FALSE FALSE FALSE FALSE FALSE\n",
              " [97] FALSE FALSE FALSE FALSE FALSE FALSE FALSE FALSE FALSE FALSE FALSE FALSE\n",
              "[109] FALSE FALSE FALSE FALSE FALSE FALSE FALSE FALSE FALSE FALSE FALSE FALSE\n",
              "[121] FALSE FALSE FALSE FALSE FALSE FALSE FALSE FALSE FALSE FALSE FALSE FALSE\n",
              "[133] FALSE FALSE FALSE FALSE FALSE FALSE FALSE FALSE FALSE FALSE FALSE FALSE\n",
              "[145] FALSE FALSE FALSE FALSE FALSE FALSE FALSE FALSE FALSE FALSE FALSE FALSE\n",
              "[157] FALSE FALSE FALSE FALSE FALSE FALSE FALSE FALSE FALSE FALSE FALSE FALSE\n",
              "[169] FALSE FALSE FALSE FALSE FALSE FALSE FALSE FALSE FALSE FALSE FALSE FALSE\n",
              "[181] FALSE  TRUE FALSE FALSE FALSE FALSE FALSE FALSE FALSE FALSE FALSE FALSE\n",
              "[193] FALSE FALSE FALSE FALSE FALSE FALSE FALSE FALSE FALSE FALSE FALSE FALSE\n",
              "[205] FALSE FALSE FALSE FALSE FALSE FALSE FALSE FALSE FALSE FALSE FALSE FALSE\n",
              "[217] FALSE FALSE FALSE FALSE FALSE FALSE  TRUE FALSE FALSE FALSE FALSE  TRUE\n",
              "[229] FALSE FALSE FALSE FALSE FALSE FALSE FALSE FALSE FALSE FALSE FALSE FALSE\n",
              "[241] FALSE FALSE  TRUE FALSE FALSE FALSE FALSE FALSE FALSE FALSE FALSE FALSE\n",
              "[253] FALSE  TRUE FALSE FALSE FALSE FALSE FALSE FALSE FALSE FALSE FALSE FALSE\n",
              "[265] FALSE FALSE FALSE FALSE FALSE FALSE FALSE FALSE FALSE FALSE FALSE FALSE\n",
              "[277] FALSE FALSE FALSE FALSE FALSE FALSE FALSE FALSE FALSE FALSE FALSE FALSE\n",
              "[289] FALSE FALSE FALSE FALSE FALSE FALSE FALSE FALSE FALSE FALSE FALSE FALSE\n",
              "[301] FALSE FALSE FALSE FALSE FALSE FALSE FALSE FALSE FALSE FALSE FALSE FALSE\n",
              "[313] FALSE FALSE FALSE FALSE FALSE FALSE FALSE FALSE FALSE FALSE FALSE FALSE\n",
              "[325] FALSE FALSE FALSE FALSE FALSE FALSE FALSE FALSE FALSE FALSE FALSE FALSE\n",
              "[337] FALSE FALSE FALSE FALSE FALSE FALSE FALSE FALSE FALSE FALSE FALSE FALSE\n",
              "[349] FALSE FALSE FALSE FALSE FALSE FALSE FALSE FALSE FALSE FALSE FALSE FALSE\n",
              "[361] FALSE FALSE FALSE FALSE FALSE FALSE FALSE FALSE FALSE FALSE FALSE FALSE\n",
              "[373] FALSE FALSE FALSE FALSE FALSE FALSE FALSE FALSE FALSE FALSE FALSE FALSE\n",
              "[385] FALSE FALSE FALSE FALSE FALSE FALSE FALSE FALSE FALSE FALSE FALSE FALSE\n",
              "[397] FALSE FALSE FALSE FALSE FALSE FALSE FALSE FALSE FALSE FALSE FALSE FALSE\n",
              "[409] FALSE FALSE FALSE FALSE FALSE FALSE FALSE FALSE FALSE FALSE FALSE FALSE\n",
              "[421] FALSE FALSE FALSE FALSE FALSE FALSE FALSE FALSE FALSE FALSE FALSE FALSE\n",
              "[433] FALSE FALSE FALSE FALSE FALSE FALSE FALSE FALSE FALSE FALSE FALSE FALSE\n",
              "[445] FALSE FALSE FALSE FALSE FALSE FALSE FALSE FALSE FALSE FALSE FALSE FALSE\n",
              "[457] FALSE FALSE FALSE FALSE FALSE FALSE FALSE FALSE FALSE FALSE FALSE FALSE\n",
              "[469] FALSE FALSE FALSE FALSE FALSE FALSE FALSE FALSE FALSE FALSE FALSE FALSE\n",
              "[481] FALSE FALSE FALSE FALSE FALSE FALSE FALSE FALSE FALSE FALSE FALSE FALSE\n",
              "[493] FALSE FALSE FALSE FALSE FALSE FALSE FALSE FALSE FALSE FALSE FALSE FALSE\n",
              "[505] FALSE FALSE FALSE FALSE FALSE FALSE FALSE FALSE FALSE FALSE FALSE FALSE\n",
              "[517] FALSE FALSE FALSE FALSE FALSE FALSE FALSE FALSE FALSE FALSE FALSE FALSE\n",
              "[529] FALSE FALSE FALSE FALSE FALSE FALSE FALSE FALSE FALSE FALSE FALSE FALSE\n",
              "[541] FALSE FALSE FALSE FALSE FALSE FALSE FALSE FALSE FALSE FALSE FALSE FALSE\n",
              "[553] FALSE FALSE FALSE FALSE FALSE FALSE FALSE FALSE FALSE FALSE FALSE FALSE\n",
              "[565] FALSE FALSE FALSE FALSE FALSE FALSE FALSE FALSE FALSE FALSE FALSE FALSE\n",
              "[577] FALSE FALSE FALSE FALSE FALSE FALSE FALSE FALSE FALSE FALSE FALSE FALSE\n",
              "[589] FALSE FALSE FALSE FALSE FALSE FALSE FALSE FALSE FALSE FALSE FALSE FALSE\n",
              "[601] FALSE FALSE FALSE FALSE FALSE FALSE FALSE FALSE FALSE FALSE FALSE FALSE\n",
              "[613] FALSE FALSE FALSE FALSE FALSE FALSE FALSE FALSE FALSE FALSE FALSE FALSE\n",
              "[625] FALSE FALSE FALSE FALSE FALSE FALSE"
            ]
          },
          "metadata": {}
        }
      ]
    },
    {
      "cell_type": "code",
      "source": [
        "# filtramos por las filas duplicadas\n",
        "df_duplicates[duplicated(df_duplicates),]"
      ],
      "metadata": {
        "colab": {
          "base_uri": "https://localhost:8080/",
          "height": 412
        },
        "id": "y7BqMWW2QfIz",
        "outputId": "0c3dc49e-6083-4705-96bc-227550dcc261"
      },
      "execution_count": null,
      "outputs": [
        {
          "output_type": "display_data",
          "data": {
            "text/html": [
              "<table class=\"dataframe\">\n",
              "<caption>A data.table: 10 × 9</caption>\n",
              "<thead>\n",
              "\t<tr><th scope=col>CODIGO</th><th scope=col>DESCRIPCION</th><th scope=col>LATITUD</th><th scope=col>LONGITUD</th><th scope=col>DIRECCION</th><th scope=col>C.P.</th><th scope=col>POBLACION</th><th scope=col>PROVINCIA</th><th scope=col>PAIS</th></tr>\n",
              "\t<tr><th scope=col>&lt;int&gt;</th><th scope=col>&lt;chr&gt;</th><th scope=col>&lt;dbl&gt;</th><th scope=col>&lt;dbl&gt;</th><th scope=col>&lt;chr&gt;</th><th scope=col>&lt;int&gt;</th><th scope=col>&lt;chr&gt;</th><th scope=col>&lt;chr&gt;</th><th scope=col>&lt;chr&gt;</th></tr>\n",
              "</thead>\n",
              "<tbody>\n",
              "\t<tr><td> 5000</td><td>GRANADA              </td><td>37.18404</td><td>-3.609036</td><td>AVENIDA DE LOS ANDALUCES. S/N                  </td><td>18014</td><td>Granada                    </td><td>Granada    </td><td>España</td></tr>\n",
              "\t<tr><td>10204</td><td>ZARZALEJO            </td><td>40.53882</td><td>-4.158073</td><td>CALLE DEL FERROCARRIL. S/N                     </td><td>28293</td><td>Zarzalejo                  </td><td>Madrid     </td><td>España</td></tr>\n",
              "\t<tr><td>11208</td><td>VITORIA/GASTEIZ      </td><td>42.84153</td><td>-2.672665</td><td>PLAZUELA DE LA ESTACION. 1                     </td><td> 1005</td><td>Vitoria-Gasteiz            </td><td>Araba/Álava</td><td>España</td></tr>\n",
              "\t<tr><td>11203</td><td>MANZANOS             </td><td>42.74288</td><td>-2.867530</td><td>RIO ZADORRA KALEA. S/N                         </td><td> 1220</td><td>Ribera Baja/Erribera Beitia</td><td>Araba/Álava</td><td>España</td></tr>\n",
              "\t<tr><td>15006</td><td>CISNEROS             </td><td>42.19107</td><td>-4.850206</td><td>CARRETERA P-932 - ESTACION FERROCARRIL. S/N    </td><td>34320</td><td>Cisneros                   </td><td>Palencia   </td><td>España</td></tr>\n",
              "\t<tr><td>23004</td><td>PONTEVEDRA           </td><td>42.42164</td><td>-8.635830</td><td>AVENIDA DE LA ESTACION. S/N                    </td><td>36003</td><td>Pontevedra                 </td><td>Pontevedra </td><td>España</td></tr>\n",
              "\t<tr><td>31205</td><td>A GUDIÑA             </td><td>42.06069</td><td>-7.132436</td><td>CARRETERA N-525 - BEATO SEBASTIAN APARICIO. S/N</td><td>32540</td><td>Gudiña. A                  </td><td>Ourense    </td><td>España</td></tr>\n",
              "\t<tr><td>34005</td><td>SAN PEDRO DEL ARROYO </td><td>40.80384</td><td>-4.871408</td><td>CALLE ESTACION FERROCARRIL. S/N                </td><td> 5350</td><td>San Pedro del Arroyo       </td><td>Ávila      </td><td>España</td></tr>\n",
              "\t<tr><td>35206</td><td>NAVALMORAL DE LA MATA</td><td>39.89485</td><td>-5.545566</td><td>PLAZA ESTACION FERROCARRIL. 1                  </td><td>10300</td><td>Navalmoral de la Mata      </td><td>Cáceres    </td><td>España</td></tr>\n",
              "\t<tr><td>37300</td><td>PUERTOLLANO          </td><td>38.69141</td><td>-4.111611</td><td>CALLE MUELLE. S/N                              </td><td>13500</td><td>Puertollano                </td><td>Ciudad Real</td><td>España</td></tr>\n",
              "</tbody>\n",
              "</table>\n"
            ],
            "text/markdown": "\nA data.table: 10 × 9\n\n| CODIGO &lt;int&gt; | DESCRIPCION &lt;chr&gt; | LATITUD &lt;dbl&gt; | LONGITUD &lt;dbl&gt; | DIRECCION &lt;chr&gt; | C.P. &lt;int&gt; | POBLACION &lt;chr&gt; | PROVINCIA &lt;chr&gt; | PAIS &lt;chr&gt; |\n|---|---|---|---|---|---|---|---|---|\n|  5000 | GRANADA               | 37.18404 | -3.609036 | AVENIDA DE LOS ANDALUCES. S/N                   | 18014 | Granada                     | Granada     | España |\n| 10204 | ZARZALEJO             | 40.53882 | -4.158073 | CALLE DEL FERROCARRIL. S/N                      | 28293 | Zarzalejo                   | Madrid      | España |\n| 11208 | VITORIA/GASTEIZ       | 42.84153 | -2.672665 | PLAZUELA DE LA ESTACION. 1                      |  1005 | Vitoria-Gasteiz             | Araba/Álava | España |\n| 11203 | MANZANOS              | 42.74288 | -2.867530 | RIO ZADORRA KALEA. S/N                          |  1220 | Ribera Baja/Erribera Beitia | Araba/Álava | España |\n| 15006 | CISNEROS              | 42.19107 | -4.850206 | CARRETERA P-932 - ESTACION FERROCARRIL. S/N     | 34320 | Cisneros                    | Palencia    | España |\n| 23004 | PONTEVEDRA            | 42.42164 | -8.635830 | AVENIDA DE LA ESTACION. S/N                     | 36003 | Pontevedra                  | Pontevedra  | España |\n| 31205 | A GUDIÑA              | 42.06069 | -7.132436 | CARRETERA N-525 - BEATO SEBASTIAN APARICIO. S/N | 32540 | Gudiña. A                   | Ourense     | España |\n| 34005 | SAN PEDRO DEL ARROYO  | 40.80384 | -4.871408 | CALLE ESTACION FERROCARRIL. S/N                 |  5350 | San Pedro del Arroyo        | Ávila       | España |\n| 35206 | NAVALMORAL DE LA MATA | 39.89485 | -5.545566 | PLAZA ESTACION FERROCARRIL. 1                   | 10300 | Navalmoral de la Mata       | Cáceres     | España |\n| 37300 | PUERTOLLANO           | 38.69141 | -4.111611 | CALLE MUELLE. S/N                               | 13500 | Puertollano                 | Ciudad Real | España |\n\n",
            "text/latex": "A data.table: 10 × 9\n\\begin{tabular}{lllllllll}\n CODIGO & DESCRIPCION & LATITUD & LONGITUD & DIRECCION & C.P. & POBLACION & PROVINCIA & PAIS\\\\\n <int> & <chr> & <dbl> & <dbl> & <chr> & <int> & <chr> & <chr> & <chr>\\\\\n\\hline\n\t  5000 & GRANADA               & 37.18404 & -3.609036 & AVENIDA DE LOS ANDALUCES. S/N                   & 18014 & Granada                     & Granada     & España\\\\\n\t 10204 & ZARZALEJO             & 40.53882 & -4.158073 & CALLE DEL FERROCARRIL. S/N                      & 28293 & Zarzalejo                   & Madrid      & España\\\\\n\t 11208 & VITORIA/GASTEIZ       & 42.84153 & -2.672665 & PLAZUELA DE LA ESTACION. 1                      &  1005 & Vitoria-Gasteiz             & Araba/Álava & España\\\\\n\t 11203 & MANZANOS              & 42.74288 & -2.867530 & RIO ZADORRA KALEA. S/N                          &  1220 & Ribera Baja/Erribera Beitia & Araba/Álava & España\\\\\n\t 15006 & CISNEROS              & 42.19107 & -4.850206 & CARRETERA P-932 - ESTACION FERROCARRIL. S/N     & 34320 & Cisneros                    & Palencia    & España\\\\\n\t 23004 & PONTEVEDRA            & 42.42164 & -8.635830 & AVENIDA DE LA ESTACION. S/N                     & 36003 & Pontevedra                  & Pontevedra  & España\\\\\n\t 31205 & A GUDIÑA              & 42.06069 & -7.132436 & CARRETERA N-525 - BEATO SEBASTIAN APARICIO. S/N & 32540 & Gudiña. A                   & Ourense     & España\\\\\n\t 34005 & SAN PEDRO DEL ARROYO  & 40.80384 & -4.871408 & CALLE ESTACION FERROCARRIL. S/N                 &  5350 & San Pedro del Arroyo        & Ávila       & España\\\\\n\t 35206 & NAVALMORAL DE LA MATA & 39.89485 & -5.545566 & PLAZA ESTACION FERROCARRIL. 1                   & 10300 & Navalmoral de la Mata       & Cáceres     & España\\\\\n\t 37300 & PUERTOLLANO           & 38.69141 & -4.111611 & CALLE MUELLE. S/N                               & 13500 & Puertollano                 & Ciudad Real & España\\\\\n\\end{tabular}\n",
            "text/plain": [
              "   CODIGO DESCRIPCION           LATITUD  LONGITUD \n",
              "1   5000  GRANADA               37.18404 -3.609036\n",
              "2  10204  ZARZALEJO             40.53882 -4.158073\n",
              "3  11208  VITORIA/GASTEIZ       42.84153 -2.672665\n",
              "4  11203  MANZANOS              42.74288 -2.867530\n",
              "5  15006  CISNEROS              42.19107 -4.850206\n",
              "6  23004  PONTEVEDRA            42.42164 -8.635830\n",
              "7  31205  A GUDIÑA              42.06069 -7.132436\n",
              "8  34005  SAN PEDRO DEL ARROYO  40.80384 -4.871408\n",
              "9  35206  NAVALMORAL DE LA MATA 39.89485 -5.545566\n",
              "10 37300  PUERTOLLANO           38.69141 -4.111611\n",
              "   DIRECCION                                       C.P. \n",
              "1  AVENIDA DE LOS ANDALUCES. S/N                   18014\n",
              "2  CALLE DEL FERROCARRIL. S/N                      28293\n",
              "3  PLAZUELA DE LA ESTACION. 1                       1005\n",
              "4  RIO ZADORRA KALEA. S/N                           1220\n",
              "5  CARRETERA P-932 - ESTACION FERROCARRIL. S/N     34320\n",
              "6  AVENIDA DE LA ESTACION. S/N                     36003\n",
              "7  CARRETERA N-525 - BEATO SEBASTIAN APARICIO. S/N 32540\n",
              "8  CALLE ESTACION FERROCARRIL. S/N                  5350\n",
              "9  PLAZA ESTACION FERROCARRIL. 1                   10300\n",
              "10 CALLE MUELLE. S/N                               13500\n",
              "   POBLACION                   PROVINCIA   PAIS  \n",
              "1  Granada                     Granada     España\n",
              "2  Zarzalejo                   Madrid      España\n",
              "3  Vitoria-Gasteiz             Araba/Álava España\n",
              "4  Ribera Baja/Erribera Beitia Araba/Álava España\n",
              "5  Cisneros                    Palencia    España\n",
              "6  Pontevedra                  Pontevedra  España\n",
              "7  Gudiña. A                   Ourense     España\n",
              "8  San Pedro del Arroyo        Ávila       España\n",
              "9  Navalmoral de la Mata       Cáceres     España\n",
              "10 Puertollano                 Ciudad Real España"
            ]
          },
          "metadata": {}
        }
      ]
    },
    {
      "cell_type": "code",
      "source": [
        "# consultamos cantidad de filas duplicadas\n",
        "nrow(df_duplicates[duplicated(df_duplicates),])"
      ],
      "metadata": {
        "colab": {
          "base_uri": "https://localhost:8080/",
          "height": 34
        },
        "id": "OabnXP1TSBLT",
        "outputId": "8f69a572-7cbd-4de2-c834-fb5944b5e5ef"
      },
      "execution_count": null,
      "outputs": [
        {
          "output_type": "display_data",
          "data": {
            "text/html": [
              "10"
            ],
            "text/markdown": "10",
            "text/latex": "10",
            "text/plain": [
              "[1] 10"
            ]
          },
          "metadata": {}
        }
      ]
    },
    {
      "cell_type": "markdown",
      "source": [
        "La función `unique()` nos permite forzar valores únicos en filas."
      ],
      "metadata": {
        "id": "aE-niQANmndY"
      }
    },
    {
      "cell_type": "code",
      "source": [
        "# forzamos valores unicos\n",
        "unique(df_duplicates)"
      ],
      "metadata": {
        "colab": {
          "base_uri": "https://localhost:8080/",
          "height": 1000
        },
        "id": "bj5iokxjQfK6",
        "outputId": "d6e6df2b-a743-4ab7-b61e-42f733809dff"
      },
      "execution_count": null,
      "outputs": [
        {
          "output_type": "display_data",
          "data": {
            "text/html": [
              "<table class=\"dataframe\">\n",
              "<caption>A data.table: 620 × 9</caption>\n",
              "<thead>\n",
              "\t<tr><th scope=col>CODIGO</th><th scope=col>DESCRIPCION</th><th scope=col>LATITUD</th><th scope=col>LONGITUD</th><th scope=col>DIRECCION</th><th scope=col>C.P.</th><th scope=col>POBLACION</th><th scope=col>PROVINCIA</th><th scope=col>PAIS</th></tr>\n",
              "\t<tr><th scope=col>&lt;int&gt;</th><th scope=col>&lt;chr&gt;</th><th scope=col>&lt;dbl&gt;</th><th scope=col>&lt;dbl&gt;</th><th scope=col>&lt;chr&gt;</th><th scope=col>&lt;int&gt;</th><th scope=col>&lt;chr&gt;</th><th scope=col>&lt;chr&gt;</th><th scope=col>&lt;chr&gt;</th></tr>\n",
              "</thead>\n",
              "<tbody>\n",
              "\t<tr><td> 1003</td><td>ARAHAL                              </td><td>37.26814</td><td>-5.5484006</td><td>CALLE VIRGEN DE LOS DOLORES. S/N                                                         </td><td>41600</td><td>Arahal                   </td><td>Sevilla          </td><td>España</td></tr>\n",
              "\t<tr><td> 1005</td><td>MARCHENA                            </td><td>37.33425</td><td>-5.4254295</td><td>AVENIDA MAESTRO SANTOS RUANO. 8                                                          </td><td>41620</td><td>Marchena                 </td><td>Sevilla          </td><td>España</td></tr>\n",
              "\t<tr><td> 1007</td><td>OSUNA                               </td><td>37.23378</td><td>-5.1148398</td><td>AVENIDA ESTACION FERROCARRIL. S/N                                                        </td><td>41640</td><td>Osuna                    </td><td>Sevilla          </td><td>España</td></tr>\n",
              "\t<tr><td> 1009</td><td>PEDRERA                             </td><td>37.22235</td><td>-4.8936960</td><td>CALLE MANUEL ARANDA. 3                                                                   </td><td>41566</td><td>Pedrera                  </td><td>Sevilla          </td><td>España</td></tr>\n",
              "\t<tr><td> 2002</td><td>PUENTE GENIL-HERRERA                </td><td>37.35971</td><td>-4.8221946</td><td>CARRETERA A-318 - KM. 9 - ENTRE LOS PUEBLOS DE PUENTE GENIL (CËRDOBA) Y HERRERA (SEVILLA)</td><td>14500</td><td>Puente Genil             </td><td>Córdoba          </td><td>España</td></tr>\n",
              "\t<tr><td> 2003</td><td>ANTEQUERA-SANTA ANA                 </td><td>37.07028</td><td>-4.7190304</td><td>CARRETERA MA-5406 - ESTACION FERROCARRIL. S/N                                            </td><td>29540</td><td>Antequera                </td><td>Málaga           </td><td>España</td></tr>\n",
              "\t<tr><td> 3001</td><td>MENGIBAR-ARTICHUELA                 </td><td>37.97784</td><td>-3.8019294</td><td>CALLE CAMINO ESTACION FERROCARRIL. S/N                                                   </td><td>23620</td><td>Mengíbar                 </td><td>Jaén             </td><td>España</td></tr>\n",
              "\t<tr><td> 3100</td><td>JAEN                                </td><td>37.78005</td><td>-3.7908847</td><td>PLAZA DE JAEN POR LA PAZ. 1                                                              </td><td>23007</td><td>Jaén                     </td><td>Jaén             </td><td>España</td></tr>\n",
              "\t<tr><td> 3208</td><td>CUENCA FERNANDO ZOBEL               </td><td>40.03528</td><td>-2.1441378</td><td>AVENIDA CERRO DE LA ESTRELLA. S/N - N-320 - CIRCUNVALACION DE CUENCA                     </td><td>16004</td><td>Cuenca                   </td><td>Cuenca           </td><td>España</td></tr>\n",
              "\t<tr><td> 3213</td><td>REQUENA-UTIEL                       </td><td>39.52173</td><td>-1.1346669</td><td>AUTOVIA A3 - SALIDA 285                                                                  </td><td>46340</td><td>Requena                  </td><td>Valencia/Valéncia</td><td>España</td></tr>\n",
              "\t<tr><td> 3216</td><td>VALENCIA JOAQUIN SOROLLA            </td><td>39.46000</td><td>-0.3813222</td><td>CALLE SAN VICENTE MARTIR. 171                                                            </td><td>46007</td><td>Valencia                 </td><td>Valencia/Valéncia</td><td>España</td></tr>\n",
              "\t<tr><td> 3309</td><td>VILLENA ALTA VELOCIDAD              </td><td>38.58461</td><td>-0.8734737</td><td>PARTIDA DE SAN JUAN. 182                                                                 </td><td> 3400</td><td>Villena                  </td><td>Alicante/Alacant </td><td>España</td></tr>\n",
              "\t<tr><td> 4007</td><td>GUADALAJARA-YEBES                   </td><td>40.58795</td><td>-3.1249541</td><td>CARRETERA N-320 SACEDON-CUENCA. KM 268                                                   </td><td>19000</td><td>Guadalajara              </td><td>Guadalajara      </td><td>España</td></tr>\n",
              "\t<tr><td> 4104</td><td>CAMP DE TARRAGONA                   </td><td>41.19218</td><td> 1.2738780</td><td>CALLE MAS L HEREUET. S/N                                                                 </td><td>43765</td><td>Tarragona                </td><td>Tarragona        </td><td>España</td></tr>\n",
              "\t<tr><td> 4307</td><td>FIGUERES-VILAFANT                   </td><td>42.25757</td><td> 2.9451300</td><td>AVINGUDA PUIG GRAU. S/N                                                                  </td><td>17740</td><td>Figueres                 </td><td>Girona           </td><td>España</td></tr>\n",
              "\t<tr><td> 5000</td><td>GRANADA                             </td><td>37.18404</td><td>-3.6090357</td><td>AVENIDA DE LOS ANDALUCES. S/N                                                            </td><td>18014</td><td>Granada                  </td><td>Granada          </td><td>España</td></tr>\n",
              "\t<tr><td> 5013</td><td>LOJA-SAN FRANCISCO                  </td><td>37.17492</td><td>-4.1495280</td><td>PLAZA ESTACION FERROCARRIL. 56                                                           </td><td>18300</td><td>Loja                     </td><td>Granada          </td><td>España</td></tr>\n",
              "\t<tr><td> 5019</td><td>ANTEQUERA                           </td><td>37.02818</td><td>-4.5609649</td><td>BARRIADA ESTACION. S/N                                                                   </td><td>29200</td><td>Antequera                </td><td>Málaga           </td><td>España</td></tr>\n",
              "\t<tr><td> 8004</td><td>SEGOVIA-GUIOMAR                     </td><td>40.91019</td><td>-4.0948827</td><td>PASEO CAMPOS DE CASTILLA. S/N                                                            </td><td>40006</td><td>Segovia                  </td><td>Segovia          </td><td>España</td></tr>\n",
              "\t<tr><td> 8223</td><td>VIGO URZAIZ                         </td><td>42.23448</td><td>-8.7130987</td><td>PLAZA ESTACION FERROCARRIL. S/N                                                          </td><td>36201</td><td>Vigo                     </td><td>Pontevedra       </td><td>España</td></tr>\n",
              "\t<tr><td> 8224</td><td>REDONDELA-AV                        </td><td>42.28453</td><td>-8.6037130</td><td>ESTRADA DE PAZOS. 10                                                                     </td><td>36818</td><td>Redondela                </td><td>Pontevedra       </td><td>España</td></tr>\n",
              "\t<tr><td> 8240</td><td>MEDINA DEL CAMPO A.V.               </td><td>41.29140</td><td>-4.9227000</td><td>CARRETERA VP-8904 DE LAS SALINAS. KM 1.500                                               </td><td>47400</td><td>Medina del Campo         </td><td>Valladolid       </td><td>España</td></tr>\n",
              "\t<tr><td>10204</td><td>ZARZALEJO                           </td><td>40.53882</td><td>-4.1580731</td><td>CALLE DEL FERROCARRIL. S/N                                                               </td><td>28293</td><td>Zarzalejo                </td><td>Madrid           </td><td>España</td></tr>\n",
              "\t<tr><td>10205</td><td>ROBLEDO DE CHAVELA                  </td><td>40.52075</td><td>-4.2467712</td><td>AVENIDA ESTACION FERROCARRIL. S/N                                                        </td><td>28294</td><td>Robledo de Chavela       </td><td>Madrid           </td><td>España</td></tr>\n",
              "\t<tr><td>10206</td><td>SANTA MARIA DE LA ALAMEDA-PEGUERINOS</td><td>40.56898</td><td>-4.2691278</td><td>CALLE DOCE DE OCTUBRE. S/N                                                               </td><td>28296</td><td>Santa María de la Alameda</td><td>Madrid           </td><td>España</td></tr>\n",
              "\t<tr><td>10207</td><td>LAS NAVAS DEL MARQUES               </td><td>40.58926</td><td>-4.3614434</td><td>AVENIDA ESTACION FERROCARRIL. S/N                                                        </td><td> 5230</td><td>Navas del Marqués. Las   </td><td>Ávila            </td><td>España</td></tr>\n",
              "\t<tr><td>10208</td><td>NAVALPERAL                          </td><td>40.59095</td><td>-4.4086162</td><td>AVENIDA ESTACION FERROCARRIL. S/N                                                        </td><td> 5240</td><td>Navalperal de Pinares    </td><td>Ávila            </td><td>España</td></tr>\n",
              "\t<tr><td>10209</td><td>EL PIMPOLLAR                        </td><td>40.56770</td><td>-4.2831457</td><td>CALLE ESTACION FERROCARRIL. S/N                                                          </td><td>28296</td><td>Santa María de la Alameda</td><td>Madrid           </td><td>España</td></tr>\n",
              "\t<tr><td>10300</td><td>HERRADON-LA CAÑADA                  </td><td>40.59933</td><td>-4.4950318</td><td>AVENIDA ESTACION FERROCARRIL. S/N                                                        </td><td> 5294</td><td>Herradón de Pinares      </td><td>Ávila            </td><td>España</td></tr>\n",
              "\t<tr><td>10302</td><td>GUIMORCONDO                         </td><td>40.64901</td><td>-4.6150234</td><td>AVENIDA ESTACION FERROCARRIL. S/N                                                        </td><td> 5004</td><td>Tornadizos de Ávila      </td><td>Ávila            </td><td>España</td></tr>\n",
              "\t<tr><td>⋮</td><td>⋮</td><td>⋮</td><td>⋮</td><td>⋮</td><td>⋮</td><td>⋮</td><td>⋮</td><td>⋮</td></tr>\n",
              "\t<tr><td>81207</td><td>LUCENI                     </td><td>41.82626</td><td>-1.243858</td><td>AVENIDA FRANCISCO DE GOYA. 56     </td><td>50640</td><td>Luceni             </td><td>Zaragoza   </td><td>España </td></tr>\n",
              "\t<tr><td>81208</td><td>PEDROLA                    </td><td>41.80501</td><td>-1.201969</td><td>CALLE EDIFICIO DISEMINADOS. 18    </td><td>50690</td><td>Pedrola            </td><td>Zaragoza   </td><td>España </td></tr>\n",
              "\t<tr><td>81209</td><td>CABAÑAS DE EBRO            </td><td>41.78811</td><td>-1.167749</td><td>CALLE ESTACION FERROCARRIL. S/N   </td><td>50638</td><td>Cabañas de Ebro    </td><td>Zaragoza   </td><td>España </td></tr>\n",
              "\t<tr><td>81210</td><td>ALAGON                     </td><td>41.77140</td><td>-1.112466</td><td>CALLE ESTACION DE FERROCARRIL. S/N</td><td>50630</td><td>Alagón             </td><td>Zaragoza   </td><td>España </td></tr>\n",
              "\t<tr><td>82100</td><td>SORIA                      </td><td>41.75528</td><td>-2.475496</td><td>CALLE CARRETERA MADRID. S/N       </td><td>42005</td><td>Soria              </td><td>Soria      </td><td>España </td></tr>\n",
              "\t<tr><td>84101</td><td>ALMAZAN-VILLA              </td><td>41.48898</td><td>-2.525220</td><td>AVENIDA ESTACION FERROCARRIL. 9   </td><td>42200</td><td>Almazán            </td><td>Soria      </td><td>España </td></tr>\n",
              "\t<tr><td>84103</td><td>TARDELCUENDE               </td><td>41.59356</td><td>-2.639337</td><td>AVENIDA ESTACION FERROCARRIL. S/N </td><td>42294</td><td>Tardelcuende       </td><td>Soria      </td><td>España </td></tr>\n",
              "\t<tr><td>84104</td><td>QUINTANA REDONDA           </td><td>41.63966</td><td>-2.609656</td><td>CALLE ESTACION FERROCARRIL. S/N   </td><td>42291</td><td>Quintana Redonda   </td><td>Soria      </td><td>España </td></tr>\n",
              "\t<tr><td>87004</td><td>LES AUBRAIS ORLEANS        </td><td>47.92502</td><td> 1.905508</td><td>CANTON DE FLEURY LES AUBRAIS      </td><td>   NA</td><td>LES AUBRAIS ORLEANS</td><td>           </td><td>Francia</td></tr>\n",
              "\t<tr><td>87011</td><td>PARIS AUSTERLITZ           </td><td>48.83927</td><td> 2.368222</td><td>55 QUAI D?AUSTERLITZ              </td><td>   NA</td><td>PARIS              </td><td>           </td><td>Francia</td></tr>\n",
              "\t<tr><td>87013</td><td>PARIS GARE LYON            </td><td>48.84429</td><td> 2.373670</td><td>PLACE LOUIS ARMAND                </td><td>   NA</td><td>PARIS              </td><td>           </td><td>Francia</td></tr>\n",
              "\t<tr><td>87078</td><td>BEZIERS                    </td><td>43.33622</td><td> 3.219231</td><td>BOULEVARD DE VERDUN. 14           </td><td>   NA</td><td>BEZIERS            </td><td>           </td><td>Francia</td></tr>\n",
              "\t<tr><td>87079</td><td>TOULOUSE MATABIAU          </td><td>43.61144</td><td> 1.454144</td><td>BOULEVARD PIERRE SEMARD. 64       </td><td>   NA</td><td>TOULOUSE           </td><td>           </td><td>Francia</td></tr>\n",
              "\t<tr><td>87081</td><td>POITIERS                   </td><td>46.58330</td><td> 0.330360</td><td>BOULEVARD GRAND CERF              </td><td>   NA</td><td>POITIERS           </td><td>           </td><td>Francia</td></tr>\n",
              "\t<tr><td>87088</td><td>NARBONNE                   </td><td>43.19103</td><td> 3.005967</td><td>BOULEVARD FREDERIC MISTRAL        </td><td>   NA</td><td>NARBONNE           </td><td>           </td><td>Francia</td></tr>\n",
              "\t<tr><td>87089</td><td>MARSEILLE ST CHARLES       </td><td>43.30349</td><td> 5.382236</td><td>SQUARE NARVIK                     </td><td>   NA</td><td>MARSELLE CEDEX     </td><td>           </td><td>Francia</td></tr>\n",
              "\t<tr><td>87173</td><td>MONTPELLIER ST ROCH        </td><td>43.60583</td><td> 3.882376</td><td>PLACE AUGUSTE GIBERT BP           </td><td>   NA</td><td>MONTPELLIER        </td><td>           </td><td>Francia</td></tr>\n",
              "\t<tr><td>87175</td><td>SETE                       </td><td>43.41281</td><td> 3.696410</td><td>78 PLACE CAMBON                   </td><td>   NA</td><td>SETE               </td><td>           </td><td>Francia</td></tr>\n",
              "\t<tr><td>87176</td><td>CARCASSONNE                </td><td>43.21814</td><td> 2.351832</td><td>AVENUE DU MARECHAL JOFFRE. 1      </td><td>   NA</td><td>CARCASSONNE        </td><td>           </td><td>Francia</td></tr>\n",
              "\t<tr><td>87287</td><td>AGDE                       </td><td>43.31742</td><td> 3.466125</td><td>RUE DE LA DIGUE                   </td><td>   NA</td><td>AGDE               </td><td>           </td><td>Francia</td></tr>\n",
              "\t<tr><td>87302</td><td>NIMES                      </td><td>43.83229</td><td> 4.365845</td><td>BOULEVART SERGENT TRIAIRE         </td><td>   NA</td><td>NIMES              </td><td>           </td><td>Francia</td></tr>\n",
              "\t<tr><td>87303</td><td>LYON PART DIEU             </td><td>45.76028</td><td> 4.859801</td><td>PLACE CHALES BERAUDIER            </td><td>   NA</td><td>LYON               </td><td>           </td><td>Francia</td></tr>\n",
              "\t<tr><td>87374</td><td>PERPIGNAN                  </td><td>42.69607</td><td> 2.879632</td><td>PLACE SALVADOR DALI               </td><td>   NA</td><td>PERPIGNAN          </td><td>           </td><td>Francia</td></tr>\n",
              "\t<tr><td>87546</td><td>BLOIS                      </td><td>47.58154</td><td> 1.321077</td><td>PLACE DE LA GARE. 70              </td><td>   NA</td><td>BLOIS              </td><td>           </td><td>Francia</td></tr>\n",
              "\t<tr><td>87810</td><td>VALENCE TGV RHONE ALPES SUD</td><td>44.99155</td><td> 4.978703</td><td>VALENCE CEDEX. 9                  </td><td>   NA</td><td>RHONE - ALPES      </td><td>           </td><td>Francia</td></tr>\n",
              "\t<tr><td>87814</td><td>AVIGNON TGV                </td><td>43.92194</td><td> 4.785813</td><td>PLACE DE L' EUROPE                </td><td>   NA</td><td>AVIGNON            </td><td>           </td><td>Francia</td></tr>\n",
              "\t<tr><td>87912</td><td>AIX EN PROVENCE TGV        </td><td>43.45527</td><td> 5.317230</td><td>ROUTE DEPARTAMENTALE. 9           </td><td>   NA</td><td>AIX EN PROVENCE    </td><td>           </td><td>Francia</td></tr>\n",
              "\t<tr><td>92102</td><td>TOLEDO                     </td><td>39.86236</td><td>-4.011205</td><td>CALLE PASEO DE LA ROSA. S/N       </td><td>45006</td><td>Toledo             </td><td>Toledo     </td><td>España </td></tr>\n",
              "\t<tr><td>94002</td><td>DAIMIEL                    </td><td>39.06152</td><td>-3.604049</td><td>CALLE ESTACION FERROCARRIL. S/N   </td><td>13250</td><td>Daimiel            </td><td>Ciudad Real</td><td>España </td></tr>\n",
              "\t<tr><td>94004</td><td>ALMAGRO                    </td><td>38.89544</td><td>-3.709777</td><td>PASEO ESTACION FERROCARRIL. S/N   </td><td>13270</td><td>Almagro            </td><td>Ciudad Real</td><td>España </td></tr>\n",
              "</tbody>\n",
              "</table>\n"
            ],
            "text/markdown": "\nA data.table: 620 × 9\n\n| CODIGO &lt;int&gt; | DESCRIPCION &lt;chr&gt; | LATITUD &lt;dbl&gt; | LONGITUD &lt;dbl&gt; | DIRECCION &lt;chr&gt; | C.P. &lt;int&gt; | POBLACION &lt;chr&gt; | PROVINCIA &lt;chr&gt; | PAIS &lt;chr&gt; |\n|---|---|---|---|---|---|---|---|---|\n|  1003 | ARAHAL                               | 37.26814 | -5.5484006 | CALLE VIRGEN DE LOS DOLORES. S/N                                                          | 41600 | Arahal                    | Sevilla           | España |\n|  1005 | MARCHENA                             | 37.33425 | -5.4254295 | AVENIDA MAESTRO SANTOS RUANO. 8                                                           | 41620 | Marchena                  | Sevilla           | España |\n|  1007 | OSUNA                                | 37.23378 | -5.1148398 | AVENIDA ESTACION FERROCARRIL. S/N                                                         | 41640 | Osuna                     | Sevilla           | España |\n|  1009 | PEDRERA                              | 37.22235 | -4.8936960 | CALLE MANUEL ARANDA. 3                                                                    | 41566 | Pedrera                   | Sevilla           | España |\n|  2002 | PUENTE GENIL-HERRERA                 | 37.35971 | -4.8221946 | CARRETERA A-318 - KM. 9 - ENTRE LOS PUEBLOS DE PUENTE GENIL (CËRDOBA) Y HERRERA (SEVILLA) | 14500 | Puente Genil              | Córdoba           | España |\n|  2003 | ANTEQUERA-SANTA ANA                  | 37.07028 | -4.7190304 | CARRETERA MA-5406 - ESTACION FERROCARRIL. S/N                                             | 29540 | Antequera                 | Málaga            | España |\n|  3001 | MENGIBAR-ARTICHUELA                  | 37.97784 | -3.8019294 | CALLE CAMINO ESTACION FERROCARRIL. S/N                                                    | 23620 | Mengíbar                  | Jaén              | España |\n|  3100 | JAEN                                 | 37.78005 | -3.7908847 | PLAZA DE JAEN POR LA PAZ. 1                                                               | 23007 | Jaén                      | Jaén              | España |\n|  3208 | CUENCA FERNANDO ZOBEL                | 40.03528 | -2.1441378 | AVENIDA CERRO DE LA ESTRELLA. S/N - N-320 - CIRCUNVALACION DE CUENCA                      | 16004 | Cuenca                    | Cuenca            | España |\n|  3213 | REQUENA-UTIEL                        | 39.52173 | -1.1346669 | AUTOVIA A3 - SALIDA 285                                                                   | 46340 | Requena                   | Valencia/Valéncia | España |\n|  3216 | VALENCIA JOAQUIN SOROLLA             | 39.46000 | -0.3813222 | CALLE SAN VICENTE MARTIR. 171                                                             | 46007 | Valencia                  | Valencia/Valéncia | España |\n|  3309 | VILLENA ALTA VELOCIDAD               | 38.58461 | -0.8734737 | PARTIDA DE SAN JUAN. 182                                                                  |  3400 | Villena                   | Alicante/Alacant  | España |\n|  4007 | GUADALAJARA-YEBES                    | 40.58795 | -3.1249541 | CARRETERA N-320 SACEDON-CUENCA. KM 268                                                    | 19000 | Guadalajara               | Guadalajara       | España |\n|  4104 | CAMP DE TARRAGONA                    | 41.19218 |  1.2738780 | CALLE MAS L HEREUET. S/N                                                                  | 43765 | Tarragona                 | Tarragona         | España |\n|  4307 | FIGUERES-VILAFANT                    | 42.25757 |  2.9451300 | AVINGUDA PUIG GRAU. S/N                                                                   | 17740 | Figueres                  | Girona            | España |\n|  5000 | GRANADA                              | 37.18404 | -3.6090357 | AVENIDA DE LOS ANDALUCES. S/N                                                             | 18014 | Granada                   | Granada           | España |\n|  5013 | LOJA-SAN FRANCISCO                   | 37.17492 | -4.1495280 | PLAZA ESTACION FERROCARRIL. 56                                                            | 18300 | Loja                      | Granada           | España |\n|  5019 | ANTEQUERA                            | 37.02818 | -4.5609649 | BARRIADA ESTACION. S/N                                                                    | 29200 | Antequera                 | Málaga            | España |\n|  8004 | SEGOVIA-GUIOMAR                      | 40.91019 | -4.0948827 | PASEO CAMPOS DE CASTILLA. S/N                                                             | 40006 | Segovia                   | Segovia           | España |\n|  8223 | VIGO URZAIZ                          | 42.23448 | -8.7130987 | PLAZA ESTACION FERROCARRIL. S/N                                                           | 36201 | Vigo                      | Pontevedra        | España |\n|  8224 | REDONDELA-AV                         | 42.28453 | -8.6037130 | ESTRADA DE PAZOS. 10                                                                      | 36818 | Redondela                 | Pontevedra        | España |\n|  8240 | MEDINA DEL CAMPO A.V.                | 41.29140 | -4.9227000 | CARRETERA VP-8904 DE LAS SALINAS. KM 1.500                                                | 47400 | Medina del Campo          | Valladolid        | España |\n| 10204 | ZARZALEJO                            | 40.53882 | -4.1580731 | CALLE DEL FERROCARRIL. S/N                                                                | 28293 | Zarzalejo                 | Madrid            | España |\n| 10205 | ROBLEDO DE CHAVELA                   | 40.52075 | -4.2467712 | AVENIDA ESTACION FERROCARRIL. S/N                                                         | 28294 | Robledo de Chavela        | Madrid            | España |\n| 10206 | SANTA MARIA DE LA ALAMEDA-PEGUERINOS | 40.56898 | -4.2691278 | CALLE DOCE DE OCTUBRE. S/N                                                                | 28296 | Santa María de la Alameda | Madrid            | España |\n| 10207 | LAS NAVAS DEL MARQUES                | 40.58926 | -4.3614434 | AVENIDA ESTACION FERROCARRIL. S/N                                                         |  5230 | Navas del Marqués. Las    | Ávila             | España |\n| 10208 | NAVALPERAL                           | 40.59095 | -4.4086162 | AVENIDA ESTACION FERROCARRIL. S/N                                                         |  5240 | Navalperal de Pinares     | Ávila             | España |\n| 10209 | EL PIMPOLLAR                         | 40.56770 | -4.2831457 | CALLE ESTACION FERROCARRIL. S/N                                                           | 28296 | Santa María de la Alameda | Madrid            | España |\n| 10300 | HERRADON-LA CAÑADA                   | 40.59933 | -4.4950318 | AVENIDA ESTACION FERROCARRIL. S/N                                                         |  5294 | Herradón de Pinares       | Ávila             | España |\n| 10302 | GUIMORCONDO                          | 40.64901 | -4.6150234 | AVENIDA ESTACION FERROCARRIL. S/N                                                         |  5004 | Tornadizos de Ávila       | Ávila             | España |\n| ⋮ | ⋮ | ⋮ | ⋮ | ⋮ | ⋮ | ⋮ | ⋮ | ⋮ |\n| 81207 | LUCENI                      | 41.82626 | -1.243858 | AVENIDA FRANCISCO DE GOYA. 56      | 50640 | Luceni              | Zaragoza    | España  |\n| 81208 | PEDROLA                     | 41.80501 | -1.201969 | CALLE EDIFICIO DISEMINADOS. 18     | 50690 | Pedrola             | Zaragoza    | España  |\n| 81209 | CABAÑAS DE EBRO             | 41.78811 | -1.167749 | CALLE ESTACION FERROCARRIL. S/N    | 50638 | Cabañas de Ebro     | Zaragoza    | España  |\n| 81210 | ALAGON                      | 41.77140 | -1.112466 | CALLE ESTACION DE FERROCARRIL. S/N | 50630 | Alagón              | Zaragoza    | España  |\n| 82100 | SORIA                       | 41.75528 | -2.475496 | CALLE CARRETERA MADRID. S/N        | 42005 | Soria               | Soria       | España  |\n| 84101 | ALMAZAN-VILLA               | 41.48898 | -2.525220 | AVENIDA ESTACION FERROCARRIL. 9    | 42200 | Almazán             | Soria       | España  |\n| 84103 | TARDELCUENDE                | 41.59356 | -2.639337 | AVENIDA ESTACION FERROCARRIL. S/N  | 42294 | Tardelcuende        | Soria       | España  |\n| 84104 | QUINTANA REDONDA            | 41.63966 | -2.609656 | CALLE ESTACION FERROCARRIL. S/N    | 42291 | Quintana Redonda    | Soria       | España  |\n| 87004 | LES AUBRAIS ORLEANS         | 47.92502 |  1.905508 | CANTON DE FLEURY LES AUBRAIS       |    NA | LES AUBRAIS ORLEANS | <!----> | Francia |\n| 87011 | PARIS AUSTERLITZ            | 48.83927 |  2.368222 | 55 QUAI D?AUSTERLITZ               |    NA | PARIS               | <!----> | Francia |\n| 87013 | PARIS GARE LYON             | 48.84429 |  2.373670 | PLACE LOUIS ARMAND                 |    NA | PARIS               | <!----> | Francia |\n| 87078 | BEZIERS                     | 43.33622 |  3.219231 | BOULEVARD DE VERDUN. 14            |    NA | BEZIERS             | <!----> | Francia |\n| 87079 | TOULOUSE MATABIAU           | 43.61144 |  1.454144 | BOULEVARD PIERRE SEMARD. 64        |    NA | TOULOUSE            | <!----> | Francia |\n| 87081 | POITIERS                    | 46.58330 |  0.330360 | BOULEVARD GRAND CERF               |    NA | POITIERS            | <!----> | Francia |\n| 87088 | NARBONNE                    | 43.19103 |  3.005967 | BOULEVARD FREDERIC MISTRAL         |    NA | NARBONNE            | <!----> | Francia |\n| 87089 | MARSEILLE ST CHARLES        | 43.30349 |  5.382236 | SQUARE NARVIK                      |    NA | MARSELLE CEDEX      | <!----> | Francia |\n| 87173 | MONTPELLIER ST ROCH         | 43.60583 |  3.882376 | PLACE AUGUSTE GIBERT BP            |    NA | MONTPELLIER         | <!----> | Francia |\n| 87175 | SETE                        | 43.41281 |  3.696410 | 78 PLACE CAMBON                    |    NA | SETE                | <!----> | Francia |\n| 87176 | CARCASSONNE                 | 43.21814 |  2.351832 | AVENUE DU MARECHAL JOFFRE. 1       |    NA | CARCASSONNE         | <!----> | Francia |\n| 87287 | AGDE                        | 43.31742 |  3.466125 | RUE DE LA DIGUE                    |    NA | AGDE                | <!----> | Francia |\n| 87302 | NIMES                       | 43.83229 |  4.365845 | BOULEVART SERGENT TRIAIRE          |    NA | NIMES               | <!----> | Francia |\n| 87303 | LYON PART DIEU              | 45.76028 |  4.859801 | PLACE CHALES BERAUDIER             |    NA | LYON                | <!----> | Francia |\n| 87374 | PERPIGNAN                   | 42.69607 |  2.879632 | PLACE SALVADOR DALI                |    NA | PERPIGNAN           | <!----> | Francia |\n| 87546 | BLOIS                       | 47.58154 |  1.321077 | PLACE DE LA GARE. 70               |    NA | BLOIS               | <!----> | Francia |\n| 87810 | VALENCE TGV RHONE ALPES SUD | 44.99155 |  4.978703 | VALENCE CEDEX. 9                   |    NA | RHONE - ALPES       | <!----> | Francia |\n| 87814 | AVIGNON TGV                 | 43.92194 |  4.785813 | PLACE DE L' EUROPE                 |    NA | AVIGNON             | <!----> | Francia |\n| 87912 | AIX EN PROVENCE TGV         | 43.45527 |  5.317230 | ROUTE DEPARTAMENTALE. 9            |    NA | AIX EN PROVENCE     | <!----> | Francia |\n| 92102 | TOLEDO                      | 39.86236 | -4.011205 | CALLE PASEO DE LA ROSA. S/N        | 45006 | Toledo              | Toledo      | España  |\n| 94002 | DAIMIEL                     | 39.06152 | -3.604049 | CALLE ESTACION FERROCARRIL. S/N    | 13250 | Daimiel             | Ciudad Real | España  |\n| 94004 | ALMAGRO                     | 38.89544 | -3.709777 | PASEO ESTACION FERROCARRIL. S/N    | 13270 | Almagro             | Ciudad Real | España  |\n\n",
            "text/latex": "A data.table: 620 × 9\n\\begin{tabular}{lllllllll}\n CODIGO & DESCRIPCION & LATITUD & LONGITUD & DIRECCION & C.P. & POBLACION & PROVINCIA & PAIS\\\\\n <int> & <chr> & <dbl> & <dbl> & <chr> & <int> & <chr> & <chr> & <chr>\\\\\n\\hline\n\t  1003 & ARAHAL                               & 37.26814 & -5.5484006 & CALLE VIRGEN DE LOS DOLORES. S/N                                                          & 41600 & Arahal                    & Sevilla           & España\\\\\n\t  1005 & MARCHENA                             & 37.33425 & -5.4254295 & AVENIDA MAESTRO SANTOS RUANO. 8                                                           & 41620 & Marchena                  & Sevilla           & España\\\\\n\t  1007 & OSUNA                                & 37.23378 & -5.1148398 & AVENIDA ESTACION FERROCARRIL. S/N                                                         & 41640 & Osuna                     & Sevilla           & España\\\\\n\t  1009 & PEDRERA                              & 37.22235 & -4.8936960 & CALLE MANUEL ARANDA. 3                                                                    & 41566 & Pedrera                   & Sevilla           & España\\\\\n\t  2002 & PUENTE GENIL-HERRERA                 & 37.35971 & -4.8221946 & CARRETERA A-318 - KM. 9 - ENTRE LOS PUEBLOS DE PUENTE GENIL (CËRDOBA) Y HERRERA (SEVILLA) & 14500 & Puente Genil              & Córdoba           & España\\\\\n\t  2003 & ANTEQUERA-SANTA ANA                  & 37.07028 & -4.7190304 & CARRETERA MA-5406 - ESTACION FERROCARRIL. S/N                                             & 29540 & Antequera                 & Málaga            & España\\\\\n\t  3001 & MENGIBAR-ARTICHUELA                  & 37.97784 & -3.8019294 & CALLE CAMINO ESTACION FERROCARRIL. S/N                                                    & 23620 & Mengíbar                  & Jaén              & España\\\\\n\t  3100 & JAEN                                 & 37.78005 & -3.7908847 & PLAZA DE JAEN POR LA PAZ. 1                                                               & 23007 & Jaén                      & Jaén              & España\\\\\n\t  3208 & CUENCA FERNANDO ZOBEL                & 40.03528 & -2.1441378 & AVENIDA CERRO DE LA ESTRELLA. S/N - N-320 - CIRCUNVALACION DE CUENCA                      & 16004 & Cuenca                    & Cuenca            & España\\\\\n\t  3213 & REQUENA-UTIEL                        & 39.52173 & -1.1346669 & AUTOVIA A3 - SALIDA 285                                                                   & 46340 & Requena                   & Valencia/Valéncia & España\\\\\n\t  3216 & VALENCIA JOAQUIN SOROLLA             & 39.46000 & -0.3813222 & CALLE SAN VICENTE MARTIR. 171                                                             & 46007 & Valencia                  & Valencia/Valéncia & España\\\\\n\t  3309 & VILLENA ALTA VELOCIDAD               & 38.58461 & -0.8734737 & PARTIDA DE SAN JUAN. 182                                                                  &  3400 & Villena                   & Alicante/Alacant  & España\\\\\n\t  4007 & GUADALAJARA-YEBES                    & 40.58795 & -3.1249541 & CARRETERA N-320 SACEDON-CUENCA. KM 268                                                    & 19000 & Guadalajara               & Guadalajara       & España\\\\\n\t  4104 & CAMP DE TARRAGONA                    & 41.19218 &  1.2738780 & CALLE MAS L HEREUET. S/N                                                                  & 43765 & Tarragona                 & Tarragona         & España\\\\\n\t  4307 & FIGUERES-VILAFANT                    & 42.25757 &  2.9451300 & AVINGUDA PUIG GRAU. S/N                                                                   & 17740 & Figueres                  & Girona            & España\\\\\n\t  5000 & GRANADA                              & 37.18404 & -3.6090357 & AVENIDA DE LOS ANDALUCES. S/N                                                             & 18014 & Granada                   & Granada           & España\\\\\n\t  5013 & LOJA-SAN FRANCISCO                   & 37.17492 & -4.1495280 & PLAZA ESTACION FERROCARRIL. 56                                                            & 18300 & Loja                      & Granada           & España\\\\\n\t  5019 & ANTEQUERA                            & 37.02818 & -4.5609649 & BARRIADA ESTACION. S/N                                                                    & 29200 & Antequera                 & Málaga            & España\\\\\n\t  8004 & SEGOVIA-GUIOMAR                      & 40.91019 & -4.0948827 & PASEO CAMPOS DE CASTILLA. S/N                                                             & 40006 & Segovia                   & Segovia           & España\\\\\n\t  8223 & VIGO URZAIZ                          & 42.23448 & -8.7130987 & PLAZA ESTACION FERROCARRIL. S/N                                                           & 36201 & Vigo                      & Pontevedra        & España\\\\\n\t  8224 & REDONDELA-AV                         & 42.28453 & -8.6037130 & ESTRADA DE PAZOS. 10                                                                      & 36818 & Redondela                 & Pontevedra        & España\\\\\n\t  8240 & MEDINA DEL CAMPO A.V.                & 41.29140 & -4.9227000 & CARRETERA VP-8904 DE LAS SALINAS. KM 1.500                                                & 47400 & Medina del Campo          & Valladolid        & España\\\\\n\t 10204 & ZARZALEJO                            & 40.53882 & -4.1580731 & CALLE DEL FERROCARRIL. S/N                                                                & 28293 & Zarzalejo                 & Madrid            & España\\\\\n\t 10205 & ROBLEDO DE CHAVELA                   & 40.52075 & -4.2467712 & AVENIDA ESTACION FERROCARRIL. S/N                                                         & 28294 & Robledo de Chavela        & Madrid            & España\\\\\n\t 10206 & SANTA MARIA DE LA ALAMEDA-PEGUERINOS & 40.56898 & -4.2691278 & CALLE DOCE DE OCTUBRE. S/N                                                                & 28296 & Santa María de la Alameda & Madrid            & España\\\\\n\t 10207 & LAS NAVAS DEL MARQUES                & 40.58926 & -4.3614434 & AVENIDA ESTACION FERROCARRIL. S/N                                                         &  5230 & Navas del Marqués. Las    & Ávila             & España\\\\\n\t 10208 & NAVALPERAL                           & 40.59095 & -4.4086162 & AVENIDA ESTACION FERROCARRIL. S/N                                                         &  5240 & Navalperal de Pinares     & Ávila             & España\\\\\n\t 10209 & EL PIMPOLLAR                         & 40.56770 & -4.2831457 & CALLE ESTACION FERROCARRIL. S/N                                                           & 28296 & Santa María de la Alameda & Madrid            & España\\\\\n\t 10300 & HERRADON-LA CAÑADA                   & 40.59933 & -4.4950318 & AVENIDA ESTACION FERROCARRIL. S/N                                                         &  5294 & Herradón de Pinares       & Ávila             & España\\\\\n\t 10302 & GUIMORCONDO                          & 40.64901 & -4.6150234 & AVENIDA ESTACION FERROCARRIL. S/N                                                         &  5004 & Tornadizos de Ávila       & Ávila             & España\\\\\n\t ⋮ & ⋮ & ⋮ & ⋮ & ⋮ & ⋮ & ⋮ & ⋮ & ⋮\\\\\n\t 81207 & LUCENI                      & 41.82626 & -1.243858 & AVENIDA FRANCISCO DE GOYA. 56      & 50640 & Luceni              & Zaragoza    & España \\\\\n\t 81208 & PEDROLA                     & 41.80501 & -1.201969 & CALLE EDIFICIO DISEMINADOS. 18     & 50690 & Pedrola             & Zaragoza    & España \\\\\n\t 81209 & CABAÑAS DE EBRO             & 41.78811 & -1.167749 & CALLE ESTACION FERROCARRIL. S/N    & 50638 & Cabañas de Ebro     & Zaragoza    & España \\\\\n\t 81210 & ALAGON                      & 41.77140 & -1.112466 & CALLE ESTACION DE FERROCARRIL. S/N & 50630 & Alagón              & Zaragoza    & España \\\\\n\t 82100 & SORIA                       & 41.75528 & -2.475496 & CALLE CARRETERA MADRID. S/N        & 42005 & Soria               & Soria       & España \\\\\n\t 84101 & ALMAZAN-VILLA               & 41.48898 & -2.525220 & AVENIDA ESTACION FERROCARRIL. 9    & 42200 & Almazán             & Soria       & España \\\\\n\t 84103 & TARDELCUENDE                & 41.59356 & -2.639337 & AVENIDA ESTACION FERROCARRIL. S/N  & 42294 & Tardelcuende        & Soria       & España \\\\\n\t 84104 & QUINTANA REDONDA            & 41.63966 & -2.609656 & CALLE ESTACION FERROCARRIL. S/N    & 42291 & Quintana Redonda    & Soria       & España \\\\\n\t 87004 & LES AUBRAIS ORLEANS         & 47.92502 &  1.905508 & CANTON DE FLEURY LES AUBRAIS       &    NA & LES AUBRAIS ORLEANS &             & Francia\\\\\n\t 87011 & PARIS AUSTERLITZ            & 48.83927 &  2.368222 & 55 QUAI D?AUSTERLITZ               &    NA & PARIS               &             & Francia\\\\\n\t 87013 & PARIS GARE LYON             & 48.84429 &  2.373670 & PLACE LOUIS ARMAND                 &    NA & PARIS               &             & Francia\\\\\n\t 87078 & BEZIERS                     & 43.33622 &  3.219231 & BOULEVARD DE VERDUN. 14            &    NA & BEZIERS             &             & Francia\\\\\n\t 87079 & TOULOUSE MATABIAU           & 43.61144 &  1.454144 & BOULEVARD PIERRE SEMARD. 64        &    NA & TOULOUSE            &             & Francia\\\\\n\t 87081 & POITIERS                    & 46.58330 &  0.330360 & BOULEVARD GRAND CERF               &    NA & POITIERS            &             & Francia\\\\\n\t 87088 & NARBONNE                    & 43.19103 &  3.005967 & BOULEVARD FREDERIC MISTRAL         &    NA & NARBONNE            &             & Francia\\\\\n\t 87089 & MARSEILLE ST CHARLES        & 43.30349 &  5.382236 & SQUARE NARVIK                      &    NA & MARSELLE CEDEX      &             & Francia\\\\\n\t 87173 & MONTPELLIER ST ROCH         & 43.60583 &  3.882376 & PLACE AUGUSTE GIBERT BP            &    NA & MONTPELLIER         &             & Francia\\\\\n\t 87175 & SETE                        & 43.41281 &  3.696410 & 78 PLACE CAMBON                    &    NA & SETE                &             & Francia\\\\\n\t 87176 & CARCASSONNE                 & 43.21814 &  2.351832 & AVENUE DU MARECHAL JOFFRE. 1       &    NA & CARCASSONNE         &             & Francia\\\\\n\t 87287 & AGDE                        & 43.31742 &  3.466125 & RUE DE LA DIGUE                    &    NA & AGDE                &             & Francia\\\\\n\t 87302 & NIMES                       & 43.83229 &  4.365845 & BOULEVART SERGENT TRIAIRE          &    NA & NIMES               &             & Francia\\\\\n\t 87303 & LYON PART DIEU              & 45.76028 &  4.859801 & PLACE CHALES BERAUDIER             &    NA & LYON                &             & Francia\\\\\n\t 87374 & PERPIGNAN                   & 42.69607 &  2.879632 & PLACE SALVADOR DALI                &    NA & PERPIGNAN           &             & Francia\\\\\n\t 87546 & BLOIS                       & 47.58154 &  1.321077 & PLACE DE LA GARE. 70               &    NA & BLOIS               &             & Francia\\\\\n\t 87810 & VALENCE TGV RHONE ALPES SUD & 44.99155 &  4.978703 & VALENCE CEDEX. 9                   &    NA & RHONE - ALPES       &             & Francia\\\\\n\t 87814 & AVIGNON TGV                 & 43.92194 &  4.785813 & PLACE DE L' EUROPE                 &    NA & AVIGNON             &             & Francia\\\\\n\t 87912 & AIX EN PROVENCE TGV         & 43.45527 &  5.317230 & ROUTE DEPARTAMENTALE. 9            &    NA & AIX EN PROVENCE     &             & Francia\\\\\n\t 92102 & TOLEDO                      & 39.86236 & -4.011205 & CALLE PASEO DE LA ROSA. S/N        & 45006 & Toledo              & Toledo      & España \\\\\n\t 94002 & DAIMIEL                     & 39.06152 & -3.604049 & CALLE ESTACION FERROCARRIL. S/N    & 13250 & Daimiel             & Ciudad Real & España \\\\\n\t 94004 & ALMAGRO                     & 38.89544 & -3.709777 & PASEO ESTACION FERROCARRIL. S/N    & 13270 & Almagro             & Ciudad Real & España \\\\\n\\end{tabular}\n",
            "text/plain": [
              "    CODIGO DESCRIPCION                          LATITUD  LONGITUD  \n",
              "1    1003  ARAHAL                               37.26814 -5.5484006\n",
              "2    1005  MARCHENA                             37.33425 -5.4254295\n",
              "3    1007  OSUNA                                37.23378 -5.1148398\n",
              "4    1009  PEDRERA                              37.22235 -4.8936960\n",
              "5    2002  PUENTE GENIL-HERRERA                 37.35971 -4.8221946\n",
              "6    2003  ANTEQUERA-SANTA ANA                  37.07028 -4.7190304\n",
              "7    3001  MENGIBAR-ARTICHUELA                  37.97784 -3.8019294\n",
              "8    3100  JAEN                                 37.78005 -3.7908847\n",
              "9    3208  CUENCA FERNANDO ZOBEL                40.03528 -2.1441378\n",
              "10   3213  REQUENA-UTIEL                        39.52173 -1.1346669\n",
              "11   3216  VALENCIA JOAQUIN SOROLLA             39.46000 -0.3813222\n",
              "12   3309  VILLENA ALTA VELOCIDAD               38.58461 -0.8734737\n",
              "13   4007  GUADALAJARA-YEBES                    40.58795 -3.1249541\n",
              "14   4104  CAMP DE TARRAGONA                    41.19218  1.2738780\n",
              "15   4307  FIGUERES-VILAFANT                    42.25757  2.9451300\n",
              "16   5000  GRANADA                              37.18404 -3.6090357\n",
              "17   5013  LOJA-SAN FRANCISCO                   37.17492 -4.1495280\n",
              "18   5019  ANTEQUERA                            37.02818 -4.5609649\n",
              "19   8004  SEGOVIA-GUIOMAR                      40.91019 -4.0948827\n",
              "20   8223  VIGO URZAIZ                          42.23448 -8.7130987\n",
              "21   8224  REDONDELA-AV                         42.28453 -8.6037130\n",
              "22   8240  MEDINA DEL CAMPO A.V.                41.29140 -4.9227000\n",
              "23  10204  ZARZALEJO                            40.53882 -4.1580731\n",
              "24  10205  ROBLEDO DE CHAVELA                   40.52075 -4.2467712\n",
              "25  10206  SANTA MARIA DE LA ALAMEDA-PEGUERINOS 40.56898 -4.2691278\n",
              "26  10207  LAS NAVAS DEL MARQUES                40.58926 -4.3614434\n",
              "27  10208  NAVALPERAL                           40.59095 -4.4086162\n",
              "28  10209  EL PIMPOLLAR                         40.56770 -4.2831457\n",
              "29  10300  HERRADON-LA CAÑADA                   40.59933 -4.4950318\n",
              "30  10302  GUIMORCONDO                          40.64901 -4.6150234\n",
              "⋮   ⋮      ⋮                                    ⋮        ⋮         \n",
              "591 81207  LUCENI                               41.82626 -1.243858 \n",
              "592 81208  PEDROLA                              41.80501 -1.201969 \n",
              "593 81209  CABAÑAS DE EBRO                      41.78811 -1.167749 \n",
              "594 81210  ALAGON                               41.77140 -1.112466 \n",
              "595 82100  SORIA                                41.75528 -2.475496 \n",
              "596 84101  ALMAZAN-VILLA                        41.48898 -2.525220 \n",
              "597 84103  TARDELCUENDE                         41.59356 -2.639337 \n",
              "598 84104  QUINTANA REDONDA                     41.63966 -2.609656 \n",
              "599 87004  LES AUBRAIS ORLEANS                  47.92502  1.905508 \n",
              "600 87011  PARIS AUSTERLITZ                     48.83927  2.368222 \n",
              "601 87013  PARIS GARE LYON                      48.84429  2.373670 \n",
              "602 87078  BEZIERS                              43.33622  3.219231 \n",
              "603 87079  TOULOUSE MATABIAU                    43.61144  1.454144 \n",
              "604 87081  POITIERS                             46.58330  0.330360 \n",
              "605 87088  NARBONNE                             43.19103  3.005967 \n",
              "606 87089  MARSEILLE ST CHARLES                 43.30349  5.382236 \n",
              "607 87173  MONTPELLIER ST ROCH                  43.60583  3.882376 \n",
              "608 87175  SETE                                 43.41281  3.696410 \n",
              "609 87176  CARCASSONNE                          43.21814  2.351832 \n",
              "610 87287  AGDE                                 43.31742  3.466125 \n",
              "611 87302  NIMES                                43.83229  4.365845 \n",
              "612 87303  LYON PART DIEU                       45.76028  4.859801 \n",
              "613 87374  PERPIGNAN                            42.69607  2.879632 \n",
              "614 87546  BLOIS                                47.58154  1.321077 \n",
              "615 87810  VALENCE TGV RHONE ALPES SUD          44.99155  4.978703 \n",
              "616 87814  AVIGNON TGV                          43.92194  4.785813 \n",
              "617 87912  AIX EN PROVENCE TGV                  43.45527  5.317230 \n",
              "618 92102  TOLEDO                               39.86236 -4.011205 \n",
              "619 94002  DAIMIEL                              39.06152 -3.604049 \n",
              "620 94004  ALMAGRO                              38.89544 -3.709777 \n",
              "    DIRECCION                                                                                \n",
              "1   CALLE VIRGEN DE LOS DOLORES. S/N                                                         \n",
              "2   AVENIDA MAESTRO SANTOS RUANO. 8                                                          \n",
              "3   AVENIDA ESTACION FERROCARRIL. S/N                                                        \n",
              "4   CALLE MANUEL ARANDA. 3                                                                   \n",
              "5   CARRETERA A-318 - KM. 9 - ENTRE LOS PUEBLOS DE PUENTE GENIL (CËRDOBA) Y HERRERA (SEVILLA)\n",
              "6   CARRETERA MA-5406 - ESTACION FERROCARRIL. S/N                                            \n",
              "7   CALLE CAMINO ESTACION FERROCARRIL. S/N                                                   \n",
              "8   PLAZA DE JAEN POR LA PAZ. 1                                                              \n",
              "9   AVENIDA CERRO DE LA ESTRELLA. S/N - N-320 - CIRCUNVALACION DE CUENCA                     \n",
              "10  AUTOVIA A3 - SALIDA 285                                                                  \n",
              "11  CALLE SAN VICENTE MARTIR. 171                                                            \n",
              "12  PARTIDA DE SAN JUAN. 182                                                                 \n",
              "13  CARRETERA N-320 SACEDON-CUENCA. KM 268                                                   \n",
              "14  CALLE MAS L HEREUET. S/N                                                                 \n",
              "15  AVINGUDA PUIG GRAU. S/N                                                                  \n",
              "16  AVENIDA DE LOS ANDALUCES. S/N                                                            \n",
              "17  PLAZA ESTACION FERROCARRIL. 56                                                           \n",
              "18  BARRIADA ESTACION. S/N                                                                   \n",
              "19  PASEO CAMPOS DE CASTILLA. S/N                                                            \n",
              "20  PLAZA ESTACION FERROCARRIL. S/N                                                          \n",
              "21  ESTRADA DE PAZOS. 10                                                                     \n",
              "22  CARRETERA VP-8904 DE LAS SALINAS. KM 1.500                                               \n",
              "23  CALLE DEL FERROCARRIL. S/N                                                               \n",
              "24  AVENIDA ESTACION FERROCARRIL. S/N                                                        \n",
              "25  CALLE DOCE DE OCTUBRE. S/N                                                               \n",
              "26  AVENIDA ESTACION FERROCARRIL. S/N                                                        \n",
              "27  AVENIDA ESTACION FERROCARRIL. S/N                                                        \n",
              "28  CALLE ESTACION FERROCARRIL. S/N                                                          \n",
              "29  AVENIDA ESTACION FERROCARRIL. S/N                                                        \n",
              "30  AVENIDA ESTACION FERROCARRIL. S/N                                                        \n",
              "⋮   ⋮                                                                                        \n",
              "591 AVENIDA FRANCISCO DE GOYA. 56                                                            \n",
              "592 CALLE EDIFICIO DISEMINADOS. 18                                                           \n",
              "593 CALLE ESTACION FERROCARRIL. S/N                                                          \n",
              "594 CALLE ESTACION DE FERROCARRIL. S/N                                                       \n",
              "595 CALLE CARRETERA MADRID. S/N                                                              \n",
              "596 AVENIDA ESTACION FERROCARRIL. 9                                                          \n",
              "597 AVENIDA ESTACION FERROCARRIL. S/N                                                        \n",
              "598 CALLE ESTACION FERROCARRIL. S/N                                                          \n",
              "599 CANTON DE FLEURY LES AUBRAIS                                                             \n",
              "600 55 QUAI D?AUSTERLITZ                                                                     \n",
              "601 PLACE LOUIS ARMAND                                                                       \n",
              "602 BOULEVARD DE VERDUN. 14                                                                  \n",
              "603 BOULEVARD PIERRE SEMARD. 64                                                              \n",
              "604 BOULEVARD GRAND CERF                                                                     \n",
              "605 BOULEVARD FREDERIC MISTRAL                                                               \n",
              "606 SQUARE NARVIK                                                                            \n",
              "607 PLACE AUGUSTE GIBERT BP                                                                  \n",
              "608 78 PLACE CAMBON                                                                          \n",
              "609 AVENUE DU MARECHAL JOFFRE. 1                                                             \n",
              "610 RUE DE LA DIGUE                                                                          \n",
              "611 BOULEVART SERGENT TRIAIRE                                                                \n",
              "612 PLACE CHALES BERAUDIER                                                                   \n",
              "613 PLACE SALVADOR DALI                                                                      \n",
              "614 PLACE DE LA GARE. 70                                                                     \n",
              "615 VALENCE CEDEX. 9                                                                         \n",
              "616 PLACE DE L' EUROPE                                                                       \n",
              "617 ROUTE DEPARTAMENTALE. 9                                                                  \n",
              "618 CALLE PASEO DE LA ROSA. S/N                                                              \n",
              "619 CALLE ESTACION FERROCARRIL. S/N                                                          \n",
              "620 PASEO ESTACION FERROCARRIL. S/N                                                          \n",
              "    C.P.  POBLACION                 PROVINCIA         PAIS   \n",
              "1   41600 Arahal                    Sevilla           España \n",
              "2   41620 Marchena                  Sevilla           España \n",
              "3   41640 Osuna                     Sevilla           España \n",
              "4   41566 Pedrera                   Sevilla           España \n",
              "5   14500 Puente Genil              Córdoba           España \n",
              "6   29540 Antequera                 Málaga            España \n",
              "7   23620 Mengíbar                  Jaén              España \n",
              "8   23007 Jaén                      Jaén              España \n",
              "9   16004 Cuenca                    Cuenca            España \n",
              "10  46340 Requena                   Valencia/Valéncia España \n",
              "11  46007 Valencia                  Valencia/Valéncia España \n",
              "12   3400 Villena                   Alicante/Alacant  España \n",
              "13  19000 Guadalajara               Guadalajara       España \n",
              "14  43765 Tarragona                 Tarragona         España \n",
              "15  17740 Figueres                  Girona            España \n",
              "16  18014 Granada                   Granada           España \n",
              "17  18300 Loja                      Granada           España \n",
              "18  29200 Antequera                 Málaga            España \n",
              "19  40006 Segovia                   Segovia           España \n",
              "20  36201 Vigo                      Pontevedra        España \n",
              "21  36818 Redondela                 Pontevedra        España \n",
              "22  47400 Medina del Campo          Valladolid        España \n",
              "23  28293 Zarzalejo                 Madrid            España \n",
              "24  28294 Robledo de Chavela        Madrid            España \n",
              "25  28296 Santa María de la Alameda Madrid            España \n",
              "26   5230 Navas del Marqués. Las    Ávila             España \n",
              "27   5240 Navalperal de Pinares     Ávila             España \n",
              "28  28296 Santa María de la Alameda Madrid            España \n",
              "29   5294 Herradón de Pinares       Ávila             España \n",
              "30   5004 Tornadizos de Ávila       Ávila             España \n",
              "⋮   ⋮     ⋮                         ⋮                 ⋮      \n",
              "591 50640 Luceni                    Zaragoza          España \n",
              "592 50690 Pedrola                   Zaragoza          España \n",
              "593 50638 Cabañas de Ebro           Zaragoza          España \n",
              "594 50630 Alagón                    Zaragoza          España \n",
              "595 42005 Soria                     Soria             España \n",
              "596 42200 Almazán                   Soria             España \n",
              "597 42294 Tardelcuende              Soria             España \n",
              "598 42291 Quintana Redonda          Soria             España \n",
              "599    NA LES AUBRAIS ORLEANS                         Francia\n",
              "600    NA PARIS                                       Francia\n",
              "601    NA PARIS                                       Francia\n",
              "602    NA BEZIERS                                     Francia\n",
              "603    NA TOULOUSE                                    Francia\n",
              "604    NA POITIERS                                    Francia\n",
              "605    NA NARBONNE                                    Francia\n",
              "606    NA MARSELLE CEDEX                              Francia\n",
              "607    NA MONTPELLIER                                 Francia\n",
              "608    NA SETE                                        Francia\n",
              "609    NA CARCASSONNE                                 Francia\n",
              "610    NA AGDE                                        Francia\n",
              "611    NA NIMES                                       Francia\n",
              "612    NA LYON                                        Francia\n",
              "613    NA PERPIGNAN                                   Francia\n",
              "614    NA BLOIS                                       Francia\n",
              "615    NA RHONE - ALPES                               Francia\n",
              "616    NA AVIGNON                                     Francia\n",
              "617    NA AIX EN PROVENCE                             Francia\n",
              "618 45006 Toledo                    Toledo            España \n",
              "619 13250 Daimiel                   Ciudad Real       España \n",
              "620 13270 Almagro                   Ciudad Real       España "
            ]
          },
          "metadata": {}
        }
      ]
    },
    {
      "cell_type": "markdown",
      "source": [
        "# 3. Outliers\n",
        "---\n",
        "Un *outlier* es un valor atípico o extremo en un conjunto de datos. Los *outliers* pueden ser resultado de errores de medición o de valores reales que se encuentran fuera de la distribución normal de los datos. Los *outliers* pueden afectar de manera negativa al análisis de datos, ya que pueden distorsionar la media y otras medidas de tendencia central. Por lo tanto, es importante detectar y tratar los *outliers* adecuadamente antes de realizar cualquier análisis.\n",
        "\n",
        "Existen diferentes métodos para detectar *outliers*, ya que no existe una forma únivoca y objetiva de determinar cuál es el valor esperable para un conjunto de datos.\n",
        "\n",
        "\n"
      ],
      "metadata": {
        "id": "gXds4AKDlnEP"
      }
    },
    {
      "cell_type": "code",
      "source": [
        "# importamos DataFrame\n",
        "df_jamesbond = fread(\"https://data-wizards.s3.amazonaws.com/datasets/jamesbond.csv\")\n",
        "glimpse(df_jamesbond)"
      ],
      "metadata": {
        "id": "8l1VZxDPQfr-",
        "colab": {
          "base_uri": "https://localhost:8080/"
        },
        "outputId": "e558b121-046f-46a8-bd8e-88377019c38b"
      },
      "execution_count": null,
      "outputs": [
        {
          "output_type": "stream",
          "name": "stdout",
          "text": [
            "Rows: 26\n",
            "Columns: 7\n",
            "$ Film                \u001b[3m\u001b[90m<chr>\u001b[39m\u001b[23m \"Dr. No\", \"From Russia with Love\", \"Goldfinger\", \"…\n",
            "$ Year                \u001b[3m\u001b[90m<int>\u001b[39m\u001b[23m 1962, 1963, 1964, 1965, 1967, 1967, 1969, 1971, 19…\n",
            "$ Actor               \u001b[3m\u001b[90m<chr>\u001b[39m\u001b[23m \"Sean Connery\", \"Sean Connery\", \"Sean Connery\", \"S…\n",
            "$ Director            \u001b[3m\u001b[90m<chr>\u001b[39m\u001b[23m \"Terence Young\", \"Terence Young\", \"Guy Hamilton\", …\n",
            "$ `Box Office`        \u001b[3m\u001b[90m<dbl>\u001b[39m\u001b[23m 448.8, 543.8, 820.4, 848.1, 315.0, 514.2, 291.5, 4…\n",
            "$ Budget              \u001b[3m\u001b[90m<dbl>\u001b[39m\u001b[23m 7.0, 12.6, 18.6, 41.9, 85.0, 59.9, 37.3, 34.7, 30.…\n",
            "$ `Bond Actor Salary` \u001b[3m\u001b[90m<dbl>\u001b[39m\u001b[23m 0.6, 1.6, 3.2, 4.7, NA, 4.4, 0.6, 5.8, NA, NA, NA,…\n"
          ]
        }
      ]
    },
    {
      "cell_type": "markdown",
      "source": [
        "### Método de distribución normal (normalizando a z)"
      ],
      "metadata": {
        "id": "iLxb8HTOFRO5"
      }
    },
    {
      "cell_type": "markdown",
      "source": [
        "El método de distribución normal (z) es una técnica estadística utilizada para determinar la probabilidad de que un valor dado se encuentre dentro de un rango determinado en una distribución normal.\n",
        "\n",
        "Para utilizar el método de distribución normal (z), primero debemos conocer la media y la desviación estándar de la distribución. Luego, podemos utilizar la siguiente fórmula para calcular la probabilidad de que un valor dado se encuentre dentro de un rango determinado:\n",
        "\n",
        "```\n",
        "z = (valor - media) / desviación estándar\n",
        "```\n",
        "\n",
        "Por convención, se suele considerar que cualquier valor de z mayor a 3 (o menor a -3) es un outlier en una distribución normal. Esto se debe a que, en una distribución normal, la probabilidad de que un valor se encuentre a más de 3 desviaciones estándar de la media es muy baja (aprox. 0,3%). Por lo tanto, los valores que se encuentran a más de 3 desviaciones estándar de la media se consideran atípicos o extremos.\n",
        "\n",
        "Sin embargo, es importante tener en cuenta que esta convención no es una regla absoluta y puede variar en función del contexto o el problema que estemos tratando.\n"
      ],
      "metadata": {
        "id": "HEruK11DFwTT"
      }
    },
    {
      "cell_type": "code",
      "source": [
        "# calculamos la media y la desviación estándar\n",
        "mean <- mean(df_jamesbond$`Box Office`)\n",
        "sd <- sd(df_jamesbond$`Box Office`)"
      ],
      "metadata": {
        "id": "q42yXbRiGuxq"
      },
      "execution_count": null,
      "outputs": []
    },
    {
      "cell_type": "code",
      "source": [
        "# convertimos campo \"box office\" a z y lo almacenamos en una nueva columna\n",
        "df_jamesbond$z_box_office = (df_jamesbond$`Box Office` - mean) / sd"
      ],
      "metadata": {
        "id": "JAaA1w7hQfuk"
      },
      "execution_count": null,
      "outputs": []
    },
    {
      "cell_type": "code",
      "source": [
        "# visualizamos\n",
        "df_jamesbond[1:10,c('Film','Box Office','z_box_office')]"
      ],
      "metadata": {
        "id": "MwXQY3-ZQfxD",
        "colab": {
          "base_uri": "https://localhost:8080/",
          "height": 412
        },
        "outputId": "6bc3b3c1-2e41-49c4-b1c5-6e43b50ed691"
      },
      "execution_count": null,
      "outputs": [
        {
          "output_type": "display_data",
          "data": {
            "text/html": [
              "<table class=\"dataframe\">\n",
              "<caption>A data.table: 10 × 3</caption>\n",
              "<thead>\n",
              "\t<tr><th scope=col>Film</th><th scope=col>Box Office</th><th scope=col>z_box_office</th></tr>\n",
              "\t<tr><th scope=col>&lt;chr&gt;</th><th scope=col>&lt;dbl&gt;</th><th scope=col>&lt;dbl&gt;</th></tr>\n",
              "</thead>\n",
              "<tbody>\n",
              "\t<tr><td>Dr. No                         </td><td>448.8</td><td>-0.2422284</td></tr>\n",
              "\t<tr><td>From Russia with Love          </td><td>543.8</td><td> 0.2952832</td></tr>\n",
              "\t<tr><td>Goldfinger                     </td><td>820.4</td><td> 1.8602904</td></tr>\n",
              "\t<tr><td>Thunderball                    </td><td>848.1</td><td> 2.0170174</td></tr>\n",
              "\t<tr><td>Casino Royale                  </td><td>315.0</td><td>-0.9992709</td></tr>\n",
              "\t<tr><td>You Only Live Twice            </td><td>514.2</td><td> 0.1278059</td></tr>\n",
              "\t<tr><td>On Her Majesty's Secret Service</td><td>291.5</td><td>-1.1322343</td></tr>\n",
              "\t<tr><td>Diamonds Are Forever           </td><td>442.5</td><td>-0.2778739</td></tr>\n",
              "\t<tr><td>Live and Let Die               </td><td>460.3</td><td>-0.1771612</td></tr>\n",
              "\t<tr><td>The Man with the Golden Gun    </td><td>334.0</td><td>-0.8917686</td></tr>\n",
              "</tbody>\n",
              "</table>\n"
            ],
            "text/markdown": "\nA data.table: 10 × 3\n\n| Film &lt;chr&gt; | Box Office &lt;dbl&gt; | z_box_office &lt;dbl&gt; |\n|---|---|---|\n| Dr. No                          | 448.8 | -0.2422284 |\n| From Russia with Love           | 543.8 |  0.2952832 |\n| Goldfinger                      | 820.4 |  1.8602904 |\n| Thunderball                     | 848.1 |  2.0170174 |\n| Casino Royale                   | 315.0 | -0.9992709 |\n| You Only Live Twice             | 514.2 |  0.1278059 |\n| On Her Majesty's Secret Service | 291.5 | -1.1322343 |\n| Diamonds Are Forever            | 442.5 | -0.2778739 |\n| Live and Let Die                | 460.3 | -0.1771612 |\n| The Man with the Golden Gun     | 334.0 | -0.8917686 |\n\n",
            "text/latex": "A data.table: 10 × 3\n\\begin{tabular}{lll}\n Film & Box Office & z\\_box\\_office\\\\\n <chr> & <dbl> & <dbl>\\\\\n\\hline\n\t Dr. No                          & 448.8 & -0.2422284\\\\\n\t From Russia with Love           & 543.8 &  0.2952832\\\\\n\t Goldfinger                      & 820.4 &  1.8602904\\\\\n\t Thunderball                     & 848.1 &  2.0170174\\\\\n\t Casino Royale                   & 315.0 & -0.9992709\\\\\n\t You Only Live Twice             & 514.2 &  0.1278059\\\\\n\t On Her Majesty's Secret Service & 291.5 & -1.1322343\\\\\n\t Diamonds Are Forever            & 442.5 & -0.2778739\\\\\n\t Live and Let Die                & 460.3 & -0.1771612\\\\\n\t The Man with the Golden Gun     & 334.0 & -0.8917686\\\\\n\\end{tabular}\n",
            "text/plain": [
              "   Film                            Box Office z_box_office\n",
              "1  Dr. No                          448.8      -0.2422284  \n",
              "2  From Russia with Love           543.8       0.2952832  \n",
              "3  Goldfinger                      820.4       1.8602904  \n",
              "4  Thunderball                     848.1       2.0170174  \n",
              "5  Casino Royale                   315.0      -0.9992709  \n",
              "6  You Only Live Twice             514.2       0.1278059  \n",
              "7  On Her Majesty's Secret Service 291.5      -1.1322343  \n",
              "8  Diamonds Are Forever            442.5      -0.2778739  \n",
              "9  Live and Let Die                460.3      -0.1771612  \n",
              "10 The Man with the Golden Gun     334.0      -0.8917686  "
            ]
          },
          "metadata": {}
        }
      ]
    },
    {
      "cell_type": "code",
      "source": [
        "# ¿existe algún valor outlier a z = 3?\n",
        "df_jamesbond %>% filter(\n",
        "  abs(z_box_office) > 3 # la función abs() convierte a valor absoluto antes de testear condición\n",
        ")\n",
        "# nota: no tenemos ninguna observación que podría ser considerada outlier utilizando la convención (z=3)"
      ],
      "metadata": {
        "colab": {
          "base_uri": "https://localhost:8080/",
          "height": 98
        },
        "id": "c8O2irUJH_g6",
        "outputId": "8f8b6990-ff1e-4a4b-a885-be881fce93e5"
      },
      "execution_count": null,
      "outputs": [
        {
          "output_type": "display_data",
          "data": {
            "text/html": [
              "<table class=\"dataframe\">\n",
              "<caption>A data.table: 0 × 8</caption>\n",
              "<thead>\n",
              "\t<tr><th scope=col>Film</th><th scope=col>Year</th><th scope=col>Actor</th><th scope=col>Director</th><th scope=col>Box Office</th><th scope=col>Budget</th><th scope=col>Bond Actor Salary</th><th scope=col>z_box_office</th></tr>\n",
              "\t<tr><th scope=col>&lt;chr&gt;</th><th scope=col>&lt;int&gt;</th><th scope=col>&lt;chr&gt;</th><th scope=col>&lt;chr&gt;</th><th scope=col>&lt;dbl&gt;</th><th scope=col>&lt;dbl&gt;</th><th scope=col>&lt;dbl&gt;</th><th scope=col>&lt;dbl&gt;</th></tr>\n",
              "</thead>\n",
              "<tbody>\n",
              "</tbody>\n",
              "</table>\n"
            ],
            "text/markdown": "\nA data.table: 0 × 8\n\n| Film &lt;chr&gt; | Year &lt;int&gt; | Actor &lt;chr&gt; | Director &lt;chr&gt; | Box Office &lt;dbl&gt; | Budget &lt;dbl&gt; | Bond Actor Salary &lt;dbl&gt; | z_box_office &lt;dbl&gt; |\n|---|---|---|---|---|---|---|---|\n\n",
            "text/latex": "A data.table: 0 × 8\n\\begin{tabular}{llllllll}\n Film & Year & Actor & Director & Box Office & Budget & Bond Actor Salary & z\\_box\\_office\\\\\n <chr> & <int> & <chr> & <chr> & <dbl> & <dbl> & <dbl> & <dbl>\\\\\n\\hline\n\\end{tabular}\n",
            "text/plain": [
              "     Film Year Actor Director Box Office Budget Bond Actor Salary z_box_office"
            ]
          },
          "metadata": {}
        }
      ]
    },
    {
      "cell_type": "code",
      "source": [
        "# relajamos el límite a 2,5 desviaciones típicas\n",
        "df_jamesbond %>% filter(\n",
        "  abs(z_box_office) > 2.5\n",
        ")\n",
        "# nota: podemos encontrar una observación que sería considerada outlier"
      ],
      "metadata": {
        "colab": {
          "base_uri": "https://localhost:8080/",
          "height": 129
        },
        "id": "81tpi7ttHScy",
        "outputId": "3afeb3b7-9fc1-4a3c-d798-69b7ca3e929a"
      },
      "execution_count": null,
      "outputs": [
        {
          "output_type": "display_data",
          "data": {
            "text/html": [
              "<table class=\"dataframe\">\n",
              "<caption>A data.table: 1 × 8</caption>\n",
              "<thead>\n",
              "\t<tr><th scope=col>Film</th><th scope=col>Year</th><th scope=col>Actor</th><th scope=col>Director</th><th scope=col>Box Office</th><th scope=col>Budget</th><th scope=col>Bond Actor Salary</th><th scope=col>z_box_office</th></tr>\n",
              "\t<tr><th scope=col>&lt;chr&gt;</th><th scope=col>&lt;int&gt;</th><th scope=col>&lt;chr&gt;</th><th scope=col>&lt;chr&gt;</th><th scope=col>&lt;dbl&gt;</th><th scope=col>&lt;dbl&gt;</th><th scope=col>&lt;dbl&gt;</th><th scope=col>&lt;dbl&gt;</th></tr>\n",
              "</thead>\n",
              "<tbody>\n",
              "\t<tr><td>Skyfall</td><td>2012</td><td>Daniel Craig</td><td>Sam Mendes</td><td>943.5</td><td>170.2</td><td>14.5</td><td>2.556792</td></tr>\n",
              "</tbody>\n",
              "</table>\n"
            ],
            "text/markdown": "\nA data.table: 1 × 8\n\n| Film &lt;chr&gt; | Year &lt;int&gt; | Actor &lt;chr&gt; | Director &lt;chr&gt; | Box Office &lt;dbl&gt; | Budget &lt;dbl&gt; | Bond Actor Salary &lt;dbl&gt; | z_box_office &lt;dbl&gt; |\n|---|---|---|---|---|---|---|---|\n| Skyfall | 2012 | Daniel Craig | Sam Mendes | 943.5 | 170.2 | 14.5 | 2.556792 |\n\n",
            "text/latex": "A data.table: 1 × 8\n\\begin{tabular}{llllllll}\n Film & Year & Actor & Director & Box Office & Budget & Bond Actor Salary & z\\_box\\_office\\\\\n <chr> & <int> & <chr> & <chr> & <dbl> & <dbl> & <dbl> & <dbl>\\\\\n\\hline\n\t Skyfall & 2012 & Daniel Craig & Sam Mendes & 943.5 & 170.2 & 14.5 & 2.556792\\\\\n\\end{tabular}\n",
            "text/plain": [
              "  Film    Year Actor        Director   Box Office Budget Bond Actor Salary\n",
              "1 Skyfall 2012 Daniel Craig Sam Mendes 943.5      170.2  14.5             \n",
              "  z_box_office\n",
              "1 2.556792    "
            ]
          },
          "metadata": {}
        }
      ]
    },
    {
      "cell_type": "markdown",
      "source": [
        "### Método del rango intercuantílico\n",
        "\n",
        "El método del rango intercuartilico es una técnica útil y robusta para detectar outliers en un conjunto de datos. A diferencia del método de distribución normal, el método del rango intercuartilico no asume ninguna distribución específica para el conjunto de datos. Esto hace que este método sea menos sensible a la presencia de valores extremos y más robusto ante la presencia de datos atípicos que el método de la distribución normal.\n",
        "\n",
        "Para utilizar el método del rango intercuartilico para detectar outliers, podemos seguir los siguientes pasos:\n",
        "\n",
        "1. Calcular el rango intercuartilico (IQR) de los datos utilizando la función \"quantile()\" de R.\n",
        "2. Calcular los límites inferior y superior del rango intercuartilico utilizando la siguiente fórmula:\n",
        "* Límite inferior = percentil 25 - 1.5 * IQR\n",
        "* Límite superior = percentil 75 + 1.5 * IQR\n",
        "3. Los valores que se encuentren por debajo del límite inferior o por encima del límite superior se consideran outliers.\n",
        "\n",
        "El método del rango intercuartilico se puede visualizar de forma gráfica en un boxplot. Los outliers en un boxplot figuran como puntos por encima o debajo de los valores máximos. "
      ],
      "metadata": {
        "id": "d9olecOdFKvx"
      }
    },
    {
      "cell_type": "code",
      "source": [
        "# creamos un boxplot\n",
        "boxplot(df_jamesbond$`Box Office`)"
      ],
      "metadata": {
        "id": "sGquAuqUQfy_",
        "colab": {
          "base_uri": "https://localhost:8080/",
          "height": 437
        },
        "outputId": "25fe5791-fea4-400e-d96c-b36be66b0ecb"
      },
      "execution_count": null,
      "outputs": [
        {
          "output_type": "display_data",
          "data": {
            "text/plain": [
              "plot without title"
            ],
            "image/png": "[encoded data removed]"
          },
          "metadata": {
            "image/png": {
              "width": 420,
              "height": 420
            }
          }
        }
      ]
    },
    {
      "cell_type": "code",
      "source": [
        "# la funciín quantile() nos permite obtener el valor específico para una distribución\n",
        "quantile(df_jamesbond$`Box Office`, 0.5)"
      ],
      "metadata": {
        "colab": {
          "base_uri": "https://localhost:8080/",
          "height": 34
        },
        "id": "JSkL_pzAMvYG",
        "outputId": "e364cca8-e97f-4327-8d62-64b83cf6a627"
      },
      "execution_count": null,
      "outputs": [
        {
          "output_type": "display_data",
          "data": {
            "text/html": [
              "<strong>50%:</strong> 461.75"
            ],
            "text/markdown": "**50%:** 461.75",
            "text/latex": "\\textbf{50\\textbackslash{}\\%:} 461.75",
            "text/plain": [
              "   50% \n",
              "461.75 "
            ]
          },
          "metadata": {}
        }
      ]
    },
    {
      "cell_type": "code",
      "source": [
        "# calculamos el rango intercuartilico (IQR) como la diferencia entre el percentil 75 y el 25\n",
        "IQR <- quantile(df_jamesbond$`Box Office`, 0.75) - quantile(df_jamesbond$`Box Office`, 0.25)"
      ],
      "metadata": {
        "id": "0f5JxS-XK4YX"
      },
      "execution_count": null,
      "outputs": []
    },
    {
      "cell_type": "code",
      "source": [
        "# calculamos los límites inferior y superior\n",
        "lower_limit <- quantile(df_jamesbond$`Box Office`, 0.25) - 1.5 * IQR\n",
        "upper_limit <- quantile(df_jamesbond$`Box Office`, 0.75) + 1.5 * IQR"
      ],
      "metadata": {
        "id": "jKNHbo19Mswa"
      },
      "execution_count": null,
      "outputs": []
    },
    {
      "cell_type": "code",
      "source": [
        "# filtramos observaciones que se encuentren por fuera de estos límites\n",
        "df_jamesbond %>% filter(\n",
        "  `Box Office` < lower_limit | `Box Office` > upper_limit\n",
        ")\n",
        "# nota: hemos identificado las observaciones que se corresponden con puntos al graficar el boxplot"
      ],
      "metadata": {
        "id": "4iSfRVJUQf1G",
        "colab": {
          "base_uri": "https://localhost:8080/",
          "height": 192
        },
        "outputId": "19f94a8a-8a5b-4f8d-9ba3-40e6216d16fe"
      },
      "execution_count": null,
      "outputs": [
        {
          "output_type": "display_data",
          "data": {
            "text/html": [
              "<table class=\"dataframe\">\n",
              "<caption>A data.table: 3 × 8</caption>\n",
              "<thead>\n",
              "\t<tr><th scope=col>Film</th><th scope=col>Year</th><th scope=col>Actor</th><th scope=col>Director</th><th scope=col>Box Office</th><th scope=col>Budget</th><th scope=col>Bond Actor Salary</th><th scope=col>z_box_office</th></tr>\n",
              "\t<tr><th scope=col>&lt;chr&gt;</th><th scope=col>&lt;int&gt;</th><th scope=col>&lt;chr&gt;</th><th scope=col>&lt;chr&gt;</th><th scope=col>&lt;dbl&gt;</th><th scope=col>&lt;dbl&gt;</th><th scope=col>&lt;dbl&gt;</th><th scope=col>&lt;dbl&gt;</th></tr>\n",
              "</thead>\n",
              "<tbody>\n",
              "\t<tr><td>Goldfinger </td><td>1964</td><td>Sean Connery</td><td>Guy Hamilton </td><td>820.4</td><td> 18.6</td><td> 3.2</td><td>1.860290</td></tr>\n",
              "\t<tr><td>Thunderball</td><td>1965</td><td>Sean Connery</td><td>Terence Young</td><td>848.1</td><td> 41.9</td><td> 4.7</td><td>2.017017</td></tr>\n",
              "\t<tr><td>Skyfall    </td><td>2012</td><td>Daniel Craig</td><td>Sam Mendes   </td><td>943.5</td><td>170.2</td><td>14.5</td><td>2.556792</td></tr>\n",
              "</tbody>\n",
              "</table>\n"
            ],
            "text/markdown": "\nA data.table: 3 × 8\n\n| Film &lt;chr&gt; | Year &lt;int&gt; | Actor &lt;chr&gt; | Director &lt;chr&gt; | Box Office &lt;dbl&gt; | Budget &lt;dbl&gt; | Bond Actor Salary &lt;dbl&gt; | z_box_office &lt;dbl&gt; |\n|---|---|---|---|---|---|---|---|\n| Goldfinger  | 1964 | Sean Connery | Guy Hamilton  | 820.4 |  18.6 |  3.2 | 1.860290 |\n| Thunderball | 1965 | Sean Connery | Terence Young | 848.1 |  41.9 |  4.7 | 2.017017 |\n| Skyfall     | 2012 | Daniel Craig | Sam Mendes    | 943.5 | 170.2 | 14.5 | 2.556792 |\n\n",
            "text/latex": "A data.table: 3 × 8\n\\begin{tabular}{llllllll}\n Film & Year & Actor & Director & Box Office & Budget & Bond Actor Salary & z\\_box\\_office\\\\\n <chr> & <int> & <chr> & <chr> & <dbl> & <dbl> & <dbl> & <dbl>\\\\\n\\hline\n\t Goldfinger  & 1964 & Sean Connery & Guy Hamilton  & 820.4 &  18.6 &  3.2 & 1.860290\\\\\n\t Thunderball & 1965 & Sean Connery & Terence Young & 848.1 &  41.9 &  4.7 & 2.017017\\\\\n\t Skyfall     & 2012 & Daniel Craig & Sam Mendes    & 943.5 & 170.2 & 14.5 & 2.556792\\\\\n\\end{tabular}\n",
            "text/plain": [
              "  Film        Year Actor        Director      Box Office Budget\n",
              "1 Goldfinger  1964 Sean Connery Guy Hamilton  820.4       18.6 \n",
              "2 Thunderball 1965 Sean Connery Terence Young 848.1       41.9 \n",
              "3 Skyfall     2012 Daniel Craig Sam Mendes    943.5      170.2 \n",
              "  Bond Actor Salary z_box_office\n",
              "1  3.2              1.860290    \n",
              "2  4.7              2.017017    \n",
              "3 14.5              2.556792    "
            ]
          },
          "metadata": {}
        }
      ]
    },
    {
      "cell_type": "markdown",
      "source": [
        "# 5. Ejercicios\n",
        "---\n",
        "> 👉 Puedes encontrar las soluciones a los ejercicios [aquí](https://nbviewer.org/github/SomosDataWizards/R-Curso-Introductorio-Ejercicios/blob/main/Capitulo_4_Ejercicios.ipynb)"
      ],
      "metadata": {
        "id": "CFj7meeflnIr"
      }
    },
    {
      "cell_type": "markdown",
      "source": [
        "### Ejercicio #1\n",
        "\n",
        "##### EX 1.A Identificar columnas con valores nulos (formalmente declarados) en el dataframe.\n",
        "##### EX 1.B ¿Cuántas películas hay con valores nulos para el campo *director_name*?\n",
        "##### EX 1.C Reemplazar valores nulos en *director_name* por \"unknown\".\n",
        "\n",
        "> Dataset https://data-wizards.s3.amazonaws.com/datasets/movies.csv\n"
      ],
      "metadata": {
        "id": "eu627bx6VTDa"
      }
    },
    {
      "cell_type": "code",
      "source": [
        "# importamos DataFrame\n",
        "df_movies = fread(\"https://data-wizards.s3.amazonaws.com/datasets/movies.csv\")\n",
        "glimpse(df_movies)"
      ],
      "metadata": {
        "colab": {
          "base_uri": "https://localhost:8080/"
        },
        "id": "09zVPdBPVghL",
        "outputId": "f0713825-f956-4151-b6bb-c8b8ca30c939"
      },
      "execution_count": null,
      "outputs": [
        {
          "output_type": "stream",
          "name": "stdout",
          "text": [
            "Rows: 4,916\n",
            "Columns: 28\n",
            "$ color                     \u001b[3m\u001b[90m<chr>\u001b[39m\u001b[23m \"Color\", \"Color\", \"Color\", \"Color\", \"\", \"Col…\n",
            "$ director_name             \u001b[3m\u001b[90m<chr>\u001b[39m\u001b[23m \"James Cameron\", \"Gore Verbinski\", \"Sam Mend…\n",
            "$ num_critic_for_reviews    \u001b[3m\u001b[90m<int>\u001b[39m\u001b[23m 723, 302, 602, 813, NA, 462, 392, 324, 635, …\n",
            "$ duration                  \u001b[3m\u001b[90m<int>\u001b[39m\u001b[23m 178, 169, 148, 164, NA, 132, 156, 100, 141, …\n",
            "$ director_facebook_likes   \u001b[3m\u001b[90m<int>\u001b[39m\u001b[23m 0, 563, 0, 22000, 131, 475, 0, 15, 0, 282, 0…\n",
            "$ actor_3_facebook_likes    \u001b[3m\u001b[90m<int>\u001b[39m\u001b[23m 855, 1000, 161, 23000, NA, 530, 4000, 284, 1…\n",
            "$ actor_2_name              \u001b[3m\u001b[90m<chr>\u001b[39m\u001b[23m \"Joel David Moore\", \"Orlando Bloom\", \"Rory K…\n",
            "$ actor_1_facebook_likes    \u001b[3m\u001b[90m<int>\u001b[39m\u001b[23m 1000, 40000, 11000, 27000, 131, 640, 24000, …\n",
            "$ gross                     \u001b[3m\u001b[90m<dbl>\u001b[39m\u001b[23m 760505847, 309404152, 200074175, 448130642, …\n",
            "$ genres                    \u001b[3m\u001b[90m<chr>\u001b[39m\u001b[23m \"Action|Adventure|Fantasy|Sci-Fi\", \"Action|A…\n",
            "$ actor_1_name              \u001b[3m\u001b[90m<chr>\u001b[39m\u001b[23m \"CCH Pounder\", \"Johnny Depp\", \"Christoph Wal…\n",
            "$ movie_title               \u001b[3m\u001b[90m<chr>\u001b[39m\u001b[23m \"Avatar\", \"Pirates of the Caribbean: At Worl…\n",
            "$ num_voted_users           \u001b[3m\u001b[90m<int>\u001b[39m\u001b[23m 886204, 471220, 275868, 1144337, 8, 212204, …\n",
            "$ cast_total_facebook_likes \u001b[3m\u001b[90m<int>\u001b[39m\u001b[23m 4834, 48350, 11700, 106759, 143, 1873, 46055…\n",
            "$ actor_3_name              \u001b[3m\u001b[90m<chr>\u001b[39m\u001b[23m \"Wes Studi\", \"Jack Davenport\", \"Stephanie Si…\n",
            "$ facenumber_in_poster      \u001b[3m\u001b[90m<int>\u001b[39m\u001b[23m 0, 0, 1, 0, 0, 1, 0, 1, 4, 3, 0, 0, 1, 2, 1,…\n",
            "$ plot_keywords             \u001b[3m\u001b[90m<chr>\u001b[39m\u001b[23m \"avatar|future|marine|native|paraplegic\", \"g…\n",
            "$ movie_imdb_link           \u001b[3m\u001b[90m<chr>\u001b[39m\u001b[23m \"http://www.imdb.com/title/tt0499549/?ref_=f…\n",
            "$ num_user_for_reviews      \u001b[3m\u001b[90m<int>\u001b[39m\u001b[23m 3054, 1238, 994, 2701, NA, 738, 1902, 387, 1…\n",
            "$ language                  \u001b[3m\u001b[90m<chr>\u001b[39m\u001b[23m \"English\", \"English\", \"English\", \"English\", …\n",
            "$ country                   \u001b[3m\u001b[90m<chr>\u001b[39m\u001b[23m \"USA\", \"USA\", \"UK\", \"USA\", \"\", \"USA\", \"USA\",…\n",
            "$ content_rating            \u001b[3m\u001b[90m<chr>\u001b[39m\u001b[23m \"PG-13\", \"PG-13\", \"PG-13\", \"PG-13\", \"\", \"PG-…\n",
            "$ budget                    \u001b[3m\u001b[90m<dbl>\u001b[39m\u001b[23m 237000000, 300000000, 245000000, 250000000, …\n",
            "$ title_year                \u001b[3m\u001b[90m<int>\u001b[39m\u001b[23m 2009, 2007, 2015, 2012, NA, 2012, 2007, 2010…\n",
            "$ actor_2_facebook_likes    \u001b[3m\u001b[90m<int>\u001b[39m\u001b[23m 936, 5000, 393, 23000, 12, 632, 11000, 553, …\n",
            "$ imdb_score                \u001b[3m\u001b[90m<dbl>\u001b[39m\u001b[23m 7.9, 7.1, 6.8, 8.5, 7.1, 6.6, 6.2, 7.8, 7.5,…\n",
            "$ aspect_ratio              \u001b[3m\u001b[90m<dbl>\u001b[39m\u001b[23m 1.78, 2.35, 2.35, 2.35, NA, 2.35, 2.35, 1.85…\n",
            "$ movie_facebook_likes      \u001b[3m\u001b[90m<int>\u001b[39m\u001b[23m 33000, 0, 85000, 164000, 0, 24000, 0, 29000,…\n"
          ]
        }
      ]
    },
    {
      "cell_type": "markdown",
      "source": [
        "### Ejercicio #2\n",
        "\n",
        "Detectar empresas que sean outliers en cantidad de empleados.\n",
        "\n",
        "##### EX 2.A Utilizando distribución normal\n",
        "##### EX 2.B Utilizando el método del rango intercuartílico\n",
        "\n",
        "> Dataset https://data-wizards.s3.amazonaws.com/datasets/fortune1000.csv"
      ],
      "metadata": {
        "id": "TklU9lBzVTFs"
      }
    },
    {
      "cell_type": "code",
      "source": [
        "# importamos DataFrame\n",
        "df_fortune = fread(\"https://data-wizards.s3.amazonaws.com/datasets/fortune1000.csv\")\n",
        "glimpse(df_fortune)"
      ],
      "metadata": {
        "colab": {
          "base_uri": "https://localhost:8080/"
        },
        "id": "zXF9bqlqVg6K",
        "outputId": "acdf5b5b-5d57-49ea-9c3d-c4130e738c88"
      },
      "execution_count": null,
      "outputs": [
        {
          "output_type": "stream",
          "name": "stdout",
          "text": [
            "Rows: 1,000\n",
            "Columns: 8\n",
            "$ Rank      \u001b[3m\u001b[90m<int>\u001b[39m\u001b[23m 1, 2, 3, 4, 5, 6, 7, 8, 9, 10, 11, 12, 13, 14, 15, 16, 17, 1…\n",
            "$ Company   \u001b[3m\u001b[90m<chr>\u001b[39m\u001b[23m \"Walmart\", \"Exxon Mobil\", \"Apple\", \"Berkshire Hathaway\", \"Mc…\n",
            "$ Sector    \u001b[3m\u001b[90m<chr>\u001b[39m\u001b[23m \"Retailing\", \"Energy\", \"Technology\", \"Financials\", \"Health C…\n",
            "$ Industry  \u001b[3m\u001b[90m<chr>\u001b[39m\u001b[23m \"General Merchandisers\", \"Petroleum Refining\", \"Computers, O…\n",
            "$ Location  \u001b[3m\u001b[90m<chr>\u001b[39m\u001b[23m \"Bentonville, AR\", \"Irving, TX\", \"Cupertino, CA\", \"Omaha, NE…\n",
            "$ Revenue   \u001b[3m\u001b[90m<int>\u001b[39m\u001b[23m 482130, 246204, 233715, 210821, 181241, 157107, 153290, 1523…\n",
            "$ Profits   \u001b[3m\u001b[90m<int>\u001b[39m\u001b[23m 14694, 16150, 53394, 24083, 1476, 5813, 5237, 9687, 7373, 13…\n",
            "$ Employees \u001b[3m\u001b[90m<int>\u001b[39m\u001b[23m 2300000, 75600, 110000, 331000, 70400, 200000, 199000, 21500…\n"
          ]
        }
      ]
    }
  ]
}