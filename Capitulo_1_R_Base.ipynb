{
  "nbformat": 4,
  "nbformat_minor": 0,
  "metadata": {
    "colab": {
      "provenance": [],
      "collapsed_sections": [
        "PbKIeucpo5DP",
        "Q2n1HP4YpBGi",
        "2RsEbWB6pTbp",
        "AhSmKQwNGriC",
        "Sy8JvQbi57jp",
        "PdtpHXoXbKtk",
        "lWHsrMlU0HwP",
        "GKAZNd7OqPH4",
        "jDOtaH35vB4A",
        "8Vpvf5pCzoKm",
        "1dMhWitB4y-p"
      ]
    },
    "kernelspec": {
      "name": "ir",
      "display_name": "R"
    }
  },
  "cells": [
    {
      "cell_type": "markdown",
      "source": [
        "# **Introducción a R para Análisis de Datos**\n",
        "## Capítulo 1: R Base\n",
        "---\n",
        "**Autor:** Juan Martin Bellido  \n",
        "\n",
        "**Descripción**  \n",
        "En este capítulo inicial, daremos los primeros pasos con R. Exploraremos operaciones disponibles en el lenguaje de forma nativa, es decir, sin importar ninguna librería externa.\n",
        "\n",
        "**¿Feedback? ¿comentarios?** Por favor compártelo conmigo escribiéndome por [LinkedIn](https://www.linkedin.com/in/jmartinbellido/)  \n"
      ],
      "metadata": {
        "id": "1_h72_j8hO2F"
      }
    },
    {
      "cell_type": "markdown",
      "source": [
        "\n",
        "## INDICE\n",
        "---\n",
        "1. Introducción a objetos en R\n",
        "2. Estructuras de datos\n",
        "3. Operadores\n",
        "4. Básicos de programación\n",
        "5. Ejercicios\n"
      ],
      "metadata": {
        "id": "ucaHWUttij6G"
      }
    },
    {
      "cell_type": "markdown",
      "source": [
        "Convenciones utilizadas en este documento\n",
        "> 👉 *Esto es una nota u observación*\n",
        "\n",
        "> ⚠️ *Esto es una advertencia*"
      ],
      "metadata": {
        "id": "QNqrEgogioWv"
      }
    },
    {
      "cell_type": "markdown",
      "source": [
        "# 1. Introducción a objetos en R\n",
        "---\n",
        "\n"
      ],
      "metadata": {
        "id": "yzvEEgbXivMP"
      }
    },
    {
      "cell_type": "markdown",
      "source": [
        "### Comentar código\n",
        "\n",
        "Los lenguajes de programación suelen contener opciones para *comentar código*. Esto es, que permiten añadir texto al código a modo de anotaciones sin que esto afecte la ejecución del mismo.\n",
        "\n",
        "> 👉 Hablamos de *comentar código* cuando incorporemos notas en una celda de tipo código. En un entorno de tipo Jupyter Notebook, también tenemos la opción de crear celdas de tipo texto. En entornos de tipo IDEs (la alternativa a Jupyter Notebook), esto no es posibole y comentar código es la única forma de añadir anotaciones.  \n",
        "\n",
        "Para comentar código en R, simplemente añadimos un símbolo de # (almohadilla). Cualquier caracter después de # y en la misma línea de código quedará comentado y dejará de tenerse en cuenta en la ejecución de nuestro código.\n",
        "\n",
        "> 👉 Observar cómo el texto cambia automáticamente de color al detectase que se trata de una anotación. Esto es un recurso propio del entorno y orientado a mejorar la legibilidad de nuestro código.\n"
      ],
      "metadata": {
        "id": "YFedLoU2ygNy"
      }
    },
    {
      "cell_type": "code",
      "source": [
        "# esto es una anotación\n",
        "1 + 1 # esto también es una anotación, a partir de la # (pero no antes)"
      ],
      "metadata": {
        "colab": {
          "base_uri": "https://localhost:8080/",
          "height": 34
        },
        "id": "X-Icif6cyhpb",
        "outputId": "e7e75393-1793-4493-bf57-2ef66544ba2f"
      },
      "execution_count": null,
      "outputs": [
        {
          "output_type": "display_data",
          "data": {
            "text/html": [
              "2"
            ],
            "text/markdown": "2",
            "text/latex": "2",
            "text/plain": [
              "[1] 2"
            ]
          },
          "metadata": {}
        }
      ]
    },
    {
      "cell_type": "markdown",
      "metadata": {
        "id": "iIrdHlbahh6j"
      },
      "source": [
        "### Declarar e invocar objetos\n",
        "R es un lenguaje orientado a objetos. Esto significa que podemos definir objetos (*variables*) que se almacenarán en nuestro entorno de forma temporal para ser luego invocados a lo largo de nuestro código. Los objetos que definamos se perderán únicamente al explícitamente eliminarlos o al reiniciar nuestro entorno.\n",
        "\n",
        "Para definir un objeto utilizamos una de las siguientes opciones:\n",
        "\n",
        "``` my_object = content ```   \n",
        "``` my_object <- content ```\n",
        "\n",
        "\n"
      ]
    },
    {
      "cell_type": "code",
      "source": [
        "# creamos un primer objeto\n",
        "my_obj = 'R course'"
      ],
      "metadata": {
        "id": "1jHpeEmTjJDN"
      },
      "execution_count": null,
      "outputs": []
    },
    {
      "cell_type": "code",
      "source": [
        "# de forma alternativa, podríamos haber utilizado la siguiente sintaxis\n",
        "my_obj <- 'R course'"
      ],
      "metadata": {
        "id": "0TXtrTl0jUID"
      },
      "execution_count": null,
      "outputs": []
    },
    {
      "cell_type": "code",
      "source": [
        "# invocamos el objeto\n",
        "my_obj"
      ],
      "metadata": {
        "colab": {
          "base_uri": "https://localhost:8080/",
          "height": 34
        },
        "id": "HNjPnrAsjZuY",
        "outputId": "3c0c8591-3045-468b-80b4-06838e292228"
      },
      "execution_count": null,
      "outputs": [
        {
          "output_type": "display_data",
          "data": {
            "text/html": [
              "'R course'"
            ],
            "text/markdown": "'R course'",
            "text/latex": "'R course'",
            "text/plain": [
              "[1] \"R course\""
            ]
          },
          "metadata": {}
        }
      ]
    },
    {
      "cell_type": "markdown",
      "source": [
        "### Consultar objetos declarados\n",
        "La función ``` ls() ``` nos permite consultar todos los objetos declarados en nuestro entorno."
      ],
      "metadata": {
        "id": "aNFxqK-szPaR"
      }
    },
    {
      "cell_type": "code",
      "source": [
        "# consultamos los objetos declarados\n",
        "ls()"
      ],
      "metadata": {
        "colab": {
          "base_uri": "https://localhost:8080/",
          "height": 34
        },
        "id": "YF2Ddw3vjoR5",
        "outputId": "886fb6df-3318-4542-c919-b0755e193519"
      },
      "execution_count": null,
      "outputs": [
        {
          "output_type": "display_data",
          "data": {
            "text/html": [
              "'my_obj'"
            ],
            "text/markdown": "'my_obj'",
            "text/latex": "'my\\_obj'",
            "text/plain": [
              "[1] \"my_obj\""
            ]
          },
          "metadata": {}
        }
      ]
    },
    {
      "cell_type": "markdown",
      "source": [
        "### Eliminar objetos\n",
        "Utilizamos la finción ``` remove(object) ``` para eliminar un objeto declarado."
      ],
      "metadata": {
        "id": "s0GD7zJjzWxU"
      }
    },
    {
      "cell_type": "code",
      "metadata": {
        "id": "rrYJJrPplDr8"
      },
      "source": [
        "# eliminamos el objeto\n",
        "remove(my_obj)"
      ],
      "execution_count": null,
      "outputs": []
    },
    {
      "cell_type": "code",
      "source": [
        "# volvemos a consultar objetos declarados para confirmar que hemos eliminado el objeto\n",
        "ls()"
      ],
      "metadata": {
        "colab": {
          "base_uri": "https://localhost:8080/",
          "height": 17
        },
        "id": "GEjAzmLMjlQK",
        "outputId": "8464f12a-a81b-4303-8315-3a1d2cbf0fda"
      },
      "execution_count": null,
      "outputs": [
        {
          "output_type": "display_data",
          "data": {
            "text/html": [],
            "text/markdown": "",
            "text/latex": "",
            "text/plain": [
              "character(0)"
            ]
          },
          "metadata": {}
        }
      ]
    },
    {
      "cell_type": "markdown",
      "metadata": {
        "id": "6HqskeOwrQjc"
      },
      "source": [
        "### Tipos de datos\n",
        "R reconoce los siguientes tipos de datos de forma nativa.\n",
        "\n",
        "*   Numéricos (números con capacidad de decimal)\n",
        "*   Enteros (números sin decimal)\n",
        "*   Texto\n",
        "*   Lógicos (verdadero/ falso)\n"
      ]
    },
    {
      "cell_type": "markdown",
      "metadata": {
        "id": "PbKIeucpo5DP"
      },
      "source": [
        "#### Numéricos (*numeric*)\n",
        "\n",
        "\n",
        "\n"
      ]
    },
    {
      "cell_type": "code",
      "metadata": {
        "id": "tMKeDxeVtnN8",
        "colab": {
          "base_uri": "https://localhost:8080/",
          "height": 34
        },
        "outputId": "6f366079-0977-4eda-f21f-2f2792e16ea9"
      },
      "source": [
        "numeric_obj = 10        # defino un nuevo objeto con un valor numérico \n",
        "class(numeric_obj)      # compruebo la clase/ tipo de objeto"
      ],
      "execution_count": null,
      "outputs": [
        {
          "output_type": "display_data",
          "data": {
            "text/html": [
              "'numeric'"
            ],
            "text/markdown": "'numeric'",
            "text/latex": "'numeric'",
            "text/plain": [
              "[1] \"numeric\""
            ]
          },
          "metadata": {}
        }
      ]
    },
    {
      "cell_type": "code",
      "metadata": {
        "id": "GrxGCTHTuR1M",
        "colab": {
          "base_uri": "https://localhost:8080/",
          "height": 34
        },
        "outputId": "6279d309-df7e-4b19-c8e5-2ee94046ec06"
      },
      "source": [
        "numeric_obj = 2.5       # defino un nuevo objeto con un valor numérico \n",
        "class(numeric_obj)      # compruebo la clase/ tipo de objeto"
      ],
      "execution_count": null,
      "outputs": [
        {
          "output_type": "display_data",
          "data": {
            "text/html": [
              "'numeric'"
            ],
            "text/markdown": "'numeric'",
            "text/latex": "'numeric'",
            "text/plain": [
              "[1] \"numeric\""
            ]
          },
          "metadata": {}
        }
      ]
    },
    {
      "cell_type": "markdown",
      "source": [
        "#### Enteros (*integer*)"
      ],
      "metadata": {
        "id": "1lDBtYCs2HPC"
      }
    },
    {
      "cell_type": "code",
      "source": [
        "integer_obj = 10L       # utilizamos la L final para especificar que se trata de un entero"
      ],
      "metadata": {
        "id": "ov_MmzNm2Him"
      },
      "execution_count": null,
      "outputs": []
    },
    {
      "cell_type": "code",
      "source": [
        "class(integer_obj)      # compruebo la clase/ tipo de objeto"
      ],
      "metadata": {
        "colab": {
          "base_uri": "https://localhost:8080/",
          "height": 34
        },
        "id": "hi-jQCuo2dWG",
        "outputId": "6e4db1d6-4ab6-4372-dd15-10ebb51bc637"
      },
      "execution_count": null,
      "outputs": [
        {
          "output_type": "display_data",
          "data": {
            "text/html": [
              "'integer'"
            ],
            "text/markdown": "'integer'",
            "text/latex": "'integer'",
            "text/plain": [
              "[1] \"integer\""
            ]
          },
          "metadata": {}
        }
      ]
    },
    {
      "cell_type": "markdown",
      "metadata": {
        "id": "Q2n1HP4YpBGi"
      },
      "source": [
        "#### Texto (*character*)\n",
        "\n",
        "\n"
      ]
    },
    {
      "cell_type": "code",
      "metadata": {
        "id": "nSQO9B_ktuhH",
        "colab": {
          "base_uri": "https://localhost:8080/",
          "height": 34
        },
        "outputId": "4d6f2365-a18c-4b74-dfdf-4f99abc9d9f3"
      },
      "source": [
        "text_obj = \"R course\"   # utilizamos comillas simples o dobles para establacer texto\n",
        "class(text_obj)         # compruebo la clase/ tipo de objeto"
      ],
      "execution_count": null,
      "outputs": [
        {
          "output_type": "display_data",
          "data": {
            "text/html": [
              "'character'"
            ],
            "text/markdown": "'character'",
            "text/latex": "'character'",
            "text/plain": [
              "[1] \"character\""
            ]
          },
          "metadata": {}
        }
      ]
    },
    {
      "cell_type": "markdown",
      "metadata": {
        "id": "2RsEbWB6pTbp"
      },
      "source": [
        "#### Variables lógicas (*logical*)\n",
        "\n"
      ]
    },
    {
      "cell_type": "code",
      "metadata": {
        "id": "-Ry10t4TtmVT",
        "colab": {
          "base_uri": "https://localhost:8080/",
          "height": 34
        },
        "outputId": "647dbd6b-10a5-46ae-e9bc-11135d5f294c"
      },
      "source": [
        "logic_obj = FALSE       # defino un nuevo objeto con un valor lógico \n",
        "class(logic_obj)        # compruebo la clase/ tipo de objeto"
      ],
      "execution_count": null,
      "outputs": [
        {
          "output_type": "display_data",
          "data": {
            "text/html": [
              "'logical'"
            ],
            "text/markdown": "'logical'",
            "text/latex": "'logical'",
            "text/plain": [
              "[1] \"logical\""
            ]
          },
          "metadata": {}
        }
      ]
    },
    {
      "cell_type": "markdown",
      "metadata": {
        "id": "zrunTZ7kqY0j"
      },
      "source": [
        "# Estructuras de datos\n",
        "---\n",
        "R contempla en su estructura base distintos formatos de almacenamiento de datos, cada uno de ellos con características y tratamiento propio. \n",
        "\n",
        "Las estructuras de datos básicos son cuatro,\n",
        "*   *Vectors*\n",
        "*   *Data Frames*\n",
        "*   *Factors*\n",
        "*   *Lists*\n",
        "\n"
      ]
    },
    {
      "cell_type": "markdown",
      "metadata": {
        "id": "AhSmKQwNGriC"
      },
      "source": [
        "### Vectors\n",
        "Se trata de la estructura más elemental en R, unidimensional e indexada que permite almacenar distintos tipos de objetos. \n",
        "\n",
        "Para definir un vector utilizamos la siguiente sintaxis:\n",
        "\n",
        "```\n",
        "c(1,2,3,4,5)\n",
        "```"
      ]
    },
    {
      "cell_type": "code",
      "metadata": {
        "id": "6q9L-VamrdpV",
        "colab": {
          "base_uri": "https://localhost:8080/",
          "height": 34
        },
        "outputId": "afca98d0-a13d-49c9-d87a-c943007c303a"
      },
      "source": [
        "# definimos un vector y lo guardamos en un objeto\n",
        "my_vector = c(1L,\"R course\",20.5,TRUE,5)\n",
        "my_vector # invocamos el objeto"
      ],
      "execution_count": null,
      "outputs": [
        {
          "output_type": "display_data",
          "data": {
            "text/html": [
              "<style>\n",
              ".list-inline {list-style: none; margin:0; padding: 0}\n",
              ".list-inline>li {display: inline-block}\n",
              ".list-inline>li:not(:last-child)::after {content: \"\\00b7\"; padding: 0 .5ex}\n",
              "</style>\n",
              "<ol class=list-inline><li>'1'</li><li>'R course'</li><li>'20.5'</li><li>'TRUE'</li><li>'5'</li></ol>\n"
            ],
            "text/markdown": "1. '1'\n2. 'R course'\n3. '20.5'\n4. 'TRUE'\n5. '5'\n\n\n",
            "text/latex": "\\begin{enumerate*}\n\\item '1'\n\\item 'R course'\n\\item '20.5'\n\\item 'TRUE'\n\\item '5'\n\\end{enumerate*}\n",
            "text/plain": [
              "[1] \"1\"        \"R course\" \"20.5\"     \"TRUE\"     \"5\"       "
            ]
          },
          "metadata": {}
        }
      ]
    },
    {
      "cell_type": "code",
      "metadata": {
        "colab": {
          "base_uri": "https://localhost:8080/",
          "height": 34
        },
        "id": "_NOZee68cqLa",
        "outputId": "cce2d0b0-a015-4179-bac7-f95d8e21ddeb"
      },
      "source": [
        "# para consultar el valor de un elemento en concreto, utilizamos la posición del elemento dentro del vector\n",
        "# nota: R indexa al 1 (el 1 es el primer elemento)\n",
        "my_vector[2]"
      ],
      "execution_count": null,
      "outputs": [
        {
          "output_type": "display_data",
          "data": {
            "text/html": [
              "'R course'"
            ],
            "text/markdown": "'R course'",
            "text/latex": "'R course'",
            "text/plain": [
              "[1] \"R course\""
            ]
          },
          "metadata": {}
        }
      ]
    },
    {
      "cell_type": "code",
      "source": [
        "# al tratarse de una estructura indexada, podemos también modificar elementos específicos dentro de la estructura según su posición\n",
        "my_vector[2] = 'R intro course'"
      ],
      "metadata": {
        "id": "tBXmpMXv9y08"
      },
      "execution_count": null,
      "outputs": []
    },
    {
      "cell_type": "code",
      "source": [
        "# volvemos a invocar el segundo elemento\n",
        "my_vector[2]"
      ],
      "metadata": {
        "colab": {
          "base_uri": "https://localhost:8080/",
          "height": 34
        },
        "id": "IytJVOqV91X6",
        "outputId": "e1337e65-76ec-487a-827c-c0823b1d36a3"
      },
      "execution_count": null,
      "outputs": [
        {
          "output_type": "display_data",
          "data": {
            "text/html": [
              "'R intro course'"
            ],
            "text/markdown": "'R intro course'",
            "text/latex": "'R intro course'",
            "text/plain": [
              "[1] \"R intro course\""
            ]
          },
          "metadata": {}
        }
      ]
    },
    {
      "cell_type": "markdown",
      "metadata": {
        "id": "Sy8JvQbi57jp"
      },
      "source": [
        "### Data Frames\n",
        "Un *data frame* es simplemente una tabla de datos, una estructura de dos dimensiones formada por filas y columnas. Se trata de la estructura de datos más utilizada en análisis de datos.\n",
        "\n",
        "*Nota: Data Frames vs. Matrices*\n",
        "> 👉 R incluye matrices como estructuras de datos. Estas también son estructuras de dos dimensiones pero, a diferencia de un *data frame*, una *matriz* únicamente permite un mismo tipo de variable."
      ]
    },
    {
      "cell_type": "code",
      "metadata": {
        "id": "JxSXzZ-_wS-g",
        "colab": {
          "base_uri": "https://localhost:8080/",
          "height": 183
        },
        "outputId": "51a6d63b-64a1-4605-e6b1-7cc001149154"
      },
      "source": [
        "# comenzamos definiendo tres vectores, cada uno de ellos almacenará un único tipo de objeto\n",
        "col_1 = c(\"a\",\"b\",\"c\",\"d\",\"e\")\n",
        "col_2 = c(1,2,3,4,5)\n",
        "col_3 = c(TRUE,TRUE,TRUE,FALSE,FALSE)\n",
        "\n",
        "# utilizamos la función data.frame() para convertir cada vector en una columna del data frame\n",
        "my_data_frame = data.frame(col_1,col_2,col_3) \n",
        "my_data_frame"
      ],
      "execution_count": null,
      "outputs": [
        {
          "output_type": "display_data",
          "data": {
            "text/plain": [
              "  col_1 col_2 col_3\n",
              "1 a     1      TRUE\n",
              "2 b     2      TRUE\n",
              "3 c     3      TRUE\n",
              "4 d     4     FALSE\n",
              "5 e     5     FALSE"
            ],
            "text/latex": "A data.frame: 5 × 3\n\\begin{tabular}{lll}\n col\\_1 & col\\_2 & col\\_3\\\\\n <chr> & <dbl> & <lgl>\\\\\n\\hline\n\t a & 1 &  TRUE\\\\\n\t b & 2 &  TRUE\\\\\n\t c & 3 &  TRUE\\\\\n\t d & 4 & FALSE\\\\\n\t e & 5 & FALSE\\\\\n\\end{tabular}\n",
            "text/markdown": "\nA data.frame: 5 × 3\n\n| col_1 &lt;chr&gt; | col_2 &lt;dbl&gt; | col_3 &lt;lgl&gt; |\n|---|---|---|\n| a | 1 |  TRUE |\n| b | 2 |  TRUE |\n| c | 3 |  TRUE |\n| d | 4 | FALSE |\n| e | 5 | FALSE |\n\n",
            "text/html": [
              "<table>\n",
              "<caption>A data.frame: 5 × 3</caption>\n",
              "<thead>\n",
              "\t<tr><th scope=col>col_1</th><th scope=col>col_2</th><th scope=col>col_3</th></tr>\n",
              "\t<tr><th scope=col>&lt;chr&gt;</th><th scope=col>&lt;dbl&gt;</th><th scope=col>&lt;lgl&gt;</th></tr>\n",
              "</thead>\n",
              "<tbody>\n",
              "\t<tr><td>a</td><td>1</td><td> TRUE</td></tr>\n",
              "\t<tr><td>b</td><td>2</td><td> TRUE</td></tr>\n",
              "\t<tr><td>c</td><td>3</td><td> TRUE</td></tr>\n",
              "\t<tr><td>d</td><td>4</td><td>FALSE</td></tr>\n",
              "\t<tr><td>e</td><td>5</td><td>FALSE</td></tr>\n",
              "</tbody>\n",
              "</table>\n"
            ]
          },
          "metadata": {
            "tags": []
          }
        }
      ]
    },
    {
      "cell_type": "code",
      "metadata": {
        "colab": {
          "base_uri": "https://localhost:8080/",
          "height": 34
        },
        "id": "Y1Z5xeXAffYD",
        "outputId": "a9b7e6fe-9d9c-46c0-d613-b0c7775652ee"
      },
      "source": [
        "# a continuación, consultaremos el valor de uno de los elementos almacenados\n",
        "# al tratarse de una estructura de dos dimmensiones, utilizaremos dos parámtros (fila y columna, en ese órden)\n",
        "my_data_frame[3,2]"
      ],
      "execution_count": null,
      "outputs": [
        {
          "output_type": "display_data",
          "data": {
            "text/plain": [
              "[1] 3"
            ],
            "text/latex": "3",
            "text/markdown": "3",
            "text/html": [
              "3"
            ]
          },
          "metadata": {
            "tags": []
          }
        }
      ]
    },
    {
      "cell_type": "markdown",
      "metadata": {
        "id": "PdtpHXoXbKtk"
      },
      "source": [
        "### Factors\n",
        "Los factores son estructuras indexadas que almacenan valores únicos.\n",
        "\n",
        "```\n",
        "factor(vector)\n",
        "```\n",
        "\n"
      ]
    },
    {
      "cell_type": "code",
      "metadata": {
        "id": "4bcunzM3kR94",
        "colab": {
          "base_uri": "https://localhost:8080/",
          "height": 52
        },
        "outputId": "49e610de-3002-4965-c765-c71460c6697e"
      },
      "source": [
        "my_vector = c('a','a','a','b','b')  # creamos un vector\n",
        "my_factor = factor(my_vector)       # transformamos vector en factor\n",
        "my_factor                           # invocamos factor"
      ],
      "execution_count": null,
      "outputs": [
        {
          "output_type": "display_data",
          "data": {
            "text/html": [
              "<style>\n",
              ".list-inline {list-style: none; margin:0; padding: 0}\n",
              ".list-inline>li {display: inline-block}\n",
              ".list-inline>li:not(:last-child)::after {content: \"\\00b7\"; padding: 0 .5ex}\n",
              "</style>\n",
              "<ol class=list-inline><li>a</li><li>a</li><li>a</li><li>b</li><li>b</li></ol>\n",
              "\n",
              "<details>\n",
              "\t<summary style=display:list-item;cursor:pointer>\n",
              "\t\t<strong>Levels</strong>:\n",
              "\t</summary>\n",
              "\t<style>\n",
              "\t.list-inline {list-style: none; margin:0; padding: 0}\n",
              "\t.list-inline>li {display: inline-block}\n",
              "\t.list-inline>li:not(:last-child)::after {content: \"\\00b7\"; padding: 0 .5ex}\n",
              "\t</style>\n",
              "\t<ol class=list-inline><li>'a'</li><li>'b'</li></ol>\n",
              "</details>"
            ],
            "text/markdown": "1. a\n2. a\n3. a\n4. b\n5. b\n\n\n\n**Levels**: 1. 'a'\n2. 'b'\n\n\n",
            "text/latex": "\\begin{enumerate*}\n\\item a\n\\item a\n\\item a\n\\item b\n\\item b\n\\end{enumerate*}\n\n\\emph{Levels}: \\begin{enumerate*}\n\\item 'a'\n\\item 'b'\n\\end{enumerate*}\n",
            "text/plain": [
              "[1] a a a b b\n",
              "Levels: a b"
            ]
          },
          "metadata": {}
        }
      ]
    },
    {
      "cell_type": "code",
      "metadata": {
        "id": "uA5YVKJPkvjW",
        "colab": {
          "base_uri": "https://localhost:8080/",
          "height": 34
        },
        "outputId": "97b7d946-c373-4a78-f6f6-765e962edb54"
      },
      "source": [
        "summary(my_factor)                  # podemos ver los valores únicos de nuestro factor"
      ],
      "execution_count": null,
      "outputs": [
        {
          "output_type": "display_data",
          "data": {
            "text/html": [
              "<style>\n",
              ".dl-inline {width: auto; margin:0; padding: 0}\n",
              ".dl-inline>dt, .dl-inline>dd {float: none; width: auto; display: inline-block}\n",
              ".dl-inline>dt::after {content: \":\\0020\"; padding-right: .5ex}\n",
              ".dl-inline>dt:not(:first-of-type) {padding-left: .5ex}\n",
              "</style><dl class=dl-inline><dt>a</dt><dd>3</dd><dt>b</dt><dd>2</dd></dl>\n"
            ],
            "text/markdown": "a\n:   3b\n:   2\n\n",
            "text/latex": "\\begin{description*}\n\\item[a] 3\n\\item[b] 2\n\\end{description*}\n",
            "text/plain": [
              "a b \n",
              "3 2 "
            ]
          },
          "metadata": {}
        }
      ]
    },
    {
      "cell_type": "markdown",
      "metadata": {
        "id": "lWHsrMlU0HwP"
      },
      "source": [
        "### Lists\n",
        "Se trata de un formato semi-estructurado que aporte mucha flexibilidad, ya que permite almacenar cualquier tipo de variables y estructuras. \n",
        "\n",
        "```\n",
        "list()\n",
        "```\n",
        "\n"
      ]
    },
    {
      "cell_type": "code",
      "metadata": {
        "id": "ctb7dwmAvTNY",
        "colab": {
          "base_uri": "https://localhost:8080/",
          "height": 114
        },
        "outputId": "eb481b7b-1f67-437d-c2cb-a32952d30b62"
      },
      "source": [
        "# creamos una lista\n",
        "my_list = list(\n",
        "  \"abc\"                             # el primer elemento es texto\n",
        "  ,2.5                              # el segundo elemento es numérico\n",
        "  ,TRUE                             # el tercer elemento es lógico\n",
        "  ,c(1,2,3)                         # el cuarto elemento es un vector\n",
        ")\n",
        "\n",
        "my_list                             # invocamos la lista"
      ],
      "execution_count": null,
      "outputs": [
        {
          "output_type": "display_data",
          "data": {
            "text/html": [
              "<ol>\n",
              "\t<li>'abc'</li>\n",
              "\t<li>2.5</li>\n",
              "\t<li>TRUE</li>\n",
              "\t<li><style>\n",
              ".list-inline {list-style: none; margin:0; padding: 0}\n",
              ".list-inline>li {display: inline-block}\n",
              ".list-inline>li:not(:last-child)::after {content: \"\\00b7\"; padding: 0 .5ex}\n",
              "</style>\n",
              "<ol class=list-inline><li>1</li><li>2</li><li>3</li></ol>\n",
              "</li>\n",
              "</ol>\n"
            ],
            "text/markdown": "1. 'abc'\n2. 2.5\n3. TRUE\n4. 1. 1\n2. 2\n3. 3\n\n\n\n\n\n",
            "text/latex": "\\begin{enumerate}\n\\item 'abc'\n\\item 2.5\n\\item TRUE\n\\item \\begin{enumerate*}\n\\item 1\n\\item 2\n\\item 3\n\\end{enumerate*}\n\n\\end{enumerate}\n",
            "text/plain": [
              "[[1]]\n",
              "[1] \"abc\"\n",
              "\n",
              "[[2]]\n",
              "[1] 2.5\n",
              "\n",
              "[[3]]\n",
              "[1] TRUE\n",
              "\n",
              "[[4]]\n",
              "[1] 1 2 3\n"
            ]
          },
          "metadata": {}
        }
      ]
    },
    {
      "cell_type": "code",
      "metadata": {
        "id": "bmn78bZovTbI",
        "colab": {
          "base_uri": "https://localhost:8080/",
          "height": 62
        },
        "outputId": "e738a3df-c2eb-4013-d321-858b26bdc4b1"
      },
      "source": [
        "my_list[2] # invocamos el segundo elemento dentro de la lista"
      ],
      "execution_count": null,
      "outputs": [
        {
          "output_type": "display_data",
          "data": {
            "text/html": [
              "<ol>\n",
              "\t<li>2.5</li>\n",
              "</ol>\n"
            ],
            "text/markdown": "1. 2.5\n\n\n",
            "text/latex": "\\begin{enumerate}\n\\item 2.5\n\\end{enumerate}\n",
            "text/plain": [
              "[[1]]\n",
              "[1] 2.5\n"
            ]
          },
          "metadata": {}
        }
      ]
    },
    {
      "cell_type": "markdown",
      "metadata": {
        "id": "NwUSCqcJnbIw"
      },
      "source": [
        "# Operadores\n",
        "---\n",
        "En programación, los operadores son símbolos específicos que permiten hacer comparaciones y realizar manipulaciones.\n",
        "\n",
        "*   *Operadores aritméticos*: permiten realizar operaciones matemáticas\n",
        "*   *Operadores lógicos*: permiten realizar pruebas lógicas, de resultado (true/false)\n",
        "\n",
        "\n",
        "\n"
      ]
    },
    {
      "cell_type": "markdown",
      "metadata": {
        "id": "GKAZNd7OqPH4"
      },
      "source": [
        "### Operadores aritméticos\n",
        "\n",
        "| Operator \t|   Description  \t|\n",
        "|----------\t|:--------------:\t|\n",
        "| +        \t| addition       \t|\n",
        "| -        \t| subtraction    \t|\n",
        "| *        \t| multiplication \t|\n",
        "| /        \t| division       \t|\n",
        "| ^ or **  \t| exponentiation \t|\n",
        "\n"
      ]
    },
    {
      "cell_type": "code",
      "metadata": {
        "id": "pc9WXGpzrUzU"
      },
      "source": [
        "# operadores aritméticos\n",
        "## definimos dos objetos numéricos\n",
        "obj_1 = 10\n",
        "obj_2 = 5"
      ],
      "execution_count": null,
      "outputs": []
    },
    {
      "cell_type": "code",
      "metadata": {
        "id": "MnFS7xLquhAV",
        "colab": {
          "base_uri": "https://localhost:8080/",
          "height": 34
        },
        "outputId": "6fcc9e82-fc9b-4e28-e261-641dd0a488b6"
      },
      "source": [
        "# test 1\n",
        "obj_1/obj_2"
      ],
      "execution_count": null,
      "outputs": [
        {
          "output_type": "display_data",
          "data": {
            "text/html": [
              "2"
            ],
            "text/markdown": "2",
            "text/latex": "2",
            "text/plain": [
              "[1] 2"
            ]
          },
          "metadata": {}
        }
      ]
    },
    {
      "cell_type": "code",
      "metadata": {
        "id": "7tCc-vYZu3al",
        "colab": {
          "base_uri": "https://localhost:8080/",
          "height": 34
        },
        "outputId": "e3636c9b-2632-4118-f996-0532712109be"
      },
      "source": [
        "# test 2\n",
        "obj_1-obj_2"
      ],
      "execution_count": null,
      "outputs": [
        {
          "output_type": "display_data",
          "data": {
            "text/html": [
              "5"
            ],
            "text/markdown": "5",
            "text/latex": "5",
            "text/plain": [
              "[1] 5"
            ]
          },
          "metadata": {}
        }
      ]
    },
    {
      "cell_type": "markdown",
      "metadata": {
        "id": "jDOtaH35vB4A"
      },
      "source": [
        "### Operadores lógicos\n",
        "\n",
        "| Operator  \t|        Description       \t|\n",
        "|-----------\t|:------------------------:\t|\n",
        "| <         \t| less than                \t|\n",
        "| <=        \t| less than or equal to    \t|\n",
        "| >         \t| greater than             \t|\n",
        "| >=        \t| greater than or equal to \t|\n",
        "| ==        \t| exactly equal to         \t|\n",
        "| !=        \t| not equal to             \t|\n",
        "| !x        \t| Not x                    \t|\n",
        "| x \\| y    \t| x OR y                   \t|\n",
        "| x & y     \t| x AND y                  \t|\n",
        "| isTRUE(x) \t| test if X is TRUE        \t|"
      ]
    },
    {
      "cell_type": "code",
      "metadata": {
        "id": "uEx34PxMwPQW"
      },
      "source": [
        "# operadores aritméticos\n",
        "## definimos dos objetos numéricos\n",
        "obj_1 = 10\n",
        "obj_2 = 5"
      ],
      "execution_count": null,
      "outputs": []
    },
    {
      "cell_type": "code",
      "metadata": {
        "id": "hmHV5labwUvP",
        "colab": {
          "base_uri": "https://localhost:8080/",
          "height": 34
        },
        "outputId": "5418a056-af0d-45fa-a0f7-598f5f936186"
      },
      "source": [
        "# test 1\n",
        "## comprobar si objeto 1 es mayor a 8\n",
        "obj_1 > 8"
      ],
      "execution_count": null,
      "outputs": [
        {
          "output_type": "display_data",
          "data": {
            "text/html": [
              "TRUE"
            ],
            "text/markdown": "TRUE",
            "text/latex": "TRUE",
            "text/plain": [
              "[1] TRUE"
            ]
          },
          "metadata": {}
        }
      ]
    },
    {
      "cell_type": "code",
      "metadata": {
        "id": "JvZWRuPvwcWP",
        "colab": {
          "base_uri": "https://localhost:8080/",
          "height": 34
        },
        "outputId": "632e6993-2d7a-4484-aba9-88a5174448b8"
      },
      "source": [
        "# test 2\n",
        "## comprobar si objeto 1 es igual a objeto 2\n",
        "obj_1 == obj_2"
      ],
      "execution_count": null,
      "outputs": [
        {
          "output_type": "display_data",
          "data": {
            "text/html": [
              "FALSE"
            ],
            "text/markdown": "FALSE",
            "text/latex": "FALSE",
            "text/plain": [
              "[1] FALSE"
            ]
          },
          "metadata": {}
        }
      ]
    },
    {
      "cell_type": "code",
      "metadata": {
        "id": "HK_vR0uWwkJV",
        "colab": {
          "base_uri": "https://localhost:8080/",
          "height": 34
        },
        "outputId": "0344cfc5-7522-410c-9c26-de98e405a43c"
      },
      "source": [
        "# test 3\n",
        "## comprobar si se cumple alguna de las dos condiciones\n",
        "obj_1 > 8 | obj_2 > 8 # \"objeto 1 es mayor a 8 u objeto 2 es mayor a 8\""
      ],
      "execution_count": null,
      "outputs": [
        {
          "output_type": "display_data",
          "data": {
            "text/html": [
              "TRUE"
            ],
            "text/markdown": "TRUE",
            "text/latex": "TRUE",
            "text/plain": [
              "[1] TRUE"
            ]
          },
          "metadata": {}
        }
      ]
    },
    {
      "cell_type": "code",
      "metadata": {
        "id": "GEq6HZZEzR6m",
        "colab": {
          "base_uri": "https://localhost:8080/",
          "height": 34
        },
        "outputId": "038adeaf-8462-4255-9924-023c3609244f"
      },
      "source": [
        "# test 4\n",
        "## comprobar si se cumplen ambas condiciones\n",
        "obj_1 > 8 & obj_2 > 8 # \"objeto 1 es mayor a 8 y objeto 2 es mayor a 8\""
      ],
      "execution_count": null,
      "outputs": [
        {
          "output_type": "display_data",
          "data": {
            "text/html": [
              "FALSE"
            ],
            "text/markdown": "FALSE",
            "text/latex": "FALSE",
            "text/plain": [
              "[1] FALSE"
            ]
          },
          "metadata": {}
        }
      ]
    },
    {
      "cell_type": "markdown",
      "metadata": {
        "id": "7eYo-zc6zaFm"
      },
      "source": [
        "# Básicos de programación\n",
        "---\n",
        "Existen ciertas funcionalidades básicas presentes en todo lenguaje de programación. Su uso no es estrictamente necesario para el análisis de datos, pero resulta útil particularmente para la automatización de procesos:\n",
        "*   *Expresiones condicionales*\n",
        "*   *Loops (bucles)*\n"
      ]
    },
    {
      "cell_type": "markdown",
      "metadata": {
        "id": "8Vpvf5pCzoKm"
      },
      "source": [
        "### Expresiones condicionales\n",
        "\n",
        "Una expresión condicional es una serie de pruebas lógicas con respuestas predefinidas. Se componen siempre de al menos una condición lógica, pero pueden tener tantas como se desee.\n",
        "\n",
        "Sintaxis básica,\n",
        "```\n",
        "if(condición lógica){\n",
        "  respuesta si se cumple\n",
        "}\n",
        "```\n",
        "\n",
        "Sintaxis completa,\n",
        "```\n",
        "if(condición lógica){\n",
        "  respuesta si se cumple\n",
        "} else if(condición lógica adicional){\n",
        "  respuesta si se cumple\n",
        "} else(condición lógica si ninguna otra se cumple){\n",
        "  respuesta si ninguna otra condición se cumple\n",
        "}\n",
        "```"
      ]
    },
    {
      "cell_type": "code",
      "metadata": {
        "id": "JYZT4K_g4SYH",
        "colab": {
          "base_uri": "https://localhost:8080/"
        },
        "outputId": "4ba6a267-7939-445e-c7b0-ee90426fd2ef"
      },
      "source": [
        "# creamos una condición IF que nos permite comprobar si un número (depositado en un objeto) es positivo\n",
        "obj = 10 # definimos un objeto\n",
        "\n",
        "if(obj > 0){                        # condición 1: si el objeto es positivo\n",
        "  print(\"El número es positivo\")    # la función print() permite desplegar texto\n",
        "}\n",
        "\n",
        "## no hemos establecido respuesta en caso de que la condición no se cumpla"
      ],
      "execution_count": null,
      "outputs": [
        {
          "output_type": "stream",
          "text": [
            "[1] \"El número es positivo\"\n"
          ],
          "name": "stdout"
        }
      ]
    },
    {
      "cell_type": "code",
      "metadata": {
        "id": "FaB8diWszsu4",
        "colab": {
          "base_uri": "https://localhost:8080/"
        },
        "outputId": "09ee96f5-902a-4f13-8792-a3e40a86367f"
      },
      "source": [
        "# creamos una condición IF que nos permite comprobar si un número (depositado en un objeto) es positivo, negativo o cero\n",
        "obj = -10 # definimos un objeto\n",
        "\n",
        "if(obj > 0){                        # condición 1: si el objeto es positivo\n",
        "  print(\"El número es positivo\")    # la función print() permite desplegar texto\n",
        "} else if(obj == 0){                # condición 2: si el objeto es cero\n",
        "  print(\"El número es cero\")\n",
        "} else{                             # condición 3: si el resto no se cumple\n",
        "  print(\"El número es negativo\")\n",
        "}"
      ],
      "execution_count": null,
      "outputs": [
        {
          "output_type": "stream",
          "text": [
            "[1] \"El número es negativo\"\n"
          ],
          "name": "stdout"
        }
      ]
    },
    {
      "cell_type": "markdown",
      "metadata": {
        "id": "1dMhWitB4y-p"
      },
      "source": [
        "### Loops (bucles)\n",
        "\n",
        "*   *For loop*: el bucle se repetirá tantas veces como elementos en un vector predefinido\n",
        "*   *Do while*: el bucle se repetirá siempre y cuando se cumpla una condición"
      ]
    },
    {
      "cell_type": "markdown",
      "metadata": {
        "id": "igCBpSzy71WD"
      },
      "source": [
        "\n",
        "En un *for loop*, establecemos una respuesta que se repetirá tantas veces como elementos en un vector determinado. La variable que definamos en el loop adoptará el valor de cada elemento en el vector.\n",
        "\n",
        "Sintaxis básica,\n",
        "```\n",
        "for(i in vector){\n",
        "  respuesta\n",
        "}  \n",
        "```"
      ]
    },
    {
      "cell_type": "code",
      "metadata": {
        "id": "2EXuNvLs42Sg",
        "colab": {
          "base_uri": "https://localhost:8080/"
        },
        "outputId": "76b38eea-37f5-4da1-ed36-c68395330955"
      },
      "source": [
        "my_vector = c(1,2,3,4,5)              # definimos un vector\n",
        "\n",
        "for (var in my_vector){               # creamos una variable \"var\" que tomará el valor de cada elemento en el vector\n",
        "  print(paste(\"El número es\", var))   # la función paste() nos permite concatenar texto\n",
        "}"
      ],
      "execution_count": null,
      "outputs": [
        {
          "output_type": "stream",
          "text": [
            "[1] \"El número es 1\"\n",
            "[1] \"El número es 2\"\n",
            "[1] \"El número es 3\"\n",
            "[1] \"El número es 4\"\n",
            "[1] \"El número es 5\"\n"
          ],
          "name": "stdout"
        }
      ]
    },
    {
      "cell_type": "code",
      "metadata": {
        "id": "iCMx0dwt42K5",
        "colab": {
          "base_uri": "https://localhost:8080/"
        },
        "outputId": "b5f7a038-5f54-4c9e-e702-d151595c8299"
      },
      "source": [
        "my_vector = c(\"a\",\"b\",\"c\",\"d\",\"e\")    # definimos un vector\n",
        "\n",
        "for (letra in my_vector){             # creamos una variable \"letra\" que tomará el valor de cada elemento en el vector\n",
        "  print(paste(\"La letra es\", letra))\n",
        "}"
      ],
      "execution_count": null,
      "outputs": [
        {
          "output_type": "stream",
          "text": [
            "[1] \"La letra es a\"\n",
            "[1] \"La letra es b\"\n",
            "[1] \"La letra es c\"\n",
            "[1] \"La letra es d\"\n",
            "[1] \"La letra es e\"\n"
          ],
          "name": "stdout"
        }
      ]
    },
    {
      "cell_type": "markdown",
      "metadata": {
        "id": "MmUtKkWPB3Nn"
      },
      "source": [
        "En un *while loop*, establecemos una condición y una respuesta que se repetirá siempre y cuando la condición se mantega se mantenga verdadera. \n",
        "\n",
        "```\n",
        "while (condición){respuesta}\n",
        "```\n",
        "Nota: debemos tener cuidado no crear while loops infinitos, en tal caso tendremos que reiniciar el entorno.\n"
      ]
    },
    {
      "cell_type": "code",
      "metadata": {
        "id": "Tbsyh5TvB6I1",
        "colab": {
          "base_uri": "https://localhost:8080/"
        },
        "outputId": "530c5b1e-211f-47ce-e164-4aedce1f5d63"
      },
      "source": [
        "my_object = 10                      # definimos un objeto\n",
        "\n",
        "while (my_object <= 25){            # la condición es que el valor del objeto se mantenga menor o igual a 25\n",
        "  print(my_object)                  # desplegamos el valor del objeto en cada repetición\n",
        "  my_object = my_object + 1         # sumamos 1 al valor del objeto\n",
        "}"
      ],
      "execution_count": null,
      "outputs": [
        {
          "output_type": "stream",
          "text": [
            "[1] 10\n",
            "[1] 11\n",
            "[1] 12\n",
            "[1] 13\n",
            "[1] 14\n",
            "[1] 15\n",
            "[1] 16\n",
            "[1] 17\n",
            "[1] 18\n",
            "[1] 19\n",
            "[1] 20\n",
            "[1] 21\n",
            "[1] 22\n",
            "[1] 23\n",
            "[1] 24\n",
            "[1] 25\n"
          ],
          "name": "stdout"
        }
      ]
    }
  ]
}