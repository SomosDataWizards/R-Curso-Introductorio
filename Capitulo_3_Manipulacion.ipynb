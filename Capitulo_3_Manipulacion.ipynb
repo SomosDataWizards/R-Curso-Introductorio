{
  "nbformat": 4,
  "nbformat_minor": 0,
  "metadata": {
    "colab": {
      "provenance": [],
      "collapsed_sections": [
        "wPPwmloWLPXH"
      ]
    },
    "kernelspec": {
      "name": "ir",
      "display_name": "R"
    }
  },
  "cells": [
    {
      "cell_type": "markdown",
      "source": [
        "# **Introducción a R para Análisis de Datos**\n",
        "## Capítulo 3: Manipulación de Datos \n",
        "\n",
        "**Autor:** Juan Martin Bellido  \n",
        "\n",
        "**Descripción**  \n",
        "En este capitulo aprenderemos a utilizar las librería *dplyr* para realizar operaciones avanzadas de manipulación de datos.\n",
        "\n",
        "**¿Feedback? ¿comentarios?** Por favor compártelo conmigo escribiéndome por [LinkedIn](https://www.linkedin.com/in/jmartinbellido/)  \n"
      ],
      "metadata": {
        "id": "pjPZkfoCeSPe"
      }
    },
    {
      "cell_type": "markdown",
      "source": [
        "\n",
        "## INDICE\n",
        "---\n",
        "1. Seleccionar columnas \n",
        "2. Filtrar filas\n",
        "3. Ordenar *data frame*\n",
        "4. Crear nuevos campos\n",
        "5. Agregar datos\n",
        "6. Ejercicios\n"
      ],
      "metadata": {
        "id": "nNYXqcuXelZf"
      }
    },
    {
      "cell_type": "markdown",
      "source": [
        "Convenciones utilizadas en este documento\n",
        "> 👉 *Esto es una nota u observación*\n",
        "\n",
        "> ⚠️ *Esto es una advertencia*"
      ],
      "metadata": {
        "id": "4v7HerhvVJcQ"
      }
    },
    {
      "cell_type": "code",
      "metadata": {
        "id": "wLlxs1m-tpjO"
      },
      "source": [
        "# instalamos librería \"data.table\" porque Google colab no la incluye por defecto\n",
        "install.packages(\"data.table\")"
      ],
      "execution_count": null,
      "outputs": []
    },
    {
      "cell_type": "code",
      "metadata": {
        "id": "TxEwN93qtcWt"
      },
      "source": [
        "# importamos las librerías que utilizaremos\n",
        "require(dplyr)\n",
        "require(data.table)"
      ],
      "execution_count": null,
      "outputs": []
    },
    {
      "cell_type": "code",
      "metadata": {
        "id": "-w2HuB9hz5fM"
      },
      "source": [
        "# (opcional) editamos las opciones globales para evitar que R utilice notación científica\n",
        "options(scipen=999)"
      ],
      "execution_count": 4,
      "outputs": []
    },
    {
      "cell_type": "markdown",
      "metadata": {
        "id": "EadzEfEu9Xbf"
      },
      "source": [
        "# 1. Seleccionar columnas \n",
        "---\n",
        "\n",
        "Comenzamos aprendiendo a reducir un *data frame* en número de campos (columnas)."
      ]
    },
    {
      "cell_type": "markdown",
      "metadata": {
        "id": "do-9MA7JS-aj"
      },
      "source": [
        "### Seleccionando columnas\n",
        "\n",
        "Para seleccionar columnas específicas en un *data frame* utilizaremos la función `dplyr::select()`.\n",
        "\n",
        "```\n",
        "dplyr::select(df, field_1, field_2 ...)\n",
        "```\n",
        "\n"
      ]
    },
    {
      "cell_type": "code",
      "metadata": {
        "id": "8S8Uy45ZB3X9",
        "colab": {
          "base_uri": "https://localhost:8080/"
        },
        "outputId": "e10787f1-0b58-433d-8f6d-f825ef13a24c"
      },
      "source": [
        "# importamos un df\n",
        "df_james_bond = data.table::fread(\"https://data-wizards.s3.amazonaws.com/datasets/jamesbond.csv\")\n",
        "glimpse(df_james_bond)"
      ],
      "execution_count": 5,
      "outputs": [
        {
          "output_type": "stream",
          "name": "stdout",
          "text": [
            "Rows: 26\n",
            "Columns: 7\n",
            "$ Film                \u001b[3m\u001b[90m<chr>\u001b[39m\u001b[23m \"Dr. No\", \"From Russia with Love\", \"Goldfinger\", \"…\n",
            "$ Year                \u001b[3m\u001b[90m<int>\u001b[39m\u001b[23m 1962, 1963, 1964, 1965, 1967, 1967, 1969, 1971, 19…\n",
            "$ Actor               \u001b[3m\u001b[90m<chr>\u001b[39m\u001b[23m \"Sean Connery\", \"Sean Connery\", \"Sean Connery\", \"S…\n",
            "$ Director            \u001b[3m\u001b[90m<chr>\u001b[39m\u001b[23m \"Terence Young\", \"Terence Young\", \"Guy Hamilton\", …\n",
            "$ `Box Office`        \u001b[3m\u001b[90m<dbl>\u001b[39m\u001b[23m 448.8, 543.8, 820.4, 848.1, 315.0, 514.2, 291.5, 4…\n",
            "$ Budget              \u001b[3m\u001b[90m<dbl>\u001b[39m\u001b[23m 7.0, 12.6, 18.6, 41.9, 85.0, 59.9, 37.3, 34.7, 30.…\n",
            "$ `Bond Actor Salary` \u001b[3m\u001b[90m<dbl>\u001b[39m\u001b[23m 0.6, 1.6, 3.2, 4.7, NA, 4.4, 0.6, 5.8, NA, NA, NA,…\n"
          ]
        }
      ]
    },
    {
      "cell_type": "code",
      "metadata": {
        "colab": {
          "base_uri": "https://localhost:8080/",
          "height": 913
        },
        "id": "ZpsvEfx9SqUB",
        "outputId": "01049e6c-d32c-484a-9ae4-1ece086668dd"
      },
      "source": [
        "# comenzamos seleccionando dos columnas específicas utilizando la sintaxis básica \n",
        "dplyr::select(df_james_bond, Film, Director)"
      ],
      "execution_count": 6,
      "outputs": [
        {
          "output_type": "display_data",
          "data": {
            "text/html": [
              "<table class=\"dataframe\">\n",
              "<caption>A data.table: 26 × 2</caption>\n",
              "<thead>\n",
              "\t<tr><th scope=col>Film</th><th scope=col>Director</th></tr>\n",
              "\t<tr><th scope=col>&lt;chr&gt;</th><th scope=col>&lt;chr&gt;</th></tr>\n",
              "</thead>\n",
              "<tbody>\n",
              "\t<tr><td>Dr. No                         </td><td>Terence Young     </td></tr>\n",
              "\t<tr><td>From Russia with Love          </td><td>Terence Young     </td></tr>\n",
              "\t<tr><td>Goldfinger                     </td><td>Guy Hamilton      </td></tr>\n",
              "\t<tr><td>Thunderball                    </td><td>Terence Young     </td></tr>\n",
              "\t<tr><td>Casino Royale                  </td><td>Ken Hughes        </td></tr>\n",
              "\t<tr><td>You Only Live Twice            </td><td>Lewis Gilbert     </td></tr>\n",
              "\t<tr><td>On Her Majesty's Secret Service</td><td>Peter R. Hunt     </td></tr>\n",
              "\t<tr><td>Diamonds Are Forever           </td><td>Guy Hamilton      </td></tr>\n",
              "\t<tr><td>Live and Let Die               </td><td>Guy Hamilton      </td></tr>\n",
              "\t<tr><td>The Man with the Golden Gun    </td><td>Guy Hamilton      </td></tr>\n",
              "\t<tr><td>The Spy Who Loved Me           </td><td>Lewis Gilbert     </td></tr>\n",
              "\t<tr><td>Moonraker                      </td><td>Lewis Gilbert     </td></tr>\n",
              "\t<tr><td>For Your Eyes Only             </td><td>John Glen         </td></tr>\n",
              "\t<tr><td>Never Say Never Again          </td><td>Irvin Kershner    </td></tr>\n",
              "\t<tr><td>Octopussy                      </td><td>John Glen         </td></tr>\n",
              "\t<tr><td>A View to a Kill               </td><td>John Glen         </td></tr>\n",
              "\t<tr><td>The Living Daylights           </td><td>John Glen         </td></tr>\n",
              "\t<tr><td>Licence to Kill                </td><td>John Glen         </td></tr>\n",
              "\t<tr><td>GoldenEye                      </td><td>Martin Campbell   </td></tr>\n",
              "\t<tr><td>Tomorrow Never Dies            </td><td>Roger Spottiswoode</td></tr>\n",
              "\t<tr><td>The World Is Not Enough        </td><td>Michael Apted     </td></tr>\n",
              "\t<tr><td>Die Another Day                </td><td>Lee Tamahori      </td></tr>\n",
              "\t<tr><td>Casino Royale                  </td><td>Martin Campbell   </td></tr>\n",
              "\t<tr><td>Quantum of Solace              </td><td>Marc Forster      </td></tr>\n",
              "\t<tr><td>Skyfall                        </td><td>Sam Mendes        </td></tr>\n",
              "\t<tr><td>Spectre                        </td><td>Sam Mendes        </td></tr>\n",
              "</tbody>\n",
              "</table>\n"
            ],
            "text/markdown": "\nA data.table: 26 × 2\n\n| Film &lt;chr&gt; | Director &lt;chr&gt; |\n|---|---|\n| Dr. No                          | Terence Young      |\n| From Russia with Love           | Terence Young      |\n| Goldfinger                      | Guy Hamilton       |\n| Thunderball                     | Terence Young      |\n| Casino Royale                   | Ken Hughes         |\n| You Only Live Twice             | Lewis Gilbert      |\n| On Her Majesty's Secret Service | Peter R. Hunt      |\n| Diamonds Are Forever            | Guy Hamilton       |\n| Live and Let Die                | Guy Hamilton       |\n| The Man with the Golden Gun     | Guy Hamilton       |\n| The Spy Who Loved Me            | Lewis Gilbert      |\n| Moonraker                       | Lewis Gilbert      |\n| For Your Eyes Only              | John Glen          |\n| Never Say Never Again           | Irvin Kershner     |\n| Octopussy                       | John Glen          |\n| A View to a Kill                | John Glen          |\n| The Living Daylights            | John Glen          |\n| Licence to Kill                 | John Glen          |\n| GoldenEye                       | Martin Campbell    |\n| Tomorrow Never Dies             | Roger Spottiswoode |\n| The World Is Not Enough         | Michael Apted      |\n| Die Another Day                 | Lee Tamahori       |\n| Casino Royale                   | Martin Campbell    |\n| Quantum of Solace               | Marc Forster       |\n| Skyfall                         | Sam Mendes         |\n| Spectre                         | Sam Mendes         |\n\n",
            "text/latex": "A data.table: 26 × 2\n\\begin{tabular}{ll}\n Film & Director\\\\\n <chr> & <chr>\\\\\n\\hline\n\t Dr. No                          & Terence Young     \\\\\n\t From Russia with Love           & Terence Young     \\\\\n\t Goldfinger                      & Guy Hamilton      \\\\\n\t Thunderball                     & Terence Young     \\\\\n\t Casino Royale                   & Ken Hughes        \\\\\n\t You Only Live Twice             & Lewis Gilbert     \\\\\n\t On Her Majesty's Secret Service & Peter R. Hunt     \\\\\n\t Diamonds Are Forever            & Guy Hamilton      \\\\\n\t Live and Let Die                & Guy Hamilton      \\\\\n\t The Man with the Golden Gun     & Guy Hamilton      \\\\\n\t The Spy Who Loved Me            & Lewis Gilbert     \\\\\n\t Moonraker                       & Lewis Gilbert     \\\\\n\t For Your Eyes Only              & John Glen         \\\\\n\t Never Say Never Again           & Irvin Kershner    \\\\\n\t Octopussy                       & John Glen         \\\\\n\t A View to a Kill                & John Glen         \\\\\n\t The Living Daylights            & John Glen         \\\\\n\t Licence to Kill                 & John Glen         \\\\\n\t GoldenEye                       & Martin Campbell   \\\\\n\t Tomorrow Never Dies             & Roger Spottiswoode\\\\\n\t The World Is Not Enough         & Michael Apted     \\\\\n\t Die Another Day                 & Lee Tamahori      \\\\\n\t Casino Royale                   & Martin Campbell   \\\\\n\t Quantum of Solace               & Marc Forster      \\\\\n\t Skyfall                         & Sam Mendes        \\\\\n\t Spectre                         & Sam Mendes        \\\\\n\\end{tabular}\n",
            "text/plain": [
              "   Film                            Director          \n",
              "1  Dr. No                          Terence Young     \n",
              "2  From Russia with Love           Terence Young     \n",
              "3  Goldfinger                      Guy Hamilton      \n",
              "4  Thunderball                     Terence Young     \n",
              "5  Casino Royale                   Ken Hughes        \n",
              "6  You Only Live Twice             Lewis Gilbert     \n",
              "7  On Her Majesty's Secret Service Peter R. Hunt     \n",
              "8  Diamonds Are Forever            Guy Hamilton      \n",
              "9  Live and Let Die                Guy Hamilton      \n",
              "10 The Man with the Golden Gun     Guy Hamilton      \n",
              "11 The Spy Who Loved Me            Lewis Gilbert     \n",
              "12 Moonraker                       Lewis Gilbert     \n",
              "13 For Your Eyes Only              John Glen         \n",
              "14 Never Say Never Again           Irvin Kershner    \n",
              "15 Octopussy                       John Glen         \n",
              "16 A View to a Kill                John Glen         \n",
              "17 The Living Daylights            John Glen         \n",
              "18 Licence to Kill                 John Glen         \n",
              "19 GoldenEye                       Martin Campbell   \n",
              "20 Tomorrow Never Dies             Roger Spottiswoode\n",
              "21 The World Is Not Enough         Michael Apted     \n",
              "22 Die Another Day                 Lee Tamahori      \n",
              "23 Casino Royale                   Martin Campbell   \n",
              "24 Quantum of Solace               Marc Forster      \n",
              "25 Skyfall                         Sam Mendes        \n",
              "26 Spectre                         Sam Mendes        "
            ]
          },
          "metadata": {}
        }
      ]
    },
    {
      "cell_type": "markdown",
      "source": [
        "\n",
        "*R no permite anidar operaciones de forma nativa*. Esto es algo que logramos implementar utilizando un operador específico que forma parte de la librería *dplyr*. Nos referimos a este como el *pipe operator (%>%)*\n",
        "\n",
        "\n",
        "```\n",
        "object %>% function() %>% function() ...\n",
        "```\n"
      ],
      "metadata": {
        "id": "jNli6J0Rfk3g"
      }
    },
    {
      "cell_type": "code",
      "metadata": {
        "id": "YVmhAdvr901g",
        "colab": {
          "base_uri": "https://localhost:8080/",
          "height": 913
        },
        "outputId": "374b2ae1-489d-44e3-a971-cb98e3e0bee4"
      },
      "source": [
        "# repetimos la operación anterior, esta vez utilizando el \"pipe operator\"\n",
        "df_james_bond %>% select(\n",
        "  Film        # columna 1\n",
        "  ,Director   # columna 2\n",
        ")"
      ],
      "execution_count": 7,
      "outputs": [
        {
          "output_type": "display_data",
          "data": {
            "text/html": [
              "<table class=\"dataframe\">\n",
              "<caption>A data.table: 26 × 2</caption>\n",
              "<thead>\n",
              "\t<tr><th scope=col>Film</th><th scope=col>Director</th></tr>\n",
              "\t<tr><th scope=col>&lt;chr&gt;</th><th scope=col>&lt;chr&gt;</th></tr>\n",
              "</thead>\n",
              "<tbody>\n",
              "\t<tr><td>Dr. No                         </td><td>Terence Young     </td></tr>\n",
              "\t<tr><td>From Russia with Love          </td><td>Terence Young     </td></tr>\n",
              "\t<tr><td>Goldfinger                     </td><td>Guy Hamilton      </td></tr>\n",
              "\t<tr><td>Thunderball                    </td><td>Terence Young     </td></tr>\n",
              "\t<tr><td>Casino Royale                  </td><td>Ken Hughes        </td></tr>\n",
              "\t<tr><td>You Only Live Twice            </td><td>Lewis Gilbert     </td></tr>\n",
              "\t<tr><td>On Her Majesty's Secret Service</td><td>Peter R. Hunt     </td></tr>\n",
              "\t<tr><td>Diamonds Are Forever           </td><td>Guy Hamilton      </td></tr>\n",
              "\t<tr><td>Live and Let Die               </td><td>Guy Hamilton      </td></tr>\n",
              "\t<tr><td>The Man with the Golden Gun    </td><td>Guy Hamilton      </td></tr>\n",
              "\t<tr><td>The Spy Who Loved Me           </td><td>Lewis Gilbert     </td></tr>\n",
              "\t<tr><td>Moonraker                      </td><td>Lewis Gilbert     </td></tr>\n",
              "\t<tr><td>For Your Eyes Only             </td><td>John Glen         </td></tr>\n",
              "\t<tr><td>Never Say Never Again          </td><td>Irvin Kershner    </td></tr>\n",
              "\t<tr><td>Octopussy                      </td><td>John Glen         </td></tr>\n",
              "\t<tr><td>A View to a Kill               </td><td>John Glen         </td></tr>\n",
              "\t<tr><td>The Living Daylights           </td><td>John Glen         </td></tr>\n",
              "\t<tr><td>Licence to Kill                </td><td>John Glen         </td></tr>\n",
              "\t<tr><td>GoldenEye                      </td><td>Martin Campbell   </td></tr>\n",
              "\t<tr><td>Tomorrow Never Dies            </td><td>Roger Spottiswoode</td></tr>\n",
              "\t<tr><td>The World Is Not Enough        </td><td>Michael Apted     </td></tr>\n",
              "\t<tr><td>Die Another Day                </td><td>Lee Tamahori      </td></tr>\n",
              "\t<tr><td>Casino Royale                  </td><td>Martin Campbell   </td></tr>\n",
              "\t<tr><td>Quantum of Solace              </td><td>Marc Forster      </td></tr>\n",
              "\t<tr><td>Skyfall                        </td><td>Sam Mendes        </td></tr>\n",
              "\t<tr><td>Spectre                        </td><td>Sam Mendes        </td></tr>\n",
              "</tbody>\n",
              "</table>\n"
            ],
            "text/markdown": "\nA data.table: 26 × 2\n\n| Film &lt;chr&gt; | Director &lt;chr&gt; |\n|---|---|\n| Dr. No                          | Terence Young      |\n| From Russia with Love           | Terence Young      |\n| Goldfinger                      | Guy Hamilton       |\n| Thunderball                     | Terence Young      |\n| Casino Royale                   | Ken Hughes         |\n| You Only Live Twice             | Lewis Gilbert      |\n| On Her Majesty's Secret Service | Peter R. Hunt      |\n| Diamonds Are Forever            | Guy Hamilton       |\n| Live and Let Die                | Guy Hamilton       |\n| The Man with the Golden Gun     | Guy Hamilton       |\n| The Spy Who Loved Me            | Lewis Gilbert      |\n| Moonraker                       | Lewis Gilbert      |\n| For Your Eyes Only              | John Glen          |\n| Never Say Never Again           | Irvin Kershner     |\n| Octopussy                       | John Glen          |\n| A View to a Kill                | John Glen          |\n| The Living Daylights            | John Glen          |\n| Licence to Kill                 | John Glen          |\n| GoldenEye                       | Martin Campbell    |\n| Tomorrow Never Dies             | Roger Spottiswoode |\n| The World Is Not Enough         | Michael Apted      |\n| Die Another Day                 | Lee Tamahori       |\n| Casino Royale                   | Martin Campbell    |\n| Quantum of Solace               | Marc Forster       |\n| Skyfall                         | Sam Mendes         |\n| Spectre                         | Sam Mendes         |\n\n",
            "text/latex": "A data.table: 26 × 2\n\\begin{tabular}{ll}\n Film & Director\\\\\n <chr> & <chr>\\\\\n\\hline\n\t Dr. No                          & Terence Young     \\\\\n\t From Russia with Love           & Terence Young     \\\\\n\t Goldfinger                      & Guy Hamilton      \\\\\n\t Thunderball                     & Terence Young     \\\\\n\t Casino Royale                   & Ken Hughes        \\\\\n\t You Only Live Twice             & Lewis Gilbert     \\\\\n\t On Her Majesty's Secret Service & Peter R. Hunt     \\\\\n\t Diamonds Are Forever            & Guy Hamilton      \\\\\n\t Live and Let Die                & Guy Hamilton      \\\\\n\t The Man with the Golden Gun     & Guy Hamilton      \\\\\n\t The Spy Who Loved Me            & Lewis Gilbert     \\\\\n\t Moonraker                       & Lewis Gilbert     \\\\\n\t For Your Eyes Only              & John Glen         \\\\\n\t Never Say Never Again           & Irvin Kershner    \\\\\n\t Octopussy                       & John Glen         \\\\\n\t A View to a Kill                & John Glen         \\\\\n\t The Living Daylights            & John Glen         \\\\\n\t Licence to Kill                 & John Glen         \\\\\n\t GoldenEye                       & Martin Campbell   \\\\\n\t Tomorrow Never Dies             & Roger Spottiswoode\\\\\n\t The World Is Not Enough         & Michael Apted     \\\\\n\t Die Another Day                 & Lee Tamahori      \\\\\n\t Casino Royale                   & Martin Campbell   \\\\\n\t Quantum of Solace               & Marc Forster      \\\\\n\t Skyfall                         & Sam Mendes        \\\\\n\t Spectre                         & Sam Mendes        \\\\\n\\end{tabular}\n",
            "text/plain": [
              "   Film                            Director          \n",
              "1  Dr. No                          Terence Young     \n",
              "2  From Russia with Love           Terence Young     \n",
              "3  Goldfinger                      Guy Hamilton      \n",
              "4  Thunderball                     Terence Young     \n",
              "5  Casino Royale                   Ken Hughes        \n",
              "6  You Only Live Twice             Lewis Gilbert     \n",
              "7  On Her Majesty's Secret Service Peter R. Hunt     \n",
              "8  Diamonds Are Forever            Guy Hamilton      \n",
              "9  Live and Let Die                Guy Hamilton      \n",
              "10 The Man with the Golden Gun     Guy Hamilton      \n",
              "11 The Spy Who Loved Me            Lewis Gilbert     \n",
              "12 Moonraker                       Lewis Gilbert     \n",
              "13 For Your Eyes Only              John Glen         \n",
              "14 Never Say Never Again           Irvin Kershner    \n",
              "15 Octopussy                       John Glen         \n",
              "16 A View to a Kill                John Glen         \n",
              "17 The Living Daylights            John Glen         \n",
              "18 Licence to Kill                 John Glen         \n",
              "19 GoldenEye                       Martin Campbell   \n",
              "20 Tomorrow Never Dies             Roger Spottiswoode\n",
              "21 The World Is Not Enough         Michael Apted     \n",
              "22 Die Another Day                 Lee Tamahori      \n",
              "23 Casino Royale                   Martin Campbell   \n",
              "24 Quantum of Solace               Marc Forster      \n",
              "25 Skyfall                         Sam Mendes        \n",
              "26 Spectre                         Sam Mendes        "
            ]
          },
          "metadata": {}
        }
      ]
    },
    {
      "cell_type": "code",
      "metadata": {
        "colab": {
          "base_uri": "https://localhost:8080/",
          "height": 913
        },
        "id": "N7Wxe_4DSdj8",
        "outputId": "0bbf618d-381f-4303-d109-395c1236e22c"
      },
      "source": [
        "# adicionalmente, al seleccionar columnas podremos renombrar las variables\n",
        "df_james_bond %>% select(\n",
        "  james_bond_film = Film                    # seleccionamos una primer columna y la renombramos\n",
        "  ,film_director = Director                 # seleccionamos una segunda columna y la renombramos\n",
        "  ,film_budget = Budget                     # seleccionamos una tercer columna y la renombramos\n",
        "  ,bond_actor_salary = `Bond Actor Salary`  # en este caso, al renombrar la variable sin espacios, nos libraremos de las comillas\n",
        ")"
      ],
      "execution_count": 8,
      "outputs": [
        {
          "output_type": "display_data",
          "data": {
            "text/html": [
              "<table class=\"dataframe\">\n",
              "<caption>A data.table: 26 × 4</caption>\n",
              "<thead>\n",
              "\t<tr><th scope=col>james_bond_film</th><th scope=col>film_director</th><th scope=col>film_budget</th><th scope=col>bond_actor_salary</th></tr>\n",
              "\t<tr><th scope=col>&lt;chr&gt;</th><th scope=col>&lt;chr&gt;</th><th scope=col>&lt;dbl&gt;</th><th scope=col>&lt;dbl&gt;</th></tr>\n",
              "</thead>\n",
              "<tbody>\n",
              "\t<tr><td>Dr. No                         </td><td>Terence Young     </td><td>  7.0</td><td> 0.6</td></tr>\n",
              "\t<tr><td>From Russia with Love          </td><td>Terence Young     </td><td> 12.6</td><td> 1.6</td></tr>\n",
              "\t<tr><td>Goldfinger                     </td><td>Guy Hamilton      </td><td> 18.6</td><td> 3.2</td></tr>\n",
              "\t<tr><td>Thunderball                    </td><td>Terence Young     </td><td> 41.9</td><td> 4.7</td></tr>\n",
              "\t<tr><td>Casino Royale                  </td><td>Ken Hughes        </td><td> 85.0</td><td>  NA</td></tr>\n",
              "\t<tr><td>You Only Live Twice            </td><td>Lewis Gilbert     </td><td> 59.9</td><td> 4.4</td></tr>\n",
              "\t<tr><td>On Her Majesty's Secret Service</td><td>Peter R. Hunt     </td><td> 37.3</td><td> 0.6</td></tr>\n",
              "\t<tr><td>Diamonds Are Forever           </td><td>Guy Hamilton      </td><td> 34.7</td><td> 5.8</td></tr>\n",
              "\t<tr><td>Live and Let Die               </td><td>Guy Hamilton      </td><td> 30.8</td><td>  NA</td></tr>\n",
              "\t<tr><td>The Man with the Golden Gun    </td><td>Guy Hamilton      </td><td> 27.7</td><td>  NA</td></tr>\n",
              "\t<tr><td>The Spy Who Loved Me           </td><td>Lewis Gilbert     </td><td> 45.1</td><td>  NA</td></tr>\n",
              "\t<tr><td>Moonraker                      </td><td>Lewis Gilbert     </td><td> 91.5</td><td>  NA</td></tr>\n",
              "\t<tr><td>For Your Eyes Only             </td><td>John Glen         </td><td> 60.2</td><td>  NA</td></tr>\n",
              "\t<tr><td>Never Say Never Again          </td><td>Irvin Kershner    </td><td> 86.0</td><td>  NA</td></tr>\n",
              "\t<tr><td>Octopussy                      </td><td>John Glen         </td><td> 53.9</td><td> 7.8</td></tr>\n",
              "\t<tr><td>A View to a Kill               </td><td>John Glen         </td><td> 54.5</td><td> 9.1</td></tr>\n",
              "\t<tr><td>The Living Daylights           </td><td>John Glen         </td><td> 68.8</td><td> 5.2</td></tr>\n",
              "\t<tr><td>Licence to Kill                </td><td>John Glen         </td><td> 56.7</td><td> 7.9</td></tr>\n",
              "\t<tr><td>GoldenEye                      </td><td>Martin Campbell   </td><td> 76.9</td><td> 5.1</td></tr>\n",
              "\t<tr><td>Tomorrow Never Dies            </td><td>Roger Spottiswoode</td><td>133.9</td><td>10.0</td></tr>\n",
              "\t<tr><td>The World Is Not Enough        </td><td>Michael Apted     </td><td>158.3</td><td>13.5</td></tr>\n",
              "\t<tr><td>Die Another Day                </td><td>Lee Tamahori      </td><td>154.2</td><td>17.9</td></tr>\n",
              "\t<tr><td>Casino Royale                  </td><td>Martin Campbell   </td><td>145.3</td><td> 3.3</td></tr>\n",
              "\t<tr><td>Quantum of Solace              </td><td>Marc Forster      </td><td>181.4</td><td> 8.1</td></tr>\n",
              "\t<tr><td>Skyfall                        </td><td>Sam Mendes        </td><td>170.2</td><td>14.5</td></tr>\n",
              "\t<tr><td>Spectre                        </td><td>Sam Mendes        </td><td>206.3</td><td>  NA</td></tr>\n",
              "</tbody>\n",
              "</table>\n"
            ],
            "text/markdown": "\nA data.table: 26 × 4\n\n| james_bond_film &lt;chr&gt; | film_director &lt;chr&gt; | film_budget &lt;dbl&gt; | bond_actor_salary &lt;dbl&gt; |\n|---|---|---|---|\n| Dr. No                          | Terence Young      |   7.0 |  0.6 |\n| From Russia with Love           | Terence Young      |  12.6 |  1.6 |\n| Goldfinger                      | Guy Hamilton       |  18.6 |  3.2 |\n| Thunderball                     | Terence Young      |  41.9 |  4.7 |\n| Casino Royale                   | Ken Hughes         |  85.0 |   NA |\n| You Only Live Twice             | Lewis Gilbert      |  59.9 |  4.4 |\n| On Her Majesty's Secret Service | Peter R. Hunt      |  37.3 |  0.6 |\n| Diamonds Are Forever            | Guy Hamilton       |  34.7 |  5.8 |\n| Live and Let Die                | Guy Hamilton       |  30.8 |   NA |\n| The Man with the Golden Gun     | Guy Hamilton       |  27.7 |   NA |\n| The Spy Who Loved Me            | Lewis Gilbert      |  45.1 |   NA |\n| Moonraker                       | Lewis Gilbert      |  91.5 |   NA |\n| For Your Eyes Only              | John Glen          |  60.2 |   NA |\n| Never Say Never Again           | Irvin Kershner     |  86.0 |   NA |\n| Octopussy                       | John Glen          |  53.9 |  7.8 |\n| A View to a Kill                | John Glen          |  54.5 |  9.1 |\n| The Living Daylights            | John Glen          |  68.8 |  5.2 |\n| Licence to Kill                 | John Glen          |  56.7 |  7.9 |\n| GoldenEye                       | Martin Campbell    |  76.9 |  5.1 |\n| Tomorrow Never Dies             | Roger Spottiswoode | 133.9 | 10.0 |\n| The World Is Not Enough         | Michael Apted      | 158.3 | 13.5 |\n| Die Another Day                 | Lee Tamahori       | 154.2 | 17.9 |\n| Casino Royale                   | Martin Campbell    | 145.3 |  3.3 |\n| Quantum of Solace               | Marc Forster       | 181.4 |  8.1 |\n| Skyfall                         | Sam Mendes         | 170.2 | 14.5 |\n| Spectre                         | Sam Mendes         | 206.3 |   NA |\n\n",
            "text/latex": "A data.table: 26 × 4\n\\begin{tabular}{llll}\n james\\_bond\\_film & film\\_director & film\\_budget & bond\\_actor\\_salary\\\\\n <chr> & <chr> & <dbl> & <dbl>\\\\\n\\hline\n\t Dr. No                          & Terence Young      &   7.0 &  0.6\\\\\n\t From Russia with Love           & Terence Young      &  12.6 &  1.6\\\\\n\t Goldfinger                      & Guy Hamilton       &  18.6 &  3.2\\\\\n\t Thunderball                     & Terence Young      &  41.9 &  4.7\\\\\n\t Casino Royale                   & Ken Hughes         &  85.0 &   NA\\\\\n\t You Only Live Twice             & Lewis Gilbert      &  59.9 &  4.4\\\\\n\t On Her Majesty's Secret Service & Peter R. Hunt      &  37.3 &  0.6\\\\\n\t Diamonds Are Forever            & Guy Hamilton       &  34.7 &  5.8\\\\\n\t Live and Let Die                & Guy Hamilton       &  30.8 &   NA\\\\\n\t The Man with the Golden Gun     & Guy Hamilton       &  27.7 &   NA\\\\\n\t The Spy Who Loved Me            & Lewis Gilbert      &  45.1 &   NA\\\\\n\t Moonraker                       & Lewis Gilbert      &  91.5 &   NA\\\\\n\t For Your Eyes Only              & John Glen          &  60.2 &   NA\\\\\n\t Never Say Never Again           & Irvin Kershner     &  86.0 &   NA\\\\\n\t Octopussy                       & John Glen          &  53.9 &  7.8\\\\\n\t A View to a Kill                & John Glen          &  54.5 &  9.1\\\\\n\t The Living Daylights            & John Glen          &  68.8 &  5.2\\\\\n\t Licence to Kill                 & John Glen          &  56.7 &  7.9\\\\\n\t GoldenEye                       & Martin Campbell    &  76.9 &  5.1\\\\\n\t Tomorrow Never Dies             & Roger Spottiswoode & 133.9 & 10.0\\\\\n\t The World Is Not Enough         & Michael Apted      & 158.3 & 13.5\\\\\n\t Die Another Day                 & Lee Tamahori       & 154.2 & 17.9\\\\\n\t Casino Royale                   & Martin Campbell    & 145.3 &  3.3\\\\\n\t Quantum of Solace               & Marc Forster       & 181.4 &  8.1\\\\\n\t Skyfall                         & Sam Mendes         & 170.2 & 14.5\\\\\n\t Spectre                         & Sam Mendes         & 206.3 &   NA\\\\\n\\end{tabular}\n",
            "text/plain": [
              "   james_bond_film                 film_director      film_budget\n",
              "1  Dr. No                          Terence Young        7.0      \n",
              "2  From Russia with Love           Terence Young       12.6      \n",
              "3  Goldfinger                      Guy Hamilton        18.6      \n",
              "4  Thunderball                     Terence Young       41.9      \n",
              "5  Casino Royale                   Ken Hughes          85.0      \n",
              "6  You Only Live Twice             Lewis Gilbert       59.9      \n",
              "7  On Her Majesty's Secret Service Peter R. Hunt       37.3      \n",
              "8  Diamonds Are Forever            Guy Hamilton        34.7      \n",
              "9  Live and Let Die                Guy Hamilton        30.8      \n",
              "10 The Man with the Golden Gun     Guy Hamilton        27.7      \n",
              "11 The Spy Who Loved Me            Lewis Gilbert       45.1      \n",
              "12 Moonraker                       Lewis Gilbert       91.5      \n",
              "13 For Your Eyes Only              John Glen           60.2      \n",
              "14 Never Say Never Again           Irvin Kershner      86.0      \n",
              "15 Octopussy                       John Glen           53.9      \n",
              "16 A View to a Kill                John Glen           54.5      \n",
              "17 The Living Daylights            John Glen           68.8      \n",
              "18 Licence to Kill                 John Glen           56.7      \n",
              "19 GoldenEye                       Martin Campbell     76.9      \n",
              "20 Tomorrow Never Dies             Roger Spottiswoode 133.9      \n",
              "21 The World Is Not Enough         Michael Apted      158.3      \n",
              "22 Die Another Day                 Lee Tamahori       154.2      \n",
              "23 Casino Royale                   Martin Campbell    145.3      \n",
              "24 Quantum of Solace               Marc Forster       181.4      \n",
              "25 Skyfall                         Sam Mendes         170.2      \n",
              "26 Spectre                         Sam Mendes         206.3      \n",
              "   bond_actor_salary\n",
              "1   0.6             \n",
              "2   1.6             \n",
              "3   3.2             \n",
              "4   4.7             \n",
              "5    NA             \n",
              "6   4.4             \n",
              "7   0.6             \n",
              "8   5.8             \n",
              "9    NA             \n",
              "10   NA             \n",
              "11   NA             \n",
              "12   NA             \n",
              "13   NA             \n",
              "14   NA             \n",
              "15  7.8             \n",
              "16  9.1             \n",
              "17  5.2             \n",
              "18  7.9             \n",
              "19  5.1             \n",
              "20 10.0             \n",
              "21 13.5             \n",
              "22 17.9             \n",
              "23  3.3             \n",
              "24  8.1             \n",
              "25 14.5             \n",
              "26   NA             "
            ]
          },
          "metadata": {}
        }
      ]
    },
    {
      "cell_type": "code",
      "metadata": {
        "colab": {
          "base_uri": "https://localhost:8080/",
          "height": 913
        },
        "id": "nTCdefI7WldZ",
        "outputId": "041ea25a-f151-48c6-cdc3-f4a3134be960"
      },
      "source": [
        "# podemos negar (-) columnas para evitarlas\n",
        "df_james_bond %>% select(\n",
        "  -Director\n",
        "  ,-Budget\n",
        ")\n",
        "# en este caso, hemos seleccionado TODAS las variables disponibles en el data frame, salvo dos específicas que hemos negativizado"
      ],
      "execution_count": 9,
      "outputs": [
        {
          "output_type": "display_data",
          "data": {
            "text/html": [
              "<table class=\"dataframe\">\n",
              "<caption>A data.table: 26 × 5</caption>\n",
              "<thead>\n",
              "\t<tr><th scope=col>Film</th><th scope=col>Year</th><th scope=col>Actor</th><th scope=col>Box Office</th><th scope=col>Bond Actor Salary</th></tr>\n",
              "\t<tr><th scope=col>&lt;chr&gt;</th><th scope=col>&lt;int&gt;</th><th scope=col>&lt;chr&gt;</th><th scope=col>&lt;dbl&gt;</th><th scope=col>&lt;dbl&gt;</th></tr>\n",
              "</thead>\n",
              "<tbody>\n",
              "\t<tr><td>Dr. No                         </td><td>1962</td><td>Sean Connery  </td><td>448.8</td><td> 0.6</td></tr>\n",
              "\t<tr><td>From Russia with Love          </td><td>1963</td><td>Sean Connery  </td><td>543.8</td><td> 1.6</td></tr>\n",
              "\t<tr><td>Goldfinger                     </td><td>1964</td><td>Sean Connery  </td><td>820.4</td><td> 3.2</td></tr>\n",
              "\t<tr><td>Thunderball                    </td><td>1965</td><td>Sean Connery  </td><td>848.1</td><td> 4.7</td></tr>\n",
              "\t<tr><td>Casino Royale                  </td><td>1967</td><td>David Niven   </td><td>315.0</td><td>  NA</td></tr>\n",
              "\t<tr><td>You Only Live Twice            </td><td>1967</td><td>Sean Connery  </td><td>514.2</td><td> 4.4</td></tr>\n",
              "\t<tr><td>On Her Majesty's Secret Service</td><td>1969</td><td>George Lazenby</td><td>291.5</td><td> 0.6</td></tr>\n",
              "\t<tr><td>Diamonds Are Forever           </td><td>1971</td><td>Sean Connery  </td><td>442.5</td><td> 5.8</td></tr>\n",
              "\t<tr><td>Live and Let Die               </td><td>1973</td><td>Roger Moore   </td><td>460.3</td><td>  NA</td></tr>\n",
              "\t<tr><td>The Man with the Golden Gun    </td><td>1974</td><td>Roger Moore   </td><td>334.0</td><td>  NA</td></tr>\n",
              "\t<tr><td>The Spy Who Loved Me           </td><td>1977</td><td>Roger Moore   </td><td>533.0</td><td>  NA</td></tr>\n",
              "\t<tr><td>Moonraker                      </td><td>1979</td><td>Roger Moore   </td><td>535.0</td><td>  NA</td></tr>\n",
              "\t<tr><td>For Your Eyes Only             </td><td>1981</td><td>Roger Moore   </td><td>449.4</td><td>  NA</td></tr>\n",
              "\t<tr><td>Never Say Never Again          </td><td>1983</td><td>Sean Connery  </td><td>380.0</td><td>  NA</td></tr>\n",
              "\t<tr><td>Octopussy                      </td><td>1983</td><td>Roger Moore   </td><td>373.8</td><td> 7.8</td></tr>\n",
              "\t<tr><td>A View to a Kill               </td><td>1985</td><td>Roger Moore   </td><td>275.2</td><td> 9.1</td></tr>\n",
              "\t<tr><td>The Living Daylights           </td><td>1987</td><td>Timothy Dalton</td><td>313.5</td><td> 5.2</td></tr>\n",
              "\t<tr><td>Licence to Kill                </td><td>1989</td><td>Timothy Dalton</td><td>250.9</td><td> 7.9</td></tr>\n",
              "\t<tr><td>GoldenEye                      </td><td>1995</td><td>Pierce Brosnan</td><td>518.5</td><td> 5.1</td></tr>\n",
              "\t<tr><td>Tomorrow Never Dies            </td><td>1997</td><td>Pierce Brosnan</td><td>463.2</td><td>10.0</td></tr>\n",
              "\t<tr><td>The World Is Not Enough        </td><td>1999</td><td>Pierce Brosnan</td><td>439.5</td><td>13.5</td></tr>\n",
              "\t<tr><td>Die Another Day                </td><td>2002</td><td>Pierce Brosnan</td><td>465.4</td><td>17.9</td></tr>\n",
              "\t<tr><td>Casino Royale                  </td><td>2006</td><td>Daniel Craig  </td><td>581.5</td><td> 3.3</td></tr>\n",
              "\t<tr><td>Quantum of Solace              </td><td>2008</td><td>Daniel Craig  </td><td>514.2</td><td> 8.1</td></tr>\n",
              "\t<tr><td>Skyfall                        </td><td>2012</td><td>Daniel Craig  </td><td>943.5</td><td>14.5</td></tr>\n",
              "\t<tr><td>Spectre                        </td><td>2015</td><td>Daniel Craig  </td><td>726.7</td><td>  NA</td></tr>\n",
              "</tbody>\n",
              "</table>\n"
            ],
            "text/markdown": "\nA data.table: 26 × 5\n\n| Film &lt;chr&gt; | Year &lt;int&gt; | Actor &lt;chr&gt; | Box Office &lt;dbl&gt; | Bond Actor Salary &lt;dbl&gt; |\n|---|---|---|---|---|\n| Dr. No                          | 1962 | Sean Connery   | 448.8 |  0.6 |\n| From Russia with Love           | 1963 | Sean Connery   | 543.8 |  1.6 |\n| Goldfinger                      | 1964 | Sean Connery   | 820.4 |  3.2 |\n| Thunderball                     | 1965 | Sean Connery   | 848.1 |  4.7 |\n| Casino Royale                   | 1967 | David Niven    | 315.0 |   NA |\n| You Only Live Twice             | 1967 | Sean Connery   | 514.2 |  4.4 |\n| On Her Majesty's Secret Service | 1969 | George Lazenby | 291.5 |  0.6 |\n| Diamonds Are Forever            | 1971 | Sean Connery   | 442.5 |  5.8 |\n| Live and Let Die                | 1973 | Roger Moore    | 460.3 |   NA |\n| The Man with the Golden Gun     | 1974 | Roger Moore    | 334.0 |   NA |\n| The Spy Who Loved Me            | 1977 | Roger Moore    | 533.0 |   NA |\n| Moonraker                       | 1979 | Roger Moore    | 535.0 |   NA |\n| For Your Eyes Only              | 1981 | Roger Moore    | 449.4 |   NA |\n| Never Say Never Again           | 1983 | Sean Connery   | 380.0 |   NA |\n| Octopussy                       | 1983 | Roger Moore    | 373.8 |  7.8 |\n| A View to a Kill                | 1985 | Roger Moore    | 275.2 |  9.1 |\n| The Living Daylights            | 1987 | Timothy Dalton | 313.5 |  5.2 |\n| Licence to Kill                 | 1989 | Timothy Dalton | 250.9 |  7.9 |\n| GoldenEye                       | 1995 | Pierce Brosnan | 518.5 |  5.1 |\n| Tomorrow Never Dies             | 1997 | Pierce Brosnan | 463.2 | 10.0 |\n| The World Is Not Enough         | 1999 | Pierce Brosnan | 439.5 | 13.5 |\n| Die Another Day                 | 2002 | Pierce Brosnan | 465.4 | 17.9 |\n| Casino Royale                   | 2006 | Daniel Craig   | 581.5 |  3.3 |\n| Quantum of Solace               | 2008 | Daniel Craig   | 514.2 |  8.1 |\n| Skyfall                         | 2012 | Daniel Craig   | 943.5 | 14.5 |\n| Spectre                         | 2015 | Daniel Craig   | 726.7 |   NA |\n\n",
            "text/latex": "A data.table: 26 × 5\n\\begin{tabular}{lllll}\n Film & Year & Actor & Box Office & Bond Actor Salary\\\\\n <chr> & <int> & <chr> & <dbl> & <dbl>\\\\\n\\hline\n\t Dr. No                          & 1962 & Sean Connery   & 448.8 &  0.6\\\\\n\t From Russia with Love           & 1963 & Sean Connery   & 543.8 &  1.6\\\\\n\t Goldfinger                      & 1964 & Sean Connery   & 820.4 &  3.2\\\\\n\t Thunderball                     & 1965 & Sean Connery   & 848.1 &  4.7\\\\\n\t Casino Royale                   & 1967 & David Niven    & 315.0 &   NA\\\\\n\t You Only Live Twice             & 1967 & Sean Connery   & 514.2 &  4.4\\\\\n\t On Her Majesty's Secret Service & 1969 & George Lazenby & 291.5 &  0.6\\\\\n\t Diamonds Are Forever            & 1971 & Sean Connery   & 442.5 &  5.8\\\\\n\t Live and Let Die                & 1973 & Roger Moore    & 460.3 &   NA\\\\\n\t The Man with the Golden Gun     & 1974 & Roger Moore    & 334.0 &   NA\\\\\n\t The Spy Who Loved Me            & 1977 & Roger Moore    & 533.0 &   NA\\\\\n\t Moonraker                       & 1979 & Roger Moore    & 535.0 &   NA\\\\\n\t For Your Eyes Only              & 1981 & Roger Moore    & 449.4 &   NA\\\\\n\t Never Say Never Again           & 1983 & Sean Connery   & 380.0 &   NA\\\\\n\t Octopussy                       & 1983 & Roger Moore    & 373.8 &  7.8\\\\\n\t A View to a Kill                & 1985 & Roger Moore    & 275.2 &  9.1\\\\\n\t The Living Daylights            & 1987 & Timothy Dalton & 313.5 &  5.2\\\\\n\t Licence to Kill                 & 1989 & Timothy Dalton & 250.9 &  7.9\\\\\n\t GoldenEye                       & 1995 & Pierce Brosnan & 518.5 &  5.1\\\\\n\t Tomorrow Never Dies             & 1997 & Pierce Brosnan & 463.2 & 10.0\\\\\n\t The World Is Not Enough         & 1999 & Pierce Brosnan & 439.5 & 13.5\\\\\n\t Die Another Day                 & 2002 & Pierce Brosnan & 465.4 & 17.9\\\\\n\t Casino Royale                   & 2006 & Daniel Craig   & 581.5 &  3.3\\\\\n\t Quantum of Solace               & 2008 & Daniel Craig   & 514.2 &  8.1\\\\\n\t Skyfall                         & 2012 & Daniel Craig   & 943.5 & 14.5\\\\\n\t Spectre                         & 2015 & Daniel Craig   & 726.7 &   NA\\\\\n\\end{tabular}\n",
            "text/plain": [
              "   Film                            Year Actor          Box Office\n",
              "1  Dr. No                          1962 Sean Connery   448.8     \n",
              "2  From Russia with Love           1963 Sean Connery   543.8     \n",
              "3  Goldfinger                      1964 Sean Connery   820.4     \n",
              "4  Thunderball                     1965 Sean Connery   848.1     \n",
              "5  Casino Royale                   1967 David Niven    315.0     \n",
              "6  You Only Live Twice             1967 Sean Connery   514.2     \n",
              "7  On Her Majesty's Secret Service 1969 George Lazenby 291.5     \n",
              "8  Diamonds Are Forever            1971 Sean Connery   442.5     \n",
              "9  Live and Let Die                1973 Roger Moore    460.3     \n",
              "10 The Man with the Golden Gun     1974 Roger Moore    334.0     \n",
              "11 The Spy Who Loved Me            1977 Roger Moore    533.0     \n",
              "12 Moonraker                       1979 Roger Moore    535.0     \n",
              "13 For Your Eyes Only              1981 Roger Moore    449.4     \n",
              "14 Never Say Never Again           1983 Sean Connery   380.0     \n",
              "15 Octopussy                       1983 Roger Moore    373.8     \n",
              "16 A View to a Kill                1985 Roger Moore    275.2     \n",
              "17 The Living Daylights            1987 Timothy Dalton 313.5     \n",
              "18 Licence to Kill                 1989 Timothy Dalton 250.9     \n",
              "19 GoldenEye                       1995 Pierce Brosnan 518.5     \n",
              "20 Tomorrow Never Dies             1997 Pierce Brosnan 463.2     \n",
              "21 The World Is Not Enough         1999 Pierce Brosnan 439.5     \n",
              "22 Die Another Day                 2002 Pierce Brosnan 465.4     \n",
              "23 Casino Royale                   2006 Daniel Craig   581.5     \n",
              "24 Quantum of Solace               2008 Daniel Craig   514.2     \n",
              "25 Skyfall                         2012 Daniel Craig   943.5     \n",
              "26 Spectre                         2015 Daniel Craig   726.7     \n",
              "   Bond Actor Salary\n",
              "1   0.6             \n",
              "2   1.6             \n",
              "3   3.2             \n",
              "4   4.7             \n",
              "5    NA             \n",
              "6   4.4             \n",
              "7   0.6             \n",
              "8   5.8             \n",
              "9    NA             \n",
              "10   NA             \n",
              "11   NA             \n",
              "12   NA             \n",
              "13   NA             \n",
              "14   NA             \n",
              "15  7.8             \n",
              "16  9.1             \n",
              "17  5.2             \n",
              "18  7.9             \n",
              "19  5.1             \n",
              "20 10.0             \n",
              "21 13.5             \n",
              "22 17.9             \n",
              "23  3.3             \n",
              "24  8.1             \n",
              "25 14.5             \n",
              "26   NA             "
            ]
          },
          "metadata": {}
        }
      ]
    },
    {
      "cell_type": "code",
      "metadata": {
        "colab": {
          "base_uri": "https://localhost:8080/",
          "height": 506
        },
        "id": "FWMuLAyAg9Kc",
        "outputId": "e8fdbc28-8ac7-4fd3-cbea-432cdf04cb4d"
      },
      "source": [
        "# podemos forzar combinaciones únicas utilizando la función unique()\n",
        "df_james_bond %>% select(\n",
        "  Director                      # seleccionamos variable Director\n",
        ") %>% unique()                  # forzamos valores únicos"
      ],
      "execution_count": 10,
      "outputs": [
        {
          "output_type": "display_data",
          "data": {
            "text/html": [
              "<table class=\"dataframe\">\n",
              "<caption>A data.table: 13 × 1</caption>\n",
              "<thead>\n",
              "\t<tr><th scope=col>Director</th></tr>\n",
              "\t<tr><th scope=col>&lt;chr&gt;</th></tr>\n",
              "</thead>\n",
              "<tbody>\n",
              "\t<tr><td>Terence Young     </td></tr>\n",
              "\t<tr><td>Guy Hamilton      </td></tr>\n",
              "\t<tr><td>Ken Hughes        </td></tr>\n",
              "\t<tr><td>Lewis Gilbert     </td></tr>\n",
              "\t<tr><td>Peter R. Hunt     </td></tr>\n",
              "\t<tr><td>John Glen         </td></tr>\n",
              "\t<tr><td>Irvin Kershner    </td></tr>\n",
              "\t<tr><td>Martin Campbell   </td></tr>\n",
              "\t<tr><td>Roger Spottiswoode</td></tr>\n",
              "\t<tr><td>Michael Apted     </td></tr>\n",
              "\t<tr><td>Lee Tamahori      </td></tr>\n",
              "\t<tr><td>Marc Forster      </td></tr>\n",
              "\t<tr><td>Sam Mendes        </td></tr>\n",
              "</tbody>\n",
              "</table>\n"
            ],
            "text/markdown": "\nA data.table: 13 × 1\n\n| Director &lt;chr&gt; |\n|---|\n| Terence Young      |\n| Guy Hamilton       |\n| Ken Hughes         |\n| Lewis Gilbert      |\n| Peter R. Hunt      |\n| John Glen          |\n| Irvin Kershner     |\n| Martin Campbell    |\n| Roger Spottiswoode |\n| Michael Apted      |\n| Lee Tamahori       |\n| Marc Forster       |\n| Sam Mendes         |\n\n",
            "text/latex": "A data.table: 13 × 1\n\\begin{tabular}{l}\n Director\\\\\n <chr>\\\\\n\\hline\n\t Terence Young     \\\\\n\t Guy Hamilton      \\\\\n\t Ken Hughes        \\\\\n\t Lewis Gilbert     \\\\\n\t Peter R. Hunt     \\\\\n\t John Glen         \\\\\n\t Irvin Kershner    \\\\\n\t Martin Campbell   \\\\\n\t Roger Spottiswoode\\\\\n\t Michael Apted     \\\\\n\t Lee Tamahori      \\\\\n\t Marc Forster      \\\\\n\t Sam Mendes        \\\\\n\\end{tabular}\n",
            "text/plain": [
              "   Director          \n",
              "1  Terence Young     \n",
              "2  Guy Hamilton      \n",
              "3  Ken Hughes        \n",
              "4  Lewis Gilbert     \n",
              "5  Peter R. Hunt     \n",
              "6  John Glen         \n",
              "7  Irvin Kershner    \n",
              "8  Martin Campbell   \n",
              "9  Roger Spottiswoode\n",
              "10 Michael Apted     \n",
              "11 Lee Tamahori      \n",
              "12 Marc Forster      \n",
              "13 Sam Mendes        "
            ]
          },
          "metadata": {}
        }
      ]
    },
    {
      "cell_type": "markdown",
      "metadata": {
        "id": "3CXJFSZnTa0c"
      },
      "source": [
        "# 2. Filtrando filas\n",
        "---\n",
        "A continuación, aprenderemos una forma sencilla de filtrar observaciones en función de criterios lógicos utilizando la función `dplyr::filter()`.\n",
        "\n",
        "\n",
        "```\n",
        "dplyr::filter(df, condition_1, condition_2, ...)\n",
        "```\n",
        "\n"
      ]
    },
    {
      "cell_type": "code",
      "metadata": {
        "colab": {
          "base_uri": "https://localhost:8080/",
          "height": 255
        },
        "id": "RKapZSIaTlev",
        "outputId": "5df437dd-832d-48c7-e51d-6979bf5b06c7"
      },
      "source": [
        "# filtramos el df utilizando una condición\n",
        "df_james_bond %>% filter(Year>2000) # únicamente películas a partir del año 2000"
      ],
      "execution_count": 11,
      "outputs": [
        {
          "output_type": "display_data",
          "data": {
            "text/html": [
              "<table class=\"dataframe\">\n",
              "<caption>A data.table: 5 × 7</caption>\n",
              "<thead>\n",
              "\t<tr><th scope=col>Film</th><th scope=col>Year</th><th scope=col>Actor</th><th scope=col>Director</th><th scope=col>Box Office</th><th scope=col>Budget</th><th scope=col>Bond Actor Salary</th></tr>\n",
              "\t<tr><th scope=col>&lt;chr&gt;</th><th scope=col>&lt;int&gt;</th><th scope=col>&lt;chr&gt;</th><th scope=col>&lt;chr&gt;</th><th scope=col>&lt;dbl&gt;</th><th scope=col>&lt;dbl&gt;</th><th scope=col>&lt;dbl&gt;</th></tr>\n",
              "</thead>\n",
              "<tbody>\n",
              "\t<tr><td>Die Another Day  </td><td>2002</td><td>Pierce Brosnan</td><td>Lee Tamahori   </td><td>465.4</td><td>154.2</td><td>17.9</td></tr>\n",
              "\t<tr><td>Casino Royale    </td><td>2006</td><td>Daniel Craig  </td><td>Martin Campbell</td><td>581.5</td><td>145.3</td><td> 3.3</td></tr>\n",
              "\t<tr><td>Quantum of Solace</td><td>2008</td><td>Daniel Craig  </td><td>Marc Forster   </td><td>514.2</td><td>181.4</td><td> 8.1</td></tr>\n",
              "\t<tr><td>Skyfall          </td><td>2012</td><td>Daniel Craig  </td><td>Sam Mendes     </td><td>943.5</td><td>170.2</td><td>14.5</td></tr>\n",
              "\t<tr><td>Spectre          </td><td>2015</td><td>Daniel Craig  </td><td>Sam Mendes     </td><td>726.7</td><td>206.3</td><td>  NA</td></tr>\n",
              "</tbody>\n",
              "</table>\n"
            ],
            "text/markdown": "\nA data.table: 5 × 7\n\n| Film &lt;chr&gt; | Year &lt;int&gt; | Actor &lt;chr&gt; | Director &lt;chr&gt; | Box Office &lt;dbl&gt; | Budget &lt;dbl&gt; | Bond Actor Salary &lt;dbl&gt; |\n|---|---|---|---|---|---|---|\n| Die Another Day   | 2002 | Pierce Brosnan | Lee Tamahori    | 465.4 | 154.2 | 17.9 |\n| Casino Royale     | 2006 | Daniel Craig   | Martin Campbell | 581.5 | 145.3 |  3.3 |\n| Quantum of Solace | 2008 | Daniel Craig   | Marc Forster    | 514.2 | 181.4 |  8.1 |\n| Skyfall           | 2012 | Daniel Craig   | Sam Mendes      | 943.5 | 170.2 | 14.5 |\n| Spectre           | 2015 | Daniel Craig   | Sam Mendes      | 726.7 | 206.3 |   NA |\n\n",
            "text/latex": "A data.table: 5 × 7\n\\begin{tabular}{lllllll}\n Film & Year & Actor & Director & Box Office & Budget & Bond Actor Salary\\\\\n <chr> & <int> & <chr> & <chr> & <dbl> & <dbl> & <dbl>\\\\\n\\hline\n\t Die Another Day   & 2002 & Pierce Brosnan & Lee Tamahori    & 465.4 & 154.2 & 17.9\\\\\n\t Casino Royale     & 2006 & Daniel Craig   & Martin Campbell & 581.5 & 145.3 &  3.3\\\\\n\t Quantum of Solace & 2008 & Daniel Craig   & Marc Forster    & 514.2 & 181.4 &  8.1\\\\\n\t Skyfall           & 2012 & Daniel Craig   & Sam Mendes      & 943.5 & 170.2 & 14.5\\\\\n\t Spectre           & 2015 & Daniel Craig   & Sam Mendes      & 726.7 & 206.3 &   NA\\\\\n\\end{tabular}\n",
            "text/plain": [
              "  Film              Year Actor          Director        Box Office Budget\n",
              "1 Die Another Day   2002 Pierce Brosnan Lee Tamahori    465.4      154.2 \n",
              "2 Casino Royale     2006 Daniel Craig   Martin Campbell 581.5      145.3 \n",
              "3 Quantum of Solace 2008 Daniel Craig   Marc Forster    514.2      181.4 \n",
              "4 Skyfall           2012 Daniel Craig   Sam Mendes      943.5      170.2 \n",
              "5 Spectre           2015 Daniel Craig   Sam Mendes      726.7      206.3 \n",
              "  Bond Actor Salary\n",
              "1 17.9             \n",
              "2  3.3             \n",
              "3  8.1             \n",
              "4 14.5             \n",
              "5   NA             "
            ]
          },
          "metadata": {}
        }
      ]
    },
    {
      "cell_type": "code",
      "metadata": {
        "colab": {
          "base_uri": "https://localhost:8080/",
          "height": 255
        },
        "id": "cOzG9FP6TlqE",
        "outputId": "b698a9f0-4485-4e76-875c-fcc1b4f885cf"
      },
      "source": [
        "# podemos combinar múltiples funciones de manipulación utilizando el \"pipe operator\"\n",
        "# el orden de las funciones es fundamental, ya que estamos haciendo operaciones de a pasos \n",
        "df_james_bond %>% select(Film,Year) %>% filter(Year>2000) \n",
        "# si hubiéramos omitido seleccionar la columna \"year\", no podríamos luego filtrar por ese campo"
      ],
      "execution_count": 12,
      "outputs": [
        {
          "output_type": "display_data",
          "data": {
            "text/html": [
              "<table class=\"dataframe\">\n",
              "<caption>A data.table: 5 × 2</caption>\n",
              "<thead>\n",
              "\t<tr><th scope=col>Film</th><th scope=col>Year</th></tr>\n",
              "\t<tr><th scope=col>&lt;chr&gt;</th><th scope=col>&lt;int&gt;</th></tr>\n",
              "</thead>\n",
              "<tbody>\n",
              "\t<tr><td>Die Another Day  </td><td>2002</td></tr>\n",
              "\t<tr><td>Casino Royale    </td><td>2006</td></tr>\n",
              "\t<tr><td>Quantum of Solace</td><td>2008</td></tr>\n",
              "\t<tr><td>Skyfall          </td><td>2012</td></tr>\n",
              "\t<tr><td>Spectre          </td><td>2015</td></tr>\n",
              "</tbody>\n",
              "</table>\n"
            ],
            "text/markdown": "\nA data.table: 5 × 2\n\n| Film &lt;chr&gt; | Year &lt;int&gt; |\n|---|---|\n| Die Another Day   | 2002 |\n| Casino Royale     | 2006 |\n| Quantum of Solace | 2008 |\n| Skyfall           | 2012 |\n| Spectre           | 2015 |\n\n",
            "text/latex": "A data.table: 5 × 2\n\\begin{tabular}{ll}\n Film & Year\\\\\n <chr> & <int>\\\\\n\\hline\n\t Die Another Day   & 2002\\\\\n\t Casino Royale     & 2006\\\\\n\t Quantum of Solace & 2008\\\\\n\t Skyfall           & 2012\\\\\n\t Spectre           & 2015\\\\\n\\end{tabular}\n",
            "text/plain": [
              "  Film              Year\n",
              "1 Die Another Day   2002\n",
              "2 Casino Royale     2006\n",
              "3 Quantum of Solace 2008\n",
              "4 Skyfall           2012\n",
              "5 Spectre           2015"
            ]
          },
          "metadata": {}
        }
      ]
    },
    {
      "cell_type": "code",
      "metadata": {
        "colab": {
          "base_uri": "https://localhost:8080/",
          "height": 223
        },
        "id": "CRv1ZJxtUy2i",
        "outputId": "93ec9fe6-8dd7-40f1-f37b-9fb37dc8cf0e"
      },
      "source": [
        "# en el siguiente ejercicio, filtramos utilizando dos coindicines\n",
        "# agregar una nueva condición como parámetro, es exactamente lo mismo que agregarla utilizando el operador \"&\" (AND)\n",
        "df_james_bond %>% filter(\n",
        "  Year>2000\n",
        "  ,Actor == 'Daniel Craig'\n",
        ")"
      ],
      "execution_count": 13,
      "outputs": [
        {
          "output_type": "display_data",
          "data": {
            "text/html": [
              "<table class=\"dataframe\">\n",
              "<caption>A data.table: 4 × 7</caption>\n",
              "<thead>\n",
              "\t<tr><th scope=col>Film</th><th scope=col>Year</th><th scope=col>Actor</th><th scope=col>Director</th><th scope=col>Box Office</th><th scope=col>Budget</th><th scope=col>Bond Actor Salary</th></tr>\n",
              "\t<tr><th scope=col>&lt;chr&gt;</th><th scope=col>&lt;int&gt;</th><th scope=col>&lt;chr&gt;</th><th scope=col>&lt;chr&gt;</th><th scope=col>&lt;dbl&gt;</th><th scope=col>&lt;dbl&gt;</th><th scope=col>&lt;dbl&gt;</th></tr>\n",
              "</thead>\n",
              "<tbody>\n",
              "\t<tr><td>Casino Royale    </td><td>2006</td><td>Daniel Craig</td><td>Martin Campbell</td><td>581.5</td><td>145.3</td><td> 3.3</td></tr>\n",
              "\t<tr><td>Quantum of Solace</td><td>2008</td><td>Daniel Craig</td><td>Marc Forster   </td><td>514.2</td><td>181.4</td><td> 8.1</td></tr>\n",
              "\t<tr><td>Skyfall          </td><td>2012</td><td>Daniel Craig</td><td>Sam Mendes     </td><td>943.5</td><td>170.2</td><td>14.5</td></tr>\n",
              "\t<tr><td>Spectre          </td><td>2015</td><td>Daniel Craig</td><td>Sam Mendes     </td><td>726.7</td><td>206.3</td><td>  NA</td></tr>\n",
              "</tbody>\n",
              "</table>\n"
            ],
            "text/markdown": "\nA data.table: 4 × 7\n\n| Film &lt;chr&gt; | Year &lt;int&gt; | Actor &lt;chr&gt; | Director &lt;chr&gt; | Box Office &lt;dbl&gt; | Budget &lt;dbl&gt; | Bond Actor Salary &lt;dbl&gt; |\n|---|---|---|---|---|---|---|\n| Casino Royale     | 2006 | Daniel Craig | Martin Campbell | 581.5 | 145.3 |  3.3 |\n| Quantum of Solace | 2008 | Daniel Craig | Marc Forster    | 514.2 | 181.4 |  8.1 |\n| Skyfall           | 2012 | Daniel Craig | Sam Mendes      | 943.5 | 170.2 | 14.5 |\n| Spectre           | 2015 | Daniel Craig | Sam Mendes      | 726.7 | 206.3 |   NA |\n\n",
            "text/latex": "A data.table: 4 × 7\n\\begin{tabular}{lllllll}\n Film & Year & Actor & Director & Box Office & Budget & Bond Actor Salary\\\\\n <chr> & <int> & <chr> & <chr> & <dbl> & <dbl> & <dbl>\\\\\n\\hline\n\t Casino Royale     & 2006 & Daniel Craig & Martin Campbell & 581.5 & 145.3 &  3.3\\\\\n\t Quantum of Solace & 2008 & Daniel Craig & Marc Forster    & 514.2 & 181.4 &  8.1\\\\\n\t Skyfall           & 2012 & Daniel Craig & Sam Mendes      & 943.5 & 170.2 & 14.5\\\\\n\t Spectre           & 2015 & Daniel Craig & Sam Mendes      & 726.7 & 206.3 &   NA\\\\\n\\end{tabular}\n",
            "text/plain": [
              "  Film              Year Actor        Director        Box Office Budget\n",
              "1 Casino Royale     2006 Daniel Craig Martin Campbell 581.5      145.3 \n",
              "2 Quantum of Solace 2008 Daniel Craig Marc Forster    514.2      181.4 \n",
              "3 Skyfall           2012 Daniel Craig Sam Mendes      943.5      170.2 \n",
              "4 Spectre           2015 Daniel Craig Sam Mendes      726.7      206.3 \n",
              "  Bond Actor Salary\n",
              "1  3.3             \n",
              "2  8.1             \n",
              "3 14.5             \n",
              "4   NA             "
            ]
          },
          "metadata": {}
        }
      ]
    },
    {
      "cell_type": "code",
      "metadata": {
        "colab": {
          "base_uri": "https://localhost:8080/",
          "height": 223
        },
        "id": "xdgh_FjjU7O8",
        "outputId": "50d9204c-735f-459d-91b2-d4a4c61e807b"
      },
      "source": [
        "# comprobamos que obtenemos el resultado utilizando una única condición compuesta por dos elementos\n",
        "# filtramos por películas que hayan sido lanzadas a partir de 2000 y cuyo actor sea Daniel Craig\n",
        "df_james_bond %>% filter(\n",
        "  Year>2000 & Actor == 'Daniel Craig' \n",
        ")\n"
      ],
      "execution_count": 14,
      "outputs": [
        {
          "output_type": "display_data",
          "data": {
            "text/html": [
              "<table class=\"dataframe\">\n",
              "<caption>A data.table: 4 × 7</caption>\n",
              "<thead>\n",
              "\t<tr><th scope=col>Film</th><th scope=col>Year</th><th scope=col>Actor</th><th scope=col>Director</th><th scope=col>Box Office</th><th scope=col>Budget</th><th scope=col>Bond Actor Salary</th></tr>\n",
              "\t<tr><th scope=col>&lt;chr&gt;</th><th scope=col>&lt;int&gt;</th><th scope=col>&lt;chr&gt;</th><th scope=col>&lt;chr&gt;</th><th scope=col>&lt;dbl&gt;</th><th scope=col>&lt;dbl&gt;</th><th scope=col>&lt;dbl&gt;</th></tr>\n",
              "</thead>\n",
              "<tbody>\n",
              "\t<tr><td>Casino Royale    </td><td>2006</td><td>Daniel Craig</td><td>Martin Campbell</td><td>581.5</td><td>145.3</td><td> 3.3</td></tr>\n",
              "\t<tr><td>Quantum of Solace</td><td>2008</td><td>Daniel Craig</td><td>Marc Forster   </td><td>514.2</td><td>181.4</td><td> 8.1</td></tr>\n",
              "\t<tr><td>Skyfall          </td><td>2012</td><td>Daniel Craig</td><td>Sam Mendes     </td><td>943.5</td><td>170.2</td><td>14.5</td></tr>\n",
              "\t<tr><td>Spectre          </td><td>2015</td><td>Daniel Craig</td><td>Sam Mendes     </td><td>726.7</td><td>206.3</td><td>  NA</td></tr>\n",
              "</tbody>\n",
              "</table>\n"
            ],
            "text/markdown": "\nA data.table: 4 × 7\n\n| Film &lt;chr&gt; | Year &lt;int&gt; | Actor &lt;chr&gt; | Director &lt;chr&gt; | Box Office &lt;dbl&gt; | Budget &lt;dbl&gt; | Bond Actor Salary &lt;dbl&gt; |\n|---|---|---|---|---|---|---|\n| Casino Royale     | 2006 | Daniel Craig | Martin Campbell | 581.5 | 145.3 |  3.3 |\n| Quantum of Solace | 2008 | Daniel Craig | Marc Forster    | 514.2 | 181.4 |  8.1 |\n| Skyfall           | 2012 | Daniel Craig | Sam Mendes      | 943.5 | 170.2 | 14.5 |\n| Spectre           | 2015 | Daniel Craig | Sam Mendes      | 726.7 | 206.3 |   NA |\n\n",
            "text/latex": "A data.table: 4 × 7\n\\begin{tabular}{lllllll}\n Film & Year & Actor & Director & Box Office & Budget & Bond Actor Salary\\\\\n <chr> & <int> & <chr> & <chr> & <dbl> & <dbl> & <dbl>\\\\\n\\hline\n\t Casino Royale     & 2006 & Daniel Craig & Martin Campbell & 581.5 & 145.3 &  3.3\\\\\n\t Quantum of Solace & 2008 & Daniel Craig & Marc Forster    & 514.2 & 181.4 &  8.1\\\\\n\t Skyfall           & 2012 & Daniel Craig & Sam Mendes      & 943.5 & 170.2 & 14.5\\\\\n\t Spectre           & 2015 & Daniel Craig & Sam Mendes      & 726.7 & 206.3 &   NA\\\\\n\\end{tabular}\n",
            "text/plain": [
              "  Film              Year Actor        Director        Box Office Budget\n",
              "1 Casino Royale     2006 Daniel Craig Martin Campbell 581.5      145.3 \n",
              "2 Quantum of Solace 2008 Daniel Craig Marc Forster    514.2      181.4 \n",
              "3 Skyfall           2012 Daniel Craig Sam Mendes      943.5      170.2 \n",
              "4 Spectre           2015 Daniel Craig Sam Mendes      726.7      206.3 \n",
              "  Bond Actor Salary\n",
              "1  3.3             \n",
              "2  8.1             \n",
              "3 14.5             \n",
              "4   NA             "
            ]
          },
          "metadata": {}
        }
      ]
    },
    {
      "cell_type": "code",
      "metadata": {
        "colab": {
          "base_uri": "https://localhost:8080/",
          "height": 255
        },
        "id": "RPeR7syAU_FR",
        "outputId": "c68989ab-d7bd-4c92-e05b-1f794ecd3f5d"
      },
      "source": [
        "# distinto sería si ambos elementos en la condición fueran de tipo OR (\"|\")\n",
        "df_james_bond %>% filter(\n",
        "  Year>2000 | Actor == 'Daniel Craig' \n",
        ")\n",
        "# filtramos por películas que hayan sido lanzadas a partir de 2000 o cuyo actor sea Daniel Craig"
      ],
      "execution_count": 15,
      "outputs": [
        {
          "output_type": "display_data",
          "data": {
            "text/html": [
              "<table class=\"dataframe\">\n",
              "<caption>A data.table: 5 × 7</caption>\n",
              "<thead>\n",
              "\t<tr><th scope=col>Film</th><th scope=col>Year</th><th scope=col>Actor</th><th scope=col>Director</th><th scope=col>Box Office</th><th scope=col>Budget</th><th scope=col>Bond Actor Salary</th></tr>\n",
              "\t<tr><th scope=col>&lt;chr&gt;</th><th scope=col>&lt;int&gt;</th><th scope=col>&lt;chr&gt;</th><th scope=col>&lt;chr&gt;</th><th scope=col>&lt;dbl&gt;</th><th scope=col>&lt;dbl&gt;</th><th scope=col>&lt;dbl&gt;</th></tr>\n",
              "</thead>\n",
              "<tbody>\n",
              "\t<tr><td>Die Another Day  </td><td>2002</td><td>Pierce Brosnan</td><td>Lee Tamahori   </td><td>465.4</td><td>154.2</td><td>17.9</td></tr>\n",
              "\t<tr><td>Casino Royale    </td><td>2006</td><td>Daniel Craig  </td><td>Martin Campbell</td><td>581.5</td><td>145.3</td><td> 3.3</td></tr>\n",
              "\t<tr><td>Quantum of Solace</td><td>2008</td><td>Daniel Craig  </td><td>Marc Forster   </td><td>514.2</td><td>181.4</td><td> 8.1</td></tr>\n",
              "\t<tr><td>Skyfall          </td><td>2012</td><td>Daniel Craig  </td><td>Sam Mendes     </td><td>943.5</td><td>170.2</td><td>14.5</td></tr>\n",
              "\t<tr><td>Spectre          </td><td>2015</td><td>Daniel Craig  </td><td>Sam Mendes     </td><td>726.7</td><td>206.3</td><td>  NA</td></tr>\n",
              "</tbody>\n",
              "</table>\n"
            ],
            "text/markdown": "\nA data.table: 5 × 7\n\n| Film &lt;chr&gt; | Year &lt;int&gt; | Actor &lt;chr&gt; | Director &lt;chr&gt; | Box Office &lt;dbl&gt; | Budget &lt;dbl&gt; | Bond Actor Salary &lt;dbl&gt; |\n|---|---|---|---|---|---|---|\n| Die Another Day   | 2002 | Pierce Brosnan | Lee Tamahori    | 465.4 | 154.2 | 17.9 |\n| Casino Royale     | 2006 | Daniel Craig   | Martin Campbell | 581.5 | 145.3 |  3.3 |\n| Quantum of Solace | 2008 | Daniel Craig   | Marc Forster    | 514.2 | 181.4 |  8.1 |\n| Skyfall           | 2012 | Daniel Craig   | Sam Mendes      | 943.5 | 170.2 | 14.5 |\n| Spectre           | 2015 | Daniel Craig   | Sam Mendes      | 726.7 | 206.3 |   NA |\n\n",
            "text/latex": "A data.table: 5 × 7\n\\begin{tabular}{lllllll}\n Film & Year & Actor & Director & Box Office & Budget & Bond Actor Salary\\\\\n <chr> & <int> & <chr> & <chr> & <dbl> & <dbl> & <dbl>\\\\\n\\hline\n\t Die Another Day   & 2002 & Pierce Brosnan & Lee Tamahori    & 465.4 & 154.2 & 17.9\\\\\n\t Casino Royale     & 2006 & Daniel Craig   & Martin Campbell & 581.5 & 145.3 &  3.3\\\\\n\t Quantum of Solace & 2008 & Daniel Craig   & Marc Forster    & 514.2 & 181.4 &  8.1\\\\\n\t Skyfall           & 2012 & Daniel Craig   & Sam Mendes      & 943.5 & 170.2 & 14.5\\\\\n\t Spectre           & 2015 & Daniel Craig   & Sam Mendes      & 726.7 & 206.3 &   NA\\\\\n\\end{tabular}\n",
            "text/plain": [
              "  Film              Year Actor          Director        Box Office Budget\n",
              "1 Die Another Day   2002 Pierce Brosnan Lee Tamahori    465.4      154.2 \n",
              "2 Casino Royale     2006 Daniel Craig   Martin Campbell 581.5      145.3 \n",
              "3 Quantum of Solace 2008 Daniel Craig   Marc Forster    514.2      181.4 \n",
              "4 Skyfall           2012 Daniel Craig   Sam Mendes      943.5      170.2 \n",
              "5 Spectre           2015 Daniel Craig   Sam Mendes      726.7      206.3 \n",
              "  Bond Actor Salary\n",
              "1 17.9             \n",
              "2  3.3             \n",
              "3  8.1             \n",
              "4 14.5             \n",
              "5   NA             "
            ]
          },
          "metadata": {}
        }
      ]
    },
    {
      "cell_type": "code",
      "metadata": {
        "colab": {
          "base_uri": "https://localhost:8080/",
          "height": 568
        },
        "id": "Nfbb7820VGys",
        "outputId": "50780117-237c-4277-a68a-4d91e5acc8ac"
      },
      "source": [
        "# filtramos un campo según un vector, utilizando el operador \"IN\"\n",
        "df_james_bond %>% filter(\n",
        "  Actor %in% c('Daniel Craig','Pierce Brosnan','Sean Connery') \n",
        ")\n",
        "# filtramos por películas cuyos actores sean alguno de los especificados"
      ],
      "execution_count": 16,
      "outputs": [
        {
          "output_type": "display_data",
          "data": {
            "text/html": [
              "<table class=\"dataframe\">\n",
              "<caption>A data.table: 15 × 7</caption>\n",
              "<thead>\n",
              "\t<tr><th scope=col>Film</th><th scope=col>Year</th><th scope=col>Actor</th><th scope=col>Director</th><th scope=col>Box Office</th><th scope=col>Budget</th><th scope=col>Bond Actor Salary</th></tr>\n",
              "\t<tr><th scope=col>&lt;chr&gt;</th><th scope=col>&lt;int&gt;</th><th scope=col>&lt;chr&gt;</th><th scope=col>&lt;chr&gt;</th><th scope=col>&lt;dbl&gt;</th><th scope=col>&lt;dbl&gt;</th><th scope=col>&lt;dbl&gt;</th></tr>\n",
              "</thead>\n",
              "<tbody>\n",
              "\t<tr><td>Dr. No                 </td><td>1962</td><td>Sean Connery  </td><td>Terence Young     </td><td>448.8</td><td>  7.0</td><td> 0.6</td></tr>\n",
              "\t<tr><td>From Russia with Love  </td><td>1963</td><td>Sean Connery  </td><td>Terence Young     </td><td>543.8</td><td> 12.6</td><td> 1.6</td></tr>\n",
              "\t<tr><td>Goldfinger             </td><td>1964</td><td>Sean Connery  </td><td>Guy Hamilton      </td><td>820.4</td><td> 18.6</td><td> 3.2</td></tr>\n",
              "\t<tr><td>Thunderball            </td><td>1965</td><td>Sean Connery  </td><td>Terence Young     </td><td>848.1</td><td> 41.9</td><td> 4.7</td></tr>\n",
              "\t<tr><td>You Only Live Twice    </td><td>1967</td><td>Sean Connery  </td><td>Lewis Gilbert     </td><td>514.2</td><td> 59.9</td><td> 4.4</td></tr>\n",
              "\t<tr><td>Diamonds Are Forever   </td><td>1971</td><td>Sean Connery  </td><td>Guy Hamilton      </td><td>442.5</td><td> 34.7</td><td> 5.8</td></tr>\n",
              "\t<tr><td>Never Say Never Again  </td><td>1983</td><td>Sean Connery  </td><td>Irvin Kershner    </td><td>380.0</td><td> 86.0</td><td>  NA</td></tr>\n",
              "\t<tr><td>GoldenEye              </td><td>1995</td><td>Pierce Brosnan</td><td>Martin Campbell   </td><td>518.5</td><td> 76.9</td><td> 5.1</td></tr>\n",
              "\t<tr><td>Tomorrow Never Dies    </td><td>1997</td><td>Pierce Brosnan</td><td>Roger Spottiswoode</td><td>463.2</td><td>133.9</td><td>10.0</td></tr>\n",
              "\t<tr><td>The World Is Not Enough</td><td>1999</td><td>Pierce Brosnan</td><td>Michael Apted     </td><td>439.5</td><td>158.3</td><td>13.5</td></tr>\n",
              "\t<tr><td>Die Another Day        </td><td>2002</td><td>Pierce Brosnan</td><td>Lee Tamahori      </td><td>465.4</td><td>154.2</td><td>17.9</td></tr>\n",
              "\t<tr><td>Casino Royale          </td><td>2006</td><td>Daniel Craig  </td><td>Martin Campbell   </td><td>581.5</td><td>145.3</td><td> 3.3</td></tr>\n",
              "\t<tr><td>Quantum of Solace      </td><td>2008</td><td>Daniel Craig  </td><td>Marc Forster      </td><td>514.2</td><td>181.4</td><td> 8.1</td></tr>\n",
              "\t<tr><td>Skyfall                </td><td>2012</td><td>Daniel Craig  </td><td>Sam Mendes        </td><td>943.5</td><td>170.2</td><td>14.5</td></tr>\n",
              "\t<tr><td>Spectre                </td><td>2015</td><td>Daniel Craig  </td><td>Sam Mendes        </td><td>726.7</td><td>206.3</td><td>  NA</td></tr>\n",
              "</tbody>\n",
              "</table>\n"
            ],
            "text/markdown": "\nA data.table: 15 × 7\n\n| Film &lt;chr&gt; | Year &lt;int&gt; | Actor &lt;chr&gt; | Director &lt;chr&gt; | Box Office &lt;dbl&gt; | Budget &lt;dbl&gt; | Bond Actor Salary &lt;dbl&gt; |\n|---|---|---|---|---|---|---|\n| Dr. No                  | 1962 | Sean Connery   | Terence Young      | 448.8 |   7.0 |  0.6 |\n| From Russia with Love   | 1963 | Sean Connery   | Terence Young      | 543.8 |  12.6 |  1.6 |\n| Goldfinger              | 1964 | Sean Connery   | Guy Hamilton       | 820.4 |  18.6 |  3.2 |\n| Thunderball             | 1965 | Sean Connery   | Terence Young      | 848.1 |  41.9 |  4.7 |\n| You Only Live Twice     | 1967 | Sean Connery   | Lewis Gilbert      | 514.2 |  59.9 |  4.4 |\n| Diamonds Are Forever    | 1971 | Sean Connery   | Guy Hamilton       | 442.5 |  34.7 |  5.8 |\n| Never Say Never Again   | 1983 | Sean Connery   | Irvin Kershner     | 380.0 |  86.0 |   NA |\n| GoldenEye               | 1995 | Pierce Brosnan | Martin Campbell    | 518.5 |  76.9 |  5.1 |\n| Tomorrow Never Dies     | 1997 | Pierce Brosnan | Roger Spottiswoode | 463.2 | 133.9 | 10.0 |\n| The World Is Not Enough | 1999 | Pierce Brosnan | Michael Apted      | 439.5 | 158.3 | 13.5 |\n| Die Another Day         | 2002 | Pierce Brosnan | Lee Tamahori       | 465.4 | 154.2 | 17.9 |\n| Casino Royale           | 2006 | Daniel Craig   | Martin Campbell    | 581.5 | 145.3 |  3.3 |\n| Quantum of Solace       | 2008 | Daniel Craig   | Marc Forster       | 514.2 | 181.4 |  8.1 |\n| Skyfall                 | 2012 | Daniel Craig   | Sam Mendes         | 943.5 | 170.2 | 14.5 |\n| Spectre                 | 2015 | Daniel Craig   | Sam Mendes         | 726.7 | 206.3 |   NA |\n\n",
            "text/latex": "A data.table: 15 × 7\n\\begin{tabular}{lllllll}\n Film & Year & Actor & Director & Box Office & Budget & Bond Actor Salary\\\\\n <chr> & <int> & <chr> & <chr> & <dbl> & <dbl> & <dbl>\\\\\n\\hline\n\t Dr. No                  & 1962 & Sean Connery   & Terence Young      & 448.8 &   7.0 &  0.6\\\\\n\t From Russia with Love   & 1963 & Sean Connery   & Terence Young      & 543.8 &  12.6 &  1.6\\\\\n\t Goldfinger              & 1964 & Sean Connery   & Guy Hamilton       & 820.4 &  18.6 &  3.2\\\\\n\t Thunderball             & 1965 & Sean Connery   & Terence Young      & 848.1 &  41.9 &  4.7\\\\\n\t You Only Live Twice     & 1967 & Sean Connery   & Lewis Gilbert      & 514.2 &  59.9 &  4.4\\\\\n\t Diamonds Are Forever    & 1971 & Sean Connery   & Guy Hamilton       & 442.5 &  34.7 &  5.8\\\\\n\t Never Say Never Again   & 1983 & Sean Connery   & Irvin Kershner     & 380.0 &  86.0 &   NA\\\\\n\t GoldenEye               & 1995 & Pierce Brosnan & Martin Campbell    & 518.5 &  76.9 &  5.1\\\\\n\t Tomorrow Never Dies     & 1997 & Pierce Brosnan & Roger Spottiswoode & 463.2 & 133.9 & 10.0\\\\\n\t The World Is Not Enough & 1999 & Pierce Brosnan & Michael Apted      & 439.5 & 158.3 & 13.5\\\\\n\t Die Another Day         & 2002 & Pierce Brosnan & Lee Tamahori       & 465.4 & 154.2 & 17.9\\\\\n\t Casino Royale           & 2006 & Daniel Craig   & Martin Campbell    & 581.5 & 145.3 &  3.3\\\\\n\t Quantum of Solace       & 2008 & Daniel Craig   & Marc Forster       & 514.2 & 181.4 &  8.1\\\\\n\t Skyfall                 & 2012 & Daniel Craig   & Sam Mendes         & 943.5 & 170.2 & 14.5\\\\\n\t Spectre                 & 2015 & Daniel Craig   & Sam Mendes         & 726.7 & 206.3 &   NA\\\\\n\\end{tabular}\n",
            "text/plain": [
              "   Film                    Year Actor          Director           Box Office\n",
              "1  Dr. No                  1962 Sean Connery   Terence Young      448.8     \n",
              "2  From Russia with Love   1963 Sean Connery   Terence Young      543.8     \n",
              "3  Goldfinger              1964 Sean Connery   Guy Hamilton       820.4     \n",
              "4  Thunderball             1965 Sean Connery   Terence Young      848.1     \n",
              "5  You Only Live Twice     1967 Sean Connery   Lewis Gilbert      514.2     \n",
              "6  Diamonds Are Forever    1971 Sean Connery   Guy Hamilton       442.5     \n",
              "7  Never Say Never Again   1983 Sean Connery   Irvin Kershner     380.0     \n",
              "8  GoldenEye               1995 Pierce Brosnan Martin Campbell    518.5     \n",
              "9  Tomorrow Never Dies     1997 Pierce Brosnan Roger Spottiswoode 463.2     \n",
              "10 The World Is Not Enough 1999 Pierce Brosnan Michael Apted      439.5     \n",
              "11 Die Another Day         2002 Pierce Brosnan Lee Tamahori       465.4     \n",
              "12 Casino Royale           2006 Daniel Craig   Martin Campbell    581.5     \n",
              "13 Quantum of Solace       2008 Daniel Craig   Marc Forster       514.2     \n",
              "14 Skyfall                 2012 Daniel Craig   Sam Mendes         943.5     \n",
              "15 Spectre                 2015 Daniel Craig   Sam Mendes         726.7     \n",
              "   Budget Bond Actor Salary\n",
              "1    7.0   0.6             \n",
              "2   12.6   1.6             \n",
              "3   18.6   3.2             \n",
              "4   41.9   4.7             \n",
              "5   59.9   4.4             \n",
              "6   34.7   5.8             \n",
              "7   86.0    NA             \n",
              "8   76.9   5.1             \n",
              "9  133.9  10.0             \n",
              "10 158.3  13.5             \n",
              "11 154.2  17.9             \n",
              "12 145.3   3.3             \n",
              "13 181.4   8.1             \n",
              "14 170.2  14.5             \n",
              "15 206.3    NA             "
            ]
          },
          "metadata": {}
        }
      ]
    },
    {
      "cell_type": "code",
      "metadata": {
        "colab": {
          "base_uri": "https://localhost:8080/",
          "height": 443
        },
        "id": "SwW3A_8qVSxZ",
        "outputId": "3acb31ee-c04c-46d9-c35b-ea1e26909284"
      },
      "source": [
        "# podemos negar condiciones utilizando el operador \"!\" (negación)\n",
        "df_james_bond %>% filter(\n",
        "  !Actor %in% c('Daniel Craig','Pierce Brosnan','Sean Connery') \n",
        ")\n",
        "# filtramos por películas cuyos actores NO sean los especificados"
      ],
      "execution_count": 17,
      "outputs": [
        {
          "output_type": "display_data",
          "data": {
            "text/html": [
              "<table class=\"dataframe\">\n",
              "<caption>A data.table: 11 × 7</caption>\n",
              "<thead>\n",
              "\t<tr><th scope=col>Film</th><th scope=col>Year</th><th scope=col>Actor</th><th scope=col>Director</th><th scope=col>Box Office</th><th scope=col>Budget</th><th scope=col>Bond Actor Salary</th></tr>\n",
              "\t<tr><th scope=col>&lt;chr&gt;</th><th scope=col>&lt;int&gt;</th><th scope=col>&lt;chr&gt;</th><th scope=col>&lt;chr&gt;</th><th scope=col>&lt;dbl&gt;</th><th scope=col>&lt;dbl&gt;</th><th scope=col>&lt;dbl&gt;</th></tr>\n",
              "</thead>\n",
              "<tbody>\n",
              "\t<tr><td>Casino Royale                  </td><td>1967</td><td>David Niven   </td><td>Ken Hughes   </td><td>315.0</td><td>85.0</td><td> NA</td></tr>\n",
              "\t<tr><td>On Her Majesty's Secret Service</td><td>1969</td><td>George Lazenby</td><td>Peter R. Hunt</td><td>291.5</td><td>37.3</td><td>0.6</td></tr>\n",
              "\t<tr><td>Live and Let Die               </td><td>1973</td><td>Roger Moore   </td><td>Guy Hamilton </td><td>460.3</td><td>30.8</td><td> NA</td></tr>\n",
              "\t<tr><td>The Man with the Golden Gun    </td><td>1974</td><td>Roger Moore   </td><td>Guy Hamilton </td><td>334.0</td><td>27.7</td><td> NA</td></tr>\n",
              "\t<tr><td>The Spy Who Loved Me           </td><td>1977</td><td>Roger Moore   </td><td>Lewis Gilbert</td><td>533.0</td><td>45.1</td><td> NA</td></tr>\n",
              "\t<tr><td>Moonraker                      </td><td>1979</td><td>Roger Moore   </td><td>Lewis Gilbert</td><td>535.0</td><td>91.5</td><td> NA</td></tr>\n",
              "\t<tr><td>For Your Eyes Only             </td><td>1981</td><td>Roger Moore   </td><td>John Glen    </td><td>449.4</td><td>60.2</td><td> NA</td></tr>\n",
              "\t<tr><td>Octopussy                      </td><td>1983</td><td>Roger Moore   </td><td>John Glen    </td><td>373.8</td><td>53.9</td><td>7.8</td></tr>\n",
              "\t<tr><td>A View to a Kill               </td><td>1985</td><td>Roger Moore   </td><td>John Glen    </td><td>275.2</td><td>54.5</td><td>9.1</td></tr>\n",
              "\t<tr><td>The Living Daylights           </td><td>1987</td><td>Timothy Dalton</td><td>John Glen    </td><td>313.5</td><td>68.8</td><td>5.2</td></tr>\n",
              "\t<tr><td>Licence to Kill                </td><td>1989</td><td>Timothy Dalton</td><td>John Glen    </td><td>250.9</td><td>56.7</td><td>7.9</td></tr>\n",
              "</tbody>\n",
              "</table>\n"
            ],
            "text/markdown": "\nA data.table: 11 × 7\n\n| Film &lt;chr&gt; | Year &lt;int&gt; | Actor &lt;chr&gt; | Director &lt;chr&gt; | Box Office &lt;dbl&gt; | Budget &lt;dbl&gt; | Bond Actor Salary &lt;dbl&gt; |\n|---|---|---|---|---|---|---|\n| Casino Royale                   | 1967 | David Niven    | Ken Hughes    | 315.0 | 85.0 |  NA |\n| On Her Majesty's Secret Service | 1969 | George Lazenby | Peter R. Hunt | 291.5 | 37.3 | 0.6 |\n| Live and Let Die                | 1973 | Roger Moore    | Guy Hamilton  | 460.3 | 30.8 |  NA |\n| The Man with the Golden Gun     | 1974 | Roger Moore    | Guy Hamilton  | 334.0 | 27.7 |  NA |\n| The Spy Who Loved Me            | 1977 | Roger Moore    | Lewis Gilbert | 533.0 | 45.1 |  NA |\n| Moonraker                       | 1979 | Roger Moore    | Lewis Gilbert | 535.0 | 91.5 |  NA |\n| For Your Eyes Only              | 1981 | Roger Moore    | John Glen     | 449.4 | 60.2 |  NA |\n| Octopussy                       | 1983 | Roger Moore    | John Glen     | 373.8 | 53.9 | 7.8 |\n| A View to a Kill                | 1985 | Roger Moore    | John Glen     | 275.2 | 54.5 | 9.1 |\n| The Living Daylights            | 1987 | Timothy Dalton | John Glen     | 313.5 | 68.8 | 5.2 |\n| Licence to Kill                 | 1989 | Timothy Dalton | John Glen     | 250.9 | 56.7 | 7.9 |\n\n",
            "text/latex": "A data.table: 11 × 7\n\\begin{tabular}{lllllll}\n Film & Year & Actor & Director & Box Office & Budget & Bond Actor Salary\\\\\n <chr> & <int> & <chr> & <chr> & <dbl> & <dbl> & <dbl>\\\\\n\\hline\n\t Casino Royale                   & 1967 & David Niven    & Ken Hughes    & 315.0 & 85.0 &  NA\\\\\n\t On Her Majesty's Secret Service & 1969 & George Lazenby & Peter R. Hunt & 291.5 & 37.3 & 0.6\\\\\n\t Live and Let Die                & 1973 & Roger Moore    & Guy Hamilton  & 460.3 & 30.8 &  NA\\\\\n\t The Man with the Golden Gun     & 1974 & Roger Moore    & Guy Hamilton  & 334.0 & 27.7 &  NA\\\\\n\t The Spy Who Loved Me            & 1977 & Roger Moore    & Lewis Gilbert & 533.0 & 45.1 &  NA\\\\\n\t Moonraker                       & 1979 & Roger Moore    & Lewis Gilbert & 535.0 & 91.5 &  NA\\\\\n\t For Your Eyes Only              & 1981 & Roger Moore    & John Glen     & 449.4 & 60.2 &  NA\\\\\n\t Octopussy                       & 1983 & Roger Moore    & John Glen     & 373.8 & 53.9 & 7.8\\\\\n\t A View to a Kill                & 1985 & Roger Moore    & John Glen     & 275.2 & 54.5 & 9.1\\\\\n\t The Living Daylights            & 1987 & Timothy Dalton & John Glen     & 313.5 & 68.8 & 5.2\\\\\n\t Licence to Kill                 & 1989 & Timothy Dalton & John Glen     & 250.9 & 56.7 & 7.9\\\\\n\\end{tabular}\n",
            "text/plain": [
              "   Film                            Year Actor          Director      Box Office\n",
              "1  Casino Royale                   1967 David Niven    Ken Hughes    315.0     \n",
              "2  On Her Majesty's Secret Service 1969 George Lazenby Peter R. Hunt 291.5     \n",
              "3  Live and Let Die                1973 Roger Moore    Guy Hamilton  460.3     \n",
              "4  The Man with the Golden Gun     1974 Roger Moore    Guy Hamilton  334.0     \n",
              "5  The Spy Who Loved Me            1977 Roger Moore    Lewis Gilbert 533.0     \n",
              "6  Moonraker                       1979 Roger Moore    Lewis Gilbert 535.0     \n",
              "7  For Your Eyes Only              1981 Roger Moore    John Glen     449.4     \n",
              "8  Octopussy                       1983 Roger Moore    John Glen     373.8     \n",
              "9  A View to a Kill                1985 Roger Moore    John Glen     275.2     \n",
              "10 The Living Daylights            1987 Timothy Dalton John Glen     313.5     \n",
              "11 Licence to Kill                 1989 Timothy Dalton John Glen     250.9     \n",
              "   Budget Bond Actor Salary\n",
              "1  85.0    NA              \n",
              "2  37.3   0.6              \n",
              "3  30.8    NA              \n",
              "4  27.7    NA              \n",
              "5  45.1    NA              \n",
              "6  91.5    NA              \n",
              "7  60.2    NA              \n",
              "8  53.9   7.8              \n",
              "9  54.5   9.1              \n",
              "10 68.8   5.2              \n",
              "11 56.7   7.9              "
            ]
          },
          "metadata": {}
        }
      ]
    },
    {
      "cell_type": "markdown",
      "metadata": {
        "id": "igG5l-8vIzPH"
      },
      "source": [
        "# 3. Ordenar *data frame*\n",
        "---"
      ]
    },
    {
      "cell_type": "code",
      "metadata": {
        "id": "aE7H5kte88j1",
        "colab": {
          "base_uri": "https://localhost:8080/"
        },
        "outputId": "d63ba339-a5cb-4b66-eee8-0a43775b4193"
      },
      "source": [
        "df_james_bond = data.table::fread(\"https://data-wizards.s3.amazonaws.com/datasets/jamesbond.csv\")\n",
        "glimpse(df_james_bond)"
      ],
      "execution_count": 18,
      "outputs": [
        {
          "output_type": "stream",
          "name": "stdout",
          "text": [
            "Rows: 26\n",
            "Columns: 7\n",
            "$ Film                \u001b[3m\u001b[90m<chr>\u001b[39m\u001b[23m \"Dr. No\", \"From Russia with Love\", \"Goldfinger\", \"…\n",
            "$ Year                \u001b[3m\u001b[90m<int>\u001b[39m\u001b[23m 1962, 1963, 1964, 1965, 1967, 1967, 1969, 1971, 19…\n",
            "$ Actor               \u001b[3m\u001b[90m<chr>\u001b[39m\u001b[23m \"Sean Connery\", \"Sean Connery\", \"Sean Connery\", \"S…\n",
            "$ Director            \u001b[3m\u001b[90m<chr>\u001b[39m\u001b[23m \"Terence Young\", \"Terence Young\", \"Guy Hamilton\", …\n",
            "$ `Box Office`        \u001b[3m\u001b[90m<dbl>\u001b[39m\u001b[23m 448.8, 543.8, 820.4, 848.1, 315.0, 514.2, 291.5, 4…\n",
            "$ Budget              \u001b[3m\u001b[90m<dbl>\u001b[39m\u001b[23m 7.0, 12.6, 18.6, 41.9, 85.0, 59.9, 37.3, 34.7, 30.…\n",
            "$ `Bond Actor Salary` \u001b[3m\u001b[90m<dbl>\u001b[39m\u001b[23m 0.6, 1.6, 3.2, 4.7, NA, 4.4, 0.6, 5.8, NA, NA, NA,…\n"
          ]
        }
      ]
    },
    {
      "cell_type": "markdown",
      "metadata": {
        "id": "YvDEtrMcx4sd"
      },
      "source": [
        "\n",
        "La función `dplyr::arrange()` nos permite establecer un criterio para ordenar filas en un *data frame*.\n",
        "\n",
        "```\n",
        "dplyr::arrange(object, columns ...)\n",
        "```\n",
        "\n"
      ]
    },
    {
      "cell_type": "code",
      "metadata": {
        "colab": {
          "base_uri": "https://localhost:8080/",
          "height": 913
        },
        "id": "nOCDRbm1yF_d",
        "outputId": "f426dd68-beff-4773-9c51-202781cf8f52"
      },
      "source": [
        "# ordenamos el data frame según variable texto\n",
        "df_james_bond %>% arrange(Actor) \n",
        "# por defecto, el criterio es ascendente; al ser campo de tipo texto será en orden alfabético"
      ],
      "execution_count": 19,
      "outputs": [
        {
          "output_type": "display_data",
          "data": {
            "text/html": [
              "<table class=\"dataframe\">\n",
              "<caption>A data.table: 26 × 7</caption>\n",
              "<thead>\n",
              "\t<tr><th scope=col>Film</th><th scope=col>Year</th><th scope=col>Actor</th><th scope=col>Director</th><th scope=col>Box Office</th><th scope=col>Budget</th><th scope=col>Bond Actor Salary</th></tr>\n",
              "\t<tr><th scope=col>&lt;chr&gt;</th><th scope=col>&lt;int&gt;</th><th scope=col>&lt;chr&gt;</th><th scope=col>&lt;chr&gt;</th><th scope=col>&lt;dbl&gt;</th><th scope=col>&lt;dbl&gt;</th><th scope=col>&lt;dbl&gt;</th></tr>\n",
              "</thead>\n",
              "<tbody>\n",
              "\t<tr><td>Casino Royale                  </td><td>2006</td><td>Daniel Craig  </td><td>Martin Campbell   </td><td>581.5</td><td>145.3</td><td> 3.3</td></tr>\n",
              "\t<tr><td>Quantum of Solace              </td><td>2008</td><td>Daniel Craig  </td><td>Marc Forster      </td><td>514.2</td><td>181.4</td><td> 8.1</td></tr>\n",
              "\t<tr><td>Skyfall                        </td><td>2012</td><td>Daniel Craig  </td><td>Sam Mendes        </td><td>943.5</td><td>170.2</td><td>14.5</td></tr>\n",
              "\t<tr><td>Spectre                        </td><td>2015</td><td>Daniel Craig  </td><td>Sam Mendes        </td><td>726.7</td><td>206.3</td><td>  NA</td></tr>\n",
              "\t<tr><td>Casino Royale                  </td><td>1967</td><td>David Niven   </td><td>Ken Hughes        </td><td>315.0</td><td> 85.0</td><td>  NA</td></tr>\n",
              "\t<tr><td>On Her Majesty's Secret Service</td><td>1969</td><td>George Lazenby</td><td>Peter R. Hunt     </td><td>291.5</td><td> 37.3</td><td> 0.6</td></tr>\n",
              "\t<tr><td>GoldenEye                      </td><td>1995</td><td>Pierce Brosnan</td><td>Martin Campbell   </td><td>518.5</td><td> 76.9</td><td> 5.1</td></tr>\n",
              "\t<tr><td>Tomorrow Never Dies            </td><td>1997</td><td>Pierce Brosnan</td><td>Roger Spottiswoode</td><td>463.2</td><td>133.9</td><td>10.0</td></tr>\n",
              "\t<tr><td>The World Is Not Enough        </td><td>1999</td><td>Pierce Brosnan</td><td>Michael Apted     </td><td>439.5</td><td>158.3</td><td>13.5</td></tr>\n",
              "\t<tr><td>Die Another Day                </td><td>2002</td><td>Pierce Brosnan</td><td>Lee Tamahori      </td><td>465.4</td><td>154.2</td><td>17.9</td></tr>\n",
              "\t<tr><td>Live and Let Die               </td><td>1973</td><td>Roger Moore   </td><td>Guy Hamilton      </td><td>460.3</td><td> 30.8</td><td>  NA</td></tr>\n",
              "\t<tr><td>The Man with the Golden Gun    </td><td>1974</td><td>Roger Moore   </td><td>Guy Hamilton      </td><td>334.0</td><td> 27.7</td><td>  NA</td></tr>\n",
              "\t<tr><td>The Spy Who Loved Me           </td><td>1977</td><td>Roger Moore   </td><td>Lewis Gilbert     </td><td>533.0</td><td> 45.1</td><td>  NA</td></tr>\n",
              "\t<tr><td>Moonraker                      </td><td>1979</td><td>Roger Moore   </td><td>Lewis Gilbert     </td><td>535.0</td><td> 91.5</td><td>  NA</td></tr>\n",
              "\t<tr><td>For Your Eyes Only             </td><td>1981</td><td>Roger Moore   </td><td>John Glen         </td><td>449.4</td><td> 60.2</td><td>  NA</td></tr>\n",
              "\t<tr><td>Octopussy                      </td><td>1983</td><td>Roger Moore   </td><td>John Glen         </td><td>373.8</td><td> 53.9</td><td> 7.8</td></tr>\n",
              "\t<tr><td>A View to a Kill               </td><td>1985</td><td>Roger Moore   </td><td>John Glen         </td><td>275.2</td><td> 54.5</td><td> 9.1</td></tr>\n",
              "\t<tr><td>Dr. No                         </td><td>1962</td><td>Sean Connery  </td><td>Terence Young     </td><td>448.8</td><td>  7.0</td><td> 0.6</td></tr>\n",
              "\t<tr><td>From Russia with Love          </td><td>1963</td><td>Sean Connery  </td><td>Terence Young     </td><td>543.8</td><td> 12.6</td><td> 1.6</td></tr>\n",
              "\t<tr><td>Goldfinger                     </td><td>1964</td><td>Sean Connery  </td><td>Guy Hamilton      </td><td>820.4</td><td> 18.6</td><td> 3.2</td></tr>\n",
              "\t<tr><td>Thunderball                    </td><td>1965</td><td>Sean Connery  </td><td>Terence Young     </td><td>848.1</td><td> 41.9</td><td> 4.7</td></tr>\n",
              "\t<tr><td>You Only Live Twice            </td><td>1967</td><td>Sean Connery  </td><td>Lewis Gilbert     </td><td>514.2</td><td> 59.9</td><td> 4.4</td></tr>\n",
              "\t<tr><td>Diamonds Are Forever           </td><td>1971</td><td>Sean Connery  </td><td>Guy Hamilton      </td><td>442.5</td><td> 34.7</td><td> 5.8</td></tr>\n",
              "\t<tr><td>Never Say Never Again          </td><td>1983</td><td>Sean Connery  </td><td>Irvin Kershner    </td><td>380.0</td><td> 86.0</td><td>  NA</td></tr>\n",
              "\t<tr><td>The Living Daylights           </td><td>1987</td><td>Timothy Dalton</td><td>John Glen         </td><td>313.5</td><td> 68.8</td><td> 5.2</td></tr>\n",
              "\t<tr><td>Licence to Kill                </td><td>1989</td><td>Timothy Dalton</td><td>John Glen         </td><td>250.9</td><td> 56.7</td><td> 7.9</td></tr>\n",
              "</tbody>\n",
              "</table>\n"
            ],
            "text/markdown": "\nA data.table: 26 × 7\n\n| Film &lt;chr&gt; | Year &lt;int&gt; | Actor &lt;chr&gt; | Director &lt;chr&gt; | Box Office &lt;dbl&gt; | Budget &lt;dbl&gt; | Bond Actor Salary &lt;dbl&gt; |\n|---|---|---|---|---|---|---|\n| Casino Royale                   | 2006 | Daniel Craig   | Martin Campbell    | 581.5 | 145.3 |  3.3 |\n| Quantum of Solace               | 2008 | Daniel Craig   | Marc Forster       | 514.2 | 181.4 |  8.1 |\n| Skyfall                         | 2012 | Daniel Craig   | Sam Mendes         | 943.5 | 170.2 | 14.5 |\n| Spectre                         | 2015 | Daniel Craig   | Sam Mendes         | 726.7 | 206.3 |   NA |\n| Casino Royale                   | 1967 | David Niven    | Ken Hughes         | 315.0 |  85.0 |   NA |\n| On Her Majesty's Secret Service | 1969 | George Lazenby | Peter R. Hunt      | 291.5 |  37.3 |  0.6 |\n| GoldenEye                       | 1995 | Pierce Brosnan | Martin Campbell    | 518.5 |  76.9 |  5.1 |\n| Tomorrow Never Dies             | 1997 | Pierce Brosnan | Roger Spottiswoode | 463.2 | 133.9 | 10.0 |\n| The World Is Not Enough         | 1999 | Pierce Brosnan | Michael Apted      | 439.5 | 158.3 | 13.5 |\n| Die Another Day                 | 2002 | Pierce Brosnan | Lee Tamahori       | 465.4 | 154.2 | 17.9 |\n| Live and Let Die                | 1973 | Roger Moore    | Guy Hamilton       | 460.3 |  30.8 |   NA |\n| The Man with the Golden Gun     | 1974 | Roger Moore    | Guy Hamilton       | 334.0 |  27.7 |   NA |\n| The Spy Who Loved Me            | 1977 | Roger Moore    | Lewis Gilbert      | 533.0 |  45.1 |   NA |\n| Moonraker                       | 1979 | Roger Moore    | Lewis Gilbert      | 535.0 |  91.5 |   NA |\n| For Your Eyes Only              | 1981 | Roger Moore    | John Glen          | 449.4 |  60.2 |   NA |\n| Octopussy                       | 1983 | Roger Moore    | John Glen          | 373.8 |  53.9 |  7.8 |\n| A View to a Kill                | 1985 | Roger Moore    | John Glen          | 275.2 |  54.5 |  9.1 |\n| Dr. No                          | 1962 | Sean Connery   | Terence Young      | 448.8 |   7.0 |  0.6 |\n| From Russia with Love           | 1963 | Sean Connery   | Terence Young      | 543.8 |  12.6 |  1.6 |\n| Goldfinger                      | 1964 | Sean Connery   | Guy Hamilton       | 820.4 |  18.6 |  3.2 |\n| Thunderball                     | 1965 | Sean Connery   | Terence Young      | 848.1 |  41.9 |  4.7 |\n| You Only Live Twice             | 1967 | Sean Connery   | Lewis Gilbert      | 514.2 |  59.9 |  4.4 |\n| Diamonds Are Forever            | 1971 | Sean Connery   | Guy Hamilton       | 442.5 |  34.7 |  5.8 |\n| Never Say Never Again           | 1983 | Sean Connery   | Irvin Kershner     | 380.0 |  86.0 |   NA |\n| The Living Daylights            | 1987 | Timothy Dalton | John Glen          | 313.5 |  68.8 |  5.2 |\n| Licence to Kill                 | 1989 | Timothy Dalton | John Glen          | 250.9 |  56.7 |  7.9 |\n\n",
            "text/latex": "A data.table: 26 × 7\n\\begin{tabular}{lllllll}\n Film & Year & Actor & Director & Box Office & Budget & Bond Actor Salary\\\\\n <chr> & <int> & <chr> & <chr> & <dbl> & <dbl> & <dbl>\\\\\n\\hline\n\t Casino Royale                   & 2006 & Daniel Craig   & Martin Campbell    & 581.5 & 145.3 &  3.3\\\\\n\t Quantum of Solace               & 2008 & Daniel Craig   & Marc Forster       & 514.2 & 181.4 &  8.1\\\\\n\t Skyfall                         & 2012 & Daniel Craig   & Sam Mendes         & 943.5 & 170.2 & 14.5\\\\\n\t Spectre                         & 2015 & Daniel Craig   & Sam Mendes         & 726.7 & 206.3 &   NA\\\\\n\t Casino Royale                   & 1967 & David Niven    & Ken Hughes         & 315.0 &  85.0 &   NA\\\\\n\t On Her Majesty's Secret Service & 1969 & George Lazenby & Peter R. Hunt      & 291.5 &  37.3 &  0.6\\\\\n\t GoldenEye                       & 1995 & Pierce Brosnan & Martin Campbell    & 518.5 &  76.9 &  5.1\\\\\n\t Tomorrow Never Dies             & 1997 & Pierce Brosnan & Roger Spottiswoode & 463.2 & 133.9 & 10.0\\\\\n\t The World Is Not Enough         & 1999 & Pierce Brosnan & Michael Apted      & 439.5 & 158.3 & 13.5\\\\\n\t Die Another Day                 & 2002 & Pierce Brosnan & Lee Tamahori       & 465.4 & 154.2 & 17.9\\\\\n\t Live and Let Die                & 1973 & Roger Moore    & Guy Hamilton       & 460.3 &  30.8 &   NA\\\\\n\t The Man with the Golden Gun     & 1974 & Roger Moore    & Guy Hamilton       & 334.0 &  27.7 &   NA\\\\\n\t The Spy Who Loved Me            & 1977 & Roger Moore    & Lewis Gilbert      & 533.0 &  45.1 &   NA\\\\\n\t Moonraker                       & 1979 & Roger Moore    & Lewis Gilbert      & 535.0 &  91.5 &   NA\\\\\n\t For Your Eyes Only              & 1981 & Roger Moore    & John Glen          & 449.4 &  60.2 &   NA\\\\\n\t Octopussy                       & 1983 & Roger Moore    & John Glen          & 373.8 &  53.9 &  7.8\\\\\n\t A View to a Kill                & 1985 & Roger Moore    & John Glen          & 275.2 &  54.5 &  9.1\\\\\n\t Dr. No                          & 1962 & Sean Connery   & Terence Young      & 448.8 &   7.0 &  0.6\\\\\n\t From Russia with Love           & 1963 & Sean Connery   & Terence Young      & 543.8 &  12.6 &  1.6\\\\\n\t Goldfinger                      & 1964 & Sean Connery   & Guy Hamilton       & 820.4 &  18.6 &  3.2\\\\\n\t Thunderball                     & 1965 & Sean Connery   & Terence Young      & 848.1 &  41.9 &  4.7\\\\\n\t You Only Live Twice             & 1967 & Sean Connery   & Lewis Gilbert      & 514.2 &  59.9 &  4.4\\\\\n\t Diamonds Are Forever            & 1971 & Sean Connery   & Guy Hamilton       & 442.5 &  34.7 &  5.8\\\\\n\t Never Say Never Again           & 1983 & Sean Connery   & Irvin Kershner     & 380.0 &  86.0 &   NA\\\\\n\t The Living Daylights            & 1987 & Timothy Dalton & John Glen          & 313.5 &  68.8 &  5.2\\\\\n\t Licence to Kill                 & 1989 & Timothy Dalton & John Glen          & 250.9 &  56.7 &  7.9\\\\\n\\end{tabular}\n",
            "text/plain": [
              "   Film                            Year Actor          Director          \n",
              "1  Casino Royale                   2006 Daniel Craig   Martin Campbell   \n",
              "2  Quantum of Solace               2008 Daniel Craig   Marc Forster      \n",
              "3  Skyfall                         2012 Daniel Craig   Sam Mendes        \n",
              "4  Spectre                         2015 Daniel Craig   Sam Mendes        \n",
              "5  Casino Royale                   1967 David Niven    Ken Hughes        \n",
              "6  On Her Majesty's Secret Service 1969 George Lazenby Peter R. Hunt     \n",
              "7  GoldenEye                       1995 Pierce Brosnan Martin Campbell   \n",
              "8  Tomorrow Never Dies             1997 Pierce Brosnan Roger Spottiswoode\n",
              "9  The World Is Not Enough         1999 Pierce Brosnan Michael Apted     \n",
              "10 Die Another Day                 2002 Pierce Brosnan Lee Tamahori      \n",
              "11 Live and Let Die                1973 Roger Moore    Guy Hamilton      \n",
              "12 The Man with the Golden Gun     1974 Roger Moore    Guy Hamilton      \n",
              "13 The Spy Who Loved Me            1977 Roger Moore    Lewis Gilbert     \n",
              "14 Moonraker                       1979 Roger Moore    Lewis Gilbert     \n",
              "15 For Your Eyes Only              1981 Roger Moore    John Glen         \n",
              "16 Octopussy                       1983 Roger Moore    John Glen         \n",
              "17 A View to a Kill                1985 Roger Moore    John Glen         \n",
              "18 Dr. No                          1962 Sean Connery   Terence Young     \n",
              "19 From Russia with Love           1963 Sean Connery   Terence Young     \n",
              "20 Goldfinger                      1964 Sean Connery   Guy Hamilton      \n",
              "21 Thunderball                     1965 Sean Connery   Terence Young     \n",
              "22 You Only Live Twice             1967 Sean Connery   Lewis Gilbert     \n",
              "23 Diamonds Are Forever            1971 Sean Connery   Guy Hamilton      \n",
              "24 Never Say Never Again           1983 Sean Connery   Irvin Kershner    \n",
              "25 The Living Daylights            1987 Timothy Dalton John Glen         \n",
              "26 Licence to Kill                 1989 Timothy Dalton John Glen         \n",
              "   Box Office Budget Bond Actor Salary\n",
              "1  581.5      145.3   3.3             \n",
              "2  514.2      181.4   8.1             \n",
              "3  943.5      170.2  14.5             \n",
              "4  726.7      206.3    NA             \n",
              "5  315.0       85.0    NA             \n",
              "6  291.5       37.3   0.6             \n",
              "7  518.5       76.9   5.1             \n",
              "8  463.2      133.9  10.0             \n",
              "9  439.5      158.3  13.5             \n",
              "10 465.4      154.2  17.9             \n",
              "11 460.3       30.8    NA             \n",
              "12 334.0       27.7    NA             \n",
              "13 533.0       45.1    NA             \n",
              "14 535.0       91.5    NA             \n",
              "15 449.4       60.2    NA             \n",
              "16 373.8       53.9   7.8             \n",
              "17 275.2       54.5   9.1             \n",
              "18 448.8        7.0   0.6             \n",
              "19 543.8       12.6   1.6             \n",
              "20 820.4       18.6   3.2             \n",
              "21 848.1       41.9   4.7             \n",
              "22 514.2       59.9   4.4             \n",
              "23 442.5       34.7   5.8             \n",
              "24 380.0       86.0    NA             \n",
              "25 313.5       68.8   5.2             \n",
              "26 250.9       56.7   7.9             "
            ]
          },
          "metadata": {}
        }
      ]
    },
    {
      "cell_type": "code",
      "metadata": {
        "colab": {
          "base_uri": "https://localhost:8080/",
          "height": 913
        },
        "id": "S77rhywEyGCq",
        "outputId": "9068aa18-d135-4b5e-8602-8a4d1980052f"
      },
      "source": [
        "# ordenamos según dos variables\n",
        "df_james_bond %>% arrange(Actor,`Box Office`)"
      ],
      "execution_count": 20,
      "outputs": [
        {
          "output_type": "display_data",
          "data": {
            "text/html": [
              "<table class=\"dataframe\">\n",
              "<caption>A data.table: 26 × 7</caption>\n",
              "<thead>\n",
              "\t<tr><th scope=col>Film</th><th scope=col>Year</th><th scope=col>Actor</th><th scope=col>Director</th><th scope=col>Box Office</th><th scope=col>Budget</th><th scope=col>Bond Actor Salary</th></tr>\n",
              "\t<tr><th scope=col>&lt;chr&gt;</th><th scope=col>&lt;int&gt;</th><th scope=col>&lt;chr&gt;</th><th scope=col>&lt;chr&gt;</th><th scope=col>&lt;dbl&gt;</th><th scope=col>&lt;dbl&gt;</th><th scope=col>&lt;dbl&gt;</th></tr>\n",
              "</thead>\n",
              "<tbody>\n",
              "\t<tr><td>Quantum of Solace              </td><td>2008</td><td>Daniel Craig  </td><td>Marc Forster      </td><td>514.2</td><td>181.4</td><td> 8.1</td></tr>\n",
              "\t<tr><td>Casino Royale                  </td><td>2006</td><td>Daniel Craig  </td><td>Martin Campbell   </td><td>581.5</td><td>145.3</td><td> 3.3</td></tr>\n",
              "\t<tr><td>Spectre                        </td><td>2015</td><td>Daniel Craig  </td><td>Sam Mendes        </td><td>726.7</td><td>206.3</td><td>  NA</td></tr>\n",
              "\t<tr><td>Skyfall                        </td><td>2012</td><td>Daniel Craig  </td><td>Sam Mendes        </td><td>943.5</td><td>170.2</td><td>14.5</td></tr>\n",
              "\t<tr><td>Casino Royale                  </td><td>1967</td><td>David Niven   </td><td>Ken Hughes        </td><td>315.0</td><td> 85.0</td><td>  NA</td></tr>\n",
              "\t<tr><td>On Her Majesty's Secret Service</td><td>1969</td><td>George Lazenby</td><td>Peter R. Hunt     </td><td>291.5</td><td> 37.3</td><td> 0.6</td></tr>\n",
              "\t<tr><td>The World Is Not Enough        </td><td>1999</td><td>Pierce Brosnan</td><td>Michael Apted     </td><td>439.5</td><td>158.3</td><td>13.5</td></tr>\n",
              "\t<tr><td>Tomorrow Never Dies            </td><td>1997</td><td>Pierce Brosnan</td><td>Roger Spottiswoode</td><td>463.2</td><td>133.9</td><td>10.0</td></tr>\n",
              "\t<tr><td>Die Another Day                </td><td>2002</td><td>Pierce Brosnan</td><td>Lee Tamahori      </td><td>465.4</td><td>154.2</td><td>17.9</td></tr>\n",
              "\t<tr><td>GoldenEye                      </td><td>1995</td><td>Pierce Brosnan</td><td>Martin Campbell   </td><td>518.5</td><td> 76.9</td><td> 5.1</td></tr>\n",
              "\t<tr><td>A View to a Kill               </td><td>1985</td><td>Roger Moore   </td><td>John Glen         </td><td>275.2</td><td> 54.5</td><td> 9.1</td></tr>\n",
              "\t<tr><td>The Man with the Golden Gun    </td><td>1974</td><td>Roger Moore   </td><td>Guy Hamilton      </td><td>334.0</td><td> 27.7</td><td>  NA</td></tr>\n",
              "\t<tr><td>Octopussy                      </td><td>1983</td><td>Roger Moore   </td><td>John Glen         </td><td>373.8</td><td> 53.9</td><td> 7.8</td></tr>\n",
              "\t<tr><td>For Your Eyes Only             </td><td>1981</td><td>Roger Moore   </td><td>John Glen         </td><td>449.4</td><td> 60.2</td><td>  NA</td></tr>\n",
              "\t<tr><td>Live and Let Die               </td><td>1973</td><td>Roger Moore   </td><td>Guy Hamilton      </td><td>460.3</td><td> 30.8</td><td>  NA</td></tr>\n",
              "\t<tr><td>The Spy Who Loved Me           </td><td>1977</td><td>Roger Moore   </td><td>Lewis Gilbert     </td><td>533.0</td><td> 45.1</td><td>  NA</td></tr>\n",
              "\t<tr><td>Moonraker                      </td><td>1979</td><td>Roger Moore   </td><td>Lewis Gilbert     </td><td>535.0</td><td> 91.5</td><td>  NA</td></tr>\n",
              "\t<tr><td>Never Say Never Again          </td><td>1983</td><td>Sean Connery  </td><td>Irvin Kershner    </td><td>380.0</td><td> 86.0</td><td>  NA</td></tr>\n",
              "\t<tr><td>Diamonds Are Forever           </td><td>1971</td><td>Sean Connery  </td><td>Guy Hamilton      </td><td>442.5</td><td> 34.7</td><td> 5.8</td></tr>\n",
              "\t<tr><td>Dr. No                         </td><td>1962</td><td>Sean Connery  </td><td>Terence Young     </td><td>448.8</td><td>  7.0</td><td> 0.6</td></tr>\n",
              "\t<tr><td>You Only Live Twice            </td><td>1967</td><td>Sean Connery  </td><td>Lewis Gilbert     </td><td>514.2</td><td> 59.9</td><td> 4.4</td></tr>\n",
              "\t<tr><td>From Russia with Love          </td><td>1963</td><td>Sean Connery  </td><td>Terence Young     </td><td>543.8</td><td> 12.6</td><td> 1.6</td></tr>\n",
              "\t<tr><td>Goldfinger                     </td><td>1964</td><td>Sean Connery  </td><td>Guy Hamilton      </td><td>820.4</td><td> 18.6</td><td> 3.2</td></tr>\n",
              "\t<tr><td>Thunderball                    </td><td>1965</td><td>Sean Connery  </td><td>Terence Young     </td><td>848.1</td><td> 41.9</td><td> 4.7</td></tr>\n",
              "\t<tr><td>Licence to Kill                </td><td>1989</td><td>Timothy Dalton</td><td>John Glen         </td><td>250.9</td><td> 56.7</td><td> 7.9</td></tr>\n",
              "\t<tr><td>The Living Daylights           </td><td>1987</td><td>Timothy Dalton</td><td>John Glen         </td><td>313.5</td><td> 68.8</td><td> 5.2</td></tr>\n",
              "</tbody>\n",
              "</table>\n"
            ],
            "text/markdown": "\nA data.table: 26 × 7\n\n| Film &lt;chr&gt; | Year &lt;int&gt; | Actor &lt;chr&gt; | Director &lt;chr&gt; | Box Office &lt;dbl&gt; | Budget &lt;dbl&gt; | Bond Actor Salary &lt;dbl&gt; |\n|---|---|---|---|---|---|---|\n| Quantum of Solace               | 2008 | Daniel Craig   | Marc Forster       | 514.2 | 181.4 |  8.1 |\n| Casino Royale                   | 2006 | Daniel Craig   | Martin Campbell    | 581.5 | 145.3 |  3.3 |\n| Spectre                         | 2015 | Daniel Craig   | Sam Mendes         | 726.7 | 206.3 |   NA |\n| Skyfall                         | 2012 | Daniel Craig   | Sam Mendes         | 943.5 | 170.2 | 14.5 |\n| Casino Royale                   | 1967 | David Niven    | Ken Hughes         | 315.0 |  85.0 |   NA |\n| On Her Majesty's Secret Service | 1969 | George Lazenby | Peter R. Hunt      | 291.5 |  37.3 |  0.6 |\n| The World Is Not Enough         | 1999 | Pierce Brosnan | Michael Apted      | 439.5 | 158.3 | 13.5 |\n| Tomorrow Never Dies             | 1997 | Pierce Brosnan | Roger Spottiswoode | 463.2 | 133.9 | 10.0 |\n| Die Another Day                 | 2002 | Pierce Brosnan | Lee Tamahori       | 465.4 | 154.2 | 17.9 |\n| GoldenEye                       | 1995 | Pierce Brosnan | Martin Campbell    | 518.5 |  76.9 |  5.1 |\n| A View to a Kill                | 1985 | Roger Moore    | John Glen          | 275.2 |  54.5 |  9.1 |\n| The Man with the Golden Gun     | 1974 | Roger Moore    | Guy Hamilton       | 334.0 |  27.7 |   NA |\n| Octopussy                       | 1983 | Roger Moore    | John Glen          | 373.8 |  53.9 |  7.8 |\n| For Your Eyes Only              | 1981 | Roger Moore    | John Glen          | 449.4 |  60.2 |   NA |\n| Live and Let Die                | 1973 | Roger Moore    | Guy Hamilton       | 460.3 |  30.8 |   NA |\n| The Spy Who Loved Me            | 1977 | Roger Moore    | Lewis Gilbert      | 533.0 |  45.1 |   NA |\n| Moonraker                       | 1979 | Roger Moore    | Lewis Gilbert      | 535.0 |  91.5 |   NA |\n| Never Say Never Again           | 1983 | Sean Connery   | Irvin Kershner     | 380.0 |  86.0 |   NA |\n| Diamonds Are Forever            | 1971 | Sean Connery   | Guy Hamilton       | 442.5 |  34.7 |  5.8 |\n| Dr. No                          | 1962 | Sean Connery   | Terence Young      | 448.8 |   7.0 |  0.6 |\n| You Only Live Twice             | 1967 | Sean Connery   | Lewis Gilbert      | 514.2 |  59.9 |  4.4 |\n| From Russia with Love           | 1963 | Sean Connery   | Terence Young      | 543.8 |  12.6 |  1.6 |\n| Goldfinger                      | 1964 | Sean Connery   | Guy Hamilton       | 820.4 |  18.6 |  3.2 |\n| Thunderball                     | 1965 | Sean Connery   | Terence Young      | 848.1 |  41.9 |  4.7 |\n| Licence to Kill                 | 1989 | Timothy Dalton | John Glen          | 250.9 |  56.7 |  7.9 |\n| The Living Daylights            | 1987 | Timothy Dalton | John Glen          | 313.5 |  68.8 |  5.2 |\n\n",
            "text/latex": "A data.table: 26 × 7\n\\begin{tabular}{lllllll}\n Film & Year & Actor & Director & Box Office & Budget & Bond Actor Salary\\\\\n <chr> & <int> & <chr> & <chr> & <dbl> & <dbl> & <dbl>\\\\\n\\hline\n\t Quantum of Solace               & 2008 & Daniel Craig   & Marc Forster       & 514.2 & 181.4 &  8.1\\\\\n\t Casino Royale                   & 2006 & Daniel Craig   & Martin Campbell    & 581.5 & 145.3 &  3.3\\\\\n\t Spectre                         & 2015 & Daniel Craig   & Sam Mendes         & 726.7 & 206.3 &   NA\\\\\n\t Skyfall                         & 2012 & Daniel Craig   & Sam Mendes         & 943.5 & 170.2 & 14.5\\\\\n\t Casino Royale                   & 1967 & David Niven    & Ken Hughes         & 315.0 &  85.0 &   NA\\\\\n\t On Her Majesty's Secret Service & 1969 & George Lazenby & Peter R. Hunt      & 291.5 &  37.3 &  0.6\\\\\n\t The World Is Not Enough         & 1999 & Pierce Brosnan & Michael Apted      & 439.5 & 158.3 & 13.5\\\\\n\t Tomorrow Never Dies             & 1997 & Pierce Brosnan & Roger Spottiswoode & 463.2 & 133.9 & 10.0\\\\\n\t Die Another Day                 & 2002 & Pierce Brosnan & Lee Tamahori       & 465.4 & 154.2 & 17.9\\\\\n\t GoldenEye                       & 1995 & Pierce Brosnan & Martin Campbell    & 518.5 &  76.9 &  5.1\\\\\n\t A View to a Kill                & 1985 & Roger Moore    & John Glen          & 275.2 &  54.5 &  9.1\\\\\n\t The Man with the Golden Gun     & 1974 & Roger Moore    & Guy Hamilton       & 334.0 &  27.7 &   NA\\\\\n\t Octopussy                       & 1983 & Roger Moore    & John Glen          & 373.8 &  53.9 &  7.8\\\\\n\t For Your Eyes Only              & 1981 & Roger Moore    & John Glen          & 449.4 &  60.2 &   NA\\\\\n\t Live and Let Die                & 1973 & Roger Moore    & Guy Hamilton       & 460.3 &  30.8 &   NA\\\\\n\t The Spy Who Loved Me            & 1977 & Roger Moore    & Lewis Gilbert      & 533.0 &  45.1 &   NA\\\\\n\t Moonraker                       & 1979 & Roger Moore    & Lewis Gilbert      & 535.0 &  91.5 &   NA\\\\\n\t Never Say Never Again           & 1983 & Sean Connery   & Irvin Kershner     & 380.0 &  86.0 &   NA\\\\\n\t Diamonds Are Forever            & 1971 & Sean Connery   & Guy Hamilton       & 442.5 &  34.7 &  5.8\\\\\n\t Dr. No                          & 1962 & Sean Connery   & Terence Young      & 448.8 &   7.0 &  0.6\\\\\n\t You Only Live Twice             & 1967 & Sean Connery   & Lewis Gilbert      & 514.2 &  59.9 &  4.4\\\\\n\t From Russia with Love           & 1963 & Sean Connery   & Terence Young      & 543.8 &  12.6 &  1.6\\\\\n\t Goldfinger                      & 1964 & Sean Connery   & Guy Hamilton       & 820.4 &  18.6 &  3.2\\\\\n\t Thunderball                     & 1965 & Sean Connery   & Terence Young      & 848.1 &  41.9 &  4.7\\\\\n\t Licence to Kill                 & 1989 & Timothy Dalton & John Glen          & 250.9 &  56.7 &  7.9\\\\\n\t The Living Daylights            & 1987 & Timothy Dalton & John Glen          & 313.5 &  68.8 &  5.2\\\\\n\\end{tabular}\n",
            "text/plain": [
              "   Film                            Year Actor          Director          \n",
              "1  Quantum of Solace               2008 Daniel Craig   Marc Forster      \n",
              "2  Casino Royale                   2006 Daniel Craig   Martin Campbell   \n",
              "3  Spectre                         2015 Daniel Craig   Sam Mendes        \n",
              "4  Skyfall                         2012 Daniel Craig   Sam Mendes        \n",
              "5  Casino Royale                   1967 David Niven    Ken Hughes        \n",
              "6  On Her Majesty's Secret Service 1969 George Lazenby Peter R. Hunt     \n",
              "7  The World Is Not Enough         1999 Pierce Brosnan Michael Apted     \n",
              "8  Tomorrow Never Dies             1997 Pierce Brosnan Roger Spottiswoode\n",
              "9  Die Another Day                 2002 Pierce Brosnan Lee Tamahori      \n",
              "10 GoldenEye                       1995 Pierce Brosnan Martin Campbell   \n",
              "11 A View to a Kill                1985 Roger Moore    John Glen         \n",
              "12 The Man with the Golden Gun     1974 Roger Moore    Guy Hamilton      \n",
              "13 Octopussy                       1983 Roger Moore    John Glen         \n",
              "14 For Your Eyes Only              1981 Roger Moore    John Glen         \n",
              "15 Live and Let Die                1973 Roger Moore    Guy Hamilton      \n",
              "16 The Spy Who Loved Me            1977 Roger Moore    Lewis Gilbert     \n",
              "17 Moonraker                       1979 Roger Moore    Lewis Gilbert     \n",
              "18 Never Say Never Again           1983 Sean Connery   Irvin Kershner    \n",
              "19 Diamonds Are Forever            1971 Sean Connery   Guy Hamilton      \n",
              "20 Dr. No                          1962 Sean Connery   Terence Young     \n",
              "21 You Only Live Twice             1967 Sean Connery   Lewis Gilbert     \n",
              "22 From Russia with Love           1963 Sean Connery   Terence Young     \n",
              "23 Goldfinger                      1964 Sean Connery   Guy Hamilton      \n",
              "24 Thunderball                     1965 Sean Connery   Terence Young     \n",
              "25 Licence to Kill                 1989 Timothy Dalton John Glen         \n",
              "26 The Living Daylights            1987 Timothy Dalton John Glen         \n",
              "   Box Office Budget Bond Actor Salary\n",
              "1  514.2      181.4   8.1             \n",
              "2  581.5      145.3   3.3             \n",
              "3  726.7      206.3    NA             \n",
              "4  943.5      170.2  14.5             \n",
              "5  315.0       85.0    NA             \n",
              "6  291.5       37.3   0.6             \n",
              "7  439.5      158.3  13.5             \n",
              "8  463.2      133.9  10.0             \n",
              "9  465.4      154.2  17.9             \n",
              "10 518.5       76.9   5.1             \n",
              "11 275.2       54.5   9.1             \n",
              "12 334.0       27.7    NA             \n",
              "13 373.8       53.9   7.8             \n",
              "14 449.4       60.2    NA             \n",
              "15 460.3       30.8    NA             \n",
              "16 533.0       45.1    NA             \n",
              "17 535.0       91.5    NA             \n",
              "18 380.0       86.0    NA             \n",
              "19 442.5       34.7   5.8             \n",
              "20 448.8        7.0   0.6             \n",
              "21 514.2       59.9   4.4             \n",
              "22 543.8       12.6   1.6             \n",
              "23 820.4       18.6   3.2             \n",
              "24 848.1       41.9   4.7             \n",
              "25 250.9       56.7   7.9             \n",
              "26 313.5       68.8   5.2             "
            ]
          },
          "metadata": {}
        }
      ]
    },
    {
      "cell_type": "code",
      "metadata": {
        "colab": {
          "base_uri": "https://localhost:8080/",
          "height": 913
        },
        "id": "NKE39G1byGFK",
        "outputId": "7adda847-1423-41d6-936b-5e02b855c827"
      },
      "source": [
        "# para cambiar el criterio de orden a descendente, debemos utilizar la función desc() en el parámetro de la función arrange()\n",
        "df_james_bond %>% arrange(desc(`Box Office`))"
      ],
      "execution_count": 21,
      "outputs": [
        {
          "output_type": "display_data",
          "data": {
            "text/html": [
              "<table class=\"dataframe\">\n",
              "<caption>A data.table: 26 × 7</caption>\n",
              "<thead>\n",
              "\t<tr><th scope=col>Film</th><th scope=col>Year</th><th scope=col>Actor</th><th scope=col>Director</th><th scope=col>Box Office</th><th scope=col>Budget</th><th scope=col>Bond Actor Salary</th></tr>\n",
              "\t<tr><th scope=col>&lt;chr&gt;</th><th scope=col>&lt;int&gt;</th><th scope=col>&lt;chr&gt;</th><th scope=col>&lt;chr&gt;</th><th scope=col>&lt;dbl&gt;</th><th scope=col>&lt;dbl&gt;</th><th scope=col>&lt;dbl&gt;</th></tr>\n",
              "</thead>\n",
              "<tbody>\n",
              "\t<tr><td>Skyfall                        </td><td>2012</td><td>Daniel Craig  </td><td>Sam Mendes        </td><td>943.5</td><td>170.2</td><td>14.5</td></tr>\n",
              "\t<tr><td>Thunderball                    </td><td>1965</td><td>Sean Connery  </td><td>Terence Young     </td><td>848.1</td><td> 41.9</td><td> 4.7</td></tr>\n",
              "\t<tr><td>Goldfinger                     </td><td>1964</td><td>Sean Connery  </td><td>Guy Hamilton      </td><td>820.4</td><td> 18.6</td><td> 3.2</td></tr>\n",
              "\t<tr><td>Spectre                        </td><td>2015</td><td>Daniel Craig  </td><td>Sam Mendes        </td><td>726.7</td><td>206.3</td><td>  NA</td></tr>\n",
              "\t<tr><td>Casino Royale                  </td><td>2006</td><td>Daniel Craig  </td><td>Martin Campbell   </td><td>581.5</td><td>145.3</td><td> 3.3</td></tr>\n",
              "\t<tr><td>From Russia with Love          </td><td>1963</td><td>Sean Connery  </td><td>Terence Young     </td><td>543.8</td><td> 12.6</td><td> 1.6</td></tr>\n",
              "\t<tr><td>Moonraker                      </td><td>1979</td><td>Roger Moore   </td><td>Lewis Gilbert     </td><td>535.0</td><td> 91.5</td><td>  NA</td></tr>\n",
              "\t<tr><td>The Spy Who Loved Me           </td><td>1977</td><td>Roger Moore   </td><td>Lewis Gilbert     </td><td>533.0</td><td> 45.1</td><td>  NA</td></tr>\n",
              "\t<tr><td>GoldenEye                      </td><td>1995</td><td>Pierce Brosnan</td><td>Martin Campbell   </td><td>518.5</td><td> 76.9</td><td> 5.1</td></tr>\n",
              "\t<tr><td>You Only Live Twice            </td><td>1967</td><td>Sean Connery  </td><td>Lewis Gilbert     </td><td>514.2</td><td> 59.9</td><td> 4.4</td></tr>\n",
              "\t<tr><td>Quantum of Solace              </td><td>2008</td><td>Daniel Craig  </td><td>Marc Forster      </td><td>514.2</td><td>181.4</td><td> 8.1</td></tr>\n",
              "\t<tr><td>Die Another Day                </td><td>2002</td><td>Pierce Brosnan</td><td>Lee Tamahori      </td><td>465.4</td><td>154.2</td><td>17.9</td></tr>\n",
              "\t<tr><td>Tomorrow Never Dies            </td><td>1997</td><td>Pierce Brosnan</td><td>Roger Spottiswoode</td><td>463.2</td><td>133.9</td><td>10.0</td></tr>\n",
              "\t<tr><td>Live and Let Die               </td><td>1973</td><td>Roger Moore   </td><td>Guy Hamilton      </td><td>460.3</td><td> 30.8</td><td>  NA</td></tr>\n",
              "\t<tr><td>For Your Eyes Only             </td><td>1981</td><td>Roger Moore   </td><td>John Glen         </td><td>449.4</td><td> 60.2</td><td>  NA</td></tr>\n",
              "\t<tr><td>Dr. No                         </td><td>1962</td><td>Sean Connery  </td><td>Terence Young     </td><td>448.8</td><td>  7.0</td><td> 0.6</td></tr>\n",
              "\t<tr><td>Diamonds Are Forever           </td><td>1971</td><td>Sean Connery  </td><td>Guy Hamilton      </td><td>442.5</td><td> 34.7</td><td> 5.8</td></tr>\n",
              "\t<tr><td>The World Is Not Enough        </td><td>1999</td><td>Pierce Brosnan</td><td>Michael Apted     </td><td>439.5</td><td>158.3</td><td>13.5</td></tr>\n",
              "\t<tr><td>Never Say Never Again          </td><td>1983</td><td>Sean Connery  </td><td>Irvin Kershner    </td><td>380.0</td><td> 86.0</td><td>  NA</td></tr>\n",
              "\t<tr><td>Octopussy                      </td><td>1983</td><td>Roger Moore   </td><td>John Glen         </td><td>373.8</td><td> 53.9</td><td> 7.8</td></tr>\n",
              "\t<tr><td>The Man with the Golden Gun    </td><td>1974</td><td>Roger Moore   </td><td>Guy Hamilton      </td><td>334.0</td><td> 27.7</td><td>  NA</td></tr>\n",
              "\t<tr><td>Casino Royale                  </td><td>1967</td><td>David Niven   </td><td>Ken Hughes        </td><td>315.0</td><td> 85.0</td><td>  NA</td></tr>\n",
              "\t<tr><td>The Living Daylights           </td><td>1987</td><td>Timothy Dalton</td><td>John Glen         </td><td>313.5</td><td> 68.8</td><td> 5.2</td></tr>\n",
              "\t<tr><td>On Her Majesty's Secret Service</td><td>1969</td><td>George Lazenby</td><td>Peter R. Hunt     </td><td>291.5</td><td> 37.3</td><td> 0.6</td></tr>\n",
              "\t<tr><td>A View to a Kill               </td><td>1985</td><td>Roger Moore   </td><td>John Glen         </td><td>275.2</td><td> 54.5</td><td> 9.1</td></tr>\n",
              "\t<tr><td>Licence to Kill                </td><td>1989</td><td>Timothy Dalton</td><td>John Glen         </td><td>250.9</td><td> 56.7</td><td> 7.9</td></tr>\n",
              "</tbody>\n",
              "</table>\n"
            ],
            "text/markdown": "\nA data.table: 26 × 7\n\n| Film &lt;chr&gt; | Year &lt;int&gt; | Actor &lt;chr&gt; | Director &lt;chr&gt; | Box Office &lt;dbl&gt; | Budget &lt;dbl&gt; | Bond Actor Salary &lt;dbl&gt; |\n|---|---|---|---|---|---|---|\n| Skyfall                         | 2012 | Daniel Craig   | Sam Mendes         | 943.5 | 170.2 | 14.5 |\n| Thunderball                     | 1965 | Sean Connery   | Terence Young      | 848.1 |  41.9 |  4.7 |\n| Goldfinger                      | 1964 | Sean Connery   | Guy Hamilton       | 820.4 |  18.6 |  3.2 |\n| Spectre                         | 2015 | Daniel Craig   | Sam Mendes         | 726.7 | 206.3 |   NA |\n| Casino Royale                   | 2006 | Daniel Craig   | Martin Campbell    | 581.5 | 145.3 |  3.3 |\n| From Russia with Love           | 1963 | Sean Connery   | Terence Young      | 543.8 |  12.6 |  1.6 |\n| Moonraker                       | 1979 | Roger Moore    | Lewis Gilbert      | 535.0 |  91.5 |   NA |\n| The Spy Who Loved Me            | 1977 | Roger Moore    | Lewis Gilbert      | 533.0 |  45.1 |   NA |\n| GoldenEye                       | 1995 | Pierce Brosnan | Martin Campbell    | 518.5 |  76.9 |  5.1 |\n| You Only Live Twice             | 1967 | Sean Connery   | Lewis Gilbert      | 514.2 |  59.9 |  4.4 |\n| Quantum of Solace               | 2008 | Daniel Craig   | Marc Forster       | 514.2 | 181.4 |  8.1 |\n| Die Another Day                 | 2002 | Pierce Brosnan | Lee Tamahori       | 465.4 | 154.2 | 17.9 |\n| Tomorrow Never Dies             | 1997 | Pierce Brosnan | Roger Spottiswoode | 463.2 | 133.9 | 10.0 |\n| Live and Let Die                | 1973 | Roger Moore    | Guy Hamilton       | 460.3 |  30.8 |   NA |\n| For Your Eyes Only              | 1981 | Roger Moore    | John Glen          | 449.4 |  60.2 |   NA |\n| Dr. No                          | 1962 | Sean Connery   | Terence Young      | 448.8 |   7.0 |  0.6 |\n| Diamonds Are Forever            | 1971 | Sean Connery   | Guy Hamilton       | 442.5 |  34.7 |  5.8 |\n| The World Is Not Enough         | 1999 | Pierce Brosnan | Michael Apted      | 439.5 | 158.3 | 13.5 |\n| Never Say Never Again           | 1983 | Sean Connery   | Irvin Kershner     | 380.0 |  86.0 |   NA |\n| Octopussy                       | 1983 | Roger Moore    | John Glen          | 373.8 |  53.9 |  7.8 |\n| The Man with the Golden Gun     | 1974 | Roger Moore    | Guy Hamilton       | 334.0 |  27.7 |   NA |\n| Casino Royale                   | 1967 | David Niven    | Ken Hughes         | 315.0 |  85.0 |   NA |\n| The Living Daylights            | 1987 | Timothy Dalton | John Glen          | 313.5 |  68.8 |  5.2 |\n| On Her Majesty's Secret Service | 1969 | George Lazenby | Peter R. Hunt      | 291.5 |  37.3 |  0.6 |\n| A View to a Kill                | 1985 | Roger Moore    | John Glen          | 275.2 |  54.5 |  9.1 |\n| Licence to Kill                 | 1989 | Timothy Dalton | John Glen          | 250.9 |  56.7 |  7.9 |\n\n",
            "text/latex": "A data.table: 26 × 7\n\\begin{tabular}{lllllll}\n Film & Year & Actor & Director & Box Office & Budget & Bond Actor Salary\\\\\n <chr> & <int> & <chr> & <chr> & <dbl> & <dbl> & <dbl>\\\\\n\\hline\n\t Skyfall                         & 2012 & Daniel Craig   & Sam Mendes         & 943.5 & 170.2 & 14.5\\\\\n\t Thunderball                     & 1965 & Sean Connery   & Terence Young      & 848.1 &  41.9 &  4.7\\\\\n\t Goldfinger                      & 1964 & Sean Connery   & Guy Hamilton       & 820.4 &  18.6 &  3.2\\\\\n\t Spectre                         & 2015 & Daniel Craig   & Sam Mendes         & 726.7 & 206.3 &   NA\\\\\n\t Casino Royale                   & 2006 & Daniel Craig   & Martin Campbell    & 581.5 & 145.3 &  3.3\\\\\n\t From Russia with Love           & 1963 & Sean Connery   & Terence Young      & 543.8 &  12.6 &  1.6\\\\\n\t Moonraker                       & 1979 & Roger Moore    & Lewis Gilbert      & 535.0 &  91.5 &   NA\\\\\n\t The Spy Who Loved Me            & 1977 & Roger Moore    & Lewis Gilbert      & 533.0 &  45.1 &   NA\\\\\n\t GoldenEye                       & 1995 & Pierce Brosnan & Martin Campbell    & 518.5 &  76.9 &  5.1\\\\\n\t You Only Live Twice             & 1967 & Sean Connery   & Lewis Gilbert      & 514.2 &  59.9 &  4.4\\\\\n\t Quantum of Solace               & 2008 & Daniel Craig   & Marc Forster       & 514.2 & 181.4 &  8.1\\\\\n\t Die Another Day                 & 2002 & Pierce Brosnan & Lee Tamahori       & 465.4 & 154.2 & 17.9\\\\\n\t Tomorrow Never Dies             & 1997 & Pierce Brosnan & Roger Spottiswoode & 463.2 & 133.9 & 10.0\\\\\n\t Live and Let Die                & 1973 & Roger Moore    & Guy Hamilton       & 460.3 &  30.8 &   NA\\\\\n\t For Your Eyes Only              & 1981 & Roger Moore    & John Glen          & 449.4 &  60.2 &   NA\\\\\n\t Dr. No                          & 1962 & Sean Connery   & Terence Young      & 448.8 &   7.0 &  0.6\\\\\n\t Diamonds Are Forever            & 1971 & Sean Connery   & Guy Hamilton       & 442.5 &  34.7 &  5.8\\\\\n\t The World Is Not Enough         & 1999 & Pierce Brosnan & Michael Apted      & 439.5 & 158.3 & 13.5\\\\\n\t Never Say Never Again           & 1983 & Sean Connery   & Irvin Kershner     & 380.0 &  86.0 &   NA\\\\\n\t Octopussy                       & 1983 & Roger Moore    & John Glen          & 373.8 &  53.9 &  7.8\\\\\n\t The Man with the Golden Gun     & 1974 & Roger Moore    & Guy Hamilton       & 334.0 &  27.7 &   NA\\\\\n\t Casino Royale                   & 1967 & David Niven    & Ken Hughes         & 315.0 &  85.0 &   NA\\\\\n\t The Living Daylights            & 1987 & Timothy Dalton & John Glen          & 313.5 &  68.8 &  5.2\\\\\n\t On Her Majesty's Secret Service & 1969 & George Lazenby & Peter R. Hunt      & 291.5 &  37.3 &  0.6\\\\\n\t A View to a Kill                & 1985 & Roger Moore    & John Glen          & 275.2 &  54.5 &  9.1\\\\\n\t Licence to Kill                 & 1989 & Timothy Dalton & John Glen          & 250.9 &  56.7 &  7.9\\\\\n\\end{tabular}\n",
            "text/plain": [
              "   Film                            Year Actor          Director          \n",
              "1  Skyfall                         2012 Daniel Craig   Sam Mendes        \n",
              "2  Thunderball                     1965 Sean Connery   Terence Young     \n",
              "3  Goldfinger                      1964 Sean Connery   Guy Hamilton      \n",
              "4  Spectre                         2015 Daniel Craig   Sam Mendes        \n",
              "5  Casino Royale                   2006 Daniel Craig   Martin Campbell   \n",
              "6  From Russia with Love           1963 Sean Connery   Terence Young     \n",
              "7  Moonraker                       1979 Roger Moore    Lewis Gilbert     \n",
              "8  The Spy Who Loved Me            1977 Roger Moore    Lewis Gilbert     \n",
              "9  GoldenEye                       1995 Pierce Brosnan Martin Campbell   \n",
              "10 You Only Live Twice             1967 Sean Connery   Lewis Gilbert     \n",
              "11 Quantum of Solace               2008 Daniel Craig   Marc Forster      \n",
              "12 Die Another Day                 2002 Pierce Brosnan Lee Tamahori      \n",
              "13 Tomorrow Never Dies             1997 Pierce Brosnan Roger Spottiswoode\n",
              "14 Live and Let Die                1973 Roger Moore    Guy Hamilton      \n",
              "15 For Your Eyes Only              1981 Roger Moore    John Glen         \n",
              "16 Dr. No                          1962 Sean Connery   Terence Young     \n",
              "17 Diamonds Are Forever            1971 Sean Connery   Guy Hamilton      \n",
              "18 The World Is Not Enough         1999 Pierce Brosnan Michael Apted     \n",
              "19 Never Say Never Again           1983 Sean Connery   Irvin Kershner    \n",
              "20 Octopussy                       1983 Roger Moore    John Glen         \n",
              "21 The Man with the Golden Gun     1974 Roger Moore    Guy Hamilton      \n",
              "22 Casino Royale                   1967 David Niven    Ken Hughes        \n",
              "23 The Living Daylights            1987 Timothy Dalton John Glen         \n",
              "24 On Her Majesty's Secret Service 1969 George Lazenby Peter R. Hunt     \n",
              "25 A View to a Kill                1985 Roger Moore    John Glen         \n",
              "26 Licence to Kill                 1989 Timothy Dalton John Glen         \n",
              "   Box Office Budget Bond Actor Salary\n",
              "1  943.5      170.2  14.5             \n",
              "2  848.1       41.9   4.7             \n",
              "3  820.4       18.6   3.2             \n",
              "4  726.7      206.3    NA             \n",
              "5  581.5      145.3   3.3             \n",
              "6  543.8       12.6   1.6             \n",
              "7  535.0       91.5    NA             \n",
              "8  533.0       45.1    NA             \n",
              "9  518.5       76.9   5.1             \n",
              "10 514.2       59.9   4.4             \n",
              "11 514.2      181.4   8.1             \n",
              "12 465.4      154.2  17.9             \n",
              "13 463.2      133.9  10.0             \n",
              "14 460.3       30.8    NA             \n",
              "15 449.4       60.2    NA             \n",
              "16 448.8        7.0   0.6             \n",
              "17 442.5       34.7   5.8             \n",
              "18 439.5      158.3  13.5             \n",
              "19 380.0       86.0    NA             \n",
              "20 373.8       53.9   7.8             \n",
              "21 334.0       27.7    NA             \n",
              "22 315.0       85.0    NA             \n",
              "23 313.5       68.8   5.2             \n",
              "24 291.5       37.3   0.6             \n",
              "25 275.2       54.5   9.1             \n",
              "26 250.9       56.7   7.9             "
            ]
          },
          "metadata": {}
        }
      ]
    },
    {
      "cell_type": "markdown",
      "metadata": {
        "id": "AomsqrymyHlh"
      },
      "source": [
        "# 4. Crear nuevos campos\n",
        "---\n",
        "La función `dplyr::mutate()` permite crear columnas nuevas en un *data frame*.\n",
        "\n",
        "```\n",
        "dplyr::mutate(df, new_field_1, new_field 2, ...)\n",
        "```\n",
        "\n"
      ]
    },
    {
      "cell_type": "code",
      "metadata": {
        "id": "0XanZLdP9gdk",
        "colab": {
          "base_uri": "https://localhost:8080/",
          "height": 913
        },
        "outputId": "fd2b1eb0-baa1-4f99-9c7a-1ad3d2be2d6d"
      },
      "source": [
        "# creamos una nueva columna como cosciente entre dos variables existentes\n",
        "df_james_bond %>% mutate(\n",
        "  profit = `Box Office`/Budget    # nombramos nuestra nueva columna \"profit\"\n",
        ") %>% arrange(desc(profit))       # ordenamos el resultado, según la nueva columna definida\n"
      ],
      "execution_count": 22,
      "outputs": [
        {
          "output_type": "display_data",
          "data": {
            "text/html": [
              "<table class=\"dataframe\">\n",
              "<caption>A data.table: 26 × 8</caption>\n",
              "<thead>\n",
              "\t<tr><th scope=col>Film</th><th scope=col>Year</th><th scope=col>Actor</th><th scope=col>Director</th><th scope=col>Box Office</th><th scope=col>Budget</th><th scope=col>Bond Actor Salary</th><th scope=col>profit</th></tr>\n",
              "\t<tr><th scope=col>&lt;chr&gt;</th><th scope=col>&lt;int&gt;</th><th scope=col>&lt;chr&gt;</th><th scope=col>&lt;chr&gt;</th><th scope=col>&lt;dbl&gt;</th><th scope=col>&lt;dbl&gt;</th><th scope=col>&lt;dbl&gt;</th><th scope=col>&lt;dbl&gt;</th></tr>\n",
              "</thead>\n",
              "<tbody>\n",
              "\t<tr><td>Dr. No                         </td><td>1962</td><td>Sean Connery  </td><td>Terence Young     </td><td>448.8</td><td>  7.0</td><td> 0.6</td><td>64.114286</td></tr>\n",
              "\t<tr><td>Goldfinger                     </td><td>1964</td><td>Sean Connery  </td><td>Guy Hamilton      </td><td>820.4</td><td> 18.6</td><td> 3.2</td><td>44.107527</td></tr>\n",
              "\t<tr><td>From Russia with Love          </td><td>1963</td><td>Sean Connery  </td><td>Terence Young     </td><td>543.8</td><td> 12.6</td><td> 1.6</td><td>43.158730</td></tr>\n",
              "\t<tr><td>Thunderball                    </td><td>1965</td><td>Sean Connery  </td><td>Terence Young     </td><td>848.1</td><td> 41.9</td><td> 4.7</td><td>20.241050</td></tr>\n",
              "\t<tr><td>Live and Let Die               </td><td>1973</td><td>Roger Moore   </td><td>Guy Hamilton      </td><td>460.3</td><td> 30.8</td><td>  NA</td><td>14.944805</td></tr>\n",
              "\t<tr><td>Diamonds Are Forever           </td><td>1971</td><td>Sean Connery  </td><td>Guy Hamilton      </td><td>442.5</td><td> 34.7</td><td> 5.8</td><td>12.752161</td></tr>\n",
              "\t<tr><td>The Man with the Golden Gun    </td><td>1974</td><td>Roger Moore   </td><td>Guy Hamilton      </td><td>334.0</td><td> 27.7</td><td>  NA</td><td>12.057762</td></tr>\n",
              "\t<tr><td>The Spy Who Loved Me           </td><td>1977</td><td>Roger Moore   </td><td>Lewis Gilbert     </td><td>533.0</td><td> 45.1</td><td>  NA</td><td>11.818182</td></tr>\n",
              "\t<tr><td>You Only Live Twice            </td><td>1967</td><td>Sean Connery  </td><td>Lewis Gilbert     </td><td>514.2</td><td> 59.9</td><td> 4.4</td><td> 8.584307</td></tr>\n",
              "\t<tr><td>On Her Majesty's Secret Service</td><td>1969</td><td>George Lazenby</td><td>Peter R. Hunt     </td><td>291.5</td><td> 37.3</td><td> 0.6</td><td> 7.815013</td></tr>\n",
              "\t<tr><td>For Your Eyes Only             </td><td>1981</td><td>Roger Moore   </td><td>John Glen         </td><td>449.4</td><td> 60.2</td><td>  NA</td><td> 7.465116</td></tr>\n",
              "\t<tr><td>Octopussy                      </td><td>1983</td><td>Roger Moore   </td><td>John Glen         </td><td>373.8</td><td> 53.9</td><td> 7.8</td><td> 6.935065</td></tr>\n",
              "\t<tr><td>GoldenEye                      </td><td>1995</td><td>Pierce Brosnan</td><td>Martin Campbell   </td><td>518.5</td><td> 76.9</td><td> 5.1</td><td> 6.742523</td></tr>\n",
              "\t<tr><td>Moonraker                      </td><td>1979</td><td>Roger Moore   </td><td>Lewis Gilbert     </td><td>535.0</td><td> 91.5</td><td>  NA</td><td> 5.846995</td></tr>\n",
              "\t<tr><td>Skyfall                        </td><td>2012</td><td>Daniel Craig  </td><td>Sam Mendes        </td><td>943.5</td><td>170.2</td><td>14.5</td><td> 5.543478</td></tr>\n",
              "\t<tr><td>A View to a Kill               </td><td>1985</td><td>Roger Moore   </td><td>John Glen         </td><td>275.2</td><td> 54.5</td><td> 9.1</td><td> 5.049541</td></tr>\n",
              "\t<tr><td>The Living Daylights           </td><td>1987</td><td>Timothy Dalton</td><td>John Glen         </td><td>313.5</td><td> 68.8</td><td> 5.2</td><td> 4.556686</td></tr>\n",
              "\t<tr><td>Licence to Kill                </td><td>1989</td><td>Timothy Dalton</td><td>John Glen         </td><td>250.9</td><td> 56.7</td><td> 7.9</td><td> 4.425044</td></tr>\n",
              "\t<tr><td>Never Say Never Again          </td><td>1983</td><td>Sean Connery  </td><td>Irvin Kershner    </td><td>380.0</td><td> 86.0</td><td>  NA</td><td> 4.418605</td></tr>\n",
              "\t<tr><td>Casino Royale                  </td><td>2006</td><td>Daniel Craig  </td><td>Martin Campbell   </td><td>581.5</td><td>145.3</td><td> 3.3</td><td> 4.002065</td></tr>\n",
              "\t<tr><td>Casino Royale                  </td><td>1967</td><td>David Niven   </td><td>Ken Hughes        </td><td>315.0</td><td> 85.0</td><td>  NA</td><td> 3.705882</td></tr>\n",
              "\t<tr><td>Spectre                        </td><td>2015</td><td>Daniel Craig  </td><td>Sam Mendes        </td><td>726.7</td><td>206.3</td><td>  NA</td><td> 3.522540</td></tr>\n",
              "\t<tr><td>Tomorrow Never Dies            </td><td>1997</td><td>Pierce Brosnan</td><td>Roger Spottiswoode</td><td>463.2</td><td>133.9</td><td>10.0</td><td> 3.459298</td></tr>\n",
              "\t<tr><td>Die Another Day                </td><td>2002</td><td>Pierce Brosnan</td><td>Lee Tamahori      </td><td>465.4</td><td>154.2</td><td>17.9</td><td> 3.018158</td></tr>\n",
              "\t<tr><td>Quantum of Solace              </td><td>2008</td><td>Daniel Craig  </td><td>Marc Forster      </td><td>514.2</td><td>181.4</td><td> 8.1</td><td> 2.834620</td></tr>\n",
              "\t<tr><td>The World Is Not Enough        </td><td>1999</td><td>Pierce Brosnan</td><td>Michael Apted     </td><td>439.5</td><td>158.3</td><td>13.5</td><td> 2.776374</td></tr>\n",
              "</tbody>\n",
              "</table>\n"
            ],
            "text/markdown": "\nA data.table: 26 × 8\n\n| Film &lt;chr&gt; | Year &lt;int&gt; | Actor &lt;chr&gt; | Director &lt;chr&gt; | Box Office &lt;dbl&gt; | Budget &lt;dbl&gt; | Bond Actor Salary &lt;dbl&gt; | profit &lt;dbl&gt; |\n|---|---|---|---|---|---|---|---|\n| Dr. No                          | 1962 | Sean Connery   | Terence Young      | 448.8 |   7.0 |  0.6 | 64.114286 |\n| Goldfinger                      | 1964 | Sean Connery   | Guy Hamilton       | 820.4 |  18.6 |  3.2 | 44.107527 |\n| From Russia with Love           | 1963 | Sean Connery   | Terence Young      | 543.8 |  12.6 |  1.6 | 43.158730 |\n| Thunderball                     | 1965 | Sean Connery   | Terence Young      | 848.1 |  41.9 |  4.7 | 20.241050 |\n| Live and Let Die                | 1973 | Roger Moore    | Guy Hamilton       | 460.3 |  30.8 |   NA | 14.944805 |\n| Diamonds Are Forever            | 1971 | Sean Connery   | Guy Hamilton       | 442.5 |  34.7 |  5.8 | 12.752161 |\n| The Man with the Golden Gun     | 1974 | Roger Moore    | Guy Hamilton       | 334.0 |  27.7 |   NA | 12.057762 |\n| The Spy Who Loved Me            | 1977 | Roger Moore    | Lewis Gilbert      | 533.0 |  45.1 |   NA | 11.818182 |\n| You Only Live Twice             | 1967 | Sean Connery   | Lewis Gilbert      | 514.2 |  59.9 |  4.4 |  8.584307 |\n| On Her Majesty's Secret Service | 1969 | George Lazenby | Peter R. Hunt      | 291.5 |  37.3 |  0.6 |  7.815013 |\n| For Your Eyes Only              | 1981 | Roger Moore    | John Glen          | 449.4 |  60.2 |   NA |  7.465116 |\n| Octopussy                       | 1983 | Roger Moore    | John Glen          | 373.8 |  53.9 |  7.8 |  6.935065 |\n| GoldenEye                       | 1995 | Pierce Brosnan | Martin Campbell    | 518.5 |  76.9 |  5.1 |  6.742523 |\n| Moonraker                       | 1979 | Roger Moore    | Lewis Gilbert      | 535.0 |  91.5 |   NA |  5.846995 |\n| Skyfall                         | 2012 | Daniel Craig   | Sam Mendes         | 943.5 | 170.2 | 14.5 |  5.543478 |\n| A View to a Kill                | 1985 | Roger Moore    | John Glen          | 275.2 |  54.5 |  9.1 |  5.049541 |\n| The Living Daylights            | 1987 | Timothy Dalton | John Glen          | 313.5 |  68.8 |  5.2 |  4.556686 |\n| Licence to Kill                 | 1989 | Timothy Dalton | John Glen          | 250.9 |  56.7 |  7.9 |  4.425044 |\n| Never Say Never Again           | 1983 | Sean Connery   | Irvin Kershner     | 380.0 |  86.0 |   NA |  4.418605 |\n| Casino Royale                   | 2006 | Daniel Craig   | Martin Campbell    | 581.5 | 145.3 |  3.3 |  4.002065 |\n| Casino Royale                   | 1967 | David Niven    | Ken Hughes         | 315.0 |  85.0 |   NA |  3.705882 |\n| Spectre                         | 2015 | Daniel Craig   | Sam Mendes         | 726.7 | 206.3 |   NA |  3.522540 |\n| Tomorrow Never Dies             | 1997 | Pierce Brosnan | Roger Spottiswoode | 463.2 | 133.9 | 10.0 |  3.459298 |\n| Die Another Day                 | 2002 | Pierce Brosnan | Lee Tamahori       | 465.4 | 154.2 | 17.9 |  3.018158 |\n| Quantum of Solace               | 2008 | Daniel Craig   | Marc Forster       | 514.2 | 181.4 |  8.1 |  2.834620 |\n| The World Is Not Enough         | 1999 | Pierce Brosnan | Michael Apted      | 439.5 | 158.3 | 13.5 |  2.776374 |\n\n",
            "text/latex": "A data.table: 26 × 8\n\\begin{tabular}{llllllll}\n Film & Year & Actor & Director & Box Office & Budget & Bond Actor Salary & profit\\\\\n <chr> & <int> & <chr> & <chr> & <dbl> & <dbl> & <dbl> & <dbl>\\\\\n\\hline\n\t Dr. No                          & 1962 & Sean Connery   & Terence Young      & 448.8 &   7.0 &  0.6 & 64.114286\\\\\n\t Goldfinger                      & 1964 & Sean Connery   & Guy Hamilton       & 820.4 &  18.6 &  3.2 & 44.107527\\\\\n\t From Russia with Love           & 1963 & Sean Connery   & Terence Young      & 543.8 &  12.6 &  1.6 & 43.158730\\\\\n\t Thunderball                     & 1965 & Sean Connery   & Terence Young      & 848.1 &  41.9 &  4.7 & 20.241050\\\\\n\t Live and Let Die                & 1973 & Roger Moore    & Guy Hamilton       & 460.3 &  30.8 &   NA & 14.944805\\\\\n\t Diamonds Are Forever            & 1971 & Sean Connery   & Guy Hamilton       & 442.5 &  34.7 &  5.8 & 12.752161\\\\\n\t The Man with the Golden Gun     & 1974 & Roger Moore    & Guy Hamilton       & 334.0 &  27.7 &   NA & 12.057762\\\\\n\t The Spy Who Loved Me            & 1977 & Roger Moore    & Lewis Gilbert      & 533.0 &  45.1 &   NA & 11.818182\\\\\n\t You Only Live Twice             & 1967 & Sean Connery   & Lewis Gilbert      & 514.2 &  59.9 &  4.4 &  8.584307\\\\\n\t On Her Majesty's Secret Service & 1969 & George Lazenby & Peter R. Hunt      & 291.5 &  37.3 &  0.6 &  7.815013\\\\\n\t For Your Eyes Only              & 1981 & Roger Moore    & John Glen          & 449.4 &  60.2 &   NA &  7.465116\\\\\n\t Octopussy                       & 1983 & Roger Moore    & John Glen          & 373.8 &  53.9 &  7.8 &  6.935065\\\\\n\t GoldenEye                       & 1995 & Pierce Brosnan & Martin Campbell    & 518.5 &  76.9 &  5.1 &  6.742523\\\\\n\t Moonraker                       & 1979 & Roger Moore    & Lewis Gilbert      & 535.0 &  91.5 &   NA &  5.846995\\\\\n\t Skyfall                         & 2012 & Daniel Craig   & Sam Mendes         & 943.5 & 170.2 & 14.5 &  5.543478\\\\\n\t A View to a Kill                & 1985 & Roger Moore    & John Glen          & 275.2 &  54.5 &  9.1 &  5.049541\\\\\n\t The Living Daylights            & 1987 & Timothy Dalton & John Glen          & 313.5 &  68.8 &  5.2 &  4.556686\\\\\n\t Licence to Kill                 & 1989 & Timothy Dalton & John Glen          & 250.9 &  56.7 &  7.9 &  4.425044\\\\\n\t Never Say Never Again           & 1983 & Sean Connery   & Irvin Kershner     & 380.0 &  86.0 &   NA &  4.418605\\\\\n\t Casino Royale                   & 2006 & Daniel Craig   & Martin Campbell    & 581.5 & 145.3 &  3.3 &  4.002065\\\\\n\t Casino Royale                   & 1967 & David Niven    & Ken Hughes         & 315.0 &  85.0 &   NA &  3.705882\\\\\n\t Spectre                         & 2015 & Daniel Craig   & Sam Mendes         & 726.7 & 206.3 &   NA &  3.522540\\\\\n\t Tomorrow Never Dies             & 1997 & Pierce Brosnan & Roger Spottiswoode & 463.2 & 133.9 & 10.0 &  3.459298\\\\\n\t Die Another Day                 & 2002 & Pierce Brosnan & Lee Tamahori       & 465.4 & 154.2 & 17.9 &  3.018158\\\\\n\t Quantum of Solace               & 2008 & Daniel Craig   & Marc Forster       & 514.2 & 181.4 &  8.1 &  2.834620\\\\\n\t The World Is Not Enough         & 1999 & Pierce Brosnan & Michael Apted      & 439.5 & 158.3 & 13.5 &  2.776374\\\\\n\\end{tabular}\n",
            "text/plain": [
              "   Film                            Year Actor          Director          \n",
              "1  Dr. No                          1962 Sean Connery   Terence Young     \n",
              "2  Goldfinger                      1964 Sean Connery   Guy Hamilton      \n",
              "3  From Russia with Love           1963 Sean Connery   Terence Young     \n",
              "4  Thunderball                     1965 Sean Connery   Terence Young     \n",
              "5  Live and Let Die                1973 Roger Moore    Guy Hamilton      \n",
              "6  Diamonds Are Forever            1971 Sean Connery   Guy Hamilton      \n",
              "7  The Man with the Golden Gun     1974 Roger Moore    Guy Hamilton      \n",
              "8  The Spy Who Loved Me            1977 Roger Moore    Lewis Gilbert     \n",
              "9  You Only Live Twice             1967 Sean Connery   Lewis Gilbert     \n",
              "10 On Her Majesty's Secret Service 1969 George Lazenby Peter R. Hunt     \n",
              "11 For Your Eyes Only              1981 Roger Moore    John Glen         \n",
              "12 Octopussy                       1983 Roger Moore    John Glen         \n",
              "13 GoldenEye                       1995 Pierce Brosnan Martin Campbell   \n",
              "14 Moonraker                       1979 Roger Moore    Lewis Gilbert     \n",
              "15 Skyfall                         2012 Daniel Craig   Sam Mendes        \n",
              "16 A View to a Kill                1985 Roger Moore    John Glen         \n",
              "17 The Living Daylights            1987 Timothy Dalton John Glen         \n",
              "18 Licence to Kill                 1989 Timothy Dalton John Glen         \n",
              "19 Never Say Never Again           1983 Sean Connery   Irvin Kershner    \n",
              "20 Casino Royale                   2006 Daniel Craig   Martin Campbell   \n",
              "21 Casino Royale                   1967 David Niven    Ken Hughes        \n",
              "22 Spectre                         2015 Daniel Craig   Sam Mendes        \n",
              "23 Tomorrow Never Dies             1997 Pierce Brosnan Roger Spottiswoode\n",
              "24 Die Another Day                 2002 Pierce Brosnan Lee Tamahori      \n",
              "25 Quantum of Solace               2008 Daniel Craig   Marc Forster      \n",
              "26 The World Is Not Enough         1999 Pierce Brosnan Michael Apted     \n",
              "   Box Office Budget Bond Actor Salary profit   \n",
              "1  448.8        7.0   0.6              64.114286\n",
              "2  820.4       18.6   3.2              44.107527\n",
              "3  543.8       12.6   1.6              43.158730\n",
              "4  848.1       41.9   4.7              20.241050\n",
              "5  460.3       30.8    NA              14.944805\n",
              "6  442.5       34.7   5.8              12.752161\n",
              "7  334.0       27.7    NA              12.057762\n",
              "8  533.0       45.1    NA              11.818182\n",
              "9  514.2       59.9   4.4               8.584307\n",
              "10 291.5       37.3   0.6               7.815013\n",
              "11 449.4       60.2    NA               7.465116\n",
              "12 373.8       53.9   7.8               6.935065\n",
              "13 518.5       76.9   5.1               6.742523\n",
              "14 535.0       91.5    NA               5.846995\n",
              "15 943.5      170.2  14.5               5.543478\n",
              "16 275.2       54.5   9.1               5.049541\n",
              "17 313.5       68.8   5.2               4.556686\n",
              "18 250.9       56.7   7.9               4.425044\n",
              "19 380.0       86.0    NA               4.418605\n",
              "20 581.5      145.3   3.3               4.002065\n",
              "21 315.0       85.0    NA               3.705882\n",
              "22 726.7      206.3    NA               3.522540\n",
              "23 463.2      133.9  10.0               3.459298\n",
              "24 465.4      154.2  17.9               3.018158\n",
              "25 514.2      181.4   8.1               2.834620\n",
              "26 439.5      158.3  13.5               2.776374"
            ]
          },
          "metadata": {}
        }
      ]
    },
    {
      "cell_type": "code",
      "metadata": {
        "colab": {
          "base_uri": "https://localhost:8080/",
          "height": 913
        },
        "id": "K6UOMJm30pW6",
        "outputId": "21dccc9b-7bb8-4d8f-fb75-d2ea7ab1fb1b"
      },
      "source": [
        "# repetimos el ejercicio anterior, en este caso utilizamos la función round() para redondear el resultado y forzar decimales\n",
        "df_james_bond %>% mutate(\n",
        "  profit = round(`Box Office`/Budget,2),  # el segundo parámetro de la función round() establece el número de decimales\n",
        "  profit_EUR = round(profit / 1.2)        # por defecto, round() fuerza a números enteros\n",
        ") %>% arrange(desc(profit_EUR))\n"
      ],
      "execution_count": 23,
      "outputs": [
        {
          "output_type": "display_data",
          "data": {
            "text/html": [
              "<table class=\"dataframe\">\n",
              "<caption>A data.table: 26 × 9</caption>\n",
              "<thead>\n",
              "\t<tr><th scope=col>Film</th><th scope=col>Year</th><th scope=col>Actor</th><th scope=col>Director</th><th scope=col>Box Office</th><th scope=col>Budget</th><th scope=col>Bond Actor Salary</th><th scope=col>profit</th><th scope=col>profit_EUR</th></tr>\n",
              "\t<tr><th scope=col>&lt;chr&gt;</th><th scope=col>&lt;int&gt;</th><th scope=col>&lt;chr&gt;</th><th scope=col>&lt;chr&gt;</th><th scope=col>&lt;dbl&gt;</th><th scope=col>&lt;dbl&gt;</th><th scope=col>&lt;dbl&gt;</th><th scope=col>&lt;dbl&gt;</th><th scope=col>&lt;dbl&gt;</th></tr>\n",
              "</thead>\n",
              "<tbody>\n",
              "\t<tr><td>Dr. No                         </td><td>1962</td><td>Sean Connery  </td><td>Terence Young     </td><td>448.8</td><td>  7.0</td><td> 0.6</td><td>64.11</td><td>53</td></tr>\n",
              "\t<tr><td>Goldfinger                     </td><td>1964</td><td>Sean Connery  </td><td>Guy Hamilton      </td><td>820.4</td><td> 18.6</td><td> 3.2</td><td>44.11</td><td>37</td></tr>\n",
              "\t<tr><td>From Russia with Love          </td><td>1963</td><td>Sean Connery  </td><td>Terence Young     </td><td>543.8</td><td> 12.6</td><td> 1.6</td><td>43.16</td><td>36</td></tr>\n",
              "\t<tr><td>Thunderball                    </td><td>1965</td><td>Sean Connery  </td><td>Terence Young     </td><td>848.1</td><td> 41.9</td><td> 4.7</td><td>20.24</td><td>17</td></tr>\n",
              "\t<tr><td>Live and Let Die               </td><td>1973</td><td>Roger Moore   </td><td>Guy Hamilton      </td><td>460.3</td><td> 30.8</td><td>  NA</td><td>14.94</td><td>12</td></tr>\n",
              "\t<tr><td>Diamonds Are Forever           </td><td>1971</td><td>Sean Connery  </td><td>Guy Hamilton      </td><td>442.5</td><td> 34.7</td><td> 5.8</td><td>12.75</td><td>11</td></tr>\n",
              "\t<tr><td>The Man with the Golden Gun    </td><td>1974</td><td>Roger Moore   </td><td>Guy Hamilton      </td><td>334.0</td><td> 27.7</td><td>  NA</td><td>12.06</td><td>10</td></tr>\n",
              "\t<tr><td>The Spy Who Loved Me           </td><td>1977</td><td>Roger Moore   </td><td>Lewis Gilbert     </td><td>533.0</td><td> 45.1</td><td>  NA</td><td>11.82</td><td>10</td></tr>\n",
              "\t<tr><td>You Only Live Twice            </td><td>1967</td><td>Sean Connery  </td><td>Lewis Gilbert     </td><td>514.2</td><td> 59.9</td><td> 4.4</td><td> 8.58</td><td> 7</td></tr>\n",
              "\t<tr><td>On Her Majesty's Secret Service</td><td>1969</td><td>George Lazenby</td><td>Peter R. Hunt     </td><td>291.5</td><td> 37.3</td><td> 0.6</td><td> 7.82</td><td> 7</td></tr>\n",
              "\t<tr><td>For Your Eyes Only             </td><td>1981</td><td>Roger Moore   </td><td>John Glen         </td><td>449.4</td><td> 60.2</td><td>  NA</td><td> 7.47</td><td> 6</td></tr>\n",
              "\t<tr><td>Octopussy                      </td><td>1983</td><td>Roger Moore   </td><td>John Glen         </td><td>373.8</td><td> 53.9</td><td> 7.8</td><td> 6.94</td><td> 6</td></tr>\n",
              "\t<tr><td>GoldenEye                      </td><td>1995</td><td>Pierce Brosnan</td><td>Martin Campbell   </td><td>518.5</td><td> 76.9</td><td> 5.1</td><td> 6.74</td><td> 6</td></tr>\n",
              "\t<tr><td>Moonraker                      </td><td>1979</td><td>Roger Moore   </td><td>Lewis Gilbert     </td><td>535.0</td><td> 91.5</td><td>  NA</td><td> 5.85</td><td> 5</td></tr>\n",
              "\t<tr><td>Skyfall                        </td><td>2012</td><td>Daniel Craig  </td><td>Sam Mendes        </td><td>943.5</td><td>170.2</td><td>14.5</td><td> 5.54</td><td> 5</td></tr>\n",
              "\t<tr><td>Never Say Never Again          </td><td>1983</td><td>Sean Connery  </td><td>Irvin Kershner    </td><td>380.0</td><td> 86.0</td><td>  NA</td><td> 4.42</td><td> 4</td></tr>\n",
              "\t<tr><td>A View to a Kill               </td><td>1985</td><td>Roger Moore   </td><td>John Glen         </td><td>275.2</td><td> 54.5</td><td> 9.1</td><td> 5.05</td><td> 4</td></tr>\n",
              "\t<tr><td>The Living Daylights           </td><td>1987</td><td>Timothy Dalton</td><td>John Glen         </td><td>313.5</td><td> 68.8</td><td> 5.2</td><td> 4.56</td><td> 4</td></tr>\n",
              "\t<tr><td>Licence to Kill                </td><td>1989</td><td>Timothy Dalton</td><td>John Glen         </td><td>250.9</td><td> 56.7</td><td> 7.9</td><td> 4.43</td><td> 4</td></tr>\n",
              "\t<tr><td>Casino Royale                  </td><td>1967</td><td>David Niven   </td><td>Ken Hughes        </td><td>315.0</td><td> 85.0</td><td>  NA</td><td> 3.71</td><td> 3</td></tr>\n",
              "\t<tr><td>Tomorrow Never Dies            </td><td>1997</td><td>Pierce Brosnan</td><td>Roger Spottiswoode</td><td>463.2</td><td>133.9</td><td>10.0</td><td> 3.46</td><td> 3</td></tr>\n",
              "\t<tr><td>Die Another Day                </td><td>2002</td><td>Pierce Brosnan</td><td>Lee Tamahori      </td><td>465.4</td><td>154.2</td><td>17.9</td><td> 3.02</td><td> 3</td></tr>\n",
              "\t<tr><td>Casino Royale                  </td><td>2006</td><td>Daniel Craig  </td><td>Martin Campbell   </td><td>581.5</td><td>145.3</td><td> 3.3</td><td> 4.00</td><td> 3</td></tr>\n",
              "\t<tr><td>Spectre                        </td><td>2015</td><td>Daniel Craig  </td><td>Sam Mendes        </td><td>726.7</td><td>206.3</td><td>  NA</td><td> 3.52</td><td> 3</td></tr>\n",
              "\t<tr><td>The World Is Not Enough        </td><td>1999</td><td>Pierce Brosnan</td><td>Michael Apted     </td><td>439.5</td><td>158.3</td><td>13.5</td><td> 2.78</td><td> 2</td></tr>\n",
              "\t<tr><td>Quantum of Solace              </td><td>2008</td><td>Daniel Craig  </td><td>Marc Forster      </td><td>514.2</td><td>181.4</td><td> 8.1</td><td> 2.83</td><td> 2</td></tr>\n",
              "</tbody>\n",
              "</table>\n"
            ],
            "text/markdown": "\nA data.table: 26 × 9\n\n| Film &lt;chr&gt; | Year &lt;int&gt; | Actor &lt;chr&gt; | Director &lt;chr&gt; | Box Office &lt;dbl&gt; | Budget &lt;dbl&gt; | Bond Actor Salary &lt;dbl&gt; | profit &lt;dbl&gt; | profit_EUR &lt;dbl&gt; |\n|---|---|---|---|---|---|---|---|---|\n| Dr. No                          | 1962 | Sean Connery   | Terence Young      | 448.8 |   7.0 |  0.6 | 64.11 | 53 |\n| Goldfinger                      | 1964 | Sean Connery   | Guy Hamilton       | 820.4 |  18.6 |  3.2 | 44.11 | 37 |\n| From Russia with Love           | 1963 | Sean Connery   | Terence Young      | 543.8 |  12.6 |  1.6 | 43.16 | 36 |\n| Thunderball                     | 1965 | Sean Connery   | Terence Young      | 848.1 |  41.9 |  4.7 | 20.24 | 17 |\n| Live and Let Die                | 1973 | Roger Moore    | Guy Hamilton       | 460.3 |  30.8 |   NA | 14.94 | 12 |\n| Diamonds Are Forever            | 1971 | Sean Connery   | Guy Hamilton       | 442.5 |  34.7 |  5.8 | 12.75 | 11 |\n| The Man with the Golden Gun     | 1974 | Roger Moore    | Guy Hamilton       | 334.0 |  27.7 |   NA | 12.06 | 10 |\n| The Spy Who Loved Me            | 1977 | Roger Moore    | Lewis Gilbert      | 533.0 |  45.1 |   NA | 11.82 | 10 |\n| You Only Live Twice             | 1967 | Sean Connery   | Lewis Gilbert      | 514.2 |  59.9 |  4.4 |  8.58 |  7 |\n| On Her Majesty's Secret Service | 1969 | George Lazenby | Peter R. Hunt      | 291.5 |  37.3 |  0.6 |  7.82 |  7 |\n| For Your Eyes Only              | 1981 | Roger Moore    | John Glen          | 449.4 |  60.2 |   NA |  7.47 |  6 |\n| Octopussy                       | 1983 | Roger Moore    | John Glen          | 373.8 |  53.9 |  7.8 |  6.94 |  6 |\n| GoldenEye                       | 1995 | Pierce Brosnan | Martin Campbell    | 518.5 |  76.9 |  5.1 |  6.74 |  6 |\n| Moonraker                       | 1979 | Roger Moore    | Lewis Gilbert      | 535.0 |  91.5 |   NA |  5.85 |  5 |\n| Skyfall                         | 2012 | Daniel Craig   | Sam Mendes         | 943.5 | 170.2 | 14.5 |  5.54 |  5 |\n| Never Say Never Again           | 1983 | Sean Connery   | Irvin Kershner     | 380.0 |  86.0 |   NA |  4.42 |  4 |\n| A View to a Kill                | 1985 | Roger Moore    | John Glen          | 275.2 |  54.5 |  9.1 |  5.05 |  4 |\n| The Living Daylights            | 1987 | Timothy Dalton | John Glen          | 313.5 |  68.8 |  5.2 |  4.56 |  4 |\n| Licence to Kill                 | 1989 | Timothy Dalton | John Glen          | 250.9 |  56.7 |  7.9 |  4.43 |  4 |\n| Casino Royale                   | 1967 | David Niven    | Ken Hughes         | 315.0 |  85.0 |   NA |  3.71 |  3 |\n| Tomorrow Never Dies             | 1997 | Pierce Brosnan | Roger Spottiswoode | 463.2 | 133.9 | 10.0 |  3.46 |  3 |\n| Die Another Day                 | 2002 | Pierce Brosnan | Lee Tamahori       | 465.4 | 154.2 | 17.9 |  3.02 |  3 |\n| Casino Royale                   | 2006 | Daniel Craig   | Martin Campbell    | 581.5 | 145.3 |  3.3 |  4.00 |  3 |\n| Spectre                         | 2015 | Daniel Craig   | Sam Mendes         | 726.7 | 206.3 |   NA |  3.52 |  3 |\n| The World Is Not Enough         | 1999 | Pierce Brosnan | Michael Apted      | 439.5 | 158.3 | 13.5 |  2.78 |  2 |\n| Quantum of Solace               | 2008 | Daniel Craig   | Marc Forster       | 514.2 | 181.4 |  8.1 |  2.83 |  2 |\n\n",
            "text/latex": "A data.table: 26 × 9\n\\begin{tabular}{lllllllll}\n Film & Year & Actor & Director & Box Office & Budget & Bond Actor Salary & profit & profit\\_EUR\\\\\n <chr> & <int> & <chr> & <chr> & <dbl> & <dbl> & <dbl> & <dbl> & <dbl>\\\\\n\\hline\n\t Dr. No                          & 1962 & Sean Connery   & Terence Young      & 448.8 &   7.0 &  0.6 & 64.11 & 53\\\\\n\t Goldfinger                      & 1964 & Sean Connery   & Guy Hamilton       & 820.4 &  18.6 &  3.2 & 44.11 & 37\\\\\n\t From Russia with Love           & 1963 & Sean Connery   & Terence Young      & 543.8 &  12.6 &  1.6 & 43.16 & 36\\\\\n\t Thunderball                     & 1965 & Sean Connery   & Terence Young      & 848.1 &  41.9 &  4.7 & 20.24 & 17\\\\\n\t Live and Let Die                & 1973 & Roger Moore    & Guy Hamilton       & 460.3 &  30.8 &   NA & 14.94 & 12\\\\\n\t Diamonds Are Forever            & 1971 & Sean Connery   & Guy Hamilton       & 442.5 &  34.7 &  5.8 & 12.75 & 11\\\\\n\t The Man with the Golden Gun     & 1974 & Roger Moore    & Guy Hamilton       & 334.0 &  27.7 &   NA & 12.06 & 10\\\\\n\t The Spy Who Loved Me            & 1977 & Roger Moore    & Lewis Gilbert      & 533.0 &  45.1 &   NA & 11.82 & 10\\\\\n\t You Only Live Twice             & 1967 & Sean Connery   & Lewis Gilbert      & 514.2 &  59.9 &  4.4 &  8.58 &  7\\\\\n\t On Her Majesty's Secret Service & 1969 & George Lazenby & Peter R. Hunt      & 291.5 &  37.3 &  0.6 &  7.82 &  7\\\\\n\t For Your Eyes Only              & 1981 & Roger Moore    & John Glen          & 449.4 &  60.2 &   NA &  7.47 &  6\\\\\n\t Octopussy                       & 1983 & Roger Moore    & John Glen          & 373.8 &  53.9 &  7.8 &  6.94 &  6\\\\\n\t GoldenEye                       & 1995 & Pierce Brosnan & Martin Campbell    & 518.5 &  76.9 &  5.1 &  6.74 &  6\\\\\n\t Moonraker                       & 1979 & Roger Moore    & Lewis Gilbert      & 535.0 &  91.5 &   NA &  5.85 &  5\\\\\n\t Skyfall                         & 2012 & Daniel Craig   & Sam Mendes         & 943.5 & 170.2 & 14.5 &  5.54 &  5\\\\\n\t Never Say Never Again           & 1983 & Sean Connery   & Irvin Kershner     & 380.0 &  86.0 &   NA &  4.42 &  4\\\\\n\t A View to a Kill                & 1985 & Roger Moore    & John Glen          & 275.2 &  54.5 &  9.1 &  5.05 &  4\\\\\n\t The Living Daylights            & 1987 & Timothy Dalton & John Glen          & 313.5 &  68.8 &  5.2 &  4.56 &  4\\\\\n\t Licence to Kill                 & 1989 & Timothy Dalton & John Glen          & 250.9 &  56.7 &  7.9 &  4.43 &  4\\\\\n\t Casino Royale                   & 1967 & David Niven    & Ken Hughes         & 315.0 &  85.0 &   NA &  3.71 &  3\\\\\n\t Tomorrow Never Dies             & 1997 & Pierce Brosnan & Roger Spottiswoode & 463.2 & 133.9 & 10.0 &  3.46 &  3\\\\\n\t Die Another Day                 & 2002 & Pierce Brosnan & Lee Tamahori       & 465.4 & 154.2 & 17.9 &  3.02 &  3\\\\\n\t Casino Royale                   & 2006 & Daniel Craig   & Martin Campbell    & 581.5 & 145.3 &  3.3 &  4.00 &  3\\\\\n\t Spectre                         & 2015 & Daniel Craig   & Sam Mendes         & 726.7 & 206.3 &   NA &  3.52 &  3\\\\\n\t The World Is Not Enough         & 1999 & Pierce Brosnan & Michael Apted      & 439.5 & 158.3 & 13.5 &  2.78 &  2\\\\\n\t Quantum of Solace               & 2008 & Daniel Craig   & Marc Forster       & 514.2 & 181.4 &  8.1 &  2.83 &  2\\\\\n\\end{tabular}\n",
            "text/plain": [
              "   Film                            Year Actor          Director          \n",
              "1  Dr. No                          1962 Sean Connery   Terence Young     \n",
              "2  Goldfinger                      1964 Sean Connery   Guy Hamilton      \n",
              "3  From Russia with Love           1963 Sean Connery   Terence Young     \n",
              "4  Thunderball                     1965 Sean Connery   Terence Young     \n",
              "5  Live and Let Die                1973 Roger Moore    Guy Hamilton      \n",
              "6  Diamonds Are Forever            1971 Sean Connery   Guy Hamilton      \n",
              "7  The Man with the Golden Gun     1974 Roger Moore    Guy Hamilton      \n",
              "8  The Spy Who Loved Me            1977 Roger Moore    Lewis Gilbert     \n",
              "9  You Only Live Twice             1967 Sean Connery   Lewis Gilbert     \n",
              "10 On Her Majesty's Secret Service 1969 George Lazenby Peter R. Hunt     \n",
              "11 For Your Eyes Only              1981 Roger Moore    John Glen         \n",
              "12 Octopussy                       1983 Roger Moore    John Glen         \n",
              "13 GoldenEye                       1995 Pierce Brosnan Martin Campbell   \n",
              "14 Moonraker                       1979 Roger Moore    Lewis Gilbert     \n",
              "15 Skyfall                         2012 Daniel Craig   Sam Mendes        \n",
              "16 Never Say Never Again           1983 Sean Connery   Irvin Kershner    \n",
              "17 A View to a Kill                1985 Roger Moore    John Glen         \n",
              "18 The Living Daylights            1987 Timothy Dalton John Glen         \n",
              "19 Licence to Kill                 1989 Timothy Dalton John Glen         \n",
              "20 Casino Royale                   1967 David Niven    Ken Hughes        \n",
              "21 Tomorrow Never Dies             1997 Pierce Brosnan Roger Spottiswoode\n",
              "22 Die Another Day                 2002 Pierce Brosnan Lee Tamahori      \n",
              "23 Casino Royale                   2006 Daniel Craig   Martin Campbell   \n",
              "24 Spectre                         2015 Daniel Craig   Sam Mendes        \n",
              "25 The World Is Not Enough         1999 Pierce Brosnan Michael Apted     \n",
              "26 Quantum of Solace               2008 Daniel Craig   Marc Forster      \n",
              "   Box Office Budget Bond Actor Salary profit profit_EUR\n",
              "1  448.8        7.0   0.6              64.11  53        \n",
              "2  820.4       18.6   3.2              44.11  37        \n",
              "3  543.8       12.6   1.6              43.16  36        \n",
              "4  848.1       41.9   4.7              20.24  17        \n",
              "5  460.3       30.8    NA              14.94  12        \n",
              "6  442.5       34.7   5.8              12.75  11        \n",
              "7  334.0       27.7    NA              12.06  10        \n",
              "8  533.0       45.1    NA              11.82  10        \n",
              "9  514.2       59.9   4.4               8.58   7        \n",
              "10 291.5       37.3   0.6               7.82   7        \n",
              "11 449.4       60.2    NA               7.47   6        \n",
              "12 373.8       53.9   7.8               6.94   6        \n",
              "13 518.5       76.9   5.1               6.74   6        \n",
              "14 535.0       91.5    NA               5.85   5        \n",
              "15 943.5      170.2  14.5               5.54   5        \n",
              "16 380.0       86.0    NA               4.42   4        \n",
              "17 275.2       54.5   9.1               5.05   4        \n",
              "18 313.5       68.8   5.2               4.56   4        \n",
              "19 250.9       56.7   7.9               4.43   4        \n",
              "20 315.0       85.0    NA               3.71   3        \n",
              "21 463.2      133.9  10.0               3.46   3        \n",
              "22 465.4      154.2  17.9               3.02   3        \n",
              "23 581.5      145.3   3.3               4.00   3        \n",
              "24 726.7      206.3    NA               3.52   3        \n",
              "25 439.5      158.3  13.5               2.78   2        \n",
              "26 514.2      181.4   8.1               2.83   2        "
            ]
          },
          "metadata": {}
        }
      ]
    },
    {
      "cell_type": "markdown",
      "metadata": {
        "id": "wPPwmloWLPXH"
      },
      "source": [
        "#### Nuevas variables a partir de pruebas lógicas\n",
        "\n",
        "Con frecuencia, al trabajar con datos, buscamos crear nuevas variables asignando valores por fila partiendo de pruebas lógicas. En estos casos, nos apartamos de asignar valores simplemente utilizando operaciones matemáticas entre otras variables existentes. \n",
        "\n",
        "Existen dos métodos en R particularmente populares para esta tarea:\n",
        "\n",
        "*   `if_else()`\n",
        "*   `case_when()`\n",
        "\n",
        "\n"
      ]
    },
    {
      "cell_type": "markdown",
      "source": [
        "Comenzamos utilizando la función `dplyr::if_else()`.\n",
        "\n",
        "```\n",
        "dplyr::if_else(condition, value if true, value if false)\n",
        "```"
      ],
      "metadata": {
        "id": "LUDlNFjmjXdL"
      }
    },
    {
      "cell_type": "code",
      "metadata": {
        "id": "d6qZ2EgP_Sm1",
        "colab": {
          "base_uri": "https://localhost:8080/",
          "height": 0
        },
        "outputId": "67e5b9fb-9e06-4abc-bf6e-2cac1a986d26"
      },
      "source": [
        "# al definir una variable nueva utilizando función mutate(), combinaremos con función if_else() para crear una prueba lógica\n",
        "# creamos una nueva variable con una clasificación de películas TOP MOVIE vs. NOT IN THE TOP\n",
        "df_james_bond %>% mutate(\n",
        "  film_segment = if_else(\n",
        "    Actor == 'Sean Connery' | Budget> 100,'TOP MOVIE','NOT IN THE TOP'\n",
        "  )\n",
        ")"
      ],
      "execution_count": 24,
      "outputs": [
        {
          "output_type": "display_data",
          "data": {
            "text/html": [
              "<table class=\"dataframe\">\n",
              "<caption>A data.table: 26 × 8</caption>\n",
              "<thead>\n",
              "\t<tr><th scope=col>Film</th><th scope=col>Year</th><th scope=col>Actor</th><th scope=col>Director</th><th scope=col>Box Office</th><th scope=col>Budget</th><th scope=col>Bond Actor Salary</th><th scope=col>film_segment</th></tr>\n",
              "\t<tr><th scope=col>&lt;chr&gt;</th><th scope=col>&lt;int&gt;</th><th scope=col>&lt;chr&gt;</th><th scope=col>&lt;chr&gt;</th><th scope=col>&lt;dbl&gt;</th><th scope=col>&lt;dbl&gt;</th><th scope=col>&lt;dbl&gt;</th><th scope=col>&lt;chr&gt;</th></tr>\n",
              "</thead>\n",
              "<tbody>\n",
              "\t<tr><td>Dr. No                         </td><td>1962</td><td>Sean Connery  </td><td>Terence Young     </td><td>448.8</td><td>  7.0</td><td> 0.6</td><td>TOP MOVIE     </td></tr>\n",
              "\t<tr><td>From Russia with Love          </td><td>1963</td><td>Sean Connery  </td><td>Terence Young     </td><td>543.8</td><td> 12.6</td><td> 1.6</td><td>TOP MOVIE     </td></tr>\n",
              "\t<tr><td>Goldfinger                     </td><td>1964</td><td>Sean Connery  </td><td>Guy Hamilton      </td><td>820.4</td><td> 18.6</td><td> 3.2</td><td>TOP MOVIE     </td></tr>\n",
              "\t<tr><td>Thunderball                    </td><td>1965</td><td>Sean Connery  </td><td>Terence Young     </td><td>848.1</td><td> 41.9</td><td> 4.7</td><td>TOP MOVIE     </td></tr>\n",
              "\t<tr><td>Casino Royale                  </td><td>1967</td><td>David Niven   </td><td>Ken Hughes        </td><td>315.0</td><td> 85.0</td><td>  NA</td><td>NOT IN THE TOP</td></tr>\n",
              "\t<tr><td>You Only Live Twice            </td><td>1967</td><td>Sean Connery  </td><td>Lewis Gilbert     </td><td>514.2</td><td> 59.9</td><td> 4.4</td><td>TOP MOVIE     </td></tr>\n",
              "\t<tr><td>On Her Majesty's Secret Service</td><td>1969</td><td>George Lazenby</td><td>Peter R. Hunt     </td><td>291.5</td><td> 37.3</td><td> 0.6</td><td>NOT IN THE TOP</td></tr>\n",
              "\t<tr><td>Diamonds Are Forever           </td><td>1971</td><td>Sean Connery  </td><td>Guy Hamilton      </td><td>442.5</td><td> 34.7</td><td> 5.8</td><td>TOP MOVIE     </td></tr>\n",
              "\t<tr><td>Live and Let Die               </td><td>1973</td><td>Roger Moore   </td><td>Guy Hamilton      </td><td>460.3</td><td> 30.8</td><td>  NA</td><td>NOT IN THE TOP</td></tr>\n",
              "\t<tr><td>The Man with the Golden Gun    </td><td>1974</td><td>Roger Moore   </td><td>Guy Hamilton      </td><td>334.0</td><td> 27.7</td><td>  NA</td><td>NOT IN THE TOP</td></tr>\n",
              "\t<tr><td>The Spy Who Loved Me           </td><td>1977</td><td>Roger Moore   </td><td>Lewis Gilbert     </td><td>533.0</td><td> 45.1</td><td>  NA</td><td>NOT IN THE TOP</td></tr>\n",
              "\t<tr><td>Moonraker                      </td><td>1979</td><td>Roger Moore   </td><td>Lewis Gilbert     </td><td>535.0</td><td> 91.5</td><td>  NA</td><td>NOT IN THE TOP</td></tr>\n",
              "\t<tr><td>For Your Eyes Only             </td><td>1981</td><td>Roger Moore   </td><td>John Glen         </td><td>449.4</td><td> 60.2</td><td>  NA</td><td>NOT IN THE TOP</td></tr>\n",
              "\t<tr><td>Never Say Never Again          </td><td>1983</td><td>Sean Connery  </td><td>Irvin Kershner    </td><td>380.0</td><td> 86.0</td><td>  NA</td><td>TOP MOVIE     </td></tr>\n",
              "\t<tr><td>Octopussy                      </td><td>1983</td><td>Roger Moore   </td><td>John Glen         </td><td>373.8</td><td> 53.9</td><td> 7.8</td><td>NOT IN THE TOP</td></tr>\n",
              "\t<tr><td>A View to a Kill               </td><td>1985</td><td>Roger Moore   </td><td>John Glen         </td><td>275.2</td><td> 54.5</td><td> 9.1</td><td>NOT IN THE TOP</td></tr>\n",
              "\t<tr><td>The Living Daylights           </td><td>1987</td><td>Timothy Dalton</td><td>John Glen         </td><td>313.5</td><td> 68.8</td><td> 5.2</td><td>NOT IN THE TOP</td></tr>\n",
              "\t<tr><td>Licence to Kill                </td><td>1989</td><td>Timothy Dalton</td><td>John Glen         </td><td>250.9</td><td> 56.7</td><td> 7.9</td><td>NOT IN THE TOP</td></tr>\n",
              "\t<tr><td>GoldenEye                      </td><td>1995</td><td>Pierce Brosnan</td><td>Martin Campbell   </td><td>518.5</td><td> 76.9</td><td> 5.1</td><td>NOT IN THE TOP</td></tr>\n",
              "\t<tr><td>Tomorrow Never Dies            </td><td>1997</td><td>Pierce Brosnan</td><td>Roger Spottiswoode</td><td>463.2</td><td>133.9</td><td>10.0</td><td>TOP MOVIE     </td></tr>\n",
              "\t<tr><td>The World Is Not Enough        </td><td>1999</td><td>Pierce Brosnan</td><td>Michael Apted     </td><td>439.5</td><td>158.3</td><td>13.5</td><td>TOP MOVIE     </td></tr>\n",
              "\t<tr><td>Die Another Day                </td><td>2002</td><td>Pierce Brosnan</td><td>Lee Tamahori      </td><td>465.4</td><td>154.2</td><td>17.9</td><td>TOP MOVIE     </td></tr>\n",
              "\t<tr><td>Casino Royale                  </td><td>2006</td><td>Daniel Craig  </td><td>Martin Campbell   </td><td>581.5</td><td>145.3</td><td> 3.3</td><td>TOP MOVIE     </td></tr>\n",
              "\t<tr><td>Quantum of Solace              </td><td>2008</td><td>Daniel Craig  </td><td>Marc Forster      </td><td>514.2</td><td>181.4</td><td> 8.1</td><td>TOP MOVIE     </td></tr>\n",
              "\t<tr><td>Skyfall                        </td><td>2012</td><td>Daniel Craig  </td><td>Sam Mendes        </td><td>943.5</td><td>170.2</td><td>14.5</td><td>TOP MOVIE     </td></tr>\n",
              "\t<tr><td>Spectre                        </td><td>2015</td><td>Daniel Craig  </td><td>Sam Mendes        </td><td>726.7</td><td>206.3</td><td>  NA</td><td>TOP MOVIE     </td></tr>\n",
              "</tbody>\n",
              "</table>\n"
            ],
            "text/markdown": "\nA data.table: 26 × 8\n\n| Film &lt;chr&gt; | Year &lt;int&gt; | Actor &lt;chr&gt; | Director &lt;chr&gt; | Box Office &lt;dbl&gt; | Budget &lt;dbl&gt; | Bond Actor Salary &lt;dbl&gt; | film_segment &lt;chr&gt; |\n|---|---|---|---|---|---|---|---|\n| Dr. No                          | 1962 | Sean Connery   | Terence Young      | 448.8 |   7.0 |  0.6 | TOP MOVIE      |\n| From Russia with Love           | 1963 | Sean Connery   | Terence Young      | 543.8 |  12.6 |  1.6 | TOP MOVIE      |\n| Goldfinger                      | 1964 | Sean Connery   | Guy Hamilton       | 820.4 |  18.6 |  3.2 | TOP MOVIE      |\n| Thunderball                     | 1965 | Sean Connery   | Terence Young      | 848.1 |  41.9 |  4.7 | TOP MOVIE      |\n| Casino Royale                   | 1967 | David Niven    | Ken Hughes         | 315.0 |  85.0 |   NA | NOT IN THE TOP |\n| You Only Live Twice             | 1967 | Sean Connery   | Lewis Gilbert      | 514.2 |  59.9 |  4.4 | TOP MOVIE      |\n| On Her Majesty's Secret Service | 1969 | George Lazenby | Peter R. Hunt      | 291.5 |  37.3 |  0.6 | NOT IN THE TOP |\n| Diamonds Are Forever            | 1971 | Sean Connery   | Guy Hamilton       | 442.5 |  34.7 |  5.8 | TOP MOVIE      |\n| Live and Let Die                | 1973 | Roger Moore    | Guy Hamilton       | 460.3 |  30.8 |   NA | NOT IN THE TOP |\n| The Man with the Golden Gun     | 1974 | Roger Moore    | Guy Hamilton       | 334.0 |  27.7 |   NA | NOT IN THE TOP |\n| The Spy Who Loved Me            | 1977 | Roger Moore    | Lewis Gilbert      | 533.0 |  45.1 |   NA | NOT IN THE TOP |\n| Moonraker                       | 1979 | Roger Moore    | Lewis Gilbert      | 535.0 |  91.5 |   NA | NOT IN THE TOP |\n| For Your Eyes Only              | 1981 | Roger Moore    | John Glen          | 449.4 |  60.2 |   NA | NOT IN THE TOP |\n| Never Say Never Again           | 1983 | Sean Connery   | Irvin Kershner     | 380.0 |  86.0 |   NA | TOP MOVIE      |\n| Octopussy                       | 1983 | Roger Moore    | John Glen          | 373.8 |  53.9 |  7.8 | NOT IN THE TOP |\n| A View to a Kill                | 1985 | Roger Moore    | John Glen          | 275.2 |  54.5 |  9.1 | NOT IN THE TOP |\n| The Living Daylights            | 1987 | Timothy Dalton | John Glen          | 313.5 |  68.8 |  5.2 | NOT IN THE TOP |\n| Licence to Kill                 | 1989 | Timothy Dalton | John Glen          | 250.9 |  56.7 |  7.9 | NOT IN THE TOP |\n| GoldenEye                       | 1995 | Pierce Brosnan | Martin Campbell    | 518.5 |  76.9 |  5.1 | NOT IN THE TOP |\n| Tomorrow Never Dies             | 1997 | Pierce Brosnan | Roger Spottiswoode | 463.2 | 133.9 | 10.0 | TOP MOVIE      |\n| The World Is Not Enough         | 1999 | Pierce Brosnan | Michael Apted      | 439.5 | 158.3 | 13.5 | TOP MOVIE      |\n| Die Another Day                 | 2002 | Pierce Brosnan | Lee Tamahori       | 465.4 | 154.2 | 17.9 | TOP MOVIE      |\n| Casino Royale                   | 2006 | Daniel Craig   | Martin Campbell    | 581.5 | 145.3 |  3.3 | TOP MOVIE      |\n| Quantum of Solace               | 2008 | Daniel Craig   | Marc Forster       | 514.2 | 181.4 |  8.1 | TOP MOVIE      |\n| Skyfall                         | 2012 | Daniel Craig   | Sam Mendes         | 943.5 | 170.2 | 14.5 | TOP MOVIE      |\n| Spectre                         | 2015 | Daniel Craig   | Sam Mendes         | 726.7 | 206.3 |   NA | TOP MOVIE      |\n\n",
            "text/latex": "A data.table: 26 × 8\n\\begin{tabular}{llllllll}\n Film & Year & Actor & Director & Box Office & Budget & Bond Actor Salary & film\\_segment\\\\\n <chr> & <int> & <chr> & <chr> & <dbl> & <dbl> & <dbl> & <chr>\\\\\n\\hline\n\t Dr. No                          & 1962 & Sean Connery   & Terence Young      & 448.8 &   7.0 &  0.6 & TOP MOVIE     \\\\\n\t From Russia with Love           & 1963 & Sean Connery   & Terence Young      & 543.8 &  12.6 &  1.6 & TOP MOVIE     \\\\\n\t Goldfinger                      & 1964 & Sean Connery   & Guy Hamilton       & 820.4 &  18.6 &  3.2 & TOP MOVIE     \\\\\n\t Thunderball                     & 1965 & Sean Connery   & Terence Young      & 848.1 &  41.9 &  4.7 & TOP MOVIE     \\\\\n\t Casino Royale                   & 1967 & David Niven    & Ken Hughes         & 315.0 &  85.0 &   NA & NOT IN THE TOP\\\\\n\t You Only Live Twice             & 1967 & Sean Connery   & Lewis Gilbert      & 514.2 &  59.9 &  4.4 & TOP MOVIE     \\\\\n\t On Her Majesty's Secret Service & 1969 & George Lazenby & Peter R. Hunt      & 291.5 &  37.3 &  0.6 & NOT IN THE TOP\\\\\n\t Diamonds Are Forever            & 1971 & Sean Connery   & Guy Hamilton       & 442.5 &  34.7 &  5.8 & TOP MOVIE     \\\\\n\t Live and Let Die                & 1973 & Roger Moore    & Guy Hamilton       & 460.3 &  30.8 &   NA & NOT IN THE TOP\\\\\n\t The Man with the Golden Gun     & 1974 & Roger Moore    & Guy Hamilton       & 334.0 &  27.7 &   NA & NOT IN THE TOP\\\\\n\t The Spy Who Loved Me            & 1977 & Roger Moore    & Lewis Gilbert      & 533.0 &  45.1 &   NA & NOT IN THE TOP\\\\\n\t Moonraker                       & 1979 & Roger Moore    & Lewis Gilbert      & 535.0 &  91.5 &   NA & NOT IN THE TOP\\\\\n\t For Your Eyes Only              & 1981 & Roger Moore    & John Glen          & 449.4 &  60.2 &   NA & NOT IN THE TOP\\\\\n\t Never Say Never Again           & 1983 & Sean Connery   & Irvin Kershner     & 380.0 &  86.0 &   NA & TOP MOVIE     \\\\\n\t Octopussy                       & 1983 & Roger Moore    & John Glen          & 373.8 &  53.9 &  7.8 & NOT IN THE TOP\\\\\n\t A View to a Kill                & 1985 & Roger Moore    & John Glen          & 275.2 &  54.5 &  9.1 & NOT IN THE TOP\\\\\n\t The Living Daylights            & 1987 & Timothy Dalton & John Glen          & 313.5 &  68.8 &  5.2 & NOT IN THE TOP\\\\\n\t Licence to Kill                 & 1989 & Timothy Dalton & John Glen          & 250.9 &  56.7 &  7.9 & NOT IN THE TOP\\\\\n\t GoldenEye                       & 1995 & Pierce Brosnan & Martin Campbell    & 518.5 &  76.9 &  5.1 & NOT IN THE TOP\\\\\n\t Tomorrow Never Dies             & 1997 & Pierce Brosnan & Roger Spottiswoode & 463.2 & 133.9 & 10.0 & TOP MOVIE     \\\\\n\t The World Is Not Enough         & 1999 & Pierce Brosnan & Michael Apted      & 439.5 & 158.3 & 13.5 & TOP MOVIE     \\\\\n\t Die Another Day                 & 2002 & Pierce Brosnan & Lee Tamahori       & 465.4 & 154.2 & 17.9 & TOP MOVIE     \\\\\n\t Casino Royale                   & 2006 & Daniel Craig   & Martin Campbell    & 581.5 & 145.3 &  3.3 & TOP MOVIE     \\\\\n\t Quantum of Solace               & 2008 & Daniel Craig   & Marc Forster       & 514.2 & 181.4 &  8.1 & TOP MOVIE     \\\\\n\t Skyfall                         & 2012 & Daniel Craig   & Sam Mendes         & 943.5 & 170.2 & 14.5 & TOP MOVIE     \\\\\n\t Spectre                         & 2015 & Daniel Craig   & Sam Mendes         & 726.7 & 206.3 &   NA & TOP MOVIE     \\\\\n\\end{tabular}\n",
            "text/plain": [
              "   Film                            Year Actor          Director          \n",
              "1  Dr. No                          1962 Sean Connery   Terence Young     \n",
              "2  From Russia with Love           1963 Sean Connery   Terence Young     \n",
              "3  Goldfinger                      1964 Sean Connery   Guy Hamilton      \n",
              "4  Thunderball                     1965 Sean Connery   Terence Young     \n",
              "5  Casino Royale                   1967 David Niven    Ken Hughes        \n",
              "6  You Only Live Twice             1967 Sean Connery   Lewis Gilbert     \n",
              "7  On Her Majesty's Secret Service 1969 George Lazenby Peter R. Hunt     \n",
              "8  Diamonds Are Forever            1971 Sean Connery   Guy Hamilton      \n",
              "9  Live and Let Die                1973 Roger Moore    Guy Hamilton      \n",
              "10 The Man with the Golden Gun     1974 Roger Moore    Guy Hamilton      \n",
              "11 The Spy Who Loved Me            1977 Roger Moore    Lewis Gilbert     \n",
              "12 Moonraker                       1979 Roger Moore    Lewis Gilbert     \n",
              "13 For Your Eyes Only              1981 Roger Moore    John Glen         \n",
              "14 Never Say Never Again           1983 Sean Connery   Irvin Kershner    \n",
              "15 Octopussy                       1983 Roger Moore    John Glen         \n",
              "16 A View to a Kill                1985 Roger Moore    John Glen         \n",
              "17 The Living Daylights            1987 Timothy Dalton John Glen         \n",
              "18 Licence to Kill                 1989 Timothy Dalton John Glen         \n",
              "19 GoldenEye                       1995 Pierce Brosnan Martin Campbell   \n",
              "20 Tomorrow Never Dies             1997 Pierce Brosnan Roger Spottiswoode\n",
              "21 The World Is Not Enough         1999 Pierce Brosnan Michael Apted     \n",
              "22 Die Another Day                 2002 Pierce Brosnan Lee Tamahori      \n",
              "23 Casino Royale                   2006 Daniel Craig   Martin Campbell   \n",
              "24 Quantum of Solace               2008 Daniel Craig   Marc Forster      \n",
              "25 Skyfall                         2012 Daniel Craig   Sam Mendes        \n",
              "26 Spectre                         2015 Daniel Craig   Sam Mendes        \n",
              "   Box Office Budget Bond Actor Salary film_segment  \n",
              "1  448.8        7.0   0.6              TOP MOVIE     \n",
              "2  543.8       12.6   1.6              TOP MOVIE     \n",
              "3  820.4       18.6   3.2              TOP MOVIE     \n",
              "4  848.1       41.9   4.7              TOP MOVIE     \n",
              "5  315.0       85.0    NA              NOT IN THE TOP\n",
              "6  514.2       59.9   4.4              TOP MOVIE     \n",
              "7  291.5       37.3   0.6              NOT IN THE TOP\n",
              "8  442.5       34.7   5.8              TOP MOVIE     \n",
              "9  460.3       30.8    NA              NOT IN THE TOP\n",
              "10 334.0       27.7    NA              NOT IN THE TOP\n",
              "11 533.0       45.1    NA              NOT IN THE TOP\n",
              "12 535.0       91.5    NA              NOT IN THE TOP\n",
              "13 449.4       60.2    NA              NOT IN THE TOP\n",
              "14 380.0       86.0    NA              TOP MOVIE     \n",
              "15 373.8       53.9   7.8              NOT IN THE TOP\n",
              "16 275.2       54.5   9.1              NOT IN THE TOP\n",
              "17 313.5       68.8   5.2              NOT IN THE TOP\n",
              "18 250.9       56.7   7.9              NOT IN THE TOP\n",
              "19 518.5       76.9   5.1              NOT IN THE TOP\n",
              "20 463.2      133.9  10.0              TOP MOVIE     \n",
              "21 439.5      158.3  13.5              TOP MOVIE     \n",
              "22 465.4      154.2  17.9              TOP MOVIE     \n",
              "23 581.5      145.3   3.3              TOP MOVIE     \n",
              "24 514.2      181.4   8.1              TOP MOVIE     \n",
              "25 943.5      170.2  14.5              TOP MOVIE     \n",
              "26 726.7      206.3    NA              TOP MOVIE     "
            ]
          },
          "metadata": {}
        }
      ]
    },
    {
      "cell_type": "code",
      "metadata": {
        "colab": {
          "base_uri": "https://localhost:8080/",
          "height": 0
        },
        "id": "nYJhUQk-w0OG",
        "outputId": "fae88aac-b4d0-471b-f910-e4caa52ee51b"
      },
      "source": [
        "# podemos anidar condiciones if_else() para crear pruebas complejas\n",
        "df_james_bond %>% mutate(\n",
        "  film_segment = if_else(\n",
        "    Actor == 'Sean Connery' | Budget> 100\n",
        "    ,'1st CLASS MOVIE'\n",
        "    ,if_else(\n",
        "      Actor == 'Roger Moore' | Budget> 100\n",
        "      ,'2nd CLASS MOVIE'\n",
        "      ,'NOT IN THE TOP'\n",
        "    )\n",
        "  )\n",
        ")"
      ],
      "execution_count": 25,
      "outputs": [
        {
          "output_type": "display_data",
          "data": {
            "text/html": [
              "<table class=\"dataframe\">\n",
              "<caption>A data.table: 26 × 8</caption>\n",
              "<thead>\n",
              "\t<tr><th scope=col>Film</th><th scope=col>Year</th><th scope=col>Actor</th><th scope=col>Director</th><th scope=col>Box Office</th><th scope=col>Budget</th><th scope=col>Bond Actor Salary</th><th scope=col>film_segment</th></tr>\n",
              "\t<tr><th scope=col>&lt;chr&gt;</th><th scope=col>&lt;int&gt;</th><th scope=col>&lt;chr&gt;</th><th scope=col>&lt;chr&gt;</th><th scope=col>&lt;dbl&gt;</th><th scope=col>&lt;dbl&gt;</th><th scope=col>&lt;dbl&gt;</th><th scope=col>&lt;chr&gt;</th></tr>\n",
              "</thead>\n",
              "<tbody>\n",
              "\t<tr><td>Dr. No                         </td><td>1962</td><td>Sean Connery  </td><td>Terence Young     </td><td>448.8</td><td>  7.0</td><td> 0.6</td><td>1st CLASS MOVIE</td></tr>\n",
              "\t<tr><td>From Russia with Love          </td><td>1963</td><td>Sean Connery  </td><td>Terence Young     </td><td>543.8</td><td> 12.6</td><td> 1.6</td><td>1st CLASS MOVIE</td></tr>\n",
              "\t<tr><td>Goldfinger                     </td><td>1964</td><td>Sean Connery  </td><td>Guy Hamilton      </td><td>820.4</td><td> 18.6</td><td> 3.2</td><td>1st CLASS MOVIE</td></tr>\n",
              "\t<tr><td>Thunderball                    </td><td>1965</td><td>Sean Connery  </td><td>Terence Young     </td><td>848.1</td><td> 41.9</td><td> 4.7</td><td>1st CLASS MOVIE</td></tr>\n",
              "\t<tr><td>Casino Royale                  </td><td>1967</td><td>David Niven   </td><td>Ken Hughes        </td><td>315.0</td><td> 85.0</td><td>  NA</td><td>NOT IN THE TOP </td></tr>\n",
              "\t<tr><td>You Only Live Twice            </td><td>1967</td><td>Sean Connery  </td><td>Lewis Gilbert     </td><td>514.2</td><td> 59.9</td><td> 4.4</td><td>1st CLASS MOVIE</td></tr>\n",
              "\t<tr><td>On Her Majesty's Secret Service</td><td>1969</td><td>George Lazenby</td><td>Peter R. Hunt     </td><td>291.5</td><td> 37.3</td><td> 0.6</td><td>NOT IN THE TOP </td></tr>\n",
              "\t<tr><td>Diamonds Are Forever           </td><td>1971</td><td>Sean Connery  </td><td>Guy Hamilton      </td><td>442.5</td><td> 34.7</td><td> 5.8</td><td>1st CLASS MOVIE</td></tr>\n",
              "\t<tr><td>Live and Let Die               </td><td>1973</td><td>Roger Moore   </td><td>Guy Hamilton      </td><td>460.3</td><td> 30.8</td><td>  NA</td><td>2nd CLASS MOVIE</td></tr>\n",
              "\t<tr><td>The Man with the Golden Gun    </td><td>1974</td><td>Roger Moore   </td><td>Guy Hamilton      </td><td>334.0</td><td> 27.7</td><td>  NA</td><td>2nd CLASS MOVIE</td></tr>\n",
              "\t<tr><td>The Spy Who Loved Me           </td><td>1977</td><td>Roger Moore   </td><td>Lewis Gilbert     </td><td>533.0</td><td> 45.1</td><td>  NA</td><td>2nd CLASS MOVIE</td></tr>\n",
              "\t<tr><td>Moonraker                      </td><td>1979</td><td>Roger Moore   </td><td>Lewis Gilbert     </td><td>535.0</td><td> 91.5</td><td>  NA</td><td>2nd CLASS MOVIE</td></tr>\n",
              "\t<tr><td>For Your Eyes Only             </td><td>1981</td><td>Roger Moore   </td><td>John Glen         </td><td>449.4</td><td> 60.2</td><td>  NA</td><td>2nd CLASS MOVIE</td></tr>\n",
              "\t<tr><td>Never Say Never Again          </td><td>1983</td><td>Sean Connery  </td><td>Irvin Kershner    </td><td>380.0</td><td> 86.0</td><td>  NA</td><td>1st CLASS MOVIE</td></tr>\n",
              "\t<tr><td>Octopussy                      </td><td>1983</td><td>Roger Moore   </td><td>John Glen         </td><td>373.8</td><td> 53.9</td><td> 7.8</td><td>2nd CLASS MOVIE</td></tr>\n",
              "\t<tr><td>A View to a Kill               </td><td>1985</td><td>Roger Moore   </td><td>John Glen         </td><td>275.2</td><td> 54.5</td><td> 9.1</td><td>2nd CLASS MOVIE</td></tr>\n",
              "\t<tr><td>The Living Daylights           </td><td>1987</td><td>Timothy Dalton</td><td>John Glen         </td><td>313.5</td><td> 68.8</td><td> 5.2</td><td>NOT IN THE TOP </td></tr>\n",
              "\t<tr><td>Licence to Kill                </td><td>1989</td><td>Timothy Dalton</td><td>John Glen         </td><td>250.9</td><td> 56.7</td><td> 7.9</td><td>NOT IN THE TOP </td></tr>\n",
              "\t<tr><td>GoldenEye                      </td><td>1995</td><td>Pierce Brosnan</td><td>Martin Campbell   </td><td>518.5</td><td> 76.9</td><td> 5.1</td><td>NOT IN THE TOP </td></tr>\n",
              "\t<tr><td>Tomorrow Never Dies            </td><td>1997</td><td>Pierce Brosnan</td><td>Roger Spottiswoode</td><td>463.2</td><td>133.9</td><td>10.0</td><td>1st CLASS MOVIE</td></tr>\n",
              "\t<tr><td>The World Is Not Enough        </td><td>1999</td><td>Pierce Brosnan</td><td>Michael Apted     </td><td>439.5</td><td>158.3</td><td>13.5</td><td>1st CLASS MOVIE</td></tr>\n",
              "\t<tr><td>Die Another Day                </td><td>2002</td><td>Pierce Brosnan</td><td>Lee Tamahori      </td><td>465.4</td><td>154.2</td><td>17.9</td><td>1st CLASS MOVIE</td></tr>\n",
              "\t<tr><td>Casino Royale                  </td><td>2006</td><td>Daniel Craig  </td><td>Martin Campbell   </td><td>581.5</td><td>145.3</td><td> 3.3</td><td>1st CLASS MOVIE</td></tr>\n",
              "\t<tr><td>Quantum of Solace              </td><td>2008</td><td>Daniel Craig  </td><td>Marc Forster      </td><td>514.2</td><td>181.4</td><td> 8.1</td><td>1st CLASS MOVIE</td></tr>\n",
              "\t<tr><td>Skyfall                        </td><td>2012</td><td>Daniel Craig  </td><td>Sam Mendes        </td><td>943.5</td><td>170.2</td><td>14.5</td><td>1st CLASS MOVIE</td></tr>\n",
              "\t<tr><td>Spectre                        </td><td>2015</td><td>Daniel Craig  </td><td>Sam Mendes        </td><td>726.7</td><td>206.3</td><td>  NA</td><td>1st CLASS MOVIE</td></tr>\n",
              "</tbody>\n",
              "</table>\n"
            ],
            "text/markdown": "\nA data.table: 26 × 8\n\n| Film &lt;chr&gt; | Year &lt;int&gt; | Actor &lt;chr&gt; | Director &lt;chr&gt; | Box Office &lt;dbl&gt; | Budget &lt;dbl&gt; | Bond Actor Salary &lt;dbl&gt; | film_segment &lt;chr&gt; |\n|---|---|---|---|---|---|---|---|\n| Dr. No                          | 1962 | Sean Connery   | Terence Young      | 448.8 |   7.0 |  0.6 | 1st CLASS MOVIE |\n| From Russia with Love           | 1963 | Sean Connery   | Terence Young      | 543.8 |  12.6 |  1.6 | 1st CLASS MOVIE |\n| Goldfinger                      | 1964 | Sean Connery   | Guy Hamilton       | 820.4 |  18.6 |  3.2 | 1st CLASS MOVIE |\n| Thunderball                     | 1965 | Sean Connery   | Terence Young      | 848.1 |  41.9 |  4.7 | 1st CLASS MOVIE |\n| Casino Royale                   | 1967 | David Niven    | Ken Hughes         | 315.0 |  85.0 |   NA | NOT IN THE TOP  |\n| You Only Live Twice             | 1967 | Sean Connery   | Lewis Gilbert      | 514.2 |  59.9 |  4.4 | 1st CLASS MOVIE |\n| On Her Majesty's Secret Service | 1969 | George Lazenby | Peter R. Hunt      | 291.5 |  37.3 |  0.6 | NOT IN THE TOP  |\n| Diamonds Are Forever            | 1971 | Sean Connery   | Guy Hamilton       | 442.5 |  34.7 |  5.8 | 1st CLASS MOVIE |\n| Live and Let Die                | 1973 | Roger Moore    | Guy Hamilton       | 460.3 |  30.8 |   NA | 2nd CLASS MOVIE |\n| The Man with the Golden Gun     | 1974 | Roger Moore    | Guy Hamilton       | 334.0 |  27.7 |   NA | 2nd CLASS MOVIE |\n| The Spy Who Loved Me            | 1977 | Roger Moore    | Lewis Gilbert      | 533.0 |  45.1 |   NA | 2nd CLASS MOVIE |\n| Moonraker                       | 1979 | Roger Moore    | Lewis Gilbert      | 535.0 |  91.5 |   NA | 2nd CLASS MOVIE |\n| For Your Eyes Only              | 1981 | Roger Moore    | John Glen          | 449.4 |  60.2 |   NA | 2nd CLASS MOVIE |\n| Never Say Never Again           | 1983 | Sean Connery   | Irvin Kershner     | 380.0 |  86.0 |   NA | 1st CLASS MOVIE |\n| Octopussy                       | 1983 | Roger Moore    | John Glen          | 373.8 |  53.9 |  7.8 | 2nd CLASS MOVIE |\n| A View to a Kill                | 1985 | Roger Moore    | John Glen          | 275.2 |  54.5 |  9.1 | 2nd CLASS MOVIE |\n| The Living Daylights            | 1987 | Timothy Dalton | John Glen          | 313.5 |  68.8 |  5.2 | NOT IN THE TOP  |\n| Licence to Kill                 | 1989 | Timothy Dalton | John Glen          | 250.9 |  56.7 |  7.9 | NOT IN THE TOP  |\n| GoldenEye                       | 1995 | Pierce Brosnan | Martin Campbell    | 518.5 |  76.9 |  5.1 | NOT IN THE TOP  |\n| Tomorrow Never Dies             | 1997 | Pierce Brosnan | Roger Spottiswoode | 463.2 | 133.9 | 10.0 | 1st CLASS MOVIE |\n| The World Is Not Enough         | 1999 | Pierce Brosnan | Michael Apted      | 439.5 | 158.3 | 13.5 | 1st CLASS MOVIE |\n| Die Another Day                 | 2002 | Pierce Brosnan | Lee Tamahori       | 465.4 | 154.2 | 17.9 | 1st CLASS MOVIE |\n| Casino Royale                   | 2006 | Daniel Craig   | Martin Campbell    | 581.5 | 145.3 |  3.3 | 1st CLASS MOVIE |\n| Quantum of Solace               | 2008 | Daniel Craig   | Marc Forster       | 514.2 | 181.4 |  8.1 | 1st CLASS MOVIE |\n| Skyfall                         | 2012 | Daniel Craig   | Sam Mendes         | 943.5 | 170.2 | 14.5 | 1st CLASS MOVIE |\n| Spectre                         | 2015 | Daniel Craig   | Sam Mendes         | 726.7 | 206.3 |   NA | 1st CLASS MOVIE |\n\n",
            "text/latex": "A data.table: 26 × 8\n\\begin{tabular}{llllllll}\n Film & Year & Actor & Director & Box Office & Budget & Bond Actor Salary & film\\_segment\\\\\n <chr> & <int> & <chr> & <chr> & <dbl> & <dbl> & <dbl> & <chr>\\\\\n\\hline\n\t Dr. No                          & 1962 & Sean Connery   & Terence Young      & 448.8 &   7.0 &  0.6 & 1st CLASS MOVIE\\\\\n\t From Russia with Love           & 1963 & Sean Connery   & Terence Young      & 543.8 &  12.6 &  1.6 & 1st CLASS MOVIE\\\\\n\t Goldfinger                      & 1964 & Sean Connery   & Guy Hamilton       & 820.4 &  18.6 &  3.2 & 1st CLASS MOVIE\\\\\n\t Thunderball                     & 1965 & Sean Connery   & Terence Young      & 848.1 &  41.9 &  4.7 & 1st CLASS MOVIE\\\\\n\t Casino Royale                   & 1967 & David Niven    & Ken Hughes         & 315.0 &  85.0 &   NA & NOT IN THE TOP \\\\\n\t You Only Live Twice             & 1967 & Sean Connery   & Lewis Gilbert      & 514.2 &  59.9 &  4.4 & 1st CLASS MOVIE\\\\\n\t On Her Majesty's Secret Service & 1969 & George Lazenby & Peter R. Hunt      & 291.5 &  37.3 &  0.6 & NOT IN THE TOP \\\\\n\t Diamonds Are Forever            & 1971 & Sean Connery   & Guy Hamilton       & 442.5 &  34.7 &  5.8 & 1st CLASS MOVIE\\\\\n\t Live and Let Die                & 1973 & Roger Moore    & Guy Hamilton       & 460.3 &  30.8 &   NA & 2nd CLASS MOVIE\\\\\n\t The Man with the Golden Gun     & 1974 & Roger Moore    & Guy Hamilton       & 334.0 &  27.7 &   NA & 2nd CLASS MOVIE\\\\\n\t The Spy Who Loved Me            & 1977 & Roger Moore    & Lewis Gilbert      & 533.0 &  45.1 &   NA & 2nd CLASS MOVIE\\\\\n\t Moonraker                       & 1979 & Roger Moore    & Lewis Gilbert      & 535.0 &  91.5 &   NA & 2nd CLASS MOVIE\\\\\n\t For Your Eyes Only              & 1981 & Roger Moore    & John Glen          & 449.4 &  60.2 &   NA & 2nd CLASS MOVIE\\\\\n\t Never Say Never Again           & 1983 & Sean Connery   & Irvin Kershner     & 380.0 &  86.0 &   NA & 1st CLASS MOVIE\\\\\n\t Octopussy                       & 1983 & Roger Moore    & John Glen          & 373.8 &  53.9 &  7.8 & 2nd CLASS MOVIE\\\\\n\t A View to a Kill                & 1985 & Roger Moore    & John Glen          & 275.2 &  54.5 &  9.1 & 2nd CLASS MOVIE\\\\\n\t The Living Daylights            & 1987 & Timothy Dalton & John Glen          & 313.5 &  68.8 &  5.2 & NOT IN THE TOP \\\\\n\t Licence to Kill                 & 1989 & Timothy Dalton & John Glen          & 250.9 &  56.7 &  7.9 & NOT IN THE TOP \\\\\n\t GoldenEye                       & 1995 & Pierce Brosnan & Martin Campbell    & 518.5 &  76.9 &  5.1 & NOT IN THE TOP \\\\\n\t Tomorrow Never Dies             & 1997 & Pierce Brosnan & Roger Spottiswoode & 463.2 & 133.9 & 10.0 & 1st CLASS MOVIE\\\\\n\t The World Is Not Enough         & 1999 & Pierce Brosnan & Michael Apted      & 439.5 & 158.3 & 13.5 & 1st CLASS MOVIE\\\\\n\t Die Another Day                 & 2002 & Pierce Brosnan & Lee Tamahori       & 465.4 & 154.2 & 17.9 & 1st CLASS MOVIE\\\\\n\t Casino Royale                   & 2006 & Daniel Craig   & Martin Campbell    & 581.5 & 145.3 &  3.3 & 1st CLASS MOVIE\\\\\n\t Quantum of Solace               & 2008 & Daniel Craig   & Marc Forster       & 514.2 & 181.4 &  8.1 & 1st CLASS MOVIE\\\\\n\t Skyfall                         & 2012 & Daniel Craig   & Sam Mendes         & 943.5 & 170.2 & 14.5 & 1st CLASS MOVIE\\\\\n\t Spectre                         & 2015 & Daniel Craig   & Sam Mendes         & 726.7 & 206.3 &   NA & 1st CLASS MOVIE\\\\\n\\end{tabular}\n",
            "text/plain": [
              "   Film                            Year Actor          Director          \n",
              "1  Dr. No                          1962 Sean Connery   Terence Young     \n",
              "2  From Russia with Love           1963 Sean Connery   Terence Young     \n",
              "3  Goldfinger                      1964 Sean Connery   Guy Hamilton      \n",
              "4  Thunderball                     1965 Sean Connery   Terence Young     \n",
              "5  Casino Royale                   1967 David Niven    Ken Hughes        \n",
              "6  You Only Live Twice             1967 Sean Connery   Lewis Gilbert     \n",
              "7  On Her Majesty's Secret Service 1969 George Lazenby Peter R. Hunt     \n",
              "8  Diamonds Are Forever            1971 Sean Connery   Guy Hamilton      \n",
              "9  Live and Let Die                1973 Roger Moore    Guy Hamilton      \n",
              "10 The Man with the Golden Gun     1974 Roger Moore    Guy Hamilton      \n",
              "11 The Spy Who Loved Me            1977 Roger Moore    Lewis Gilbert     \n",
              "12 Moonraker                       1979 Roger Moore    Lewis Gilbert     \n",
              "13 For Your Eyes Only              1981 Roger Moore    John Glen         \n",
              "14 Never Say Never Again           1983 Sean Connery   Irvin Kershner    \n",
              "15 Octopussy                       1983 Roger Moore    John Glen         \n",
              "16 A View to a Kill                1985 Roger Moore    John Glen         \n",
              "17 The Living Daylights            1987 Timothy Dalton John Glen         \n",
              "18 Licence to Kill                 1989 Timothy Dalton John Glen         \n",
              "19 GoldenEye                       1995 Pierce Brosnan Martin Campbell   \n",
              "20 Tomorrow Never Dies             1997 Pierce Brosnan Roger Spottiswoode\n",
              "21 The World Is Not Enough         1999 Pierce Brosnan Michael Apted     \n",
              "22 Die Another Day                 2002 Pierce Brosnan Lee Tamahori      \n",
              "23 Casino Royale                   2006 Daniel Craig   Martin Campbell   \n",
              "24 Quantum of Solace               2008 Daniel Craig   Marc Forster      \n",
              "25 Skyfall                         2012 Daniel Craig   Sam Mendes        \n",
              "26 Spectre                         2015 Daniel Craig   Sam Mendes        \n",
              "   Box Office Budget Bond Actor Salary film_segment   \n",
              "1  448.8        7.0   0.6              1st CLASS MOVIE\n",
              "2  543.8       12.6   1.6              1st CLASS MOVIE\n",
              "3  820.4       18.6   3.2              1st CLASS MOVIE\n",
              "4  848.1       41.9   4.7              1st CLASS MOVIE\n",
              "5  315.0       85.0    NA              NOT IN THE TOP \n",
              "6  514.2       59.9   4.4              1st CLASS MOVIE\n",
              "7  291.5       37.3   0.6              NOT IN THE TOP \n",
              "8  442.5       34.7   5.8              1st CLASS MOVIE\n",
              "9  460.3       30.8    NA              2nd CLASS MOVIE\n",
              "10 334.0       27.7    NA              2nd CLASS MOVIE\n",
              "11 533.0       45.1    NA              2nd CLASS MOVIE\n",
              "12 535.0       91.5    NA              2nd CLASS MOVIE\n",
              "13 449.4       60.2    NA              2nd CLASS MOVIE\n",
              "14 380.0       86.0    NA              1st CLASS MOVIE\n",
              "15 373.8       53.9   7.8              2nd CLASS MOVIE\n",
              "16 275.2       54.5   9.1              2nd CLASS MOVIE\n",
              "17 313.5       68.8   5.2              NOT IN THE TOP \n",
              "18 250.9       56.7   7.9              NOT IN THE TOP \n",
              "19 518.5       76.9   5.1              NOT IN THE TOP \n",
              "20 463.2      133.9  10.0              1st CLASS MOVIE\n",
              "21 439.5      158.3  13.5              1st CLASS MOVIE\n",
              "22 465.4      154.2  17.9              1st CLASS MOVIE\n",
              "23 581.5      145.3   3.3              1st CLASS MOVIE\n",
              "24 514.2      181.4   8.1              1st CLASS MOVIE\n",
              "25 943.5      170.2  14.5              1st CLASS MOVIE\n",
              "26 726.7      206.3    NA              1st CLASS MOVIE"
            ]
          },
          "metadata": {}
        }
      ]
    },
    {
      "cell_type": "markdown",
      "source": [
        "De forma alternativa, podemos utilizar la función `dplyr::case_when()`.\n",
        "\n",
        "```\n",
        "dplyr::case_when(\n",
        "   condition_1 ~ value_if_true\n",
        "  ,condition_2 ~ value_if_true\n",
        "  ,condition_3 ~ value_if_true\n",
        "  ...\n",
        ")\n",
        "```"
      ],
      "metadata": {
        "id": "S-dsouBpjqny"
      }
    },
    {
      "cell_type": "code",
      "metadata": {
        "colab": {
          "base_uri": "https://localhost:8080/",
          "height": 0
        },
        "id": "PBCFzpXBxMzk",
        "outputId": "b543dbca-eaba-484c-ca4e-cdcb62641974"
      },
      "source": [
        "# la función case_when(), imitando mismo operador en lenguaje SQL, permite una sintaxis más límpia para crear condiciones complejas\n",
        "# observar que las condiciones tienen un orden jerárquico y no necesitan ser mutuamente excluyentes\n",
        "# en caso de que se cumpla una condición, el sistema no seguirá evaluando condiciones posteriores  \n",
        "\n",
        "df_james_bond %>% mutate(\n",
        "  film_segment = case_when(\n",
        "    Actor == 'Sean Connery' | Budget > 100 ~ '1st CLASS MOVIE',     # condición 1\n",
        "    Actor == 'Roger Moore' | Budget > 100 ~ '2st CLASS MOVIE',      # condición 2\n",
        "    Actor == 'Daniel Craig' | Budget > 100 ~ '3rd CLASS MOVIE',     # condición 3\n",
        "    TRUE == TRUE ~ 'NOT IN THE TOP'                                 # (opcional) esta condición se cumple siempre (TRUE = TRUE), por tanto nos sirve como \"en caso de que ninguna otra se cumpla\"\n",
        "  )\n",
        ")"
      ],
      "execution_count": 26,
      "outputs": [
        {
          "output_type": "display_data",
          "data": {
            "text/html": [
              "<table class=\"dataframe\">\n",
              "<caption>A data.table: 26 × 8</caption>\n",
              "<thead>\n",
              "\t<tr><th scope=col>Film</th><th scope=col>Year</th><th scope=col>Actor</th><th scope=col>Director</th><th scope=col>Box Office</th><th scope=col>Budget</th><th scope=col>Bond Actor Salary</th><th scope=col>film_segment</th></tr>\n",
              "\t<tr><th scope=col>&lt;chr&gt;</th><th scope=col>&lt;int&gt;</th><th scope=col>&lt;chr&gt;</th><th scope=col>&lt;chr&gt;</th><th scope=col>&lt;dbl&gt;</th><th scope=col>&lt;dbl&gt;</th><th scope=col>&lt;dbl&gt;</th><th scope=col>&lt;chr&gt;</th></tr>\n",
              "</thead>\n",
              "<tbody>\n",
              "\t<tr><td>Dr. No                         </td><td>1962</td><td>Sean Connery  </td><td>Terence Young     </td><td>448.8</td><td>  7.0</td><td> 0.6</td><td>1st CLASS MOVIE</td></tr>\n",
              "\t<tr><td>From Russia with Love          </td><td>1963</td><td>Sean Connery  </td><td>Terence Young     </td><td>543.8</td><td> 12.6</td><td> 1.6</td><td>1st CLASS MOVIE</td></tr>\n",
              "\t<tr><td>Goldfinger                     </td><td>1964</td><td>Sean Connery  </td><td>Guy Hamilton      </td><td>820.4</td><td> 18.6</td><td> 3.2</td><td>1st CLASS MOVIE</td></tr>\n",
              "\t<tr><td>Thunderball                    </td><td>1965</td><td>Sean Connery  </td><td>Terence Young     </td><td>848.1</td><td> 41.9</td><td> 4.7</td><td>1st CLASS MOVIE</td></tr>\n",
              "\t<tr><td>Casino Royale                  </td><td>1967</td><td>David Niven   </td><td>Ken Hughes        </td><td>315.0</td><td> 85.0</td><td>  NA</td><td>NOT IN THE TOP </td></tr>\n",
              "\t<tr><td>You Only Live Twice            </td><td>1967</td><td>Sean Connery  </td><td>Lewis Gilbert     </td><td>514.2</td><td> 59.9</td><td> 4.4</td><td>1st CLASS MOVIE</td></tr>\n",
              "\t<tr><td>On Her Majesty's Secret Service</td><td>1969</td><td>George Lazenby</td><td>Peter R. Hunt     </td><td>291.5</td><td> 37.3</td><td> 0.6</td><td>NOT IN THE TOP </td></tr>\n",
              "\t<tr><td>Diamonds Are Forever           </td><td>1971</td><td>Sean Connery  </td><td>Guy Hamilton      </td><td>442.5</td><td> 34.7</td><td> 5.8</td><td>1st CLASS MOVIE</td></tr>\n",
              "\t<tr><td>Live and Let Die               </td><td>1973</td><td>Roger Moore   </td><td>Guy Hamilton      </td><td>460.3</td><td> 30.8</td><td>  NA</td><td>2st CLASS MOVIE</td></tr>\n",
              "\t<tr><td>The Man with the Golden Gun    </td><td>1974</td><td>Roger Moore   </td><td>Guy Hamilton      </td><td>334.0</td><td> 27.7</td><td>  NA</td><td>2st CLASS MOVIE</td></tr>\n",
              "\t<tr><td>The Spy Who Loved Me           </td><td>1977</td><td>Roger Moore   </td><td>Lewis Gilbert     </td><td>533.0</td><td> 45.1</td><td>  NA</td><td>2st CLASS MOVIE</td></tr>\n",
              "\t<tr><td>Moonraker                      </td><td>1979</td><td>Roger Moore   </td><td>Lewis Gilbert     </td><td>535.0</td><td> 91.5</td><td>  NA</td><td>2st CLASS MOVIE</td></tr>\n",
              "\t<tr><td>For Your Eyes Only             </td><td>1981</td><td>Roger Moore   </td><td>John Glen         </td><td>449.4</td><td> 60.2</td><td>  NA</td><td>2st CLASS MOVIE</td></tr>\n",
              "\t<tr><td>Never Say Never Again          </td><td>1983</td><td>Sean Connery  </td><td>Irvin Kershner    </td><td>380.0</td><td> 86.0</td><td>  NA</td><td>1st CLASS MOVIE</td></tr>\n",
              "\t<tr><td>Octopussy                      </td><td>1983</td><td>Roger Moore   </td><td>John Glen         </td><td>373.8</td><td> 53.9</td><td> 7.8</td><td>2st CLASS MOVIE</td></tr>\n",
              "\t<tr><td>A View to a Kill               </td><td>1985</td><td>Roger Moore   </td><td>John Glen         </td><td>275.2</td><td> 54.5</td><td> 9.1</td><td>2st CLASS MOVIE</td></tr>\n",
              "\t<tr><td>The Living Daylights           </td><td>1987</td><td>Timothy Dalton</td><td>John Glen         </td><td>313.5</td><td> 68.8</td><td> 5.2</td><td>NOT IN THE TOP </td></tr>\n",
              "\t<tr><td>Licence to Kill                </td><td>1989</td><td>Timothy Dalton</td><td>John Glen         </td><td>250.9</td><td> 56.7</td><td> 7.9</td><td>NOT IN THE TOP </td></tr>\n",
              "\t<tr><td>GoldenEye                      </td><td>1995</td><td>Pierce Brosnan</td><td>Martin Campbell   </td><td>518.5</td><td> 76.9</td><td> 5.1</td><td>NOT IN THE TOP </td></tr>\n",
              "\t<tr><td>Tomorrow Never Dies            </td><td>1997</td><td>Pierce Brosnan</td><td>Roger Spottiswoode</td><td>463.2</td><td>133.9</td><td>10.0</td><td>1st CLASS MOVIE</td></tr>\n",
              "\t<tr><td>The World Is Not Enough        </td><td>1999</td><td>Pierce Brosnan</td><td>Michael Apted     </td><td>439.5</td><td>158.3</td><td>13.5</td><td>1st CLASS MOVIE</td></tr>\n",
              "\t<tr><td>Die Another Day                </td><td>2002</td><td>Pierce Brosnan</td><td>Lee Tamahori      </td><td>465.4</td><td>154.2</td><td>17.9</td><td>1st CLASS MOVIE</td></tr>\n",
              "\t<tr><td>Casino Royale                  </td><td>2006</td><td>Daniel Craig  </td><td>Martin Campbell   </td><td>581.5</td><td>145.3</td><td> 3.3</td><td>1st CLASS MOVIE</td></tr>\n",
              "\t<tr><td>Quantum of Solace              </td><td>2008</td><td>Daniel Craig  </td><td>Marc Forster      </td><td>514.2</td><td>181.4</td><td> 8.1</td><td>1st CLASS MOVIE</td></tr>\n",
              "\t<tr><td>Skyfall                        </td><td>2012</td><td>Daniel Craig  </td><td>Sam Mendes        </td><td>943.5</td><td>170.2</td><td>14.5</td><td>1st CLASS MOVIE</td></tr>\n",
              "\t<tr><td>Spectre                        </td><td>2015</td><td>Daniel Craig  </td><td>Sam Mendes        </td><td>726.7</td><td>206.3</td><td>  NA</td><td>1st CLASS MOVIE</td></tr>\n",
              "</tbody>\n",
              "</table>\n"
            ],
            "text/markdown": "\nA data.table: 26 × 8\n\n| Film &lt;chr&gt; | Year &lt;int&gt; | Actor &lt;chr&gt; | Director &lt;chr&gt; | Box Office &lt;dbl&gt; | Budget &lt;dbl&gt; | Bond Actor Salary &lt;dbl&gt; | film_segment &lt;chr&gt; |\n|---|---|---|---|---|---|---|---|\n| Dr. No                          | 1962 | Sean Connery   | Terence Young      | 448.8 |   7.0 |  0.6 | 1st CLASS MOVIE |\n| From Russia with Love           | 1963 | Sean Connery   | Terence Young      | 543.8 |  12.6 |  1.6 | 1st CLASS MOVIE |\n| Goldfinger                      | 1964 | Sean Connery   | Guy Hamilton       | 820.4 |  18.6 |  3.2 | 1st CLASS MOVIE |\n| Thunderball                     | 1965 | Sean Connery   | Terence Young      | 848.1 |  41.9 |  4.7 | 1st CLASS MOVIE |\n| Casino Royale                   | 1967 | David Niven    | Ken Hughes         | 315.0 |  85.0 |   NA | NOT IN THE TOP  |\n| You Only Live Twice             | 1967 | Sean Connery   | Lewis Gilbert      | 514.2 |  59.9 |  4.4 | 1st CLASS MOVIE |\n| On Her Majesty's Secret Service | 1969 | George Lazenby | Peter R. Hunt      | 291.5 |  37.3 |  0.6 | NOT IN THE TOP  |\n| Diamonds Are Forever            | 1971 | Sean Connery   | Guy Hamilton       | 442.5 |  34.7 |  5.8 | 1st CLASS MOVIE |\n| Live and Let Die                | 1973 | Roger Moore    | Guy Hamilton       | 460.3 |  30.8 |   NA | 2st CLASS MOVIE |\n| The Man with the Golden Gun     | 1974 | Roger Moore    | Guy Hamilton       | 334.0 |  27.7 |   NA | 2st CLASS MOVIE |\n| The Spy Who Loved Me            | 1977 | Roger Moore    | Lewis Gilbert      | 533.0 |  45.1 |   NA | 2st CLASS MOVIE |\n| Moonraker                       | 1979 | Roger Moore    | Lewis Gilbert      | 535.0 |  91.5 |   NA | 2st CLASS MOVIE |\n| For Your Eyes Only              | 1981 | Roger Moore    | John Glen          | 449.4 |  60.2 |   NA | 2st CLASS MOVIE |\n| Never Say Never Again           | 1983 | Sean Connery   | Irvin Kershner     | 380.0 |  86.0 |   NA | 1st CLASS MOVIE |\n| Octopussy                       | 1983 | Roger Moore    | John Glen          | 373.8 |  53.9 |  7.8 | 2st CLASS MOVIE |\n| A View to a Kill                | 1985 | Roger Moore    | John Glen          | 275.2 |  54.5 |  9.1 | 2st CLASS MOVIE |\n| The Living Daylights            | 1987 | Timothy Dalton | John Glen          | 313.5 |  68.8 |  5.2 | NOT IN THE TOP  |\n| Licence to Kill                 | 1989 | Timothy Dalton | John Glen          | 250.9 |  56.7 |  7.9 | NOT IN THE TOP  |\n| GoldenEye                       | 1995 | Pierce Brosnan | Martin Campbell    | 518.5 |  76.9 |  5.1 | NOT IN THE TOP  |\n| Tomorrow Never Dies             | 1997 | Pierce Brosnan | Roger Spottiswoode | 463.2 | 133.9 | 10.0 | 1st CLASS MOVIE |\n| The World Is Not Enough         | 1999 | Pierce Brosnan | Michael Apted      | 439.5 | 158.3 | 13.5 | 1st CLASS MOVIE |\n| Die Another Day                 | 2002 | Pierce Brosnan | Lee Tamahori       | 465.4 | 154.2 | 17.9 | 1st CLASS MOVIE |\n| Casino Royale                   | 2006 | Daniel Craig   | Martin Campbell    | 581.5 | 145.3 |  3.3 | 1st CLASS MOVIE |\n| Quantum of Solace               | 2008 | Daniel Craig   | Marc Forster       | 514.2 | 181.4 |  8.1 | 1st CLASS MOVIE |\n| Skyfall                         | 2012 | Daniel Craig   | Sam Mendes         | 943.5 | 170.2 | 14.5 | 1st CLASS MOVIE |\n| Spectre                         | 2015 | Daniel Craig   | Sam Mendes         | 726.7 | 206.3 |   NA | 1st CLASS MOVIE |\n\n",
            "text/latex": "A data.table: 26 × 8\n\\begin{tabular}{llllllll}\n Film & Year & Actor & Director & Box Office & Budget & Bond Actor Salary & film\\_segment\\\\\n <chr> & <int> & <chr> & <chr> & <dbl> & <dbl> & <dbl> & <chr>\\\\\n\\hline\n\t Dr. No                          & 1962 & Sean Connery   & Terence Young      & 448.8 &   7.0 &  0.6 & 1st CLASS MOVIE\\\\\n\t From Russia with Love           & 1963 & Sean Connery   & Terence Young      & 543.8 &  12.6 &  1.6 & 1st CLASS MOVIE\\\\\n\t Goldfinger                      & 1964 & Sean Connery   & Guy Hamilton       & 820.4 &  18.6 &  3.2 & 1st CLASS MOVIE\\\\\n\t Thunderball                     & 1965 & Sean Connery   & Terence Young      & 848.1 &  41.9 &  4.7 & 1st CLASS MOVIE\\\\\n\t Casino Royale                   & 1967 & David Niven    & Ken Hughes         & 315.0 &  85.0 &   NA & NOT IN THE TOP \\\\\n\t You Only Live Twice             & 1967 & Sean Connery   & Lewis Gilbert      & 514.2 &  59.9 &  4.4 & 1st CLASS MOVIE\\\\\n\t On Her Majesty's Secret Service & 1969 & George Lazenby & Peter R. Hunt      & 291.5 &  37.3 &  0.6 & NOT IN THE TOP \\\\\n\t Diamonds Are Forever            & 1971 & Sean Connery   & Guy Hamilton       & 442.5 &  34.7 &  5.8 & 1st CLASS MOVIE\\\\\n\t Live and Let Die                & 1973 & Roger Moore    & Guy Hamilton       & 460.3 &  30.8 &   NA & 2st CLASS MOVIE\\\\\n\t The Man with the Golden Gun     & 1974 & Roger Moore    & Guy Hamilton       & 334.0 &  27.7 &   NA & 2st CLASS MOVIE\\\\\n\t The Spy Who Loved Me            & 1977 & Roger Moore    & Lewis Gilbert      & 533.0 &  45.1 &   NA & 2st CLASS MOVIE\\\\\n\t Moonraker                       & 1979 & Roger Moore    & Lewis Gilbert      & 535.0 &  91.5 &   NA & 2st CLASS MOVIE\\\\\n\t For Your Eyes Only              & 1981 & Roger Moore    & John Glen          & 449.4 &  60.2 &   NA & 2st CLASS MOVIE\\\\\n\t Never Say Never Again           & 1983 & Sean Connery   & Irvin Kershner     & 380.0 &  86.0 &   NA & 1st CLASS MOVIE\\\\\n\t Octopussy                       & 1983 & Roger Moore    & John Glen          & 373.8 &  53.9 &  7.8 & 2st CLASS MOVIE\\\\\n\t A View to a Kill                & 1985 & Roger Moore    & John Glen          & 275.2 &  54.5 &  9.1 & 2st CLASS MOVIE\\\\\n\t The Living Daylights            & 1987 & Timothy Dalton & John Glen          & 313.5 &  68.8 &  5.2 & NOT IN THE TOP \\\\\n\t Licence to Kill                 & 1989 & Timothy Dalton & John Glen          & 250.9 &  56.7 &  7.9 & NOT IN THE TOP \\\\\n\t GoldenEye                       & 1995 & Pierce Brosnan & Martin Campbell    & 518.5 &  76.9 &  5.1 & NOT IN THE TOP \\\\\n\t Tomorrow Never Dies             & 1997 & Pierce Brosnan & Roger Spottiswoode & 463.2 & 133.9 & 10.0 & 1st CLASS MOVIE\\\\\n\t The World Is Not Enough         & 1999 & Pierce Brosnan & Michael Apted      & 439.5 & 158.3 & 13.5 & 1st CLASS MOVIE\\\\\n\t Die Another Day                 & 2002 & Pierce Brosnan & Lee Tamahori       & 465.4 & 154.2 & 17.9 & 1st CLASS MOVIE\\\\\n\t Casino Royale                   & 2006 & Daniel Craig   & Martin Campbell    & 581.5 & 145.3 &  3.3 & 1st CLASS MOVIE\\\\\n\t Quantum of Solace               & 2008 & Daniel Craig   & Marc Forster       & 514.2 & 181.4 &  8.1 & 1st CLASS MOVIE\\\\\n\t Skyfall                         & 2012 & Daniel Craig   & Sam Mendes         & 943.5 & 170.2 & 14.5 & 1st CLASS MOVIE\\\\\n\t Spectre                         & 2015 & Daniel Craig   & Sam Mendes         & 726.7 & 206.3 &   NA & 1st CLASS MOVIE\\\\\n\\end{tabular}\n",
            "text/plain": [
              "   Film                            Year Actor          Director          \n",
              "1  Dr. No                          1962 Sean Connery   Terence Young     \n",
              "2  From Russia with Love           1963 Sean Connery   Terence Young     \n",
              "3  Goldfinger                      1964 Sean Connery   Guy Hamilton      \n",
              "4  Thunderball                     1965 Sean Connery   Terence Young     \n",
              "5  Casino Royale                   1967 David Niven    Ken Hughes        \n",
              "6  You Only Live Twice             1967 Sean Connery   Lewis Gilbert     \n",
              "7  On Her Majesty's Secret Service 1969 George Lazenby Peter R. Hunt     \n",
              "8  Diamonds Are Forever            1971 Sean Connery   Guy Hamilton      \n",
              "9  Live and Let Die                1973 Roger Moore    Guy Hamilton      \n",
              "10 The Man with the Golden Gun     1974 Roger Moore    Guy Hamilton      \n",
              "11 The Spy Who Loved Me            1977 Roger Moore    Lewis Gilbert     \n",
              "12 Moonraker                       1979 Roger Moore    Lewis Gilbert     \n",
              "13 For Your Eyes Only              1981 Roger Moore    John Glen         \n",
              "14 Never Say Never Again           1983 Sean Connery   Irvin Kershner    \n",
              "15 Octopussy                       1983 Roger Moore    John Glen         \n",
              "16 A View to a Kill                1985 Roger Moore    John Glen         \n",
              "17 The Living Daylights            1987 Timothy Dalton John Glen         \n",
              "18 Licence to Kill                 1989 Timothy Dalton John Glen         \n",
              "19 GoldenEye                       1995 Pierce Brosnan Martin Campbell   \n",
              "20 Tomorrow Never Dies             1997 Pierce Brosnan Roger Spottiswoode\n",
              "21 The World Is Not Enough         1999 Pierce Brosnan Michael Apted     \n",
              "22 Die Another Day                 2002 Pierce Brosnan Lee Tamahori      \n",
              "23 Casino Royale                   2006 Daniel Craig   Martin Campbell   \n",
              "24 Quantum of Solace               2008 Daniel Craig   Marc Forster      \n",
              "25 Skyfall                         2012 Daniel Craig   Sam Mendes        \n",
              "26 Spectre                         2015 Daniel Craig   Sam Mendes        \n",
              "   Box Office Budget Bond Actor Salary film_segment   \n",
              "1  448.8        7.0   0.6              1st CLASS MOVIE\n",
              "2  543.8       12.6   1.6              1st CLASS MOVIE\n",
              "3  820.4       18.6   3.2              1st CLASS MOVIE\n",
              "4  848.1       41.9   4.7              1st CLASS MOVIE\n",
              "5  315.0       85.0    NA              NOT IN THE TOP \n",
              "6  514.2       59.9   4.4              1st CLASS MOVIE\n",
              "7  291.5       37.3   0.6              NOT IN THE TOP \n",
              "8  442.5       34.7   5.8              1st CLASS MOVIE\n",
              "9  460.3       30.8    NA              2st CLASS MOVIE\n",
              "10 334.0       27.7    NA              2st CLASS MOVIE\n",
              "11 533.0       45.1    NA              2st CLASS MOVIE\n",
              "12 535.0       91.5    NA              2st CLASS MOVIE\n",
              "13 449.4       60.2    NA              2st CLASS MOVIE\n",
              "14 380.0       86.0    NA              1st CLASS MOVIE\n",
              "15 373.8       53.9   7.8              2st CLASS MOVIE\n",
              "16 275.2       54.5   9.1              2st CLASS MOVIE\n",
              "17 313.5       68.8   5.2              NOT IN THE TOP \n",
              "18 250.9       56.7   7.9              NOT IN THE TOP \n",
              "19 518.5       76.9   5.1              NOT IN THE TOP \n",
              "20 463.2      133.9  10.0              1st CLASS MOVIE\n",
              "21 439.5      158.3  13.5              1st CLASS MOVIE\n",
              "22 465.4      154.2  17.9              1st CLASS MOVIE\n",
              "23 581.5      145.3   3.3              1st CLASS MOVIE\n",
              "24 514.2      181.4   8.1              1st CLASS MOVIE\n",
              "25 943.5      170.2  14.5              1st CLASS MOVIE\n",
              "26 726.7      206.3    NA              1st CLASS MOVIE"
            ]
          },
          "metadata": {}
        }
      ]
    },
    {
      "cell_type": "markdown",
      "metadata": {
        "id": "bzl7-Z11RqpN"
      },
      "source": [
        "# 5. Agregaciones\n",
        "---\n",
        "\n",
        "Una agregación es una compilación de datos en un *data frame*, donde alteramos la unidad de observación original, llevando la información a un nivel superior de abstracción. Al realizar una agregación, siempre utilizaremos una función de agregación específica para determinar el tipo de operación.\n",
        "\n",
        "*Funciones básicas de agregación*\n",
        "\n",
        "| Function  \t  | Description        \t|\n",
        "|-----------|--------------------|\n",
        "| *sum()*    \t  | Sum                \t|\n",
        "| *mean()*   \t  | Mean               \t|\n",
        "| *median()* \t  | Median             \t|\n",
        "| *sd()*     \t  | Standard deviation \t|\n",
        "| *min()*    \t  | Minimum            \t|\n",
        "| *max()*    \t  | Maximum            \t|\n",
        "| *n()*      \t  | Count              \t|\n",
        "| *n_distinct()*| Count distinct      |   \n"
      ]
    },
    {
      "cell_type": "code",
      "metadata": {
        "id": "lWWgm-dbSCYZ",
        "colab": {
          "base_uri": "https://localhost:8080/"
        },
        "outputId": "f15a9964-070a-414c-cd26-31861594f0e4"
      },
      "source": [
        "# importamos un df\n",
        "df_james_bond = data.table::fread(\"https://data-wizards.s3.amazonaws.com/datasets/jamesbond.csv\")\n",
        "glimpse(df_james_bond)"
      ],
      "execution_count": 27,
      "outputs": [
        {
          "output_type": "stream",
          "name": "stdout",
          "text": [
            "Rows: 26\n",
            "Columns: 7\n",
            "$ Film                \u001b[3m\u001b[90m<chr>\u001b[39m\u001b[23m \"Dr. No\", \"From Russia with Love\", \"Goldfinger\", \"…\n",
            "$ Year                \u001b[3m\u001b[90m<int>\u001b[39m\u001b[23m 1962, 1963, 1964, 1965, 1967, 1967, 1969, 1971, 19…\n",
            "$ Actor               \u001b[3m\u001b[90m<chr>\u001b[39m\u001b[23m \"Sean Connery\", \"Sean Connery\", \"Sean Connery\", \"S…\n",
            "$ Director            \u001b[3m\u001b[90m<chr>\u001b[39m\u001b[23m \"Terence Young\", \"Terence Young\", \"Guy Hamilton\", …\n",
            "$ `Box Office`        \u001b[3m\u001b[90m<dbl>\u001b[39m\u001b[23m 448.8, 543.8, 820.4, 848.1, 315.0, 514.2, 291.5, 4…\n",
            "$ Budget              \u001b[3m\u001b[90m<dbl>\u001b[39m\u001b[23m 7.0, 12.6, 18.6, 41.9, 85.0, 59.9, 37.3, 34.7, 30.…\n",
            "$ `Bond Actor Salary` \u001b[3m\u001b[90m<dbl>\u001b[39m\u001b[23m 0.6, 1.6, 3.2, 4.7, NA, 4.4, 0.6, 5.8, NA, NA, NA,…\n"
          ]
        }
      ]
    },
    {
      "cell_type": "markdown",
      "metadata": {
        "id": "fsn7-lFg1bra"
      },
      "source": [
        "### Introducción a agregaciones\n",
        "\n",
        "Utilizamos la función `dplyr::summarise()` para realizar una aggregación.\n",
        "\n",
        "```\n",
        "dplyr::summarise(df, agg_1, agg_2, ...)\n",
        "```\n",
        "\n"
      ]
    },
    {
      "cell_type": "code",
      "metadata": {
        "id": "diUErTkcSCc6",
        "colab": {
          "base_uri": "https://localhost:8080/",
          "height": 129
        },
        "outputId": "7674e8fd-0db4-42ee-fa97-04b81fabaaba"
      },
      "source": [
        "# creamos una primer agregación, donde obtendremos la suma total de la variable \"box office\"\n",
        "## esto podría interpretarse como el total de ingresos generados por todas las películas de James Bond \n",
        "df_james_bond %>% summarise(\n",
        "  total_box_office = sum(`Box Office`)    # definimos el nombre de la variable y utilizamos una función de agregación para establecer un criterio\n",
        ")"
      ],
      "execution_count": 28,
      "outputs": [
        {
          "output_type": "display_data",
          "data": {
            "text/html": [
              "<table class=\"dataframe\">\n",
              "<caption>A data.frame: 1 × 1</caption>\n",
              "<thead>\n",
              "\t<tr><th scope=col>total_box_office</th></tr>\n",
              "\t<tr><th scope=col>&lt;dbl&gt;</th></tr>\n",
              "</thead>\n",
              "<tbody>\n",
              "\t<tr><td>12781.9</td></tr>\n",
              "</tbody>\n",
              "</table>\n"
            ],
            "text/markdown": "\nA data.frame: 1 × 1\n\n| total_box_office &lt;dbl&gt; |\n|---|\n| 12781.9 |\n\n",
            "text/latex": "A data.frame: 1 × 1\n\\begin{tabular}{l}\n total\\_box\\_office\\\\\n <dbl>\\\\\n\\hline\n\t 12781.9\\\\\n\\end{tabular}\n",
            "text/plain": [
              "  total_box_office\n",
              "1 12781.9         "
            ]
          },
          "metadata": {}
        }
      ]
    },
    {
      "cell_type": "code",
      "metadata": {
        "colab": {
          "base_uri": "https://localhost:8080/",
          "height": 129
        },
        "id": "yhuvXQ6ezhgx",
        "outputId": "96768971-09dd-4efe-c011-5a1b01c892e7"
      },
      "source": [
        "# los valores nulos (NA) pueden causarnos problemas\n",
        "## utilizaremos un parámetro adicional en la función de agregación, para especificar que no tome en cuanta las observaciones con valores NA\n",
        "## en el ejemplo a continuación, sumaremos los salarios de los actores en todas las películas\n",
        "df_james_bond %>% summarise(\n",
        "  total_bond_salary_v1 = sum(`Bond Actor Salary`)                \n",
        "  ,total_bond_salary_v2 = sum(`Bond Actor Salary`,na.rm=TRUE)    # el segunda parámetro \"na.rm = TRUE\" (NA remove) evita aquellas observaciones NA al realizar el cálculo\n",
        ")\n",
        "## la primer variable tendrá valor NA, ya que al menos una observación es NA"
      ],
      "execution_count": 29,
      "outputs": [
        {
          "output_type": "display_data",
          "data": {
            "text/html": [
              "<table class=\"dataframe\">\n",
              "<caption>A data.frame: 1 × 2</caption>\n",
              "<thead>\n",
              "\t<tr><th scope=col>total_bond_salary_v1</th><th scope=col>total_bond_salary_v2</th></tr>\n",
              "\t<tr><th scope=col>&lt;dbl&gt;</th><th scope=col>&lt;dbl&gt;</th></tr>\n",
              "</thead>\n",
              "<tbody>\n",
              "\t<tr><td>NA</td><td>123.3</td></tr>\n",
              "</tbody>\n",
              "</table>\n"
            ],
            "text/markdown": "\nA data.frame: 1 × 2\n\n| total_bond_salary_v1 &lt;dbl&gt; | total_bond_salary_v2 &lt;dbl&gt; |\n|---|---|\n| NA | 123.3 |\n\n",
            "text/latex": "A data.frame: 1 × 2\n\\begin{tabular}{ll}\n total\\_bond\\_salary\\_v1 & total\\_bond\\_salary\\_v2\\\\\n <dbl> & <dbl>\\\\\n\\hline\n\t NA & 123.3\\\\\n\\end{tabular}\n",
            "text/plain": [
              "  total_bond_salary_v1 total_bond_salary_v2\n",
              "1 NA                   123.3               "
            ]
          },
          "metadata": {}
        }
      ]
    },
    {
      "cell_type": "code",
      "metadata": {
        "id": "F_0tD5EsSChQ",
        "colab": {
          "base_uri": "https://localhost:8080/",
          "height": 129
        },
        "outputId": "e33d5f3e-b057-4b46-ab60-c8d6c047cbbb"
      },
      "source": [
        "# a continuación, utilizaremos distintas funciones de agregación para jugar con los datos disponibles en el dataset\n",
        "df_james_bond %>% summarise(\n",
        "  avg_box_office = mean(`Box Office`)\n",
        "  ,avg_budget = mean(Budget)\n",
        "  ,avg_bond_actor_salary = mean(`Bond Actor Salary`,na.rm = TRUE)\n",
        ")"
      ],
      "execution_count": 30,
      "outputs": [
        {
          "output_type": "display_data",
          "data": {
            "text/html": [
              "<table class=\"dataframe\">\n",
              "<caption>A data.frame: 1 × 3</caption>\n",
              "<thead>\n",
              "\t<tr><th scope=col>avg_box_office</th><th scope=col>avg_budget</th><th scope=col>avg_bond_actor_salary</th></tr>\n",
              "\t<tr><th scope=col>&lt;dbl&gt;</th><th scope=col>&lt;dbl&gt;</th><th scope=col>&lt;dbl&gt;</th></tr>\n",
              "</thead>\n",
              "<tbody>\n",
              "\t<tr><td>491.6115</td><td>80.71923</td><td>6.85</td></tr>\n",
              "</tbody>\n",
              "</table>\n"
            ],
            "text/markdown": "\nA data.frame: 1 × 3\n\n| avg_box_office &lt;dbl&gt; | avg_budget &lt;dbl&gt; | avg_bond_actor_salary &lt;dbl&gt; |\n|---|---|---|\n| 491.6115 | 80.71923 | 6.85 |\n\n",
            "text/latex": "A data.frame: 1 × 3\n\\begin{tabular}{lll}\n avg\\_box\\_office & avg\\_budget & avg\\_bond\\_actor\\_salary\\\\\n <dbl> & <dbl> & <dbl>\\\\\n\\hline\n\t 491.6115 & 80.71923 & 6.85\\\\\n\\end{tabular}\n",
            "text/plain": [
              "  avg_box_office avg_budget avg_bond_actor_salary\n",
              "1 491.6115       80.71923   6.85                 "
            ]
          },
          "metadata": {}
        }
      ]
    },
    {
      "cell_type": "markdown",
      "metadata": {
        "id": "zrfYSZq51tYY"
      },
      "source": [
        "### Agregaciones agrupadas\n",
        "\n",
        "Podemos agrupar agregaciones utilizando la función `dplyr::group_by()`.\n",
        "\n",
        "```\n",
        "dplyr::group_by(df, field_1, field_2, ...)\n",
        "```\n",
        "\n",
        "\n",
        "\n"
      ]
    },
    {
      "cell_type": "code",
      "metadata": {
        "colab": {
          "base_uri": "https://localhost:8080/",
          "height": 506
        },
        "id": "RYA6Is0EviDW",
        "outputId": "0183804e-fc73-4508-fed6-db7e0e8e5283"
      },
      "source": [
        "# en el ejercicio a continuación, buscaremos obtener métricas según Director de la película\n",
        "# nota: la unidad de observación original en el data frame es \"película\" (tenemos una película por fila)\n",
        "# ahora lo queremos abstreaer a un nivel superior: director (existen varias películas por director)\n",
        "\n",
        "df_james_bond %>% group_by(\n",
        "  Director\n",
        ") %>% summarise(\n",
        "  avg_box_office = mean(`Box Office`)\n",
        "  ,median_budget = median(Budget)\n",
        "  ,avg_bond_actor_salary = mean(`Bond Actor Salary`,na.rm = TRUE)\n",
        ") %>% arrange(desc(avg_bond_actor_salary))"
      ],
      "execution_count": 31,
      "outputs": [
        {
          "output_type": "display_data",
          "data": {
            "text/html": [
              "<table class=\"dataframe\">\n",
              "<caption>A tibble: 13 × 4</caption>\n",
              "<thead>\n",
              "\t<tr><th scope=col>Director</th><th scope=col>avg_box_office</th><th scope=col>median_budget</th><th scope=col>avg_bond_actor_salary</th></tr>\n",
              "\t<tr><th scope=col>&lt;chr&gt;</th><th scope=col>&lt;dbl&gt;</th><th scope=col>&lt;dbl&gt;</th><th scope=col>&lt;dbl&gt;</th></tr>\n",
              "</thead>\n",
              "<tbody>\n",
              "\t<tr><td>Lee Tamahori      </td><td>465.4000</td><td>154.20</td><td>17.9</td></tr>\n",
              "\t<tr><td>Sam Mendes        </td><td>835.1000</td><td>188.25</td><td>14.5</td></tr>\n",
              "\t<tr><td>Michael Apted     </td><td>439.5000</td><td>158.30</td><td>13.5</td></tr>\n",
              "\t<tr><td>Roger Spottiswoode</td><td>463.2000</td><td>133.90</td><td>10.0</td></tr>\n",
              "\t<tr><td>Marc Forster      </td><td>514.2000</td><td>181.40</td><td> 8.1</td></tr>\n",
              "\t<tr><td>John Glen         </td><td>332.5600</td><td> 56.70</td><td> 7.5</td></tr>\n",
              "\t<tr><td>Guy Hamilton      </td><td>514.3000</td><td> 29.25</td><td> 4.5</td></tr>\n",
              "\t<tr><td>Lewis Gilbert     </td><td>527.4000</td><td> 59.90</td><td> 4.4</td></tr>\n",
              "\t<tr><td>Martin Campbell   </td><td>550.0000</td><td>111.10</td><td> 4.2</td></tr>\n",
              "\t<tr><td>Terence Young     </td><td>613.5667</td><td> 12.60</td><td> 2.3</td></tr>\n",
              "\t<tr><td>Peter R. Hunt     </td><td>291.5000</td><td> 37.30</td><td> 0.6</td></tr>\n",
              "\t<tr><td>Irvin Kershner    </td><td>380.0000</td><td> 86.00</td><td> NaN</td></tr>\n",
              "\t<tr><td>Ken Hughes        </td><td>315.0000</td><td> 85.00</td><td> NaN</td></tr>\n",
              "</tbody>\n",
              "</table>\n"
            ],
            "text/markdown": "\nA tibble: 13 × 4\n\n| Director &lt;chr&gt; | avg_box_office &lt;dbl&gt; | median_budget &lt;dbl&gt; | avg_bond_actor_salary &lt;dbl&gt; |\n|---|---|---|---|\n| Lee Tamahori       | 465.4000 | 154.20 | 17.9 |\n| Sam Mendes         | 835.1000 | 188.25 | 14.5 |\n| Michael Apted      | 439.5000 | 158.30 | 13.5 |\n| Roger Spottiswoode | 463.2000 | 133.90 | 10.0 |\n| Marc Forster       | 514.2000 | 181.40 |  8.1 |\n| John Glen          | 332.5600 |  56.70 |  7.5 |\n| Guy Hamilton       | 514.3000 |  29.25 |  4.5 |\n| Lewis Gilbert      | 527.4000 |  59.90 |  4.4 |\n| Martin Campbell    | 550.0000 | 111.10 |  4.2 |\n| Terence Young      | 613.5667 |  12.60 |  2.3 |\n| Peter R. Hunt      | 291.5000 |  37.30 |  0.6 |\n| Irvin Kershner     | 380.0000 |  86.00 |  NaN |\n| Ken Hughes         | 315.0000 |  85.00 |  NaN |\n\n",
            "text/latex": "A tibble: 13 × 4\n\\begin{tabular}{llll}\n Director & avg\\_box\\_office & median\\_budget & avg\\_bond\\_actor\\_salary\\\\\n <chr> & <dbl> & <dbl> & <dbl>\\\\\n\\hline\n\t Lee Tamahori       & 465.4000 & 154.20 & 17.9\\\\\n\t Sam Mendes         & 835.1000 & 188.25 & 14.5\\\\\n\t Michael Apted      & 439.5000 & 158.30 & 13.5\\\\\n\t Roger Spottiswoode & 463.2000 & 133.90 & 10.0\\\\\n\t Marc Forster       & 514.2000 & 181.40 &  8.1\\\\\n\t John Glen          & 332.5600 &  56.70 &  7.5\\\\\n\t Guy Hamilton       & 514.3000 &  29.25 &  4.5\\\\\n\t Lewis Gilbert      & 527.4000 &  59.90 &  4.4\\\\\n\t Martin Campbell    & 550.0000 & 111.10 &  4.2\\\\\n\t Terence Young      & 613.5667 &  12.60 &  2.3\\\\\n\t Peter R. Hunt      & 291.5000 &  37.30 &  0.6\\\\\n\t Irvin Kershner     & 380.0000 &  86.00 &  NaN\\\\\n\t Ken Hughes         & 315.0000 &  85.00 &  NaN\\\\\n\\end{tabular}\n",
            "text/plain": [
              "   Director           avg_box_office median_budget avg_bond_actor_salary\n",
              "1  Lee Tamahori       465.4000       154.20        17.9                 \n",
              "2  Sam Mendes         835.1000       188.25        14.5                 \n",
              "3  Michael Apted      439.5000       158.30        13.5                 \n",
              "4  Roger Spottiswoode 463.2000       133.90        10.0                 \n",
              "5  Marc Forster       514.2000       181.40         8.1                 \n",
              "6  John Glen          332.5600        56.70         7.5                 \n",
              "7  Guy Hamilton       514.3000        29.25         4.5                 \n",
              "8  Lewis Gilbert      527.4000        59.90         4.4                 \n",
              "9  Martin Campbell    550.0000       111.10         4.2                 \n",
              "10 Terence Young      613.5667        12.60         2.3                 \n",
              "11 Peter R. Hunt      291.5000        37.30         0.6                 \n",
              "12 Irvin Kershner     380.0000        86.00         NaN                 \n",
              "13 Ken Hughes         315.0000        85.00         NaN                 "
            ]
          },
          "metadata": {}
        }
      ]
    },
    {
      "cell_type": "code",
      "metadata": {
        "colab": {
          "base_uri": "https://localhost:8080/",
          "height": 424
        },
        "id": "ypARbIqotEKW",
        "outputId": "7604eac2-a5bd-4499-ed2a-eba0ea45a758"
      },
      "source": [
        "# realizamos un ejercicio similar al anterior, agregando datos a nivel actor\n",
        "df_james_bond %>% group_by(Actor) %>% summarise(\n",
        "  total_salary = sum(`Bond Actor Salary`,na.rm = TRUE)\n",
        "  ,max_salary_in_movie = max(`Bond Actor Salary`,na.rm = TRUE)  # función max() aplicada a salario de actor en película (sueldo mayor en película)\n",
        "  ,count_movies = n()                                           # n() cuenta observaciones (cantidad de películas)\n",
        ") %>% arrange(desc(total_salary))"
      ],
      "execution_count": 32,
      "outputs": [
        {
          "output_type": "stream",
          "name": "stderr",
          "text": [
            "Warning message:\n",
            "“\u001b[1m\u001b[22mThere was 1 warning in `summarise()`.\n",
            "\u001b[1m\u001b[22m\u001b[36mℹ\u001b[39m In argument: `max_salary_in_movie = max(`Bond Actor Salary`, na.rm = TRUE)`.\n",
            "\u001b[36mℹ\u001b[39m In group 2: `Actor = \"David Niven\"`.\n",
            "Caused by warning in `max()`:\n",
            "\u001b[33m!\u001b[39m no non-missing arguments to max; returning -Inf”\n"
          ]
        },
        {
          "output_type": "display_data",
          "data": {
            "text/html": [
              "<table class=\"dataframe\">\n",
              "<caption>A tibble: 7 × 4</caption>\n",
              "<thead>\n",
              "\t<tr><th scope=col>Actor</th><th scope=col>total_salary</th><th scope=col>max_salary_in_movie</th><th scope=col>count_movies</th></tr>\n",
              "\t<tr><th scope=col>&lt;chr&gt;</th><th scope=col>&lt;dbl&gt;</th><th scope=col>&lt;dbl&gt;</th><th scope=col>&lt;int&gt;</th></tr>\n",
              "</thead>\n",
              "<tbody>\n",
              "\t<tr><td>Pierce Brosnan</td><td>46.5</td><td>17.9</td><td>4</td></tr>\n",
              "\t<tr><td>Daniel Craig  </td><td>25.9</td><td>14.5</td><td>4</td></tr>\n",
              "\t<tr><td>Sean Connery  </td><td>20.3</td><td> 5.8</td><td>7</td></tr>\n",
              "\t<tr><td>Roger Moore   </td><td>16.9</td><td> 9.1</td><td>7</td></tr>\n",
              "\t<tr><td>Timothy Dalton</td><td>13.1</td><td> 7.9</td><td>2</td></tr>\n",
              "\t<tr><td>George Lazenby</td><td> 0.6</td><td> 0.6</td><td>1</td></tr>\n",
              "\t<tr><td>David Niven   </td><td> 0.0</td><td>-Inf</td><td>1</td></tr>\n",
              "</tbody>\n",
              "</table>\n"
            ],
            "text/markdown": "\nA tibble: 7 × 4\n\n| Actor &lt;chr&gt; | total_salary &lt;dbl&gt; | max_salary_in_movie &lt;dbl&gt; | count_movies &lt;int&gt; |\n|---|---|---|---|\n| Pierce Brosnan | 46.5 | 17.9 | 4 |\n| Daniel Craig   | 25.9 | 14.5 | 4 |\n| Sean Connery   | 20.3 |  5.8 | 7 |\n| Roger Moore    | 16.9 |  9.1 | 7 |\n| Timothy Dalton | 13.1 |  7.9 | 2 |\n| George Lazenby |  0.6 |  0.6 | 1 |\n| David Niven    |  0.0 | -Inf | 1 |\n\n",
            "text/latex": "A tibble: 7 × 4\n\\begin{tabular}{llll}\n Actor & total\\_salary & max\\_salary\\_in\\_movie & count\\_movies\\\\\n <chr> & <dbl> & <dbl> & <int>\\\\\n\\hline\n\t Pierce Brosnan & 46.5 & 17.9 & 4\\\\\n\t Daniel Craig   & 25.9 & 14.5 & 4\\\\\n\t Sean Connery   & 20.3 &  5.8 & 7\\\\\n\t Roger Moore    & 16.9 &  9.1 & 7\\\\\n\t Timothy Dalton & 13.1 &  7.9 & 2\\\\\n\t George Lazenby &  0.6 &  0.6 & 1\\\\\n\t David Niven    &  0.0 & -Inf & 1\\\\\n\\end{tabular}\n",
            "text/plain": [
              "  Actor          total_salary max_salary_in_movie count_movies\n",
              "1 Pierce Brosnan 46.5         17.9                4           \n",
              "2 Daniel Craig   25.9         14.5                4           \n",
              "3 Sean Connery   20.3          5.8                7           \n",
              "4 Roger Moore    16.9          9.1                7           \n",
              "5 Timothy Dalton 13.1          7.9                2           \n",
              "6 George Lazenby  0.6          0.6                1           \n",
              "7 David Niven     0.0         -Inf                1           "
            ]
          },
          "metadata": {}
        }
      ]
    },
    {
      "cell_type": "markdown",
      "metadata": {
        "id": "R9kcQyMl0YTY"
      },
      "source": [
        "### Agregaciones condicionadas\n",
        "\n",
        "En ocasiones, nos interesa definir un subconjunto específico de observaciones (filas) para cada variable agregada. En otras palabras, podemos definir condiciones específicas para cada variable al configurar una función de agregación.  \n"
      ]
    },
    {
      "cell_type": "code",
      "metadata": {
        "id": "QBgrInUm0d-c",
        "colab": {
          "base_uri": "https://localhost:8080/",
          "height": 129
        },
        "outputId": "1fe9a633-3b70-46d5-e03e-463050b793ee"
      },
      "source": [
        "# en el ejemplo a continuación, realizaremos una agregación global (sin agrupar), pero definiendo condiciones en las variables agregadas\n",
        "df_james_bond %>% summarise(\n",
        "  sum_salary_Roger_Moore = sum(`Bond Actor Salary`[Actor == 'Roger Moore'],na.rm = TRUE)    # únicamente suma de salarios cuando el actor es Rooger Moore\n",
        "  ,sum_salary_Daniel_Craig = sum(`Bond Actor Salary`[Actor == 'Daniel Craig'],na.rm = TRUE) # únicamente suma de salarios cuando el actor es Daniel Craig\n",
        ")"
      ],
      "execution_count": 33,
      "outputs": [
        {
          "output_type": "display_data",
          "data": {
            "text/html": [
              "<table class=\"dataframe\">\n",
              "<caption>A data.frame: 1 × 2</caption>\n",
              "<thead>\n",
              "\t<tr><th scope=col>sum_salary_Roger_Moore</th><th scope=col>sum_salary_Daniel_Craig</th></tr>\n",
              "\t<tr><th scope=col>&lt;dbl&gt;</th><th scope=col>&lt;dbl&gt;</th></tr>\n",
              "</thead>\n",
              "<tbody>\n",
              "\t<tr><td>16.9</td><td>25.9</td></tr>\n",
              "</tbody>\n",
              "</table>\n"
            ],
            "text/markdown": "\nA data.frame: 1 × 2\n\n| sum_salary_Roger_Moore &lt;dbl&gt; | sum_salary_Daniel_Craig &lt;dbl&gt; |\n|---|---|\n| 16.9 | 25.9 |\n\n",
            "text/latex": "A data.frame: 1 × 2\n\\begin{tabular}{ll}\n sum\\_salary\\_Roger\\_Moore & sum\\_salary\\_Daniel\\_Craig\\\\\n <dbl> & <dbl>\\\\\n\\hline\n\t 16.9 & 25.9\\\\\n\\end{tabular}\n",
            "text/plain": [
              "  sum_salary_Roger_Moore sum_salary_Daniel_Craig\n",
              "1 16.9                   25.9                   "
            ]
          },
          "metadata": {}
        }
      ]
    },
    {
      "cell_type": "code",
      "metadata": {
        "colab": {
          "base_uri": "https://localhost:8080/",
          "height": 161
        },
        "id": "m7MYYGn46Bjz",
        "outputId": "a309cd48-7d11-4af8-f25b-a818a16d8da4"
      },
      "source": [
        "# las agregaciones condicionadas pueden utilizarse para \"pivotear\" (o \"transponer\") una tabla (es decir, cambiar filas por columnas)\n",
        "# en el ejercicio debajo no utilizamos agregación condicionada y obtenemos la misma información, reportada de otra forma\n",
        "\n",
        "df_james_bond %>% filter(\n",
        "  Actor %in% c('Roger Moore','Daniel Craig')            # filtramos por dos actores      \n",
        ") %>% group_by(\n",
        "  Actor                                                 # agrupamos por actor (quiero agrupar la variable agregada según actor)\n",
        ") %>% summarise(\n",
        "  sum_salary = sum(`Bond Actor Salary`,na.rm = TRUE)    # suma de salarios en películas\n",
        ")"
      ],
      "execution_count": 34,
      "outputs": [
        {
          "output_type": "display_data",
          "data": {
            "text/html": [
              "<table class=\"dataframe\">\n",
              "<caption>A tibble: 2 × 2</caption>\n",
              "<thead>\n",
              "\t<tr><th scope=col>Actor</th><th scope=col>sum_salary</th></tr>\n",
              "\t<tr><th scope=col>&lt;chr&gt;</th><th scope=col>&lt;dbl&gt;</th></tr>\n",
              "</thead>\n",
              "<tbody>\n",
              "\t<tr><td>Daniel Craig</td><td>25.9</td></tr>\n",
              "\t<tr><td>Roger Moore </td><td>16.9</td></tr>\n",
              "</tbody>\n",
              "</table>\n"
            ],
            "text/markdown": "\nA tibble: 2 × 2\n\n| Actor &lt;chr&gt; | sum_salary &lt;dbl&gt; |\n|---|---|\n| Daniel Craig | 25.9 |\n| Roger Moore  | 16.9 |\n\n",
            "text/latex": "A tibble: 2 × 2\n\\begin{tabular}{ll}\n Actor & sum\\_salary\\\\\n <chr> & <dbl>\\\\\n\\hline\n\t Daniel Craig & 25.9\\\\\n\t Roger Moore  & 16.9\\\\\n\\end{tabular}\n",
            "text/plain": [
              "  Actor        sum_salary\n",
              "1 Daniel Craig 25.9      \n",
              "2 Roger Moore  16.9      "
            ]
          },
          "metadata": {}
        }
      ]
    },
    {
      "cell_type": "code",
      "metadata": {
        "colab": {
          "base_uri": "https://localhost:8080/",
          "height": 506
        },
        "id": "_obOWfQqWEmE",
        "outputId": "9766fdfc-a02f-4612-bf17-39a3fe433af7"
      },
      "source": [
        "# realizamos otro ejercicio de agregaciones condicionadas\n",
        "# en este caso, agrupamos las métricas agregadas según Director (observar que siempre agrupamos según variables categóricas)\n",
        "\n",
        "df_james_bond %>% group_by(Director) %>% summarise(\n",
        "  total_actor_salary = sum(`Bond Actor Salary`,na.rm = TRUE)                                # esta variable agregada no es condicionada, no estamos limitando las observaciones a ser agragadas\n",
        "  ,sum_salary_Roger_Moore = sum(`Bond Actor Salary`[Actor == 'Roger Moore'],na.rm = TRUE)   # agregamos salarios para actor Roger Moore\n",
        "  ,sum_salary_Daniel_Craig = sum(`Bond Actor Salary`[Actor == 'Daniel Craig'],na.rm = TRUE) # agregamos salarios para actor Daniel Craig\n",
        ") %>% arrange(desc(total_actor_salary))\n",
        "\n",
        "## como resultado, obtenemos (i) la suma total salarios de actores según Director y (ii) la suma de salarios específica para dos actores\n",
        "## aparentemente, el actor Roger Moore únicamente ha hecho películas de James Bond con el director John Glen, por tanto el resto de directores tienen 0 a la variable agregada (condicionada a actor Roger Moore)"
      ],
      "execution_count": 35,
      "outputs": [
        {
          "output_type": "display_data",
          "data": {
            "text/html": [
              "<table class=\"dataframe\">\n",
              "<caption>A tibble: 13 × 4</caption>\n",
              "<thead>\n",
              "\t<tr><th scope=col>Director</th><th scope=col>total_actor_salary</th><th scope=col>sum_salary_Roger_Moore</th><th scope=col>sum_salary_Daniel_Craig</th></tr>\n",
              "\t<tr><th scope=col>&lt;chr&gt;</th><th scope=col>&lt;dbl&gt;</th><th scope=col>&lt;dbl&gt;</th><th scope=col>&lt;dbl&gt;</th></tr>\n",
              "</thead>\n",
              "<tbody>\n",
              "\t<tr><td>John Glen         </td><td>30.0</td><td>16.9</td><td> 0.0</td></tr>\n",
              "\t<tr><td>Lee Tamahori      </td><td>17.9</td><td> 0.0</td><td> 0.0</td></tr>\n",
              "\t<tr><td>Sam Mendes        </td><td>14.5</td><td> 0.0</td><td>14.5</td></tr>\n",
              "\t<tr><td>Michael Apted     </td><td>13.5</td><td> 0.0</td><td> 0.0</td></tr>\n",
              "\t<tr><td>Roger Spottiswoode</td><td>10.0</td><td> 0.0</td><td> 0.0</td></tr>\n",
              "\t<tr><td>Guy Hamilton      </td><td> 9.0</td><td> 0.0</td><td> 0.0</td></tr>\n",
              "\t<tr><td>Martin Campbell   </td><td> 8.4</td><td> 0.0</td><td> 3.3</td></tr>\n",
              "\t<tr><td>Marc Forster      </td><td> 8.1</td><td> 0.0</td><td> 8.1</td></tr>\n",
              "\t<tr><td>Terence Young     </td><td> 6.9</td><td> 0.0</td><td> 0.0</td></tr>\n",
              "\t<tr><td>Lewis Gilbert     </td><td> 4.4</td><td> 0.0</td><td> 0.0</td></tr>\n",
              "\t<tr><td>Peter R. Hunt     </td><td> 0.6</td><td> 0.0</td><td> 0.0</td></tr>\n",
              "\t<tr><td>Irvin Kershner    </td><td> 0.0</td><td> 0.0</td><td> 0.0</td></tr>\n",
              "\t<tr><td>Ken Hughes        </td><td> 0.0</td><td> 0.0</td><td> 0.0</td></tr>\n",
              "</tbody>\n",
              "</table>\n"
            ],
            "text/markdown": "\nA tibble: 13 × 4\n\n| Director &lt;chr&gt; | total_actor_salary &lt;dbl&gt; | sum_salary_Roger_Moore &lt;dbl&gt; | sum_salary_Daniel_Craig &lt;dbl&gt; |\n|---|---|---|---|\n| John Glen          | 30.0 | 16.9 |  0.0 |\n| Lee Tamahori       | 17.9 |  0.0 |  0.0 |\n| Sam Mendes         | 14.5 |  0.0 | 14.5 |\n| Michael Apted      | 13.5 |  0.0 |  0.0 |\n| Roger Spottiswoode | 10.0 |  0.0 |  0.0 |\n| Guy Hamilton       |  9.0 |  0.0 |  0.0 |\n| Martin Campbell    |  8.4 |  0.0 |  3.3 |\n| Marc Forster       |  8.1 |  0.0 |  8.1 |\n| Terence Young      |  6.9 |  0.0 |  0.0 |\n| Lewis Gilbert      |  4.4 |  0.0 |  0.0 |\n| Peter R. Hunt      |  0.6 |  0.0 |  0.0 |\n| Irvin Kershner     |  0.0 |  0.0 |  0.0 |\n| Ken Hughes         |  0.0 |  0.0 |  0.0 |\n\n",
            "text/latex": "A tibble: 13 × 4\n\\begin{tabular}{llll}\n Director & total\\_actor\\_salary & sum\\_salary\\_Roger\\_Moore & sum\\_salary\\_Daniel\\_Craig\\\\\n <chr> & <dbl> & <dbl> & <dbl>\\\\\n\\hline\n\t John Glen          & 30.0 & 16.9 &  0.0\\\\\n\t Lee Tamahori       & 17.9 &  0.0 &  0.0\\\\\n\t Sam Mendes         & 14.5 &  0.0 & 14.5\\\\\n\t Michael Apted      & 13.5 &  0.0 &  0.0\\\\\n\t Roger Spottiswoode & 10.0 &  0.0 &  0.0\\\\\n\t Guy Hamilton       &  9.0 &  0.0 &  0.0\\\\\n\t Martin Campbell    &  8.4 &  0.0 &  3.3\\\\\n\t Marc Forster       &  8.1 &  0.0 &  8.1\\\\\n\t Terence Young      &  6.9 &  0.0 &  0.0\\\\\n\t Lewis Gilbert      &  4.4 &  0.0 &  0.0\\\\\n\t Peter R. Hunt      &  0.6 &  0.0 &  0.0\\\\\n\t Irvin Kershner     &  0.0 &  0.0 &  0.0\\\\\n\t Ken Hughes         &  0.0 &  0.0 &  0.0\\\\\n\\end{tabular}\n",
            "text/plain": [
              "   Director           total_actor_salary sum_salary_Roger_Moore\n",
              "1  John Glen          30.0               16.9                  \n",
              "2  Lee Tamahori       17.9                0.0                  \n",
              "3  Sam Mendes         14.5                0.0                  \n",
              "4  Michael Apted      13.5                0.0                  \n",
              "5  Roger Spottiswoode 10.0                0.0                  \n",
              "6  Guy Hamilton        9.0                0.0                  \n",
              "7  Martin Campbell     8.4                0.0                  \n",
              "8  Marc Forster        8.1                0.0                  \n",
              "9  Terence Young       6.9                0.0                  \n",
              "10 Lewis Gilbert       4.4                0.0                  \n",
              "11 Peter R. Hunt       0.6                0.0                  \n",
              "12 Irvin Kershner      0.0                0.0                  \n",
              "13 Ken Hughes          0.0                0.0                  \n",
              "   sum_salary_Daniel_Craig\n",
              "1   0.0                   \n",
              "2   0.0                   \n",
              "3  14.5                   \n",
              "4   0.0                   \n",
              "5   0.0                   \n",
              "6   0.0                   \n",
              "7   3.3                   \n",
              "8   8.1                   \n",
              "9   0.0                   \n",
              "10  0.0                   \n",
              "11  0.0                   \n",
              "12  0.0                   \n",
              "13  0.0                   "
            ]
          },
          "metadata": {}
        }
      ]
    },
    {
      "cell_type": "markdown",
      "metadata": {
        "id": "uzQ397bPJKx8"
      },
      "source": [
        "# 6. Ejercicios\n",
        "---\n",
        "> 👉 Puedes encontrar las soluciones a los ejercicios [aquí](https://nbviewer.org/github/SomosDataWizards/R-Curso-Introductorio-Ejercicios/blob/main/Capitulo_3_Ejercicios.ipynb)\n",
        "\n",
        "\n",
        "\n",
        "\n"
      ]
    },
    {
      "cell_type": "markdown",
      "metadata": {
        "id": "zVZ6ejzbA9RS"
      },
      "source": [
        "### Ejercicio #1\n",
        "Partiendo del dataset de personajes de Star Wars, filtrar por aquellos que sean originarios de \"Tatooine\", \"Naboo\" o \"Kashyyyk\". Seleccionar únicamente columnas name, homeworld y species\n",
        "\n",
        "> *Dataset https://data-wizards.s3.amazonaws.com/datasets/dataset_star_wars.csv*\n"
      ]
    },
    {
      "cell_type": "code",
      "source": [
        "# importamos las librerías\n",
        "require(dplyr)\n",
        "require(data.table)"
      ],
      "metadata": {
        "id": "g8TohTJwNSD3"
      },
      "execution_count": 36,
      "outputs": []
    },
    {
      "cell_type": "code",
      "metadata": {
        "id": "zZEC53WNEXGF",
        "colab": {
          "base_uri": "https://localhost:8080/"
        },
        "outputId": "ba76f700-e096-409c-cd3f-e85235c96267"
      },
      "source": [
        "# importamos df\n",
        "df_star_wars = fread(\"https://data-wizards.s3.amazonaws.com/datasets/dataset_star_wars.csv\")\n",
        "glimpse(df_star_wars)"
      ],
      "execution_count": 37,
      "outputs": [
        {
          "output_type": "stream",
          "name": "stdout",
          "text": [
            "Rows: 87\n",
            "Columns: 10\n",
            "$ name       \u001b[3m\u001b[90m<chr>\u001b[39m\u001b[23m \"Mon Mothma\", \"Yoda\", \"Tion Medon\", \"Ratts Tyerell\", \"Luke …\n",
            "$ height     \u001b[3m\u001b[90m<int>\u001b[39m\u001b[23m 150, 66, 206, 79, 172, 96, 165, 228, 188, 188, 184, 150, 18…\n",
            "$ mass       \u001b[3m\u001b[90m<dbl>\u001b[39m\u001b[23m NA, 17.0, 80.0, 15.0, 77.0, 32.0, 75.0, 112.0, 79.0, 84.0, …\n",
            "$ hair_color \u001b[3m\u001b[90m<chr>\u001b[39m\u001b[23m \"auburn\", \"white\", \"none\", \"none\", \"blond\", \"\", \"brown\", \"b…\n",
            "$ skin_color \u001b[3m\u001b[90m<chr>\u001b[39m\u001b[23m \"fair\", \"green\", \"grey\", \"grey & blue\", \"fair\", \"white & bl…\n",
            "$ eye_color  \u001b[3m\u001b[90m<chr>\u001b[39m\u001b[23m \"blue\", \"brown\", \"black\", \"unknown\", \"blue\", \"red\", \"blue\",…\n",
            "$ birth_year \u001b[3m\u001b[90m<dbl>\u001b[39m\u001b[23m 48.0, 896.0, NA, NA, 19.0, 33.0, 47.0, 200.0, NA, 72.0, NA,…\n",
            "$ gender     \u001b[3m\u001b[90m<chr>\u001b[39m\u001b[23m \"female\", \"male\", \"male\", \"male\", \"male\", \"\", \"female\", \"ma…\n",
            "$ homeworld  \u001b[3m\u001b[90m<chr>\u001b[39m\u001b[23m \"Chandrila\", \"\", \"Utapau\", \"Aleen Minor\", \"Tatooine\", \"Nabo…\n",
            "$ species    \u001b[3m\u001b[90m<chr>\u001b[39m\u001b[23m \"Human\", \"Yoda's species\", \"Pau'an\", \"Aleena\", \"Human\", \"Dr…\n"
          ]
        }
      ]
    },
    {
      "cell_type": "markdown",
      "metadata": {
        "id": "p4VdllEpCRjk"
      },
      "source": [
        "### Ejercicio #2\n",
        "Importa el dataset de valoraciones de películas de IMDB, filtrar por películas  \n",
        "(i) cuyo actor principal (*actor_1_name*) sea Johnny Depp y su valoración (*imdb score*) mayor a 7, o   \n",
        "(ii) cuyo director sea James Cameron y su valoración mayor a 8. \n",
        "\n",
        "Seleccionar únicamente variables *actor_1_name*, *director_name*, *imdb_score*.\n",
        "\n",
        "> *Dataset https://data-wizards.s3.amazonaws.com/datasets/movies.csv*"
      ]
    },
    {
      "cell_type": "code",
      "source": [
        "# importamos las librerías\n",
        "require(dplyr)\n",
        "require(data.table)"
      ],
      "metadata": {
        "id": "d4lPAD8DONDI"
      },
      "execution_count": 38,
      "outputs": []
    },
    {
      "cell_type": "code",
      "metadata": {
        "id": "bj8IsadUCUqV",
        "colab": {
          "base_uri": "https://localhost:8080/"
        },
        "outputId": "f9bd07bc-e4da-4667-f243-f30e6ba7eb1e"
      },
      "source": [
        "# importar el dataset\n",
        "df_movies = fread(\"https://data-wizards.s3.amazonaws.com/datasets/movies.csv\")\n",
        "glimpse(df_movies)"
      ],
      "execution_count": 39,
      "outputs": [
        {
          "output_type": "stream",
          "name": "stdout",
          "text": [
            "Rows: 4,916\n",
            "Columns: 28\n",
            "$ color                     \u001b[3m\u001b[90m<chr>\u001b[39m\u001b[23m \"Color\", \"Color\", \"Color\", \"Color\", \"\", \"Col…\n",
            "$ director_name             \u001b[3m\u001b[90m<chr>\u001b[39m\u001b[23m \"James Cameron\", \"Gore Verbinski\", \"Sam Mend…\n",
            "$ num_critic_for_reviews    \u001b[3m\u001b[90m<int>\u001b[39m\u001b[23m 723, 302, 602, 813, NA, 462, 392, 324, 635, …\n",
            "$ duration                  \u001b[3m\u001b[90m<int>\u001b[39m\u001b[23m 178, 169, 148, 164, NA, 132, 156, 100, 141, …\n",
            "$ director_facebook_likes   \u001b[3m\u001b[90m<int>\u001b[39m\u001b[23m 0, 563, 0, 22000, 131, 475, 0, 15, 0, 282, 0…\n",
            "$ actor_3_facebook_likes    \u001b[3m\u001b[90m<int>\u001b[39m\u001b[23m 855, 1000, 161, 23000, NA, 530, 4000, 284, 1…\n",
            "$ actor_2_name              \u001b[3m\u001b[90m<chr>\u001b[39m\u001b[23m \"Joel David Moore\", \"Orlando Bloom\", \"Rory K…\n",
            "$ actor_1_facebook_likes    \u001b[3m\u001b[90m<int>\u001b[39m\u001b[23m 1000, 40000, 11000, 27000, 131, 640, 24000, …\n",
            "$ gross                     \u001b[3m\u001b[90m<dbl>\u001b[39m\u001b[23m 760505847, 309404152, 200074175, 448130642, …\n",
            "$ genres                    \u001b[3m\u001b[90m<chr>\u001b[39m\u001b[23m \"Action|Adventure|Fantasy|Sci-Fi\", \"Action|A…\n",
            "$ actor_1_name              \u001b[3m\u001b[90m<chr>\u001b[39m\u001b[23m \"CCH Pounder\", \"Johnny Depp\", \"Christoph Wal…\n",
            "$ movie_title               \u001b[3m\u001b[90m<chr>\u001b[39m\u001b[23m \"Avatar\", \"Pirates of the Caribbean: At Worl…\n",
            "$ num_voted_users           \u001b[3m\u001b[90m<int>\u001b[39m\u001b[23m 886204, 471220, 275868, 1144337, 8, 212204, …\n",
            "$ cast_total_facebook_likes \u001b[3m\u001b[90m<int>\u001b[39m\u001b[23m 4834, 48350, 11700, 106759, 143, 1873, 46055…\n",
            "$ actor_3_name              \u001b[3m\u001b[90m<chr>\u001b[39m\u001b[23m \"Wes Studi\", \"Jack Davenport\", \"Stephanie Si…\n",
            "$ facenumber_in_poster      \u001b[3m\u001b[90m<int>\u001b[39m\u001b[23m 0, 0, 1, 0, 0, 1, 0, 1, 4, 3, 0, 0, 1, 2, 1,…\n",
            "$ plot_keywords             \u001b[3m\u001b[90m<chr>\u001b[39m\u001b[23m \"avatar|future|marine|native|paraplegic\", \"g…\n",
            "$ movie_imdb_link           \u001b[3m\u001b[90m<chr>\u001b[39m\u001b[23m \"http://www.imdb.com/title/tt0499549/?ref_=f…\n",
            "$ num_user_for_reviews      \u001b[3m\u001b[90m<int>\u001b[39m\u001b[23m 3054, 1238, 994, 2701, NA, 738, 1902, 387, 1…\n",
            "$ language                  \u001b[3m\u001b[90m<chr>\u001b[39m\u001b[23m \"English\", \"English\", \"English\", \"English\", …\n",
            "$ country                   \u001b[3m\u001b[90m<chr>\u001b[39m\u001b[23m \"USA\", \"USA\", \"UK\", \"USA\", \"\", \"USA\", \"USA\",…\n",
            "$ content_rating            \u001b[3m\u001b[90m<chr>\u001b[39m\u001b[23m \"PG-13\", \"PG-13\", \"PG-13\", \"PG-13\", \"\", \"PG-…\n",
            "$ budget                    \u001b[3m\u001b[90m<dbl>\u001b[39m\u001b[23m 237000000, 300000000, 245000000, 250000000, …\n",
            "$ title_year                \u001b[3m\u001b[90m<int>\u001b[39m\u001b[23m 2009, 2007, 2015, 2012, NA, 2012, 2007, 2010…\n",
            "$ actor_2_facebook_likes    \u001b[3m\u001b[90m<int>\u001b[39m\u001b[23m 936, 5000, 393, 23000, 12, 632, 11000, 553, …\n",
            "$ imdb_score                \u001b[3m\u001b[90m<dbl>\u001b[39m\u001b[23m 7.9, 7.1, 6.8, 8.5, 7.1, 6.6, 6.2, 7.8, 7.5,…\n",
            "$ aspect_ratio              \u001b[3m\u001b[90m<dbl>\u001b[39m\u001b[23m 1.78, 2.35, 2.35, 2.35, NA, 2.35, 2.35, 1.85…\n",
            "$ movie_facebook_likes      \u001b[3m\u001b[90m<int>\u001b[39m\u001b[23m 33000, 0, 85000, 164000, 0, 24000, 0, 29000,…\n"
          ]
        }
      ]
    },
    {
      "cell_type": "markdown",
      "metadata": {
        "id": "uwhCPucp_svi"
      },
      "source": [
        "### Ejercicio #3\n",
        "Importa el dataset con datos del WHO (*World Health Organization*) y crea una nueva variable que identifique si un país está por debajo de la mediana de PIB per cápita mundial. Filtra por *países europeos que estén por debajo de la mediana mundial de PIB per cápita* y selecciona únicamente las variables relevantes.\n",
        "\n",
        "> *Dataset https://data-wizards.s3.amazonaws.com/datasets/dataset_na_who.csv*\n",
        "\n",
        "\n",
        "\n",
        "\n",
        "\n",
        "\n"
      ]
    },
    {
      "cell_type": "code",
      "source": [
        "# importamos las librerías\n",
        "require(dplyr)\n",
        "require(data.table)"
      ],
      "metadata": {
        "id": "1-u7hRZZRKXQ"
      },
      "execution_count": 40,
      "outputs": []
    },
    {
      "cell_type": "code",
      "metadata": {
        "colab": {
          "base_uri": "https://localhost:8080/"
        },
        "id": "0FL0Go3Av8l0",
        "outputId": "1a6b2759-fcb2-4ec6-846c-b016e0da74a8"
      },
      "source": [
        "# importar el dataset\n",
        "df_who = fread(\"https://data-wizards.s3.amazonaws.com/datasets/dataset_na_who.csv\")\n",
        "glimpse(df_who)"
      ],
      "execution_count": 41,
      "outputs": [
        {
          "output_type": "stream",
          "name": "stdout",
          "text": [
            "Rows: 196\n",
            "Columns: 13\n",
            "$ Country                                                  \u001b[3m\u001b[90m<chr>\u001b[39m\u001b[23m \"Afghanistan\"…\n",
            "$ CountryID                                                \u001b[3m\u001b[90m<int>\u001b[39m\u001b[23m 1, 2, 3, 4, 5…\n",
            "$ ContinentID                                              \u001b[3m\u001b[90m<int>\u001b[39m\u001b[23m 1, 2, 3, 2, 3…\n",
            "$ `Adolescent fertility rate (%)`                          \u001b[3m\u001b[90m<int>\u001b[39m\u001b[23m 151, 27, 6, N…\n",
            "$ `Adult literacy rate (%)`                                \u001b[3m\u001b[90m<dbl>\u001b[39m\u001b[23m 28.0, 98.7, 6…\n",
            "$ `Gross national income per capita (PPP international $)` \u001b[3m\u001b[90m<int>\u001b[39m\u001b[23m NA, 6000, 594…\n",
            "$ `Net primary school enrolment ratio female (%)`          \u001b[3m\u001b[90m<int>\u001b[39m\u001b[23m NA, 93, 94, 8…\n",
            "$ `Net primary school enrolment ratio male (%)`            \u001b[3m\u001b[90m<int>\u001b[39m\u001b[23m NA, 94, 96, 8…\n",
            "$ `Population (in thousands) total`                        \u001b[3m\u001b[90m<int>\u001b[39m\u001b[23m 26088, 3172, …\n",
            "$ `Population annual growth rate (%)`                      \u001b[3m\u001b[90m<dbl>\u001b[39m\u001b[23m 4.0, 0.6, 1.5…\n",
            "$ `Population in urban areas (%)`                          \u001b[3m\u001b[90m<int>\u001b[39m\u001b[23m 23, 46, 64, 9…\n",
            "$ `Population living below the poverty line`               \u001b[3m\u001b[90m<dbl>\u001b[39m\u001b[23m NA, 2.0, NA, …\n",
            "$ Continent                                                \u001b[3m\u001b[90m<chr>\u001b[39m\u001b[23m \"Middle East\"…\n"
          ]
        }
      ]
    },
    {
      "cell_type": "markdown",
      "metadata": {
        "id": "cndfqZw4ZSwG"
      },
      "source": [
        "### Ejercicio #4\n",
        "Agregar *revenue* total, segín sector productivo. Ordenar de forma descendente por *revenue*. Para las empresas incluidas en el ranking, ¿cuáles son los sectores que generan más facturación?\n",
        "\n",
        "\n",
        "> *Dataset https://data-wizards.s3.amazonaws.com/datasets/fortune1000.csv*\n"
      ]
    },
    {
      "cell_type": "code",
      "source": [
        "# importamos las librerías\n",
        "require(dplyr)\n",
        "require(data.table)"
      ],
      "metadata": {
        "id": "WluqyEz2TxlW"
      },
      "execution_count": 42,
      "outputs": []
    },
    {
      "cell_type": "code",
      "metadata": {
        "id": "BnpYaOzZ_jtx",
        "colab": {
          "base_uri": "https://localhost:8080/"
        },
        "outputId": "e2586351-f1f0-47fe-f8f8-a5fff5a6cea0"
      },
      "source": [
        "# importar el dataset\n",
        "df_fortune1000 = fread(\"https://data-wizards.s3.amazonaws.com/datasets/fortune1000.csv\")\n",
        "glimpse(df_fortune1000)"
      ],
      "execution_count": 43,
      "outputs": [
        {
          "output_type": "stream",
          "name": "stdout",
          "text": [
            "Rows: 1,000\n",
            "Columns: 8\n",
            "$ Rank      \u001b[3m\u001b[90m<int>\u001b[39m\u001b[23m 1, 2, 3, 4, 5, 6, 7, 8, 9, 10, 11, 12, 13, 14, 15, 16, 17, 1…\n",
            "$ Company   \u001b[3m\u001b[90m<chr>\u001b[39m\u001b[23m \"Walmart\", \"Exxon Mobil\", \"Apple\", \"Berkshire Hathaway\", \"Mc…\n",
            "$ Sector    \u001b[3m\u001b[90m<chr>\u001b[39m\u001b[23m \"Retailing\", \"Energy\", \"Technology\", \"Financials\", \"Health C…\n",
            "$ Industry  \u001b[3m\u001b[90m<chr>\u001b[39m\u001b[23m \"General Merchandisers\", \"Petroleum Refining\", \"Computers, O…\n",
            "$ Location  \u001b[3m\u001b[90m<chr>\u001b[39m\u001b[23m \"Bentonville, AR\", \"Irving, TX\", \"Cupertino, CA\", \"Omaha, NE…\n",
            "$ Revenue   \u001b[3m\u001b[90m<int>\u001b[39m\u001b[23m 482130, 246204, 233715, 210821, 181241, 157107, 153290, 1523…\n",
            "$ Profits   \u001b[3m\u001b[90m<int>\u001b[39m\u001b[23m 14694, 16150, 53394, 24083, 1476, 5813, 5237, 9687, 7373, 13…\n",
            "$ Employees \u001b[3m\u001b[90m<int>\u001b[39m\u001b[23m 2300000, 75600, 110000, 331000, 70400, 200000, 199000, 21500…\n"
          ]
        }
      ]
    },
    {
      "cell_type": "markdown",
      "metadata": {
        "id": "1VUN9G4lZbdt"
      },
      "source": [
        "### Ejercicio #5\n",
        "Partiendo del dataset con datos de empleados estatales, agregar la mediana de salario base según departamento. Tener en cuenta únicamente empleados full time.\n",
        "\n",
        "\n",
        "> *Dataset https://data-wizards.s3.amazonaws.com/datasets/employees.csv*\n"
      ]
    },
    {
      "cell_type": "code",
      "source": [
        "# importamos las librerías\n",
        "require(dplyr)\n",
        "require(data.table)"
      ],
      "metadata": {
        "id": "WjE_soimUjjP"
      },
      "execution_count": 44,
      "outputs": []
    },
    {
      "cell_type": "code",
      "metadata": {
        "colab": {
          "base_uri": "https://localhost:8080/"
        },
        "id": "VZAJ-pg_Q5Ur",
        "outputId": "97c7a180-8a65-4d70-9942-b7ba32f812ef"
      },
      "source": [
        "# importar el dataset\n",
        "df_employees = fread(\"https://data-wizards.s3.amazonaws.com/datasets/employees.csv\")\n",
        "glimpse(df_employees)"
      ],
      "execution_count": 45,
      "outputs": [
        {
          "output_type": "stream",
          "name": "stdout",
          "text": [
            "Rows: 2,000\n",
            "Columns: 10\n",
            "$ UNIQUE_ID         \u001b[3m\u001b[90m<int>\u001b[39m\u001b[23m 0, 1, 2, 3, 4, 5, 6, 7, 8, 9, 10, 11, 12, 13, 14, 15…\n",
            "$ POSITION_TITLE    \u001b[3m\u001b[90m<chr>\u001b[39m\u001b[23m \"ASSISTANT DIRECTOR (EX LVL)\", \"LIBRARY ASSISTANT\", …\n",
            "$ DEPARTMENT        \u001b[3m\u001b[90m<chr>\u001b[39m\u001b[23m \"Municipal Courts Department\", \"Library\", \"Houston P…\n",
            "$ BASE_SALARY       \u001b[3m\u001b[90m<dbl>\u001b[39m\u001b[23m 121862, 26125, 45279, 63166, 56347, 66614, 71680, 42…\n",
            "$ RACE              \u001b[3m\u001b[90m<chr>\u001b[39m\u001b[23m \"Hispanic/Latino\", \"Hispanic/Latino\", \"White\", \"Whit…\n",
            "$ EMPLOYMENT_TYPE   \u001b[3m\u001b[90m<chr>\u001b[39m\u001b[23m \"Full Time\", \"Full Time\", \"Full Time\", \"Full Time\", …\n",
            "$ GENDER            \u001b[3m\u001b[90m<chr>\u001b[39m\u001b[23m \"Female\", \"Female\", \"Male\", \"Male\", \"Male\", \"Male\", …\n",
            "$ EMPLOYMENT_STATUS \u001b[3m\u001b[90m<chr>\u001b[39m\u001b[23m \"Active\", \"Active\", \"Active\", \"Active\", \"Active\", \"A…\n",
            "$ HIRE_DATE         \u001b[3m\u001b[90m<IDate>\u001b[39m\u001b[23m 2006-06-12, 2000-07-19, 2015-02-03, 1982-02-08, 19…\n",
            "$ JOB_DATE          \u001b[3m\u001b[90m<IDate>\u001b[39m\u001b[23m 2012-10-13, 2010-09-18, 2015-02-03, 1991-05-25, 19…\n"
          ]
        }
      ]
    }
  ]
}