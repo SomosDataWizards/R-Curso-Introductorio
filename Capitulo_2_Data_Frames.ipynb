{
  "nbformat": 4,
  "nbformat_minor": 0,
  "metadata": {
    "colab": {
      "provenance": [],
      "toc_visible": true,
      "collapsed_sections": [
        "KB_rtMOcWo8j",
        "1V5MMHPrXRoM",
        "RJrCgeh7XqbN",
        "8lfZ2NqH8iWg",
        "bKc5vNQU-odh"
      ]
    },
    "kernelspec": {
      "name": "ir",
      "display_name": "R"
    }
  },
  "cells": [
    {
      "cell_type": "markdown",
      "source": [
        "# **Introducción a R para Análisis de Datos**\n",
        "## Capítulo 2: Data Frames\n",
        "---\n",
        "**Autor:** Juan Martin Bellido  \n",
        "\n",
        "**Descripción**  \n",
        "En este capítulo comenzamos a trabajar con Data Frames, es decir, tablas de datos, realizando operaciones utilizando exclusivamente sintaxis disponible en R de forma nativa.\n",
        "\n",
        "**¿Feedback? ¿comentarios?** Por favor compártelo conmigo escribiéndome por [LinkedIn](https://www.linkedin.com/in/jmartinbellido/)  \n",
        "\n",
        "**Material Adicional**\n",
        "* [Comandos Jupyter Notebook](https://datawizards.es/contenido/codigo-para-analisis-de-datos/guias/comandos-rapidos-jupyter)\n",
        "* [Sintaxis Markdown](https://datawizards.es/contenido/codigo-para-analisis-de-datos/guias/sintaxis-markdown)"
      ],
      "metadata": {
        "id": "j9wgVjQHPEMT"
      }
    },
    {
      "cell_type": "markdown",
      "source": [
        "\n",
        "## INDICE\n",
        "---\n",
        "1. Introducción a Data Frames\n",
        "2. Seleccionar elementos en un Data Frame\n",
        "3. Operaciones básicas con Data Frames\n",
        "4. Ejercicios\n"
      ],
      "metadata": {
        "id": "9L6U8oyaRcJ0"
      }
    },
    {
      "cell_type": "code",
      "source": [
        "# instalamos librería \"data.table\"\n",
        "install.packages(\"data.table\")"
      ],
      "metadata": {
        "colab": {
          "base_uri": "https://localhost:8080/"
        },
        "id": "0XpQ2xB8P_CK",
        "outputId": "b6a282c1-1402-40e2-d97a-3f222a57c0e5"
      },
      "execution_count": null,
      "outputs": [
        {
          "output_type": "stream",
          "name": "stderr",
          "text": [
            "Installing package into ‘/usr/local/lib/R/site-library’\n",
            "(as ‘lib’ is unspecified)\n",
            "\n"
          ]
        }
      ]
    },
    {
      "cell_type": "code",
      "source": [
        "# importamos librerías\n",
        "require(data.table)"
      ],
      "metadata": {
        "id": "nPd82qO1QGrw"
      },
      "execution_count": null,
      "outputs": []
    },
    {
      "cell_type": "markdown",
      "source": [
        "# 1. Introducción a Data Frames\n",
        "---"
      ],
      "metadata": {
        "id": "SiGIEuDbRq7r"
      }
    },
    {
      "cell_type": "markdown",
      "source": [
        "### Importar un Data Frame"
      ],
      "metadata": {
        "id": "yb6rSii3UFsn"
      }
    },
    {
      "cell_type": "code",
      "metadata": {
        "id": "8S8Uy45ZB3X9"
      },
      "source": [
        "# importamos un df\n",
        "df_jamesbond = data.table::fread(\"https://data-wizards.s3.amazonaws.com/datasets/jamesbond.csv\")"
      ],
      "execution_count": null,
      "outputs": []
    },
    {
      "cell_type": "markdown",
      "source": [
        "### Exportar un Data Frame"
      ],
      "metadata": {
        "id": "RyCBCSLEUI9J"
      }
    },
    {
      "cell_type": "code",
      "source": [
        "# exportar un df\n",
        "data.table::fwrite(df_jamesbond)"
      ],
      "metadata": {
        "colab": {
          "base_uri": "https://localhost:8080/"
        },
        "id": "LviF_qDZUNda",
        "outputId": "7c95f883-dcf5-439b-e8a7-133e3b3d9907"
      },
      "execution_count": null,
      "outputs": [
        {
          "output_type": "stream",
          "name": "stdout",
          "text": [
            "Film,Year,Actor,Director,Box Office,Budget,Bond Actor Salary\n",
            "Dr. No,1962,Sean Connery,Terence Young,448.8,7,0.6\n",
            "From Russia with Love,1963,Sean Connery,Terence Young,543.8,12.6,1.6\n",
            "Goldfinger,1964,Sean Connery,Guy Hamilton,820.4,18.6,3.2\n",
            "Thunderball,1965,Sean Connery,Terence Young,848.1,41.9,4.7\n",
            "Casino Royale,1967,David Niven,Ken Hughes,315,85,\n",
            "You Only Live Twice,1967,Sean Connery,Lewis Gilbert,514.2,59.9,4.4\n",
            "On Her Majesty's Secret Service,1969,George Lazenby,Peter R. Hunt,291.5,37.3,0.6\n",
            "Diamonds Are Forever,1971,Sean Connery,Guy Hamilton,442.5,34.7,5.8\n",
            "Live and Let Die,1973,Roger Moore,Guy Hamilton,460.3,30.8,\n",
            "The Man with the Golden Gun,1974,Roger Moore,Guy Hamilton,334,27.7,\n",
            "The Spy Who Loved Me,1977,Roger Moore,Lewis Gilbert,533,45.1,\n",
            "Moonraker,1979,Roger Moore,Lewis Gilbert,535,91.5,\n",
            "For Your Eyes Only,1981,Roger Moore,John Glen,449.4,60.2,\n",
            "Never Say Never Again,1983,Sean Connery,Irvin Kershner,380,86,\n",
            "Octopussy,1983,Roger Moore,John Glen,373.8,53.9,7.8\n",
            "A View to a Kill,1985,Roger Moore,John Glen,275.2,54.5,9.1\n",
            "The Living Daylights,1987,Timothy Dalton,John Glen,313.5,68.8,5.2\n",
            "Licence to Kill,1989,Timothy Dalton,John Glen,250.9,56.7,7.9\n",
            "GoldenEye,1995,Pierce Brosnan,Martin Campbell,518.5,76.9,5.1\n",
            "Tomorrow Never Dies,1997,Pierce Brosnan,Roger Spottiswoode,463.2,133.9,10\n",
            "The World Is Not Enough,1999,Pierce Brosnan,Michael Apted,439.5,158.3,13.5\n",
            "Die Another Day,2002,Pierce Brosnan,Lee Tamahori,465.4,154.2,17.9\n",
            "Casino Royale,2006,Daniel Craig,Martin Campbell,581.5,145.3,3.3\n",
            "Quantum of Solace,2008,Daniel Craig,Marc Forster,514.2,181.4,8.1\n",
            "Skyfall,2012,Daniel Craig,Sam Mendes,943.5,170.2,14.5\n",
            "Spectre,2015,Daniel Craig,Sam Mendes,726.7,206.3,\n"
          ]
        }
      ]
    },
    {
      "cell_type": "markdown",
      "source": [
        "### Primeras operaciones con un Data Frame"
      ],
      "metadata": {
        "id": "U9sORWXtULhL"
      }
    },
    {
      "cell_type": "code",
      "source": [
        "# utilizamos la función str() para explorar nuestro data frame\n",
        "str(df_jamesbond)"
      ],
      "metadata": {
        "colab": {
          "base_uri": "https://localhost:8080/"
        },
        "id": "-qnevdd1QKmB",
        "outputId": "2f1b432a-2622-472f-a5eb-7cd3834e7c66"
      },
      "execution_count": null,
      "outputs": [
        {
          "output_type": "stream",
          "name": "stdout",
          "text": [
            "Classes ‘data.table’ and 'data.frame':\t26 obs. of  7 variables:\n",
            " $ Film             : chr  \"Dr. No\" \"From Russia with Love\" \"Goldfinger\" \"Thunderball\" ...\n",
            " $ Year             : int  1962 1963 1964 1965 1967 1967 1969 1971 1973 1974 ...\n",
            " $ Actor            : chr  \"Sean Connery\" \"Sean Connery\" \"Sean Connery\" \"Sean Connery\" ...\n",
            " $ Director         : chr  \"Terence Young\" \"Terence Young\" \"Guy Hamilton\" \"Terence Young\" ...\n",
            " $ Box Office       : num  449 544 820 848 315 ...\n",
            " $ Budget           : num  7 12.6 18.6 41.9 85 59.9 37.3 34.7 30.8 27.7 ...\n",
            " $ Bond Actor Salary: num  0.6 1.6 3.2 4.7 NA 4.4 0.6 5.8 NA NA ...\n",
            " - attr(*, \".internal.selfref\")=<externalptr> \n"
          ]
        }
      ]
    },
    {
      "cell_type": "code",
      "source": [
        "dim(df_jamesbond)"
      ],
      "metadata": {
        "colab": {
          "base_uri": "https://localhost:8080/",
          "height": 34
        },
        "id": "7cBcwpGqQKoU",
        "outputId": "f0086c96-29a5-4bc0-fdb3-dfdcb7bd4b30"
      },
      "execution_count": null,
      "outputs": [
        {
          "output_type": "display_data",
          "data": {
            "text/html": [
              "<style>\n",
              ".list-inline {list-style: none; margin:0; padding: 0}\n",
              ".list-inline>li {display: inline-block}\n",
              ".list-inline>li:not(:last-child)::after {content: \"\\00b7\"; padding: 0 .5ex}\n",
              "</style>\n",
              "<ol class=list-inline><li>26</li><li>7</li></ol>\n"
            ],
            "text/markdown": "1. 26\n2. 7\n\n\n",
            "text/latex": "\\begin{enumerate*}\n\\item 26\n\\item 7\n\\end{enumerate*}\n",
            "text/plain": [
              "[1] 26  7"
            ]
          },
          "metadata": {}
        }
      ]
    },
    {
      "cell_type": "code",
      "source": [
        "nrow(df_jamesbond)"
      ],
      "metadata": {
        "colab": {
          "base_uri": "https://localhost:8080/",
          "height": 34
        },
        "id": "iAW-510lQKqZ",
        "outputId": "86e82040-1fd1-422d-daf8-20df188e02c5"
      },
      "execution_count": null,
      "outputs": [
        {
          "output_type": "display_data",
          "data": {
            "text/html": [
              "26"
            ],
            "text/markdown": "26",
            "text/latex": "26",
            "text/plain": [
              "[1] 26"
            ]
          },
          "metadata": {}
        }
      ]
    },
    {
      "cell_type": "code",
      "source": [
        "ncol(df_jamesbond)"
      ],
      "metadata": {
        "colab": {
          "base_uri": "https://localhost:8080/",
          "height": 34
        },
        "id": "wVJqGsPIQKse",
        "outputId": "4fa333ae-c3c5-48e2-da9b-922c3a6bc1f8"
      },
      "execution_count": null,
      "outputs": [
        {
          "output_type": "display_data",
          "data": {
            "text/html": [
              "7"
            ],
            "text/markdown": "7",
            "text/latex": "7",
            "text/plain": [
              "[1] 7"
            ]
          },
          "metadata": {}
        }
      ]
    },
    {
      "cell_type": "code",
      "source": [
        "head(df_jamesbond)"
      ],
      "metadata": {
        "colab": {
          "base_uri": "https://localhost:8080/",
          "height": 286
        },
        "id": "79FRj4I1QKuk",
        "outputId": "ce67d929-b1c4-434b-dafd-de504528e0ad"
      },
      "execution_count": null,
      "outputs": [
        {
          "output_type": "display_data",
          "data": {
            "text/html": [
              "<table class=\"dataframe\">\n",
              "<caption>A data.table: 6 × 7</caption>\n",
              "<thead>\n",
              "\t<tr><th scope=col>Film</th><th scope=col>Year</th><th scope=col>Actor</th><th scope=col>Director</th><th scope=col>Box Office</th><th scope=col>Budget</th><th scope=col>Bond Actor Salary</th></tr>\n",
              "\t<tr><th scope=col>&lt;chr&gt;</th><th scope=col>&lt;int&gt;</th><th scope=col>&lt;chr&gt;</th><th scope=col>&lt;chr&gt;</th><th scope=col>&lt;dbl&gt;</th><th scope=col>&lt;dbl&gt;</th><th scope=col>&lt;dbl&gt;</th></tr>\n",
              "</thead>\n",
              "<tbody>\n",
              "\t<tr><td>Dr. No               </td><td>1962</td><td>Sean Connery</td><td>Terence Young</td><td>448.8</td><td> 7.0</td><td>0.6</td></tr>\n",
              "\t<tr><td>From Russia with Love</td><td>1963</td><td>Sean Connery</td><td>Terence Young</td><td>543.8</td><td>12.6</td><td>1.6</td></tr>\n",
              "\t<tr><td>Goldfinger           </td><td>1964</td><td>Sean Connery</td><td>Guy Hamilton </td><td>820.4</td><td>18.6</td><td>3.2</td></tr>\n",
              "\t<tr><td>Thunderball          </td><td>1965</td><td>Sean Connery</td><td>Terence Young</td><td>848.1</td><td>41.9</td><td>4.7</td></tr>\n",
              "\t<tr><td>Casino Royale        </td><td>1967</td><td>David Niven </td><td>Ken Hughes   </td><td>315.0</td><td>85.0</td><td> NA</td></tr>\n",
              "\t<tr><td>You Only Live Twice  </td><td>1967</td><td>Sean Connery</td><td>Lewis Gilbert</td><td>514.2</td><td>59.9</td><td>4.4</td></tr>\n",
              "</tbody>\n",
              "</table>\n"
            ],
            "text/markdown": "\nA data.table: 6 × 7\n\n| Film &lt;chr&gt; | Year &lt;int&gt; | Actor &lt;chr&gt; | Director &lt;chr&gt; | Box Office &lt;dbl&gt; | Budget &lt;dbl&gt; | Bond Actor Salary &lt;dbl&gt; |\n|---|---|---|---|---|---|---|\n| Dr. No                | 1962 | Sean Connery | Terence Young | 448.8 |  7.0 | 0.6 |\n| From Russia with Love | 1963 | Sean Connery | Terence Young | 543.8 | 12.6 | 1.6 |\n| Goldfinger            | 1964 | Sean Connery | Guy Hamilton  | 820.4 | 18.6 | 3.2 |\n| Thunderball           | 1965 | Sean Connery | Terence Young | 848.1 | 41.9 | 4.7 |\n| Casino Royale         | 1967 | David Niven  | Ken Hughes    | 315.0 | 85.0 |  NA |\n| You Only Live Twice   | 1967 | Sean Connery | Lewis Gilbert | 514.2 | 59.9 | 4.4 |\n\n",
            "text/latex": "A data.table: 6 × 7\n\\begin{tabular}{lllllll}\n Film & Year & Actor & Director & Box Office & Budget & Bond Actor Salary\\\\\n <chr> & <int> & <chr> & <chr> & <dbl> & <dbl> & <dbl>\\\\\n\\hline\n\t Dr. No                & 1962 & Sean Connery & Terence Young & 448.8 &  7.0 & 0.6\\\\\n\t From Russia with Love & 1963 & Sean Connery & Terence Young & 543.8 & 12.6 & 1.6\\\\\n\t Goldfinger            & 1964 & Sean Connery & Guy Hamilton  & 820.4 & 18.6 & 3.2\\\\\n\t Thunderball           & 1965 & Sean Connery & Terence Young & 848.1 & 41.9 & 4.7\\\\\n\t Casino Royale         & 1967 & David Niven  & Ken Hughes    & 315.0 & 85.0 &  NA\\\\\n\t You Only Live Twice   & 1967 & Sean Connery & Lewis Gilbert & 514.2 & 59.9 & 4.4\\\\\n\\end{tabular}\n",
            "text/plain": [
              "  Film                  Year Actor        Director      Box Office Budget\n",
              "1 Dr. No                1962 Sean Connery Terence Young 448.8       7.0  \n",
              "2 From Russia with Love 1963 Sean Connery Terence Young 543.8      12.6  \n",
              "3 Goldfinger            1964 Sean Connery Guy Hamilton  820.4      18.6  \n",
              "4 Thunderball           1965 Sean Connery Terence Young 848.1      41.9  \n",
              "5 Casino Royale         1967 David Niven  Ken Hughes    315.0      85.0  \n",
              "6 You Only Live Twice   1967 Sean Connery Lewis Gilbert 514.2      59.9  \n",
              "  Bond Actor Salary\n",
              "1 0.6              \n",
              "2 1.6              \n",
              "3 3.2              \n",
              "4 4.7              \n",
              "5  NA              \n",
              "6 4.4              "
            ]
          },
          "metadata": {}
        }
      ]
    },
    {
      "cell_type": "code",
      "source": [
        "tail(df_jamesbond)"
      ],
      "metadata": {
        "colab": {
          "base_uri": "https://localhost:8080/",
          "height": 286
        },
        "id": "NJyxsEbTQKwp",
        "outputId": "9245751d-674a-4382-cf4a-549e0d186e67"
      },
      "execution_count": null,
      "outputs": [
        {
          "output_type": "display_data",
          "data": {
            "text/html": [
              "<table class=\"dataframe\">\n",
              "<caption>A data.table: 6 × 7</caption>\n",
              "<thead>\n",
              "\t<tr><th scope=col>Film</th><th scope=col>Year</th><th scope=col>Actor</th><th scope=col>Director</th><th scope=col>Box Office</th><th scope=col>Budget</th><th scope=col>Bond Actor Salary</th></tr>\n",
              "\t<tr><th scope=col>&lt;chr&gt;</th><th scope=col>&lt;int&gt;</th><th scope=col>&lt;chr&gt;</th><th scope=col>&lt;chr&gt;</th><th scope=col>&lt;dbl&gt;</th><th scope=col>&lt;dbl&gt;</th><th scope=col>&lt;dbl&gt;</th></tr>\n",
              "</thead>\n",
              "<tbody>\n",
              "\t<tr><td>The World Is Not Enough</td><td>1999</td><td>Pierce Brosnan</td><td>Michael Apted  </td><td>439.5</td><td>158.3</td><td>13.5</td></tr>\n",
              "\t<tr><td>Die Another Day        </td><td>2002</td><td>Pierce Brosnan</td><td>Lee Tamahori   </td><td>465.4</td><td>154.2</td><td>17.9</td></tr>\n",
              "\t<tr><td>Casino Royale          </td><td>2006</td><td>Daniel Craig  </td><td>Martin Campbell</td><td>581.5</td><td>145.3</td><td> 3.3</td></tr>\n",
              "\t<tr><td>Quantum of Solace      </td><td>2008</td><td>Daniel Craig  </td><td>Marc Forster   </td><td>514.2</td><td>181.4</td><td> 8.1</td></tr>\n",
              "\t<tr><td>Skyfall                </td><td>2012</td><td>Daniel Craig  </td><td>Sam Mendes     </td><td>943.5</td><td>170.2</td><td>14.5</td></tr>\n",
              "\t<tr><td>Spectre                </td><td>2015</td><td>Daniel Craig  </td><td>Sam Mendes     </td><td>726.7</td><td>206.3</td><td>  NA</td></tr>\n",
              "</tbody>\n",
              "</table>\n"
            ],
            "text/markdown": "\nA data.table: 6 × 7\n\n| Film &lt;chr&gt; | Year &lt;int&gt; | Actor &lt;chr&gt; | Director &lt;chr&gt; | Box Office &lt;dbl&gt; | Budget &lt;dbl&gt; | Bond Actor Salary &lt;dbl&gt; |\n|---|---|---|---|---|---|---|\n| The World Is Not Enough | 1999 | Pierce Brosnan | Michael Apted   | 439.5 | 158.3 | 13.5 |\n| Die Another Day         | 2002 | Pierce Brosnan | Lee Tamahori    | 465.4 | 154.2 | 17.9 |\n| Casino Royale           | 2006 | Daniel Craig   | Martin Campbell | 581.5 | 145.3 |  3.3 |\n| Quantum of Solace       | 2008 | Daniel Craig   | Marc Forster    | 514.2 | 181.4 |  8.1 |\n| Skyfall                 | 2012 | Daniel Craig   | Sam Mendes      | 943.5 | 170.2 | 14.5 |\n| Spectre                 | 2015 | Daniel Craig   | Sam Mendes      | 726.7 | 206.3 |   NA |\n\n",
            "text/latex": "A data.table: 6 × 7\n\\begin{tabular}{lllllll}\n Film & Year & Actor & Director & Box Office & Budget & Bond Actor Salary\\\\\n <chr> & <int> & <chr> & <chr> & <dbl> & <dbl> & <dbl>\\\\\n\\hline\n\t The World Is Not Enough & 1999 & Pierce Brosnan & Michael Apted   & 439.5 & 158.3 & 13.5\\\\\n\t Die Another Day         & 2002 & Pierce Brosnan & Lee Tamahori    & 465.4 & 154.2 & 17.9\\\\\n\t Casino Royale           & 2006 & Daniel Craig   & Martin Campbell & 581.5 & 145.3 &  3.3\\\\\n\t Quantum of Solace       & 2008 & Daniel Craig   & Marc Forster    & 514.2 & 181.4 &  8.1\\\\\n\t Skyfall                 & 2012 & Daniel Craig   & Sam Mendes      & 943.5 & 170.2 & 14.5\\\\\n\t Spectre                 & 2015 & Daniel Craig   & Sam Mendes      & 726.7 & 206.3 &   NA\\\\\n\\end{tabular}\n",
            "text/plain": [
              "  Film                    Year Actor          Director        Box Office Budget\n",
              "1 The World Is Not Enough 1999 Pierce Brosnan Michael Apted   439.5      158.3 \n",
              "2 Die Another Day         2002 Pierce Brosnan Lee Tamahori    465.4      154.2 \n",
              "3 Casino Royale           2006 Daniel Craig   Martin Campbell 581.5      145.3 \n",
              "4 Quantum of Solace       2008 Daniel Craig   Marc Forster    514.2      181.4 \n",
              "5 Skyfall                 2012 Daniel Craig   Sam Mendes      943.5      170.2 \n",
              "6 Spectre                 2015 Daniel Craig   Sam Mendes      726.7      206.3 \n",
              "  Bond Actor Salary\n",
              "1 13.5             \n",
              "2 17.9             \n",
              "3  3.3             \n",
              "4  8.1             \n",
              "5 14.5             \n",
              "6   NA             "
            ]
          },
          "metadata": {}
        }
      ]
    },
    {
      "cell_type": "code",
      "source": [
        "names(df_jamesbond)"
      ],
      "metadata": {
        "colab": {
          "base_uri": "https://localhost:8080/",
          "height": 34
        },
        "id": "DOt2Yt5PSBNy",
        "outputId": "e20723ba-6ff4-4581-cf65-7ae1354d6143"
      },
      "execution_count": null,
      "outputs": [
        {
          "output_type": "display_data",
          "data": {
            "text/html": [
              "<style>\n",
              ".list-inline {list-style: none; margin:0; padding: 0}\n",
              ".list-inline>li {display: inline-block}\n",
              ".list-inline>li:not(:last-child)::after {content: \"\\00b7\"; padding: 0 .5ex}\n",
              "</style>\n",
              "<ol class=list-inline><li>'Film'</li><li>'Year'</li><li>'Actor'</li><li>'Director'</li><li>'Box Office'</li><li>'Budget'</li><li>'Bond Actor Salary'</li></ol>\n"
            ],
            "text/markdown": "1. 'Film'\n2. 'Year'\n3. 'Actor'\n4. 'Director'\n5. 'Box Office'\n6. 'Budget'\n7. 'Bond Actor Salary'\n\n\n",
            "text/latex": "\\begin{enumerate*}\n\\item 'Film'\n\\item 'Year'\n\\item 'Actor'\n\\item 'Director'\n\\item 'Box Office'\n\\item 'Budget'\n\\item 'Bond Actor Salary'\n\\end{enumerate*}\n",
            "text/plain": [
              "[1] \"Film\"              \"Year\"              \"Actor\"            \n",
              "[4] \"Director\"          \"Box Office\"        \"Budget\"           \n",
              "[7] \"Bond Actor Salary\""
            ]
          },
          "metadata": {}
        }
      ]
    },
    {
      "cell_type": "markdown",
      "source": [
        "# 2. Seleccionar elementos en un Data Frame\n",
        "---"
      ],
      "metadata": {
        "id": "pdgdHh54U4pP"
      }
    },
    {
      "cell_type": "markdown",
      "source": [
        "### Seleccionar columnas"
      ],
      "metadata": {
        "id": "GSaJwKlwWXCt"
      }
    },
    {
      "cell_type": "code",
      "source": [
        "# invocamos columna según nombre\n",
        "df_jamesbond$Film"
      ],
      "metadata": {
        "colab": {
          "base_uri": "https://localhost:8080/",
          "height": 69
        },
        "id": "dKrOnN30SKyf",
        "outputId": "4615cfc9-b74c-43d5-9687-af5236ae9346"
      },
      "execution_count": null,
      "outputs": [
        {
          "output_type": "display_data",
          "data": {
            "text/html": [
              "<style>\n",
              ".list-inline {list-style: none; margin:0; padding: 0}\n",
              ".list-inline>li {display: inline-block}\n",
              ".list-inline>li:not(:last-child)::after {content: \"\\00b7\"; padding: 0 .5ex}\n",
              "</style>\n",
              "<ol class=list-inline><li>'Dr. No'</li><li>'From Russia with Love'</li><li>'Goldfinger'</li><li>'Thunderball'</li><li>'Casino Royale'</li><li>'You Only Live Twice'</li><li>'On Her Majesty\\'s Secret Service'</li><li>'Diamonds Are Forever'</li><li>'Live and Let Die'</li><li>'The Man with the Golden Gun'</li><li>'The Spy Who Loved Me'</li><li>'Moonraker'</li><li>'For Your Eyes Only'</li><li>'Never Say Never Again'</li><li>'Octopussy'</li><li>'A View to a Kill'</li><li>'The Living Daylights'</li><li>'Licence to Kill'</li><li>'GoldenEye'</li><li>'Tomorrow Never Dies'</li><li>'The World Is Not Enough'</li><li>'Die Another Day'</li><li>'Casino Royale'</li><li>'Quantum of Solace'</li><li>'Skyfall'</li><li>'Spectre'</li></ol>\n"
            ],
            "text/markdown": "1. 'Dr. No'\n2. 'From Russia with Love'\n3. 'Goldfinger'\n4. 'Thunderball'\n5. 'Casino Royale'\n6. 'You Only Live Twice'\n7. 'On Her Majesty\\'s Secret Service'\n8. 'Diamonds Are Forever'\n9. 'Live and Let Die'\n10. 'The Man with the Golden Gun'\n11. 'The Spy Who Loved Me'\n12. 'Moonraker'\n13. 'For Your Eyes Only'\n14. 'Never Say Never Again'\n15. 'Octopussy'\n16. 'A View to a Kill'\n17. 'The Living Daylights'\n18. 'Licence to Kill'\n19. 'GoldenEye'\n20. 'Tomorrow Never Dies'\n21. 'The World Is Not Enough'\n22. 'Die Another Day'\n23. 'Casino Royale'\n24. 'Quantum of Solace'\n25. 'Skyfall'\n26. 'Spectre'\n\n\n",
            "text/latex": "\\begin{enumerate*}\n\\item 'Dr. No'\n\\item 'From Russia with Love'\n\\item 'Goldfinger'\n\\item 'Thunderball'\n\\item 'Casino Royale'\n\\item 'You Only Live Twice'\n\\item 'On Her Majesty\\textbackslash{}'s Secret Service'\n\\item 'Diamonds Are Forever'\n\\item 'Live and Let Die'\n\\item 'The Man with the Golden Gun'\n\\item 'The Spy Who Loved Me'\n\\item 'Moonraker'\n\\item 'For Your Eyes Only'\n\\item 'Never Say Never Again'\n\\item 'Octopussy'\n\\item 'A View to a Kill'\n\\item 'The Living Daylights'\n\\item 'Licence to Kill'\n\\item 'GoldenEye'\n\\item 'Tomorrow Never Dies'\n\\item 'The World Is Not Enough'\n\\item 'Die Another Day'\n\\item 'Casino Royale'\n\\item 'Quantum of Solace'\n\\item 'Skyfall'\n\\item 'Spectre'\n\\end{enumerate*}\n",
            "text/plain": [
              " [1] \"Dr. No\"                          \"From Russia with Love\"          \n",
              " [3] \"Goldfinger\"                      \"Thunderball\"                    \n",
              " [5] \"Casino Royale\"                   \"You Only Live Twice\"            \n",
              " [7] \"On Her Majesty's Secret Service\" \"Diamonds Are Forever\"           \n",
              " [9] \"Live and Let Die\"                \"The Man with the Golden Gun\"    \n",
              "[11] \"The Spy Who Loved Me\"            \"Moonraker\"                      \n",
              "[13] \"For Your Eyes Only\"              \"Never Say Never Again\"          \n",
              "[15] \"Octopussy\"                       \"A View to a Kill\"               \n",
              "[17] \"The Living Daylights\"            \"Licence to Kill\"                \n",
              "[19] \"GoldenEye\"                       \"Tomorrow Never Dies\"            \n",
              "[21] \"The World Is Not Enough\"         \"Die Another Day\"                \n",
              "[23] \"Casino Royale\"                   \"Quantum of Solace\"              \n",
              "[25] \"Skyfall\"                         \"Spectre\"                        "
            ]
          },
          "metadata": {}
        }
      ]
    },
    {
      "cell_type": "code",
      "source": [
        "# nota: en caso de que el nombre del campo esté definido con espacios, debemos utilizar comillas\n",
        "df_jamesbond$'Box Office'"
      ],
      "metadata": {
        "id": "TkF0HCwFYfGn"
      },
      "execution_count": null,
      "outputs": []
    },
    {
      "cell_type": "code",
      "source": [
        "# invocamos columna según nombre\n",
        "df_jamesbond[,'Film']"
      ],
      "metadata": {
        "colab": {
          "base_uri": "https://localhost:8080/",
          "height": 913
        },
        "id": "1jyRAnxiSK0m",
        "outputId": "6ece6185-1214-4e74-fd4c-7a77d1d3bad2"
      },
      "execution_count": null,
      "outputs": [
        {
          "output_type": "display_data",
          "data": {
            "text/html": [
              "<table class=\"dataframe\">\n",
              "<caption>A data.table: 26 × 1</caption>\n",
              "<thead>\n",
              "\t<tr><th scope=col>Film</th></tr>\n",
              "\t<tr><th scope=col>&lt;chr&gt;</th></tr>\n",
              "</thead>\n",
              "<tbody>\n",
              "\t<tr><td>Dr. No                         </td></tr>\n",
              "\t<tr><td>From Russia with Love          </td></tr>\n",
              "\t<tr><td>Goldfinger                     </td></tr>\n",
              "\t<tr><td>Thunderball                    </td></tr>\n",
              "\t<tr><td>Casino Royale                  </td></tr>\n",
              "\t<tr><td>You Only Live Twice            </td></tr>\n",
              "\t<tr><td>On Her Majesty's Secret Service</td></tr>\n",
              "\t<tr><td>Diamonds Are Forever           </td></tr>\n",
              "\t<tr><td>Live and Let Die               </td></tr>\n",
              "\t<tr><td>The Man with the Golden Gun    </td></tr>\n",
              "\t<tr><td>The Spy Who Loved Me           </td></tr>\n",
              "\t<tr><td>Moonraker                      </td></tr>\n",
              "\t<tr><td>For Your Eyes Only             </td></tr>\n",
              "\t<tr><td>Never Say Never Again          </td></tr>\n",
              "\t<tr><td>Octopussy                      </td></tr>\n",
              "\t<tr><td>A View to a Kill               </td></tr>\n",
              "\t<tr><td>The Living Daylights           </td></tr>\n",
              "\t<tr><td>Licence to Kill                </td></tr>\n",
              "\t<tr><td>GoldenEye                      </td></tr>\n",
              "\t<tr><td>Tomorrow Never Dies            </td></tr>\n",
              "\t<tr><td>The World Is Not Enough        </td></tr>\n",
              "\t<tr><td>Die Another Day                </td></tr>\n",
              "\t<tr><td>Casino Royale                  </td></tr>\n",
              "\t<tr><td>Quantum of Solace              </td></tr>\n",
              "\t<tr><td>Skyfall                        </td></tr>\n",
              "\t<tr><td>Spectre                        </td></tr>\n",
              "</tbody>\n",
              "</table>\n"
            ],
            "text/markdown": "\nA data.table: 26 × 1\n\n| Film &lt;chr&gt; |\n|---|\n| Dr. No                          |\n| From Russia with Love           |\n| Goldfinger                      |\n| Thunderball                     |\n| Casino Royale                   |\n| You Only Live Twice             |\n| On Her Majesty's Secret Service |\n| Diamonds Are Forever            |\n| Live and Let Die                |\n| The Man with the Golden Gun     |\n| The Spy Who Loved Me            |\n| Moonraker                       |\n| For Your Eyes Only              |\n| Never Say Never Again           |\n| Octopussy                       |\n| A View to a Kill                |\n| The Living Daylights            |\n| Licence to Kill                 |\n| GoldenEye                       |\n| Tomorrow Never Dies             |\n| The World Is Not Enough         |\n| Die Another Day                 |\n| Casino Royale                   |\n| Quantum of Solace               |\n| Skyfall                         |\n| Spectre                         |\n\n",
            "text/latex": "A data.table: 26 × 1\n\\begin{tabular}{l}\n Film\\\\\n <chr>\\\\\n\\hline\n\t Dr. No                         \\\\\n\t From Russia with Love          \\\\\n\t Goldfinger                     \\\\\n\t Thunderball                    \\\\\n\t Casino Royale                  \\\\\n\t You Only Live Twice            \\\\\n\t On Her Majesty's Secret Service\\\\\n\t Diamonds Are Forever           \\\\\n\t Live and Let Die               \\\\\n\t The Man with the Golden Gun    \\\\\n\t The Spy Who Loved Me           \\\\\n\t Moonraker                      \\\\\n\t For Your Eyes Only             \\\\\n\t Never Say Never Again          \\\\\n\t Octopussy                      \\\\\n\t A View to a Kill               \\\\\n\t The Living Daylights           \\\\\n\t Licence to Kill                \\\\\n\t GoldenEye                      \\\\\n\t Tomorrow Never Dies            \\\\\n\t The World Is Not Enough        \\\\\n\t Die Another Day                \\\\\n\t Casino Royale                  \\\\\n\t Quantum of Solace              \\\\\n\t Skyfall                        \\\\\n\t Spectre                        \\\\\n\\end{tabular}\n",
            "text/plain": [
              "   Film                           \n",
              "1  Dr. No                         \n",
              "2  From Russia with Love          \n",
              "3  Goldfinger                     \n",
              "4  Thunderball                    \n",
              "5  Casino Royale                  \n",
              "6  You Only Live Twice            \n",
              "7  On Her Majesty's Secret Service\n",
              "8  Diamonds Are Forever           \n",
              "9  Live and Let Die               \n",
              "10 The Man with the Golden Gun    \n",
              "11 The Spy Who Loved Me           \n",
              "12 Moonraker                      \n",
              "13 For Your Eyes Only             \n",
              "14 Never Say Never Again          \n",
              "15 Octopussy                      \n",
              "16 A View to a Kill               \n",
              "17 The Living Daylights           \n",
              "18 Licence to Kill                \n",
              "19 GoldenEye                      \n",
              "20 Tomorrow Never Dies            \n",
              "21 The World Is Not Enough        \n",
              "22 Die Another Day                \n",
              "23 Casino Royale                  \n",
              "24 Quantum of Solace              \n",
              "25 Skyfall                        \n",
              "26 Spectre                        "
            ]
          },
          "metadata": {}
        }
      ]
    },
    {
      "cell_type": "code",
      "source": [
        "# invocamos columna según nombre\n",
        "# invocamos múltiples columnas utilizando un vector\n",
        "df_jamesbond[,c('Film','Director')]"
      ],
      "metadata": {
        "colab": {
          "base_uri": "https://localhost:8080/",
          "height": 913
        },
        "id": "mM7GkKYGVmph",
        "outputId": "7b345fe0-c9ff-41da-b853-f6facb59c4d0"
      },
      "execution_count": null,
      "outputs": [
        {
          "output_type": "display_data",
          "data": {
            "text/html": [
              "<table class=\"dataframe\">\n",
              "<caption>A data.table: 26 × 2</caption>\n",
              "<thead>\n",
              "\t<tr><th scope=col>Film</th><th scope=col>Director</th></tr>\n",
              "\t<tr><th scope=col>&lt;chr&gt;</th><th scope=col>&lt;chr&gt;</th></tr>\n",
              "</thead>\n",
              "<tbody>\n",
              "\t<tr><td>Dr. No                         </td><td>Terence Young     </td></tr>\n",
              "\t<tr><td>From Russia with Love          </td><td>Terence Young     </td></tr>\n",
              "\t<tr><td>Goldfinger                     </td><td>Guy Hamilton      </td></tr>\n",
              "\t<tr><td>Thunderball                    </td><td>Terence Young     </td></tr>\n",
              "\t<tr><td>Casino Royale                  </td><td>Ken Hughes        </td></tr>\n",
              "\t<tr><td>You Only Live Twice            </td><td>Lewis Gilbert     </td></tr>\n",
              "\t<tr><td>On Her Majesty's Secret Service</td><td>Peter R. Hunt     </td></tr>\n",
              "\t<tr><td>Diamonds Are Forever           </td><td>Guy Hamilton      </td></tr>\n",
              "\t<tr><td>Live and Let Die               </td><td>Guy Hamilton      </td></tr>\n",
              "\t<tr><td>The Man with the Golden Gun    </td><td>Guy Hamilton      </td></tr>\n",
              "\t<tr><td>The Spy Who Loved Me           </td><td>Lewis Gilbert     </td></tr>\n",
              "\t<tr><td>Moonraker                      </td><td>Lewis Gilbert     </td></tr>\n",
              "\t<tr><td>For Your Eyes Only             </td><td>John Glen         </td></tr>\n",
              "\t<tr><td>Never Say Never Again          </td><td>Irvin Kershner    </td></tr>\n",
              "\t<tr><td>Octopussy                      </td><td>John Glen         </td></tr>\n",
              "\t<tr><td>A View to a Kill               </td><td>John Glen         </td></tr>\n",
              "\t<tr><td>The Living Daylights           </td><td>John Glen         </td></tr>\n",
              "\t<tr><td>Licence to Kill                </td><td>John Glen         </td></tr>\n",
              "\t<tr><td>GoldenEye                      </td><td>Martin Campbell   </td></tr>\n",
              "\t<tr><td>Tomorrow Never Dies            </td><td>Roger Spottiswoode</td></tr>\n",
              "\t<tr><td>The World Is Not Enough        </td><td>Michael Apted     </td></tr>\n",
              "\t<tr><td>Die Another Day                </td><td>Lee Tamahori      </td></tr>\n",
              "\t<tr><td>Casino Royale                  </td><td>Martin Campbell   </td></tr>\n",
              "\t<tr><td>Quantum of Solace              </td><td>Marc Forster      </td></tr>\n",
              "\t<tr><td>Skyfall                        </td><td>Sam Mendes        </td></tr>\n",
              "\t<tr><td>Spectre                        </td><td>Sam Mendes        </td></tr>\n",
              "</tbody>\n",
              "</table>\n"
            ],
            "text/markdown": "\nA data.table: 26 × 2\n\n| Film &lt;chr&gt; | Director &lt;chr&gt; |\n|---|---|\n| Dr. No                          | Terence Young      |\n| From Russia with Love           | Terence Young      |\n| Goldfinger                      | Guy Hamilton       |\n| Thunderball                     | Terence Young      |\n| Casino Royale                   | Ken Hughes         |\n| You Only Live Twice             | Lewis Gilbert      |\n| On Her Majesty's Secret Service | Peter R. Hunt      |\n| Diamonds Are Forever            | Guy Hamilton       |\n| Live and Let Die                | Guy Hamilton       |\n| The Man with the Golden Gun     | Guy Hamilton       |\n| The Spy Who Loved Me            | Lewis Gilbert      |\n| Moonraker                       | Lewis Gilbert      |\n| For Your Eyes Only              | John Glen          |\n| Never Say Never Again           | Irvin Kershner     |\n| Octopussy                       | John Glen          |\n| A View to a Kill                | John Glen          |\n| The Living Daylights            | John Glen          |\n| Licence to Kill                 | John Glen          |\n| GoldenEye                       | Martin Campbell    |\n| Tomorrow Never Dies             | Roger Spottiswoode |\n| The World Is Not Enough         | Michael Apted      |\n| Die Another Day                 | Lee Tamahori       |\n| Casino Royale                   | Martin Campbell    |\n| Quantum of Solace               | Marc Forster       |\n| Skyfall                         | Sam Mendes         |\n| Spectre                         | Sam Mendes         |\n\n",
            "text/latex": "A data.table: 26 × 2\n\\begin{tabular}{ll}\n Film & Director\\\\\n <chr> & <chr>\\\\\n\\hline\n\t Dr. No                          & Terence Young     \\\\\n\t From Russia with Love           & Terence Young     \\\\\n\t Goldfinger                      & Guy Hamilton      \\\\\n\t Thunderball                     & Terence Young     \\\\\n\t Casino Royale                   & Ken Hughes        \\\\\n\t You Only Live Twice             & Lewis Gilbert     \\\\\n\t On Her Majesty's Secret Service & Peter R. Hunt     \\\\\n\t Diamonds Are Forever            & Guy Hamilton      \\\\\n\t Live and Let Die                & Guy Hamilton      \\\\\n\t The Man with the Golden Gun     & Guy Hamilton      \\\\\n\t The Spy Who Loved Me            & Lewis Gilbert     \\\\\n\t Moonraker                       & Lewis Gilbert     \\\\\n\t For Your Eyes Only              & John Glen         \\\\\n\t Never Say Never Again           & Irvin Kershner    \\\\\n\t Octopussy                       & John Glen         \\\\\n\t A View to a Kill                & John Glen         \\\\\n\t The Living Daylights            & John Glen         \\\\\n\t Licence to Kill                 & John Glen         \\\\\n\t GoldenEye                       & Martin Campbell   \\\\\n\t Tomorrow Never Dies             & Roger Spottiswoode\\\\\n\t The World Is Not Enough         & Michael Apted     \\\\\n\t Die Another Day                 & Lee Tamahori      \\\\\n\t Casino Royale                   & Martin Campbell   \\\\\n\t Quantum of Solace               & Marc Forster      \\\\\n\t Skyfall                         & Sam Mendes        \\\\\n\t Spectre                         & Sam Mendes        \\\\\n\\end{tabular}\n",
            "text/plain": [
              "   Film                            Director          \n",
              "1  Dr. No                          Terence Young     \n",
              "2  From Russia with Love           Terence Young     \n",
              "3  Goldfinger                      Guy Hamilton      \n",
              "4  Thunderball                     Terence Young     \n",
              "5  Casino Royale                   Ken Hughes        \n",
              "6  You Only Live Twice             Lewis Gilbert     \n",
              "7  On Her Majesty's Secret Service Peter R. Hunt     \n",
              "8  Diamonds Are Forever            Guy Hamilton      \n",
              "9  Live and Let Die                Guy Hamilton      \n",
              "10 The Man with the Golden Gun     Guy Hamilton      \n",
              "11 The Spy Who Loved Me            Lewis Gilbert     \n",
              "12 Moonraker                       Lewis Gilbert     \n",
              "13 For Your Eyes Only              John Glen         \n",
              "14 Never Say Never Again           Irvin Kershner    \n",
              "15 Octopussy                       John Glen         \n",
              "16 A View to a Kill                John Glen         \n",
              "17 The Living Daylights            John Glen         \n",
              "18 Licence to Kill                 John Glen         \n",
              "19 GoldenEye                       Martin Campbell   \n",
              "20 Tomorrow Never Dies             Roger Spottiswoode\n",
              "21 The World Is Not Enough         Michael Apted     \n",
              "22 Die Another Day                 Lee Tamahori      \n",
              "23 Casino Royale                   Martin Campbell   \n",
              "24 Quantum of Solace               Marc Forster      \n",
              "25 Skyfall                         Sam Mendes        \n",
              "26 Spectre                         Sam Mendes        "
            ]
          },
          "metadata": {}
        }
      ]
    },
    {
      "cell_type": "code",
      "source": [
        "# invocamos columna según posición\n",
        "df_jamesbond[,1]"
      ],
      "metadata": {
        "colab": {
          "base_uri": "https://localhost:8080/",
          "height": 913
        },
        "id": "P_OEHubBSK2o",
        "outputId": "46f7858b-8dea-4a98-bcbe-d82b3f1da1b8"
      },
      "execution_count": null,
      "outputs": [
        {
          "output_type": "display_data",
          "data": {
            "text/html": [
              "<table class=\"dataframe\">\n",
              "<caption>A data.table: 26 × 1</caption>\n",
              "<thead>\n",
              "\t<tr><th scope=col>Film</th></tr>\n",
              "\t<tr><th scope=col>&lt;chr&gt;</th></tr>\n",
              "</thead>\n",
              "<tbody>\n",
              "\t<tr><td>Dr. No                         </td></tr>\n",
              "\t<tr><td>From Russia with Love          </td></tr>\n",
              "\t<tr><td>Goldfinger                     </td></tr>\n",
              "\t<tr><td>Thunderball                    </td></tr>\n",
              "\t<tr><td>Casino Royale                  </td></tr>\n",
              "\t<tr><td>You Only Live Twice            </td></tr>\n",
              "\t<tr><td>On Her Majesty's Secret Service</td></tr>\n",
              "\t<tr><td>Diamonds Are Forever           </td></tr>\n",
              "\t<tr><td>Live and Let Die               </td></tr>\n",
              "\t<tr><td>The Man with the Golden Gun    </td></tr>\n",
              "\t<tr><td>The Spy Who Loved Me           </td></tr>\n",
              "\t<tr><td>Moonraker                      </td></tr>\n",
              "\t<tr><td>For Your Eyes Only             </td></tr>\n",
              "\t<tr><td>Never Say Never Again          </td></tr>\n",
              "\t<tr><td>Octopussy                      </td></tr>\n",
              "\t<tr><td>A View to a Kill               </td></tr>\n",
              "\t<tr><td>The Living Daylights           </td></tr>\n",
              "\t<tr><td>Licence to Kill                </td></tr>\n",
              "\t<tr><td>GoldenEye                      </td></tr>\n",
              "\t<tr><td>Tomorrow Never Dies            </td></tr>\n",
              "\t<tr><td>The World Is Not Enough        </td></tr>\n",
              "\t<tr><td>Die Another Day                </td></tr>\n",
              "\t<tr><td>Casino Royale                  </td></tr>\n",
              "\t<tr><td>Quantum of Solace              </td></tr>\n",
              "\t<tr><td>Skyfall                        </td></tr>\n",
              "\t<tr><td>Spectre                        </td></tr>\n",
              "</tbody>\n",
              "</table>\n"
            ],
            "text/markdown": "\nA data.table: 26 × 1\n\n| Film &lt;chr&gt; |\n|---|\n| Dr. No                          |\n| From Russia with Love           |\n| Goldfinger                      |\n| Thunderball                     |\n| Casino Royale                   |\n| You Only Live Twice             |\n| On Her Majesty's Secret Service |\n| Diamonds Are Forever            |\n| Live and Let Die                |\n| The Man with the Golden Gun     |\n| The Spy Who Loved Me            |\n| Moonraker                       |\n| For Your Eyes Only              |\n| Never Say Never Again           |\n| Octopussy                       |\n| A View to a Kill                |\n| The Living Daylights            |\n| Licence to Kill                 |\n| GoldenEye                       |\n| Tomorrow Never Dies             |\n| The World Is Not Enough         |\n| Die Another Day                 |\n| Casino Royale                   |\n| Quantum of Solace               |\n| Skyfall                         |\n| Spectre                         |\n\n",
            "text/latex": "A data.table: 26 × 1\n\\begin{tabular}{l}\n Film\\\\\n <chr>\\\\\n\\hline\n\t Dr. No                         \\\\\n\t From Russia with Love          \\\\\n\t Goldfinger                     \\\\\n\t Thunderball                    \\\\\n\t Casino Royale                  \\\\\n\t You Only Live Twice            \\\\\n\t On Her Majesty's Secret Service\\\\\n\t Diamonds Are Forever           \\\\\n\t Live and Let Die               \\\\\n\t The Man with the Golden Gun    \\\\\n\t The Spy Who Loved Me           \\\\\n\t Moonraker                      \\\\\n\t For Your Eyes Only             \\\\\n\t Never Say Never Again          \\\\\n\t Octopussy                      \\\\\n\t A View to a Kill               \\\\\n\t The Living Daylights           \\\\\n\t Licence to Kill                \\\\\n\t GoldenEye                      \\\\\n\t Tomorrow Never Dies            \\\\\n\t The World Is Not Enough        \\\\\n\t Die Another Day                \\\\\n\t Casino Royale                  \\\\\n\t Quantum of Solace              \\\\\n\t Skyfall                        \\\\\n\t Spectre                        \\\\\n\\end{tabular}\n",
            "text/plain": [
              "   Film                           \n",
              "1  Dr. No                         \n",
              "2  From Russia with Love          \n",
              "3  Goldfinger                     \n",
              "4  Thunderball                    \n",
              "5  Casino Royale                  \n",
              "6  You Only Live Twice            \n",
              "7  On Her Majesty's Secret Service\n",
              "8  Diamonds Are Forever           \n",
              "9  Live and Let Die               \n",
              "10 The Man with the Golden Gun    \n",
              "11 The Spy Who Loved Me           \n",
              "12 Moonraker                      \n",
              "13 For Your Eyes Only             \n",
              "14 Never Say Never Again          \n",
              "15 Octopussy                      \n",
              "16 A View to a Kill               \n",
              "17 The Living Daylights           \n",
              "18 Licence to Kill                \n",
              "19 GoldenEye                      \n",
              "20 Tomorrow Never Dies            \n",
              "21 The World Is Not Enough        \n",
              "22 Die Another Day                \n",
              "23 Casino Royale                  \n",
              "24 Quantum of Solace              \n",
              "25 Skyfall                        \n",
              "26 Spectre                        "
            ]
          },
          "metadata": {}
        }
      ]
    },
    {
      "cell_type": "code",
      "source": [
        "# invocamos columna según posición\n",
        "# invocamos múltiples columnas utiliando un vector\n",
        "df_jamesbond[,c(1,2)]"
      ],
      "metadata": {
        "colab": {
          "base_uri": "https://localhost:8080/",
          "height": 913
        },
        "id": "Fkk8aZjeSK4t",
        "outputId": "e56a44e3-51ca-4dcb-a3ab-44019bd61dd6"
      },
      "execution_count": null,
      "outputs": [
        {
          "output_type": "display_data",
          "data": {
            "text/html": [
              "<table class=\"dataframe\">\n",
              "<caption>A data.table: 26 × 2</caption>\n",
              "<thead>\n",
              "\t<tr><th scope=col>Film</th><th scope=col>Year</th></tr>\n",
              "\t<tr><th scope=col>&lt;chr&gt;</th><th scope=col>&lt;int&gt;</th></tr>\n",
              "</thead>\n",
              "<tbody>\n",
              "\t<tr><td>Dr. No                         </td><td>1962</td></tr>\n",
              "\t<tr><td>From Russia with Love          </td><td>1963</td></tr>\n",
              "\t<tr><td>Goldfinger                     </td><td>1964</td></tr>\n",
              "\t<tr><td>Thunderball                    </td><td>1965</td></tr>\n",
              "\t<tr><td>Casino Royale                  </td><td>1967</td></tr>\n",
              "\t<tr><td>You Only Live Twice            </td><td>1967</td></tr>\n",
              "\t<tr><td>On Her Majesty's Secret Service</td><td>1969</td></tr>\n",
              "\t<tr><td>Diamonds Are Forever           </td><td>1971</td></tr>\n",
              "\t<tr><td>Live and Let Die               </td><td>1973</td></tr>\n",
              "\t<tr><td>The Man with the Golden Gun    </td><td>1974</td></tr>\n",
              "\t<tr><td>The Spy Who Loved Me           </td><td>1977</td></tr>\n",
              "\t<tr><td>Moonraker                      </td><td>1979</td></tr>\n",
              "\t<tr><td>For Your Eyes Only             </td><td>1981</td></tr>\n",
              "\t<tr><td>Never Say Never Again          </td><td>1983</td></tr>\n",
              "\t<tr><td>Octopussy                      </td><td>1983</td></tr>\n",
              "\t<tr><td>A View to a Kill               </td><td>1985</td></tr>\n",
              "\t<tr><td>The Living Daylights           </td><td>1987</td></tr>\n",
              "\t<tr><td>Licence to Kill                </td><td>1989</td></tr>\n",
              "\t<tr><td>GoldenEye                      </td><td>1995</td></tr>\n",
              "\t<tr><td>Tomorrow Never Dies            </td><td>1997</td></tr>\n",
              "\t<tr><td>The World Is Not Enough        </td><td>1999</td></tr>\n",
              "\t<tr><td>Die Another Day                </td><td>2002</td></tr>\n",
              "\t<tr><td>Casino Royale                  </td><td>2006</td></tr>\n",
              "\t<tr><td>Quantum of Solace              </td><td>2008</td></tr>\n",
              "\t<tr><td>Skyfall                        </td><td>2012</td></tr>\n",
              "\t<tr><td>Spectre                        </td><td>2015</td></tr>\n",
              "</tbody>\n",
              "</table>\n"
            ],
            "text/markdown": "\nA data.table: 26 × 2\n\n| Film &lt;chr&gt; | Year &lt;int&gt; |\n|---|---|\n| Dr. No                          | 1962 |\n| From Russia with Love           | 1963 |\n| Goldfinger                      | 1964 |\n| Thunderball                     | 1965 |\n| Casino Royale                   | 1967 |\n| You Only Live Twice             | 1967 |\n| On Her Majesty's Secret Service | 1969 |\n| Diamonds Are Forever            | 1971 |\n| Live and Let Die                | 1973 |\n| The Man with the Golden Gun     | 1974 |\n| The Spy Who Loved Me            | 1977 |\n| Moonraker                       | 1979 |\n| For Your Eyes Only              | 1981 |\n| Never Say Never Again           | 1983 |\n| Octopussy                       | 1983 |\n| A View to a Kill                | 1985 |\n| The Living Daylights            | 1987 |\n| Licence to Kill                 | 1989 |\n| GoldenEye                       | 1995 |\n| Tomorrow Never Dies             | 1997 |\n| The World Is Not Enough         | 1999 |\n| Die Another Day                 | 2002 |\n| Casino Royale                   | 2006 |\n| Quantum of Solace               | 2008 |\n| Skyfall                         | 2012 |\n| Spectre                         | 2015 |\n\n",
            "text/latex": "A data.table: 26 × 2\n\\begin{tabular}{ll}\n Film & Year\\\\\n <chr> & <int>\\\\\n\\hline\n\t Dr. No                          & 1962\\\\\n\t From Russia with Love           & 1963\\\\\n\t Goldfinger                      & 1964\\\\\n\t Thunderball                     & 1965\\\\\n\t Casino Royale                   & 1967\\\\\n\t You Only Live Twice             & 1967\\\\\n\t On Her Majesty's Secret Service & 1969\\\\\n\t Diamonds Are Forever            & 1971\\\\\n\t Live and Let Die                & 1973\\\\\n\t The Man with the Golden Gun     & 1974\\\\\n\t The Spy Who Loved Me            & 1977\\\\\n\t Moonraker                       & 1979\\\\\n\t For Your Eyes Only              & 1981\\\\\n\t Never Say Never Again           & 1983\\\\\n\t Octopussy                       & 1983\\\\\n\t A View to a Kill                & 1985\\\\\n\t The Living Daylights            & 1987\\\\\n\t Licence to Kill                 & 1989\\\\\n\t GoldenEye                       & 1995\\\\\n\t Tomorrow Never Dies             & 1997\\\\\n\t The World Is Not Enough         & 1999\\\\\n\t Die Another Day                 & 2002\\\\\n\t Casino Royale                   & 2006\\\\\n\t Quantum of Solace               & 2008\\\\\n\t Skyfall                         & 2012\\\\\n\t Spectre                         & 2015\\\\\n\\end{tabular}\n",
            "text/plain": [
              "   Film                            Year\n",
              "1  Dr. No                          1962\n",
              "2  From Russia with Love           1963\n",
              "3  Goldfinger                      1964\n",
              "4  Thunderball                     1965\n",
              "5  Casino Royale                   1967\n",
              "6  You Only Live Twice             1967\n",
              "7  On Her Majesty's Secret Service 1969\n",
              "8  Diamonds Are Forever            1971\n",
              "9  Live and Let Die                1973\n",
              "10 The Man with the Golden Gun     1974\n",
              "11 The Spy Who Loved Me            1977\n",
              "12 Moonraker                       1979\n",
              "13 For Your Eyes Only              1981\n",
              "14 Never Say Never Again           1983\n",
              "15 Octopussy                       1983\n",
              "16 A View to a Kill                1985\n",
              "17 The Living Daylights            1987\n",
              "18 Licence to Kill                 1989\n",
              "19 GoldenEye                       1995\n",
              "20 Tomorrow Never Dies             1997\n",
              "21 The World Is Not Enough         1999\n",
              "22 Die Another Day                 2002\n",
              "23 Casino Royale                   2006\n",
              "24 Quantum of Solace               2008\n",
              "25 Skyfall                         2012\n",
              "26 Spectre                         2015"
            ]
          },
          "metadata": {}
        }
      ]
    },
    {
      "cell_type": "code",
      "source": [
        "# invocamos columna según posición\n",
        "# invocamos columnas según rango\n",
        "df_jamesbond[,1:3]"
      ],
      "metadata": {
        "colab": {
          "base_uri": "https://localhost:8080/",
          "height": 913
        },
        "id": "6cdZGdlGSK6y",
        "outputId": "9e54aacc-3eda-4174-d7b7-515f314c273c"
      },
      "execution_count": null,
      "outputs": [
        {
          "output_type": "display_data",
          "data": {
            "text/html": [
              "<table class=\"dataframe\">\n",
              "<caption>A data.table: 26 × 3</caption>\n",
              "<thead>\n",
              "\t<tr><th scope=col>Film</th><th scope=col>Year</th><th scope=col>Actor</th></tr>\n",
              "\t<tr><th scope=col>&lt;chr&gt;</th><th scope=col>&lt;int&gt;</th><th scope=col>&lt;chr&gt;</th></tr>\n",
              "</thead>\n",
              "<tbody>\n",
              "\t<tr><td>Dr. No                         </td><td>1962</td><td>Sean Connery  </td></tr>\n",
              "\t<tr><td>From Russia with Love          </td><td>1963</td><td>Sean Connery  </td></tr>\n",
              "\t<tr><td>Goldfinger                     </td><td>1964</td><td>Sean Connery  </td></tr>\n",
              "\t<tr><td>Thunderball                    </td><td>1965</td><td>Sean Connery  </td></tr>\n",
              "\t<tr><td>Casino Royale                  </td><td>1967</td><td>David Niven   </td></tr>\n",
              "\t<tr><td>You Only Live Twice            </td><td>1967</td><td>Sean Connery  </td></tr>\n",
              "\t<tr><td>On Her Majesty's Secret Service</td><td>1969</td><td>George Lazenby</td></tr>\n",
              "\t<tr><td>Diamonds Are Forever           </td><td>1971</td><td>Sean Connery  </td></tr>\n",
              "\t<tr><td>Live and Let Die               </td><td>1973</td><td>Roger Moore   </td></tr>\n",
              "\t<tr><td>The Man with the Golden Gun    </td><td>1974</td><td>Roger Moore   </td></tr>\n",
              "\t<tr><td>The Spy Who Loved Me           </td><td>1977</td><td>Roger Moore   </td></tr>\n",
              "\t<tr><td>Moonraker                      </td><td>1979</td><td>Roger Moore   </td></tr>\n",
              "\t<tr><td>For Your Eyes Only             </td><td>1981</td><td>Roger Moore   </td></tr>\n",
              "\t<tr><td>Never Say Never Again          </td><td>1983</td><td>Sean Connery  </td></tr>\n",
              "\t<tr><td>Octopussy                      </td><td>1983</td><td>Roger Moore   </td></tr>\n",
              "\t<tr><td>A View to a Kill               </td><td>1985</td><td>Roger Moore   </td></tr>\n",
              "\t<tr><td>The Living Daylights           </td><td>1987</td><td>Timothy Dalton</td></tr>\n",
              "\t<tr><td>Licence to Kill                </td><td>1989</td><td>Timothy Dalton</td></tr>\n",
              "\t<tr><td>GoldenEye                      </td><td>1995</td><td>Pierce Brosnan</td></tr>\n",
              "\t<tr><td>Tomorrow Never Dies            </td><td>1997</td><td>Pierce Brosnan</td></tr>\n",
              "\t<tr><td>The World Is Not Enough        </td><td>1999</td><td>Pierce Brosnan</td></tr>\n",
              "\t<tr><td>Die Another Day                </td><td>2002</td><td>Pierce Brosnan</td></tr>\n",
              "\t<tr><td>Casino Royale                  </td><td>2006</td><td>Daniel Craig  </td></tr>\n",
              "\t<tr><td>Quantum of Solace              </td><td>2008</td><td>Daniel Craig  </td></tr>\n",
              "\t<tr><td>Skyfall                        </td><td>2012</td><td>Daniel Craig  </td></tr>\n",
              "\t<tr><td>Spectre                        </td><td>2015</td><td>Daniel Craig  </td></tr>\n",
              "</tbody>\n",
              "</table>\n"
            ],
            "text/markdown": "\nA data.table: 26 × 3\n\n| Film &lt;chr&gt; | Year &lt;int&gt; | Actor &lt;chr&gt; |\n|---|---|---|\n| Dr. No                          | 1962 | Sean Connery   |\n| From Russia with Love           | 1963 | Sean Connery   |\n| Goldfinger                      | 1964 | Sean Connery   |\n| Thunderball                     | 1965 | Sean Connery   |\n| Casino Royale                   | 1967 | David Niven    |\n| You Only Live Twice             | 1967 | Sean Connery   |\n| On Her Majesty's Secret Service | 1969 | George Lazenby |\n| Diamonds Are Forever            | 1971 | Sean Connery   |\n| Live and Let Die                | 1973 | Roger Moore    |\n| The Man with the Golden Gun     | 1974 | Roger Moore    |\n| The Spy Who Loved Me            | 1977 | Roger Moore    |\n| Moonraker                       | 1979 | Roger Moore    |\n| For Your Eyes Only              | 1981 | Roger Moore    |\n| Never Say Never Again           | 1983 | Sean Connery   |\n| Octopussy                       | 1983 | Roger Moore    |\n| A View to a Kill                | 1985 | Roger Moore    |\n| The Living Daylights            | 1987 | Timothy Dalton |\n| Licence to Kill                 | 1989 | Timothy Dalton |\n| GoldenEye                       | 1995 | Pierce Brosnan |\n| Tomorrow Never Dies             | 1997 | Pierce Brosnan |\n| The World Is Not Enough         | 1999 | Pierce Brosnan |\n| Die Another Day                 | 2002 | Pierce Brosnan |\n| Casino Royale                   | 2006 | Daniel Craig   |\n| Quantum of Solace               | 2008 | Daniel Craig   |\n| Skyfall                         | 2012 | Daniel Craig   |\n| Spectre                         | 2015 | Daniel Craig   |\n\n",
            "text/latex": "A data.table: 26 × 3\n\\begin{tabular}{lll}\n Film & Year & Actor\\\\\n <chr> & <int> & <chr>\\\\\n\\hline\n\t Dr. No                          & 1962 & Sean Connery  \\\\\n\t From Russia with Love           & 1963 & Sean Connery  \\\\\n\t Goldfinger                      & 1964 & Sean Connery  \\\\\n\t Thunderball                     & 1965 & Sean Connery  \\\\\n\t Casino Royale                   & 1967 & David Niven   \\\\\n\t You Only Live Twice             & 1967 & Sean Connery  \\\\\n\t On Her Majesty's Secret Service & 1969 & George Lazenby\\\\\n\t Diamonds Are Forever            & 1971 & Sean Connery  \\\\\n\t Live and Let Die                & 1973 & Roger Moore   \\\\\n\t The Man with the Golden Gun     & 1974 & Roger Moore   \\\\\n\t The Spy Who Loved Me            & 1977 & Roger Moore   \\\\\n\t Moonraker                       & 1979 & Roger Moore   \\\\\n\t For Your Eyes Only              & 1981 & Roger Moore   \\\\\n\t Never Say Never Again           & 1983 & Sean Connery  \\\\\n\t Octopussy                       & 1983 & Roger Moore   \\\\\n\t A View to a Kill                & 1985 & Roger Moore   \\\\\n\t The Living Daylights            & 1987 & Timothy Dalton\\\\\n\t Licence to Kill                 & 1989 & Timothy Dalton\\\\\n\t GoldenEye                       & 1995 & Pierce Brosnan\\\\\n\t Tomorrow Never Dies             & 1997 & Pierce Brosnan\\\\\n\t The World Is Not Enough         & 1999 & Pierce Brosnan\\\\\n\t Die Another Day                 & 2002 & Pierce Brosnan\\\\\n\t Casino Royale                   & 2006 & Daniel Craig  \\\\\n\t Quantum of Solace               & 2008 & Daniel Craig  \\\\\n\t Skyfall                         & 2012 & Daniel Craig  \\\\\n\t Spectre                         & 2015 & Daniel Craig  \\\\\n\\end{tabular}\n",
            "text/plain": [
              "   Film                            Year Actor         \n",
              "1  Dr. No                          1962 Sean Connery  \n",
              "2  From Russia with Love           1963 Sean Connery  \n",
              "3  Goldfinger                      1964 Sean Connery  \n",
              "4  Thunderball                     1965 Sean Connery  \n",
              "5  Casino Royale                   1967 David Niven   \n",
              "6  You Only Live Twice             1967 Sean Connery  \n",
              "7  On Her Majesty's Secret Service 1969 George Lazenby\n",
              "8  Diamonds Are Forever            1971 Sean Connery  \n",
              "9  Live and Let Die                1973 Roger Moore   \n",
              "10 The Man with the Golden Gun     1974 Roger Moore   \n",
              "11 The Spy Who Loved Me            1977 Roger Moore   \n",
              "12 Moonraker                       1979 Roger Moore   \n",
              "13 For Your Eyes Only              1981 Roger Moore   \n",
              "14 Never Say Never Again           1983 Sean Connery  \n",
              "15 Octopussy                       1983 Roger Moore   \n",
              "16 A View to a Kill                1985 Roger Moore   \n",
              "17 The Living Daylights            1987 Timothy Dalton\n",
              "18 Licence to Kill                 1989 Timothy Dalton\n",
              "19 GoldenEye                       1995 Pierce Brosnan\n",
              "20 Tomorrow Never Dies             1997 Pierce Brosnan\n",
              "21 The World Is Not Enough         1999 Pierce Brosnan\n",
              "22 Die Another Day                 2002 Pierce Brosnan\n",
              "23 Casino Royale                   2006 Daniel Craig  \n",
              "24 Quantum of Solace               2008 Daniel Craig  \n",
              "25 Skyfall                         2012 Daniel Craig  \n",
              "26 Spectre                         2015 Daniel Craig  "
            ]
          },
          "metadata": {}
        }
      ]
    },
    {
      "cell_type": "markdown",
      "source": [
        "### Seleccionar filas"
      ],
      "metadata": {
        "id": "KB_rtMOcWo8j"
      }
    },
    {
      "cell_type": "code",
      "source": [
        "# invocamos filas según posición\n",
        "df_jamesbond[1,]"
      ],
      "metadata": {
        "colab": {
          "base_uri": "https://localhost:8080/",
          "height": 129
        },
        "id": "KQIG_aKOSK9K",
        "outputId": "4b2201d3-ce2f-4ab2-ca42-2636e89a2455"
      },
      "execution_count": null,
      "outputs": [
        {
          "output_type": "display_data",
          "data": {
            "text/html": [
              "<table class=\"dataframe\">\n",
              "<caption>A data.table: 1 × 7</caption>\n",
              "<thead>\n",
              "\t<tr><th scope=col>Film</th><th scope=col>Year</th><th scope=col>Actor</th><th scope=col>Director</th><th scope=col>Box Office</th><th scope=col>Budget</th><th scope=col>Bond Actor Salary</th></tr>\n",
              "\t<tr><th scope=col>&lt;chr&gt;</th><th scope=col>&lt;int&gt;</th><th scope=col>&lt;chr&gt;</th><th scope=col>&lt;chr&gt;</th><th scope=col>&lt;dbl&gt;</th><th scope=col>&lt;dbl&gt;</th><th scope=col>&lt;dbl&gt;</th></tr>\n",
              "</thead>\n",
              "<tbody>\n",
              "\t<tr><td>Dr. No</td><td>1962</td><td>Sean Connery</td><td>Terence Young</td><td>448.8</td><td>7</td><td>0.6</td></tr>\n",
              "</tbody>\n",
              "</table>\n"
            ],
            "text/markdown": "\nA data.table: 1 × 7\n\n| Film &lt;chr&gt; | Year &lt;int&gt; | Actor &lt;chr&gt; | Director &lt;chr&gt; | Box Office &lt;dbl&gt; | Budget &lt;dbl&gt; | Bond Actor Salary &lt;dbl&gt; |\n|---|---|---|---|---|---|---|\n| Dr. No | 1962 | Sean Connery | Terence Young | 448.8 | 7 | 0.6 |\n\n",
            "text/latex": "A data.table: 1 × 7\n\\begin{tabular}{lllllll}\n Film & Year & Actor & Director & Box Office & Budget & Bond Actor Salary\\\\\n <chr> & <int> & <chr> & <chr> & <dbl> & <dbl> & <dbl>\\\\\n\\hline\n\t Dr. No & 1962 & Sean Connery & Terence Young & 448.8 & 7 & 0.6\\\\\n\\end{tabular}\n",
            "text/plain": [
              "  Film   Year Actor        Director      Box Office Budget Bond Actor Salary\n",
              "1 Dr. No 1962 Sean Connery Terence Young 448.8      7      0.6              "
            ]
          },
          "metadata": {}
        }
      ]
    },
    {
      "cell_type": "code",
      "source": [
        "# invocamos filas según posición\n",
        "df_jamesbond[c(1,4,5),]"
      ],
      "metadata": {
        "colab": {
          "base_uri": "https://localhost:8080/",
          "height": 192
        },
        "id": "YS0Xm3awWoOa",
        "outputId": "5aa29691-d14c-4efc-d4b4-18109be11f13"
      },
      "execution_count": null,
      "outputs": [
        {
          "output_type": "display_data",
          "data": {
            "text/html": [
              "<table class=\"dataframe\">\n",
              "<caption>A data.table: 3 × 7</caption>\n",
              "<thead>\n",
              "\t<tr><th scope=col>Film</th><th scope=col>Year</th><th scope=col>Actor</th><th scope=col>Director</th><th scope=col>Box Office</th><th scope=col>Budget</th><th scope=col>Bond Actor Salary</th></tr>\n",
              "\t<tr><th scope=col>&lt;chr&gt;</th><th scope=col>&lt;int&gt;</th><th scope=col>&lt;chr&gt;</th><th scope=col>&lt;chr&gt;</th><th scope=col>&lt;dbl&gt;</th><th scope=col>&lt;dbl&gt;</th><th scope=col>&lt;dbl&gt;</th></tr>\n",
              "</thead>\n",
              "<tbody>\n",
              "\t<tr><td>Dr. No       </td><td>1962</td><td>Sean Connery</td><td>Terence Young</td><td>448.8</td><td> 7.0</td><td>0.6</td></tr>\n",
              "\t<tr><td>Thunderball  </td><td>1965</td><td>Sean Connery</td><td>Terence Young</td><td>848.1</td><td>41.9</td><td>4.7</td></tr>\n",
              "\t<tr><td>Casino Royale</td><td>1967</td><td>David Niven </td><td>Ken Hughes   </td><td>315.0</td><td>85.0</td><td> NA</td></tr>\n",
              "</tbody>\n",
              "</table>\n"
            ],
            "text/markdown": "\nA data.table: 3 × 7\n\n| Film &lt;chr&gt; | Year &lt;int&gt; | Actor &lt;chr&gt; | Director &lt;chr&gt; | Box Office &lt;dbl&gt; | Budget &lt;dbl&gt; | Bond Actor Salary &lt;dbl&gt; |\n|---|---|---|---|---|---|---|\n| Dr. No        | 1962 | Sean Connery | Terence Young | 448.8 |  7.0 | 0.6 |\n| Thunderball   | 1965 | Sean Connery | Terence Young | 848.1 | 41.9 | 4.7 |\n| Casino Royale | 1967 | David Niven  | Ken Hughes    | 315.0 | 85.0 |  NA |\n\n",
            "text/latex": "A data.table: 3 × 7\n\\begin{tabular}{lllllll}\n Film & Year & Actor & Director & Box Office & Budget & Bond Actor Salary\\\\\n <chr> & <int> & <chr> & <chr> & <dbl> & <dbl> & <dbl>\\\\\n\\hline\n\t Dr. No        & 1962 & Sean Connery & Terence Young & 448.8 &  7.0 & 0.6\\\\\n\t Thunderball   & 1965 & Sean Connery & Terence Young & 848.1 & 41.9 & 4.7\\\\\n\t Casino Royale & 1967 & David Niven  & Ken Hughes    & 315.0 & 85.0 &  NA\\\\\n\\end{tabular}\n",
            "text/plain": [
              "  Film          Year Actor        Director      Box Office Budget\n",
              "1 Dr. No        1962 Sean Connery Terence Young 448.8       7.0  \n",
              "2 Thunderball   1965 Sean Connery Terence Young 848.1      41.9  \n",
              "3 Casino Royale 1967 David Niven  Ken Hughes    315.0      85.0  \n",
              "  Bond Actor Salary\n",
              "1 0.6              \n",
              "2 4.7              \n",
              "3  NA              "
            ]
          },
          "metadata": {}
        }
      ]
    },
    {
      "cell_type": "code",
      "source": [
        "# invocamos filas según posición\n",
        "df_jamesbond[1:10,]"
      ],
      "metadata": {
        "colab": {
          "base_uri": "https://localhost:8080/",
          "height": 412
        },
        "id": "6ttqDb8sWoQf",
        "outputId": "2b95c7e4-bbcd-45ad-ce3d-9c1dc24e9d02"
      },
      "execution_count": null,
      "outputs": [
        {
          "output_type": "display_data",
          "data": {
            "text/html": [
              "<table class=\"dataframe\">\n",
              "<caption>A data.table: 10 × 7</caption>\n",
              "<thead>\n",
              "\t<tr><th scope=col>Film</th><th scope=col>Year</th><th scope=col>Actor</th><th scope=col>Director</th><th scope=col>Box Office</th><th scope=col>Budget</th><th scope=col>Bond Actor Salary</th></tr>\n",
              "\t<tr><th scope=col>&lt;chr&gt;</th><th scope=col>&lt;int&gt;</th><th scope=col>&lt;chr&gt;</th><th scope=col>&lt;chr&gt;</th><th scope=col>&lt;dbl&gt;</th><th scope=col>&lt;dbl&gt;</th><th scope=col>&lt;dbl&gt;</th></tr>\n",
              "</thead>\n",
              "<tbody>\n",
              "\t<tr><td>Dr. No                         </td><td>1962</td><td>Sean Connery  </td><td>Terence Young</td><td>448.8</td><td> 7.0</td><td>0.6</td></tr>\n",
              "\t<tr><td>From Russia with Love          </td><td>1963</td><td>Sean Connery  </td><td>Terence Young</td><td>543.8</td><td>12.6</td><td>1.6</td></tr>\n",
              "\t<tr><td>Goldfinger                     </td><td>1964</td><td>Sean Connery  </td><td>Guy Hamilton </td><td>820.4</td><td>18.6</td><td>3.2</td></tr>\n",
              "\t<tr><td>Thunderball                    </td><td>1965</td><td>Sean Connery  </td><td>Terence Young</td><td>848.1</td><td>41.9</td><td>4.7</td></tr>\n",
              "\t<tr><td>Casino Royale                  </td><td>1967</td><td>David Niven   </td><td>Ken Hughes   </td><td>315.0</td><td>85.0</td><td> NA</td></tr>\n",
              "\t<tr><td>You Only Live Twice            </td><td>1967</td><td>Sean Connery  </td><td>Lewis Gilbert</td><td>514.2</td><td>59.9</td><td>4.4</td></tr>\n",
              "\t<tr><td>On Her Majesty's Secret Service</td><td>1969</td><td>George Lazenby</td><td>Peter R. Hunt</td><td>291.5</td><td>37.3</td><td>0.6</td></tr>\n",
              "\t<tr><td>Diamonds Are Forever           </td><td>1971</td><td>Sean Connery  </td><td>Guy Hamilton </td><td>442.5</td><td>34.7</td><td>5.8</td></tr>\n",
              "\t<tr><td>Live and Let Die               </td><td>1973</td><td>Roger Moore   </td><td>Guy Hamilton </td><td>460.3</td><td>30.8</td><td> NA</td></tr>\n",
              "\t<tr><td>The Man with the Golden Gun    </td><td>1974</td><td>Roger Moore   </td><td>Guy Hamilton </td><td>334.0</td><td>27.7</td><td> NA</td></tr>\n",
              "</tbody>\n",
              "</table>\n"
            ],
            "text/markdown": "\nA data.table: 10 × 7\n\n| Film &lt;chr&gt; | Year &lt;int&gt; | Actor &lt;chr&gt; | Director &lt;chr&gt; | Box Office &lt;dbl&gt; | Budget &lt;dbl&gt; | Bond Actor Salary &lt;dbl&gt; |\n|---|---|---|---|---|---|---|\n| Dr. No                          | 1962 | Sean Connery   | Terence Young | 448.8 |  7.0 | 0.6 |\n| From Russia with Love           | 1963 | Sean Connery   | Terence Young | 543.8 | 12.6 | 1.6 |\n| Goldfinger                      | 1964 | Sean Connery   | Guy Hamilton  | 820.4 | 18.6 | 3.2 |\n| Thunderball                     | 1965 | Sean Connery   | Terence Young | 848.1 | 41.9 | 4.7 |\n| Casino Royale                   | 1967 | David Niven    | Ken Hughes    | 315.0 | 85.0 |  NA |\n| You Only Live Twice             | 1967 | Sean Connery   | Lewis Gilbert | 514.2 | 59.9 | 4.4 |\n| On Her Majesty's Secret Service | 1969 | George Lazenby | Peter R. Hunt | 291.5 | 37.3 | 0.6 |\n| Diamonds Are Forever            | 1971 | Sean Connery   | Guy Hamilton  | 442.5 | 34.7 | 5.8 |\n| Live and Let Die                | 1973 | Roger Moore    | Guy Hamilton  | 460.3 | 30.8 |  NA |\n| The Man with the Golden Gun     | 1974 | Roger Moore    | Guy Hamilton  | 334.0 | 27.7 |  NA |\n\n",
            "text/latex": "A data.table: 10 × 7\n\\begin{tabular}{lllllll}\n Film & Year & Actor & Director & Box Office & Budget & Bond Actor Salary\\\\\n <chr> & <int> & <chr> & <chr> & <dbl> & <dbl> & <dbl>\\\\\n\\hline\n\t Dr. No                          & 1962 & Sean Connery   & Terence Young & 448.8 &  7.0 & 0.6\\\\\n\t From Russia with Love           & 1963 & Sean Connery   & Terence Young & 543.8 & 12.6 & 1.6\\\\\n\t Goldfinger                      & 1964 & Sean Connery   & Guy Hamilton  & 820.4 & 18.6 & 3.2\\\\\n\t Thunderball                     & 1965 & Sean Connery   & Terence Young & 848.1 & 41.9 & 4.7\\\\\n\t Casino Royale                   & 1967 & David Niven    & Ken Hughes    & 315.0 & 85.0 &  NA\\\\\n\t You Only Live Twice             & 1967 & Sean Connery   & Lewis Gilbert & 514.2 & 59.9 & 4.4\\\\\n\t On Her Majesty's Secret Service & 1969 & George Lazenby & Peter R. Hunt & 291.5 & 37.3 & 0.6\\\\\n\t Diamonds Are Forever            & 1971 & Sean Connery   & Guy Hamilton  & 442.5 & 34.7 & 5.8\\\\\n\t Live and Let Die                & 1973 & Roger Moore    & Guy Hamilton  & 460.3 & 30.8 &  NA\\\\\n\t The Man with the Golden Gun     & 1974 & Roger Moore    & Guy Hamilton  & 334.0 & 27.7 &  NA\\\\\n\\end{tabular}\n",
            "text/plain": [
              "   Film                            Year Actor          Director      Box Office\n",
              "1  Dr. No                          1962 Sean Connery   Terence Young 448.8     \n",
              "2  From Russia with Love           1963 Sean Connery   Terence Young 543.8     \n",
              "3  Goldfinger                      1964 Sean Connery   Guy Hamilton  820.4     \n",
              "4  Thunderball                     1965 Sean Connery   Terence Young 848.1     \n",
              "5  Casino Royale                   1967 David Niven    Ken Hughes    315.0     \n",
              "6  You Only Live Twice             1967 Sean Connery   Lewis Gilbert 514.2     \n",
              "7  On Her Majesty's Secret Service 1969 George Lazenby Peter R. Hunt 291.5     \n",
              "8  Diamonds Are Forever            1971 Sean Connery   Guy Hamilton  442.5     \n",
              "9  Live and Let Die                1973 Roger Moore    Guy Hamilton  460.3     \n",
              "10 The Man with the Golden Gun     1974 Roger Moore    Guy Hamilton  334.0     \n",
              "   Budget Bond Actor Salary\n",
              "1   7.0   0.6              \n",
              "2  12.6   1.6              \n",
              "3  18.6   3.2              \n",
              "4  41.9   4.7              \n",
              "5  85.0    NA              \n",
              "6  59.9   4.4              \n",
              "7  37.3   0.6              \n",
              "8  34.7   5.8              \n",
              "9  30.8    NA              \n",
              "10 27.7    NA              "
            ]
          },
          "metadata": {}
        }
      ]
    },
    {
      "cell_type": "markdown",
      "source": [
        "### Combinando métodos"
      ],
      "metadata": {
        "id": "1V5MMHPrXRoM"
      }
    },
    {
      "cell_type": "code",
      "source": [
        "# invocamos fila según posición, columna según nombre\n",
        "df_jamesbond[1,'Actor']"
      ],
      "metadata": {
        "colab": {
          "base_uri": "https://localhost:8080/",
          "height": 147
        },
        "id": "yTLHZejbWoS1",
        "outputId": "58f94733-74dc-482f-9e2b-fd62039db71d"
      },
      "execution_count": null,
      "outputs": [
        {
          "output_type": "display_data",
          "data": {
            "text/html": [
              "<table class=\"dataframe\">\n",
              "<caption>A data.table: 1 × 1</caption>\n",
              "<thead>\n",
              "\t<tr><th scope=col>Actor</th></tr>\n",
              "\t<tr><th scope=col>&lt;chr&gt;</th></tr>\n",
              "</thead>\n",
              "<tbody>\n",
              "\t<tr><td>Sean Connery</td></tr>\n",
              "</tbody>\n",
              "</table>\n"
            ],
            "text/markdown": "\nA data.table: 1 × 1\n\n| Actor &lt;chr&gt; |\n|---|\n| Sean Connery |\n\n",
            "text/latex": "A data.table: 1 × 1\n\\begin{tabular}{l}\n Actor\\\\\n <chr>\\\\\n\\hline\n\t Sean Connery\\\\\n\\end{tabular}\n",
            "text/plain": [
              "  Actor       \n",
              "1 Sean Connery"
            ]
          },
          "metadata": {}
        }
      ]
    },
    {
      "cell_type": "code",
      "source": [
        "# invocamos filas según rango, columnas según nombre\n",
        "df_jamesbond[1:10,c('Film','Actor','Director')]"
      ],
      "metadata": {
        "colab": {
          "base_uri": "https://localhost:8080/",
          "height": 412
        },
        "id": "cjLlW_DRWoU7",
        "outputId": "b1d5a8a1-e5f3-48c2-b7f1-d7fe545ebd74"
      },
      "execution_count": null,
      "outputs": [
        {
          "output_type": "display_data",
          "data": {
            "text/html": [
              "<table class=\"dataframe\">\n",
              "<caption>A data.table: 10 × 3</caption>\n",
              "<thead>\n",
              "\t<tr><th scope=col>Film</th><th scope=col>Actor</th><th scope=col>Director</th></tr>\n",
              "\t<tr><th scope=col>&lt;chr&gt;</th><th scope=col>&lt;chr&gt;</th><th scope=col>&lt;chr&gt;</th></tr>\n",
              "</thead>\n",
              "<tbody>\n",
              "\t<tr><td>Dr. No                         </td><td>Sean Connery  </td><td>Terence Young</td></tr>\n",
              "\t<tr><td>From Russia with Love          </td><td>Sean Connery  </td><td>Terence Young</td></tr>\n",
              "\t<tr><td>Goldfinger                     </td><td>Sean Connery  </td><td>Guy Hamilton </td></tr>\n",
              "\t<tr><td>Thunderball                    </td><td>Sean Connery  </td><td>Terence Young</td></tr>\n",
              "\t<tr><td>Casino Royale                  </td><td>David Niven   </td><td>Ken Hughes   </td></tr>\n",
              "\t<tr><td>You Only Live Twice            </td><td>Sean Connery  </td><td>Lewis Gilbert</td></tr>\n",
              "\t<tr><td>On Her Majesty's Secret Service</td><td>George Lazenby</td><td>Peter R. Hunt</td></tr>\n",
              "\t<tr><td>Diamonds Are Forever           </td><td>Sean Connery  </td><td>Guy Hamilton </td></tr>\n",
              "\t<tr><td>Live and Let Die               </td><td>Roger Moore   </td><td>Guy Hamilton </td></tr>\n",
              "\t<tr><td>The Man with the Golden Gun    </td><td>Roger Moore   </td><td>Guy Hamilton </td></tr>\n",
              "</tbody>\n",
              "</table>\n"
            ],
            "text/markdown": "\nA data.table: 10 × 3\n\n| Film &lt;chr&gt; | Actor &lt;chr&gt; | Director &lt;chr&gt; |\n|---|---|---|\n| Dr. No                          | Sean Connery   | Terence Young |\n| From Russia with Love           | Sean Connery   | Terence Young |\n| Goldfinger                      | Sean Connery   | Guy Hamilton  |\n| Thunderball                     | Sean Connery   | Terence Young |\n| Casino Royale                   | David Niven    | Ken Hughes    |\n| You Only Live Twice             | Sean Connery   | Lewis Gilbert |\n| On Her Majesty's Secret Service | George Lazenby | Peter R. Hunt |\n| Diamonds Are Forever            | Sean Connery   | Guy Hamilton  |\n| Live and Let Die                | Roger Moore    | Guy Hamilton  |\n| The Man with the Golden Gun     | Roger Moore    | Guy Hamilton  |\n\n",
            "text/latex": "A data.table: 10 × 3\n\\begin{tabular}{lll}\n Film & Actor & Director\\\\\n <chr> & <chr> & <chr>\\\\\n\\hline\n\t Dr. No                          & Sean Connery   & Terence Young\\\\\n\t From Russia with Love           & Sean Connery   & Terence Young\\\\\n\t Goldfinger                      & Sean Connery   & Guy Hamilton \\\\\n\t Thunderball                     & Sean Connery   & Terence Young\\\\\n\t Casino Royale                   & David Niven    & Ken Hughes   \\\\\n\t You Only Live Twice             & Sean Connery   & Lewis Gilbert\\\\\n\t On Her Majesty's Secret Service & George Lazenby & Peter R. Hunt\\\\\n\t Diamonds Are Forever            & Sean Connery   & Guy Hamilton \\\\\n\t Live and Let Die                & Roger Moore    & Guy Hamilton \\\\\n\t The Man with the Golden Gun     & Roger Moore    & Guy Hamilton \\\\\n\\end{tabular}\n",
            "text/plain": [
              "   Film                            Actor          Director     \n",
              "1  Dr. No                          Sean Connery   Terence Young\n",
              "2  From Russia with Love           Sean Connery   Terence Young\n",
              "3  Goldfinger                      Sean Connery   Guy Hamilton \n",
              "4  Thunderball                     Sean Connery   Terence Young\n",
              "5  Casino Royale                   David Niven    Ken Hughes   \n",
              "6  You Only Live Twice             Sean Connery   Lewis Gilbert\n",
              "7  On Her Majesty's Secret Service George Lazenby Peter R. Hunt\n",
              "8  Diamonds Are Forever            Sean Connery   Guy Hamilton \n",
              "9  Live and Let Die                Roger Moore    Guy Hamilton \n",
              "10 The Man with the Golden Gun     Roger Moore    Guy Hamilton "
            ]
          },
          "metadata": {}
        }
      ]
    },
    {
      "cell_type": "markdown",
      "source": [
        "### Filtrar filas según condiciones lógicas"
      ],
      "metadata": {
        "id": "RJrCgeh7XqbN"
      }
    },
    {
      "cell_type": "code",
      "source": [
        "# creamos una prueba lógica\n",
        "# # nota: el resultado será siempre un vector con booleanos, tendremos tantos booleanos como filas en nuestro df\n",
        "df_jamesbond$Actor == 'Sean Connery'"
      ],
      "metadata": {
        "colab": {
          "base_uri": "https://localhost:8080/",
          "height": 34
        },
        "id": "rOzcaWT-WoXA",
        "outputId": "ae0c3ca7-1ba9-4857-d51b-45ae60d77c04"
      },
      "execution_count": null,
      "outputs": [
        {
          "output_type": "display_data",
          "data": {
            "text/html": [
              "<style>\n",
              ".list-inline {list-style: none; margin:0; padding: 0}\n",
              ".list-inline>li {display: inline-block}\n",
              ".list-inline>li:not(:last-child)::after {content: \"\\00b7\"; padding: 0 .5ex}\n",
              "</style>\n",
              "<ol class=list-inline><li>TRUE</li><li>TRUE</li><li>TRUE</li><li>TRUE</li><li>FALSE</li><li>TRUE</li><li>FALSE</li><li>TRUE</li><li>FALSE</li><li>FALSE</li><li>FALSE</li><li>FALSE</li><li>FALSE</li><li>TRUE</li><li>FALSE</li><li>FALSE</li><li>FALSE</li><li>FALSE</li><li>FALSE</li><li>FALSE</li><li>FALSE</li><li>FALSE</li><li>FALSE</li><li>FALSE</li><li>FALSE</li><li>FALSE</li></ol>\n"
            ],
            "text/markdown": "1. TRUE\n2. TRUE\n3. TRUE\n4. TRUE\n5. FALSE\n6. TRUE\n7. FALSE\n8. TRUE\n9. FALSE\n10. FALSE\n11. FALSE\n12. FALSE\n13. FALSE\n14. TRUE\n15. FALSE\n16. FALSE\n17. FALSE\n18. FALSE\n19. FALSE\n20. FALSE\n21. FALSE\n22. FALSE\n23. FALSE\n24. FALSE\n25. FALSE\n26. FALSE\n\n\n",
            "text/latex": "\\begin{enumerate*}\n\\item TRUE\n\\item TRUE\n\\item TRUE\n\\item TRUE\n\\item FALSE\n\\item TRUE\n\\item FALSE\n\\item TRUE\n\\item FALSE\n\\item FALSE\n\\item FALSE\n\\item FALSE\n\\item FALSE\n\\item TRUE\n\\item FALSE\n\\item FALSE\n\\item FALSE\n\\item FALSE\n\\item FALSE\n\\item FALSE\n\\item FALSE\n\\item FALSE\n\\item FALSE\n\\item FALSE\n\\item FALSE\n\\item FALSE\n\\end{enumerate*}\n",
            "text/plain": [
              " [1]  TRUE  TRUE  TRUE  TRUE FALSE  TRUE FALSE  TRUE FALSE FALSE FALSE FALSE\n",
              "[13] FALSE  TRUE FALSE FALSE FALSE FALSE FALSE FALSE FALSE FALSE FALSE FALSE\n",
              "[25] FALSE FALSE"
            ]
          },
          "metadata": {}
        }
      ]
    },
    {
      "cell_type": "code",
      "source": [
        "# de forma alternativa, podríamos conseguir el mismo resultado con la siguiente sintaxis\n",
        "as.vector(df_jamesbond[,'Actor'] == 'Sean Connery')"
      ],
      "metadata": {
        "colab": {
          "base_uri": "https://localhost:8080/",
          "height": 34
        },
        "id": "-Dj-fLthWoZG",
        "outputId": "72522ff7-b180-4dcd-9739-b9964d452d03"
      },
      "execution_count": null,
      "outputs": [
        {
          "output_type": "display_data",
          "data": {
            "text/html": [
              "<style>\n",
              ".list-inline {list-style: none; margin:0; padding: 0}\n",
              ".list-inline>li {display: inline-block}\n",
              ".list-inline>li:not(:last-child)::after {content: \"\\00b7\"; padding: 0 .5ex}\n",
              "</style>\n",
              "<ol class=list-inline><li>TRUE</li><li>TRUE</li><li>TRUE</li><li>TRUE</li><li>FALSE</li><li>TRUE</li><li>FALSE</li><li>TRUE</li><li>FALSE</li><li>FALSE</li><li>FALSE</li><li>FALSE</li><li>FALSE</li><li>TRUE</li><li>FALSE</li><li>FALSE</li><li>FALSE</li><li>FALSE</li><li>FALSE</li><li>FALSE</li><li>FALSE</li><li>FALSE</li><li>FALSE</li><li>FALSE</li><li>FALSE</li><li>FALSE</li></ol>\n"
            ],
            "text/markdown": "1. TRUE\n2. TRUE\n3. TRUE\n4. TRUE\n5. FALSE\n6. TRUE\n7. FALSE\n8. TRUE\n9. FALSE\n10. FALSE\n11. FALSE\n12. FALSE\n13. FALSE\n14. TRUE\n15. FALSE\n16. FALSE\n17. FALSE\n18. FALSE\n19. FALSE\n20. FALSE\n21. FALSE\n22. FALSE\n23. FALSE\n24. FALSE\n25. FALSE\n26. FALSE\n\n\n",
            "text/latex": "\\begin{enumerate*}\n\\item TRUE\n\\item TRUE\n\\item TRUE\n\\item TRUE\n\\item FALSE\n\\item TRUE\n\\item FALSE\n\\item TRUE\n\\item FALSE\n\\item FALSE\n\\item FALSE\n\\item FALSE\n\\item FALSE\n\\item TRUE\n\\item FALSE\n\\item FALSE\n\\item FALSE\n\\item FALSE\n\\item FALSE\n\\item FALSE\n\\item FALSE\n\\item FALSE\n\\item FALSE\n\\item FALSE\n\\item FALSE\n\\item FALSE\n\\end{enumerate*}\n",
            "text/plain": [
              " [1]  TRUE  TRUE  TRUE  TRUE FALSE  TRUE FALSE  TRUE FALSE FALSE FALSE FALSE\n",
              "[13] FALSE  TRUE FALSE FALSE FALSE FALSE FALSE FALSE FALSE FALSE FALSE FALSE\n",
              "[25] FALSE FALSE"
            ]
          },
          "metadata": {}
        }
      ]
    },
    {
      "cell_type": "code",
      "source": [
        "# utilizamos el vector con booleanos para filtrar filas\n",
        "# como resultado, conservamos únicamente las filas que se corresponden con valores TRUE en nuestro vector\n",
        "cond = df_jamesbond$Actor == 'Sean Connery'\n",
        "df_jamesbond[cond,]"
      ],
      "metadata": {
        "colab": {
          "base_uri": "https://localhost:8080/",
          "height": 318
        },
        "id": "FAX-t0dRX8yf",
        "outputId": "a4c14a14-2abe-492d-eebe-24a357230f21"
      },
      "execution_count": null,
      "outputs": [
        {
          "output_type": "display_data",
          "data": {
            "text/html": [
              "<table class=\"dataframe\">\n",
              "<caption>A data.table: 7 × 7</caption>\n",
              "<thead>\n",
              "\t<tr><th scope=col>Film</th><th scope=col>Year</th><th scope=col>Actor</th><th scope=col>Director</th><th scope=col>Box Office</th><th scope=col>Budget</th><th scope=col>Bond Actor Salary</th></tr>\n",
              "\t<tr><th scope=col>&lt;chr&gt;</th><th scope=col>&lt;int&gt;</th><th scope=col>&lt;chr&gt;</th><th scope=col>&lt;chr&gt;</th><th scope=col>&lt;dbl&gt;</th><th scope=col>&lt;dbl&gt;</th><th scope=col>&lt;dbl&gt;</th></tr>\n",
              "</thead>\n",
              "<tbody>\n",
              "\t<tr><td>Dr. No               </td><td>1962</td><td>Sean Connery</td><td>Terence Young </td><td>448.8</td><td> 7.0</td><td>0.6</td></tr>\n",
              "\t<tr><td>From Russia with Love</td><td>1963</td><td>Sean Connery</td><td>Terence Young </td><td>543.8</td><td>12.6</td><td>1.6</td></tr>\n",
              "\t<tr><td>Goldfinger           </td><td>1964</td><td>Sean Connery</td><td>Guy Hamilton  </td><td>820.4</td><td>18.6</td><td>3.2</td></tr>\n",
              "\t<tr><td>Thunderball          </td><td>1965</td><td>Sean Connery</td><td>Terence Young </td><td>848.1</td><td>41.9</td><td>4.7</td></tr>\n",
              "\t<tr><td>You Only Live Twice  </td><td>1967</td><td>Sean Connery</td><td>Lewis Gilbert </td><td>514.2</td><td>59.9</td><td>4.4</td></tr>\n",
              "\t<tr><td>Diamonds Are Forever </td><td>1971</td><td>Sean Connery</td><td>Guy Hamilton  </td><td>442.5</td><td>34.7</td><td>5.8</td></tr>\n",
              "\t<tr><td>Never Say Never Again</td><td>1983</td><td>Sean Connery</td><td>Irvin Kershner</td><td>380.0</td><td>86.0</td><td> NA</td></tr>\n",
              "</tbody>\n",
              "</table>\n"
            ],
            "text/markdown": "\nA data.table: 7 × 7\n\n| Film &lt;chr&gt; | Year &lt;int&gt; | Actor &lt;chr&gt; | Director &lt;chr&gt; | Box Office &lt;dbl&gt; | Budget &lt;dbl&gt; | Bond Actor Salary &lt;dbl&gt; |\n|---|---|---|---|---|---|---|\n| Dr. No                | 1962 | Sean Connery | Terence Young  | 448.8 |  7.0 | 0.6 |\n| From Russia with Love | 1963 | Sean Connery | Terence Young  | 543.8 | 12.6 | 1.6 |\n| Goldfinger            | 1964 | Sean Connery | Guy Hamilton   | 820.4 | 18.6 | 3.2 |\n| Thunderball           | 1965 | Sean Connery | Terence Young  | 848.1 | 41.9 | 4.7 |\n| You Only Live Twice   | 1967 | Sean Connery | Lewis Gilbert  | 514.2 | 59.9 | 4.4 |\n| Diamonds Are Forever  | 1971 | Sean Connery | Guy Hamilton   | 442.5 | 34.7 | 5.8 |\n| Never Say Never Again | 1983 | Sean Connery | Irvin Kershner | 380.0 | 86.0 |  NA |\n\n",
            "text/latex": "A data.table: 7 × 7\n\\begin{tabular}{lllllll}\n Film & Year & Actor & Director & Box Office & Budget & Bond Actor Salary\\\\\n <chr> & <int> & <chr> & <chr> & <dbl> & <dbl> & <dbl>\\\\\n\\hline\n\t Dr. No                & 1962 & Sean Connery & Terence Young  & 448.8 &  7.0 & 0.6\\\\\n\t From Russia with Love & 1963 & Sean Connery & Terence Young  & 543.8 & 12.6 & 1.6\\\\\n\t Goldfinger            & 1964 & Sean Connery & Guy Hamilton   & 820.4 & 18.6 & 3.2\\\\\n\t Thunderball           & 1965 & Sean Connery & Terence Young  & 848.1 & 41.9 & 4.7\\\\\n\t You Only Live Twice   & 1967 & Sean Connery & Lewis Gilbert  & 514.2 & 59.9 & 4.4\\\\\n\t Diamonds Are Forever  & 1971 & Sean Connery & Guy Hamilton   & 442.5 & 34.7 & 5.8\\\\\n\t Never Say Never Again & 1983 & Sean Connery & Irvin Kershner & 380.0 & 86.0 &  NA\\\\\n\\end{tabular}\n",
            "text/plain": [
              "  Film                  Year Actor        Director       Box Office Budget\n",
              "1 Dr. No                1962 Sean Connery Terence Young  448.8       7.0  \n",
              "2 From Russia with Love 1963 Sean Connery Terence Young  543.8      12.6  \n",
              "3 Goldfinger            1964 Sean Connery Guy Hamilton   820.4      18.6  \n",
              "4 Thunderball           1965 Sean Connery Terence Young  848.1      41.9  \n",
              "5 You Only Live Twice   1967 Sean Connery Lewis Gilbert  514.2      59.9  \n",
              "6 Diamonds Are Forever  1971 Sean Connery Guy Hamilton   442.5      34.7  \n",
              "7 Never Say Never Again 1983 Sean Connery Irvin Kershner 380.0      86.0  \n",
              "  Bond Actor Salary\n",
              "1 0.6              \n",
              "2 1.6              \n",
              "3 3.2              \n",
              "4 4.7              \n",
              "5 4.4              \n",
              "6 5.8              \n",
              "7  NA              "
            ]
          },
          "metadata": {}
        }
      ]
    },
    {
      "cell_type": "code",
      "source": [
        "# podríamos conseguir el mismo resultado sin declarar objetos auxiliares\n",
        "df_jamesbond[df_jamesbond$Actor == 'Sean Connery',]"
      ],
      "metadata": {
        "colab": {
          "base_uri": "https://localhost:8080/",
          "height": 318
        },
        "id": "KnZ_mqZUYCEv",
        "outputId": "428dfbc0-2824-463b-acca-a60573864104"
      },
      "execution_count": null,
      "outputs": [
        {
          "output_type": "display_data",
          "data": {
            "text/html": [
              "<table class=\"dataframe\">\n",
              "<caption>A data.table: 7 × 7</caption>\n",
              "<thead>\n",
              "\t<tr><th scope=col>Film</th><th scope=col>Year</th><th scope=col>Actor</th><th scope=col>Director</th><th scope=col>Box Office</th><th scope=col>Budget</th><th scope=col>Bond Actor Salary</th></tr>\n",
              "\t<tr><th scope=col>&lt;chr&gt;</th><th scope=col>&lt;int&gt;</th><th scope=col>&lt;chr&gt;</th><th scope=col>&lt;chr&gt;</th><th scope=col>&lt;dbl&gt;</th><th scope=col>&lt;dbl&gt;</th><th scope=col>&lt;dbl&gt;</th></tr>\n",
              "</thead>\n",
              "<tbody>\n",
              "\t<tr><td>Dr. No               </td><td>1962</td><td>Sean Connery</td><td>Terence Young </td><td>448.8</td><td> 7.0</td><td>0.6</td></tr>\n",
              "\t<tr><td>From Russia with Love</td><td>1963</td><td>Sean Connery</td><td>Terence Young </td><td>543.8</td><td>12.6</td><td>1.6</td></tr>\n",
              "\t<tr><td>Goldfinger           </td><td>1964</td><td>Sean Connery</td><td>Guy Hamilton  </td><td>820.4</td><td>18.6</td><td>3.2</td></tr>\n",
              "\t<tr><td>Thunderball          </td><td>1965</td><td>Sean Connery</td><td>Terence Young </td><td>848.1</td><td>41.9</td><td>4.7</td></tr>\n",
              "\t<tr><td>You Only Live Twice  </td><td>1967</td><td>Sean Connery</td><td>Lewis Gilbert </td><td>514.2</td><td>59.9</td><td>4.4</td></tr>\n",
              "\t<tr><td>Diamonds Are Forever </td><td>1971</td><td>Sean Connery</td><td>Guy Hamilton  </td><td>442.5</td><td>34.7</td><td>5.8</td></tr>\n",
              "\t<tr><td>Never Say Never Again</td><td>1983</td><td>Sean Connery</td><td>Irvin Kershner</td><td>380.0</td><td>86.0</td><td> NA</td></tr>\n",
              "</tbody>\n",
              "</table>\n"
            ],
            "text/markdown": "\nA data.table: 7 × 7\n\n| Film &lt;chr&gt; | Year &lt;int&gt; | Actor &lt;chr&gt; | Director &lt;chr&gt; | Box Office &lt;dbl&gt; | Budget &lt;dbl&gt; | Bond Actor Salary &lt;dbl&gt; |\n|---|---|---|---|---|---|---|\n| Dr. No                | 1962 | Sean Connery | Terence Young  | 448.8 |  7.0 | 0.6 |\n| From Russia with Love | 1963 | Sean Connery | Terence Young  | 543.8 | 12.6 | 1.6 |\n| Goldfinger            | 1964 | Sean Connery | Guy Hamilton   | 820.4 | 18.6 | 3.2 |\n| Thunderball           | 1965 | Sean Connery | Terence Young  | 848.1 | 41.9 | 4.7 |\n| You Only Live Twice   | 1967 | Sean Connery | Lewis Gilbert  | 514.2 | 59.9 | 4.4 |\n| Diamonds Are Forever  | 1971 | Sean Connery | Guy Hamilton   | 442.5 | 34.7 | 5.8 |\n| Never Say Never Again | 1983 | Sean Connery | Irvin Kershner | 380.0 | 86.0 |  NA |\n\n",
            "text/latex": "A data.table: 7 × 7\n\\begin{tabular}{lllllll}\n Film & Year & Actor & Director & Box Office & Budget & Bond Actor Salary\\\\\n <chr> & <int> & <chr> & <chr> & <dbl> & <dbl> & <dbl>\\\\\n\\hline\n\t Dr. No                & 1962 & Sean Connery & Terence Young  & 448.8 &  7.0 & 0.6\\\\\n\t From Russia with Love & 1963 & Sean Connery & Terence Young  & 543.8 & 12.6 & 1.6\\\\\n\t Goldfinger            & 1964 & Sean Connery & Guy Hamilton   & 820.4 & 18.6 & 3.2\\\\\n\t Thunderball           & 1965 & Sean Connery & Terence Young  & 848.1 & 41.9 & 4.7\\\\\n\t You Only Live Twice   & 1967 & Sean Connery & Lewis Gilbert  & 514.2 & 59.9 & 4.4\\\\\n\t Diamonds Are Forever  & 1971 & Sean Connery & Guy Hamilton   & 442.5 & 34.7 & 5.8\\\\\n\t Never Say Never Again & 1983 & Sean Connery & Irvin Kershner & 380.0 & 86.0 &  NA\\\\\n\\end{tabular}\n",
            "text/plain": [
              "  Film                  Year Actor        Director       Box Office Budget\n",
              "1 Dr. No                1962 Sean Connery Terence Young  448.8       7.0  \n",
              "2 From Russia with Love 1963 Sean Connery Terence Young  543.8      12.6  \n",
              "3 Goldfinger            1964 Sean Connery Guy Hamilton   820.4      18.6  \n",
              "4 Thunderball           1965 Sean Connery Terence Young  848.1      41.9  \n",
              "5 You Only Live Twice   1967 Sean Connery Lewis Gilbert  514.2      59.9  \n",
              "6 Diamonds Are Forever  1971 Sean Connery Guy Hamilton   442.5      34.7  \n",
              "7 Never Say Never Again 1983 Sean Connery Irvin Kershner 380.0      86.0  \n",
              "  Bond Actor Salary\n",
              "1 0.6              \n",
              "2 1.6              \n",
              "3 3.2              \n",
              "4 4.7              \n",
              "5 4.4              \n",
              "6 5.8              \n",
              "7  NA              "
            ]
          },
          "metadata": {}
        }
      ]
    },
    {
      "cell_type": "code",
      "source": [
        "# a continuación, creamos dos objectos auxiliares con condiciones\n",
        "cond = df_jamesbond$Actor == 'Sean Connery'\n",
        "cond_2 = df_jamesbond$'Box Office' > 800"
      ],
      "metadata": {
        "id": "x1JlIY14YF5V"
      },
      "execution_count": null,
      "outputs": []
    },
    {
      "cell_type": "code",
      "source": [
        "# combinamos ambas condiciones utilizando un operador \"and\" (&)\n",
        "# de esta forma, exigimos que ambas condiciones se cumplan de forma simultánea\n",
        "df_jamesbond[cond & cond_2,]"
      ],
      "metadata": {
        "colab": {
          "base_uri": "https://localhost:8080/",
          "height": 161
        },
        "id": "oKBR59TRYF7X",
        "outputId": "62e992db-d7e1-40f2-f30d-1dc2f0460ff7"
      },
      "execution_count": null,
      "outputs": [
        {
          "output_type": "display_data",
          "data": {
            "text/html": [
              "<table class=\"dataframe\">\n",
              "<caption>A data.table: 2 × 7</caption>\n",
              "<thead>\n",
              "\t<tr><th scope=col>Film</th><th scope=col>Year</th><th scope=col>Actor</th><th scope=col>Director</th><th scope=col>Box Office</th><th scope=col>Budget</th><th scope=col>Bond Actor Salary</th></tr>\n",
              "\t<tr><th scope=col>&lt;chr&gt;</th><th scope=col>&lt;int&gt;</th><th scope=col>&lt;chr&gt;</th><th scope=col>&lt;chr&gt;</th><th scope=col>&lt;dbl&gt;</th><th scope=col>&lt;dbl&gt;</th><th scope=col>&lt;dbl&gt;</th></tr>\n",
              "</thead>\n",
              "<tbody>\n",
              "\t<tr><td>Goldfinger </td><td>1964</td><td>Sean Connery</td><td>Guy Hamilton </td><td>820.4</td><td>18.6</td><td>3.2</td></tr>\n",
              "\t<tr><td>Thunderball</td><td>1965</td><td>Sean Connery</td><td>Terence Young</td><td>848.1</td><td>41.9</td><td>4.7</td></tr>\n",
              "</tbody>\n",
              "</table>\n"
            ],
            "text/markdown": "\nA data.table: 2 × 7\n\n| Film &lt;chr&gt; | Year &lt;int&gt; | Actor &lt;chr&gt; | Director &lt;chr&gt; | Box Office &lt;dbl&gt; | Budget &lt;dbl&gt; | Bond Actor Salary &lt;dbl&gt; |\n|---|---|---|---|---|---|---|\n| Goldfinger  | 1964 | Sean Connery | Guy Hamilton  | 820.4 | 18.6 | 3.2 |\n| Thunderball | 1965 | Sean Connery | Terence Young | 848.1 | 41.9 | 4.7 |\n\n",
            "text/latex": "A data.table: 2 × 7\n\\begin{tabular}{lllllll}\n Film & Year & Actor & Director & Box Office & Budget & Bond Actor Salary\\\\\n <chr> & <int> & <chr> & <chr> & <dbl> & <dbl> & <dbl>\\\\\n\\hline\n\t Goldfinger  & 1964 & Sean Connery & Guy Hamilton  & 820.4 & 18.6 & 3.2\\\\\n\t Thunderball & 1965 & Sean Connery & Terence Young & 848.1 & 41.9 & 4.7\\\\\n\\end{tabular}\n",
            "text/plain": [
              "  Film        Year Actor        Director      Box Office Budget\n",
              "1 Goldfinger  1964 Sean Connery Guy Hamilton  820.4      18.6  \n",
              "2 Thunderball 1965 Sean Connery Terence Young 848.1      41.9  \n",
              "  Bond Actor Salary\n",
              "1 3.2              \n",
              "2 4.7              "
            ]
          },
          "metadata": {}
        }
      ]
    },
    {
      "cell_type": "code",
      "source": [
        "# combinamos ambas condiciones utilizando un operador \"or\" (|)\n",
        "# de esta forma, exigimos simplemente que alguna de las condiciones se cumpla (no necesariamente ambas de forma simultánea)\n",
        "df_jamesbond[cond | cond_2,]"
      ],
      "metadata": {
        "colab": {
          "base_uri": "https://localhost:8080/",
          "height": 349
        },
        "id": "hGtekogQYF9c",
        "outputId": "bdfeac70-0faf-4092-b062-ab2420ebe6ff"
      },
      "execution_count": null,
      "outputs": [
        {
          "output_type": "display_data",
          "data": {
            "text/html": [
              "<table class=\"dataframe\">\n",
              "<caption>A data.table: 8 × 7</caption>\n",
              "<thead>\n",
              "\t<tr><th scope=col>Film</th><th scope=col>Year</th><th scope=col>Actor</th><th scope=col>Director</th><th scope=col>Box Office</th><th scope=col>Budget</th><th scope=col>Bond Actor Salary</th></tr>\n",
              "\t<tr><th scope=col>&lt;chr&gt;</th><th scope=col>&lt;int&gt;</th><th scope=col>&lt;chr&gt;</th><th scope=col>&lt;chr&gt;</th><th scope=col>&lt;dbl&gt;</th><th scope=col>&lt;dbl&gt;</th><th scope=col>&lt;dbl&gt;</th></tr>\n",
              "</thead>\n",
              "<tbody>\n",
              "\t<tr><td>Dr. No               </td><td>1962</td><td>Sean Connery</td><td>Terence Young </td><td>448.8</td><td>  7.0</td><td> 0.6</td></tr>\n",
              "\t<tr><td>From Russia with Love</td><td>1963</td><td>Sean Connery</td><td>Terence Young </td><td>543.8</td><td> 12.6</td><td> 1.6</td></tr>\n",
              "\t<tr><td>Goldfinger           </td><td>1964</td><td>Sean Connery</td><td>Guy Hamilton  </td><td>820.4</td><td> 18.6</td><td> 3.2</td></tr>\n",
              "\t<tr><td>Thunderball          </td><td>1965</td><td>Sean Connery</td><td>Terence Young </td><td>848.1</td><td> 41.9</td><td> 4.7</td></tr>\n",
              "\t<tr><td>You Only Live Twice  </td><td>1967</td><td>Sean Connery</td><td>Lewis Gilbert </td><td>514.2</td><td> 59.9</td><td> 4.4</td></tr>\n",
              "\t<tr><td>Diamonds Are Forever </td><td>1971</td><td>Sean Connery</td><td>Guy Hamilton  </td><td>442.5</td><td> 34.7</td><td> 5.8</td></tr>\n",
              "\t<tr><td>Never Say Never Again</td><td>1983</td><td>Sean Connery</td><td>Irvin Kershner</td><td>380.0</td><td> 86.0</td><td>  NA</td></tr>\n",
              "\t<tr><td>Skyfall              </td><td>2012</td><td>Daniel Craig</td><td>Sam Mendes    </td><td>943.5</td><td>170.2</td><td>14.5</td></tr>\n",
              "</tbody>\n",
              "</table>\n"
            ],
            "text/markdown": "\nA data.table: 8 × 7\n\n| Film &lt;chr&gt; | Year &lt;int&gt; | Actor &lt;chr&gt; | Director &lt;chr&gt; | Box Office &lt;dbl&gt; | Budget &lt;dbl&gt; | Bond Actor Salary &lt;dbl&gt; |\n|---|---|---|---|---|---|---|\n| Dr. No                | 1962 | Sean Connery | Terence Young  | 448.8 |   7.0 |  0.6 |\n| From Russia with Love | 1963 | Sean Connery | Terence Young  | 543.8 |  12.6 |  1.6 |\n| Goldfinger            | 1964 | Sean Connery | Guy Hamilton   | 820.4 |  18.6 |  3.2 |\n| Thunderball           | 1965 | Sean Connery | Terence Young  | 848.1 |  41.9 |  4.7 |\n| You Only Live Twice   | 1967 | Sean Connery | Lewis Gilbert  | 514.2 |  59.9 |  4.4 |\n| Diamonds Are Forever  | 1971 | Sean Connery | Guy Hamilton   | 442.5 |  34.7 |  5.8 |\n| Never Say Never Again | 1983 | Sean Connery | Irvin Kershner | 380.0 |  86.0 |   NA |\n| Skyfall               | 2012 | Daniel Craig | Sam Mendes     | 943.5 | 170.2 | 14.5 |\n\n",
            "text/latex": "A data.table: 8 × 7\n\\begin{tabular}{lllllll}\n Film & Year & Actor & Director & Box Office & Budget & Bond Actor Salary\\\\\n <chr> & <int> & <chr> & <chr> & <dbl> & <dbl> & <dbl>\\\\\n\\hline\n\t Dr. No                & 1962 & Sean Connery & Terence Young  & 448.8 &   7.0 &  0.6\\\\\n\t From Russia with Love & 1963 & Sean Connery & Terence Young  & 543.8 &  12.6 &  1.6\\\\\n\t Goldfinger            & 1964 & Sean Connery & Guy Hamilton   & 820.4 &  18.6 &  3.2\\\\\n\t Thunderball           & 1965 & Sean Connery & Terence Young  & 848.1 &  41.9 &  4.7\\\\\n\t You Only Live Twice   & 1967 & Sean Connery & Lewis Gilbert  & 514.2 &  59.9 &  4.4\\\\\n\t Diamonds Are Forever  & 1971 & Sean Connery & Guy Hamilton   & 442.5 &  34.7 &  5.8\\\\\n\t Never Say Never Again & 1983 & Sean Connery & Irvin Kershner & 380.0 &  86.0 &   NA\\\\\n\t Skyfall               & 2012 & Daniel Craig & Sam Mendes     & 943.5 & 170.2 & 14.5\\\\\n\\end{tabular}\n",
            "text/plain": [
              "  Film                  Year Actor        Director       Box Office Budget\n",
              "1 Dr. No                1962 Sean Connery Terence Young  448.8        7.0 \n",
              "2 From Russia with Love 1963 Sean Connery Terence Young  543.8       12.6 \n",
              "3 Goldfinger            1964 Sean Connery Guy Hamilton   820.4       18.6 \n",
              "4 Thunderball           1965 Sean Connery Terence Young  848.1       41.9 \n",
              "5 You Only Live Twice   1967 Sean Connery Lewis Gilbert  514.2       59.9 \n",
              "6 Diamonds Are Forever  1971 Sean Connery Guy Hamilton   442.5       34.7 \n",
              "7 Never Say Never Again 1983 Sean Connery Irvin Kershner 380.0       86.0 \n",
              "8 Skyfall               2012 Daniel Craig Sam Mendes     943.5      170.2 \n",
              "  Bond Actor Salary\n",
              "1  0.6             \n",
              "2  1.6             \n",
              "3  3.2             \n",
              "4  4.7             \n",
              "5  4.4             \n",
              "6  5.8             \n",
              "7   NA             \n",
              "8 14.5             "
            ]
          },
          "metadata": {}
        }
      ]
    },
    {
      "cell_type": "code",
      "source": [
        "# el operador \"in\" nos permite testear más de un valor para la misma variable\n",
        "cond = df_jamesbond$Actor %in% c('Sean Connery','Roger Moore','Pierce Brosnan')\n",
        "df_jamesbond[cond,]"
      ],
      "metadata": {
        "colab": {
          "base_uri": "https://localhost:8080/",
          "height": 663
        },
        "id": "_-ce-awGZM1g",
        "outputId": "c759ac02-e86d-41db-b7d4-0685e2c8f597"
      },
      "execution_count": null,
      "outputs": [
        {
          "output_type": "display_data",
          "data": {
            "text/html": [
              "<table class=\"dataframe\">\n",
              "<caption>A data.table: 18 × 7</caption>\n",
              "<thead>\n",
              "\t<tr><th scope=col>Film</th><th scope=col>Year</th><th scope=col>Actor</th><th scope=col>Director</th><th scope=col>Box Office</th><th scope=col>Budget</th><th scope=col>Bond Actor Salary</th></tr>\n",
              "\t<tr><th scope=col>&lt;chr&gt;</th><th scope=col>&lt;int&gt;</th><th scope=col>&lt;chr&gt;</th><th scope=col>&lt;chr&gt;</th><th scope=col>&lt;dbl&gt;</th><th scope=col>&lt;dbl&gt;</th><th scope=col>&lt;dbl&gt;</th></tr>\n",
              "</thead>\n",
              "<tbody>\n",
              "\t<tr><td>Dr. No                     </td><td>1962</td><td>Sean Connery  </td><td>Terence Young     </td><td>448.8</td><td>  7.0</td><td> 0.6</td></tr>\n",
              "\t<tr><td>From Russia with Love      </td><td>1963</td><td>Sean Connery  </td><td>Terence Young     </td><td>543.8</td><td> 12.6</td><td> 1.6</td></tr>\n",
              "\t<tr><td>Goldfinger                 </td><td>1964</td><td>Sean Connery  </td><td>Guy Hamilton      </td><td>820.4</td><td> 18.6</td><td> 3.2</td></tr>\n",
              "\t<tr><td>Thunderball                </td><td>1965</td><td>Sean Connery  </td><td>Terence Young     </td><td>848.1</td><td> 41.9</td><td> 4.7</td></tr>\n",
              "\t<tr><td>You Only Live Twice        </td><td>1967</td><td>Sean Connery  </td><td>Lewis Gilbert     </td><td>514.2</td><td> 59.9</td><td> 4.4</td></tr>\n",
              "\t<tr><td>Diamonds Are Forever       </td><td>1971</td><td>Sean Connery  </td><td>Guy Hamilton      </td><td>442.5</td><td> 34.7</td><td> 5.8</td></tr>\n",
              "\t<tr><td>Live and Let Die           </td><td>1973</td><td>Roger Moore   </td><td>Guy Hamilton      </td><td>460.3</td><td> 30.8</td><td>  NA</td></tr>\n",
              "\t<tr><td>The Man with the Golden Gun</td><td>1974</td><td>Roger Moore   </td><td>Guy Hamilton      </td><td>334.0</td><td> 27.7</td><td>  NA</td></tr>\n",
              "\t<tr><td>The Spy Who Loved Me       </td><td>1977</td><td>Roger Moore   </td><td>Lewis Gilbert     </td><td>533.0</td><td> 45.1</td><td>  NA</td></tr>\n",
              "\t<tr><td>Moonraker                  </td><td>1979</td><td>Roger Moore   </td><td>Lewis Gilbert     </td><td>535.0</td><td> 91.5</td><td>  NA</td></tr>\n",
              "\t<tr><td>For Your Eyes Only         </td><td>1981</td><td>Roger Moore   </td><td>John Glen         </td><td>449.4</td><td> 60.2</td><td>  NA</td></tr>\n",
              "\t<tr><td>Never Say Never Again      </td><td>1983</td><td>Sean Connery  </td><td>Irvin Kershner    </td><td>380.0</td><td> 86.0</td><td>  NA</td></tr>\n",
              "\t<tr><td>Octopussy                  </td><td>1983</td><td>Roger Moore   </td><td>John Glen         </td><td>373.8</td><td> 53.9</td><td> 7.8</td></tr>\n",
              "\t<tr><td>A View to a Kill           </td><td>1985</td><td>Roger Moore   </td><td>John Glen         </td><td>275.2</td><td> 54.5</td><td> 9.1</td></tr>\n",
              "\t<tr><td>GoldenEye                  </td><td>1995</td><td>Pierce Brosnan</td><td>Martin Campbell   </td><td>518.5</td><td> 76.9</td><td> 5.1</td></tr>\n",
              "\t<tr><td>Tomorrow Never Dies        </td><td>1997</td><td>Pierce Brosnan</td><td>Roger Spottiswoode</td><td>463.2</td><td>133.9</td><td>10.0</td></tr>\n",
              "\t<tr><td>The World Is Not Enough    </td><td>1999</td><td>Pierce Brosnan</td><td>Michael Apted     </td><td>439.5</td><td>158.3</td><td>13.5</td></tr>\n",
              "\t<tr><td>Die Another Day            </td><td>2002</td><td>Pierce Brosnan</td><td>Lee Tamahori      </td><td>465.4</td><td>154.2</td><td>17.9</td></tr>\n",
              "</tbody>\n",
              "</table>\n"
            ],
            "text/markdown": "\nA data.table: 18 × 7\n\n| Film &lt;chr&gt; | Year &lt;int&gt; | Actor &lt;chr&gt; | Director &lt;chr&gt; | Box Office &lt;dbl&gt; | Budget &lt;dbl&gt; | Bond Actor Salary &lt;dbl&gt; |\n|---|---|---|---|---|---|---|\n| Dr. No                      | 1962 | Sean Connery   | Terence Young      | 448.8 |   7.0 |  0.6 |\n| From Russia with Love       | 1963 | Sean Connery   | Terence Young      | 543.8 |  12.6 |  1.6 |\n| Goldfinger                  | 1964 | Sean Connery   | Guy Hamilton       | 820.4 |  18.6 |  3.2 |\n| Thunderball                 | 1965 | Sean Connery   | Terence Young      | 848.1 |  41.9 |  4.7 |\n| You Only Live Twice         | 1967 | Sean Connery   | Lewis Gilbert      | 514.2 |  59.9 |  4.4 |\n| Diamonds Are Forever        | 1971 | Sean Connery   | Guy Hamilton       | 442.5 |  34.7 |  5.8 |\n| Live and Let Die            | 1973 | Roger Moore    | Guy Hamilton       | 460.3 |  30.8 |   NA |\n| The Man with the Golden Gun | 1974 | Roger Moore    | Guy Hamilton       | 334.0 |  27.7 |   NA |\n| The Spy Who Loved Me        | 1977 | Roger Moore    | Lewis Gilbert      | 533.0 |  45.1 |   NA |\n| Moonraker                   | 1979 | Roger Moore    | Lewis Gilbert      | 535.0 |  91.5 |   NA |\n| For Your Eyes Only          | 1981 | Roger Moore    | John Glen          | 449.4 |  60.2 |   NA |\n| Never Say Never Again       | 1983 | Sean Connery   | Irvin Kershner     | 380.0 |  86.0 |   NA |\n| Octopussy                   | 1983 | Roger Moore    | John Glen          | 373.8 |  53.9 |  7.8 |\n| A View to a Kill            | 1985 | Roger Moore    | John Glen          | 275.2 |  54.5 |  9.1 |\n| GoldenEye                   | 1995 | Pierce Brosnan | Martin Campbell    | 518.5 |  76.9 |  5.1 |\n| Tomorrow Never Dies         | 1997 | Pierce Brosnan | Roger Spottiswoode | 463.2 | 133.9 | 10.0 |\n| The World Is Not Enough     | 1999 | Pierce Brosnan | Michael Apted      | 439.5 | 158.3 | 13.5 |\n| Die Another Day             | 2002 | Pierce Brosnan | Lee Tamahori       | 465.4 | 154.2 | 17.9 |\n\n",
            "text/latex": "A data.table: 18 × 7\n\\begin{tabular}{lllllll}\n Film & Year & Actor & Director & Box Office & Budget & Bond Actor Salary\\\\\n <chr> & <int> & <chr> & <chr> & <dbl> & <dbl> & <dbl>\\\\\n\\hline\n\t Dr. No                      & 1962 & Sean Connery   & Terence Young      & 448.8 &   7.0 &  0.6\\\\\n\t From Russia with Love       & 1963 & Sean Connery   & Terence Young      & 543.8 &  12.6 &  1.6\\\\\n\t Goldfinger                  & 1964 & Sean Connery   & Guy Hamilton       & 820.4 &  18.6 &  3.2\\\\\n\t Thunderball                 & 1965 & Sean Connery   & Terence Young      & 848.1 &  41.9 &  4.7\\\\\n\t You Only Live Twice         & 1967 & Sean Connery   & Lewis Gilbert      & 514.2 &  59.9 &  4.4\\\\\n\t Diamonds Are Forever        & 1971 & Sean Connery   & Guy Hamilton       & 442.5 &  34.7 &  5.8\\\\\n\t Live and Let Die            & 1973 & Roger Moore    & Guy Hamilton       & 460.3 &  30.8 &   NA\\\\\n\t The Man with the Golden Gun & 1974 & Roger Moore    & Guy Hamilton       & 334.0 &  27.7 &   NA\\\\\n\t The Spy Who Loved Me        & 1977 & Roger Moore    & Lewis Gilbert      & 533.0 &  45.1 &   NA\\\\\n\t Moonraker                   & 1979 & Roger Moore    & Lewis Gilbert      & 535.0 &  91.5 &   NA\\\\\n\t For Your Eyes Only          & 1981 & Roger Moore    & John Glen          & 449.4 &  60.2 &   NA\\\\\n\t Never Say Never Again       & 1983 & Sean Connery   & Irvin Kershner     & 380.0 &  86.0 &   NA\\\\\n\t Octopussy                   & 1983 & Roger Moore    & John Glen          & 373.8 &  53.9 &  7.8\\\\\n\t A View to a Kill            & 1985 & Roger Moore    & John Glen          & 275.2 &  54.5 &  9.1\\\\\n\t GoldenEye                   & 1995 & Pierce Brosnan & Martin Campbell    & 518.5 &  76.9 &  5.1\\\\\n\t Tomorrow Never Dies         & 1997 & Pierce Brosnan & Roger Spottiswoode & 463.2 & 133.9 & 10.0\\\\\n\t The World Is Not Enough     & 1999 & Pierce Brosnan & Michael Apted      & 439.5 & 158.3 & 13.5\\\\\n\t Die Another Day             & 2002 & Pierce Brosnan & Lee Tamahori       & 465.4 & 154.2 & 17.9\\\\\n\\end{tabular}\n",
            "text/plain": [
              "   Film                        Year Actor          Director          \n",
              "1  Dr. No                      1962 Sean Connery   Terence Young     \n",
              "2  From Russia with Love       1963 Sean Connery   Terence Young     \n",
              "3  Goldfinger                  1964 Sean Connery   Guy Hamilton      \n",
              "4  Thunderball                 1965 Sean Connery   Terence Young     \n",
              "5  You Only Live Twice         1967 Sean Connery   Lewis Gilbert     \n",
              "6  Diamonds Are Forever        1971 Sean Connery   Guy Hamilton      \n",
              "7  Live and Let Die            1973 Roger Moore    Guy Hamilton      \n",
              "8  The Man with the Golden Gun 1974 Roger Moore    Guy Hamilton      \n",
              "9  The Spy Who Loved Me        1977 Roger Moore    Lewis Gilbert     \n",
              "10 Moonraker                   1979 Roger Moore    Lewis Gilbert     \n",
              "11 For Your Eyes Only          1981 Roger Moore    John Glen         \n",
              "12 Never Say Never Again       1983 Sean Connery   Irvin Kershner    \n",
              "13 Octopussy                   1983 Roger Moore    John Glen         \n",
              "14 A View to a Kill            1985 Roger Moore    John Glen         \n",
              "15 GoldenEye                   1995 Pierce Brosnan Martin Campbell   \n",
              "16 Tomorrow Never Dies         1997 Pierce Brosnan Roger Spottiswoode\n",
              "17 The World Is Not Enough     1999 Pierce Brosnan Michael Apted     \n",
              "18 Die Another Day             2002 Pierce Brosnan Lee Tamahori      \n",
              "   Box Office Budget Bond Actor Salary\n",
              "1  448.8        7.0   0.6             \n",
              "2  543.8       12.6   1.6             \n",
              "3  820.4       18.6   3.2             \n",
              "4  848.1       41.9   4.7             \n",
              "5  514.2       59.9   4.4             \n",
              "6  442.5       34.7   5.8             \n",
              "7  460.3       30.8    NA             \n",
              "8  334.0       27.7    NA             \n",
              "9  533.0       45.1    NA             \n",
              "10 535.0       91.5    NA             \n",
              "11 449.4       60.2    NA             \n",
              "12 380.0       86.0    NA             \n",
              "13 373.8       53.9   7.8             \n",
              "14 275.2       54.5   9.1             \n",
              "15 518.5       76.9   5.1             \n",
              "16 463.2      133.9  10.0             \n",
              "17 439.5      158.3  13.5             \n",
              "18 465.4      154.2  17.9             "
            ]
          },
          "metadata": {}
        }
      ]
    },
    {
      "cell_type": "markdown",
      "source": [
        "# 3. Operaciones básicas con Data Frames\n",
        "---"
      ],
      "metadata": {
        "id": "AFvoQL0EZaiU"
      }
    },
    {
      "cell_type": "code",
      "source": [
        "# importamos Data Frame\n",
        "df_cars = data.table::fread('https://data-wizards.s3.amazonaws.com/datasets/dataset_us_cars.csv')\n",
        "str(df_cars)"
      ],
      "metadata": {
        "colab": {
          "base_uri": "https://localhost:8080/"
        },
        "id": "IIEr1xj3ZNnP",
        "outputId": "0db63bcb-ae08-4f2a-9fce-d7c7f0ac6df7"
      },
      "execution_count": null,
      "outputs": [
        {
          "output_type": "stream",
          "name": "stdout",
          "text": [
            "Classes ‘data.table’ and 'data.frame':\t2499 obs. of  7 variables:\n",
            " $ year   : int  2008 2011 2018 2014 2018 2018 2010 2017 2018 2017 ...\n",
            " $ brand  : chr  \"toyota\" \"ford\" \"dodge\" \"ford\" ...\n",
            " $ price  : int  6300 2899 5350 25000 27700 5700 7300 13350 14600 5250 ...\n",
            " $ mileage: int  274117 190552 39590 64146 6654 45561 149050 23525 9371 63418 ...\n",
            " $ color  : chr  \"black\" \"silver\" \"silver\" \"blue\" ...\n",
            " $ state  : chr  \"new jersey\" \"tennessee\" \"georgia\" \"virginia\" ...\n",
            " $ country: chr  \"usa\" \"usa\" \"usa\" \"usa\" ...\n",
            " - attr(*, \".internal.selfref\")=<externalptr> \n"
          ]
        }
      ]
    },
    {
      "cell_type": "markdown",
      "source": [
        "### Crear una nueva columna a partir de campos\n",
        "\n",
        "Podemos crear nuevas columnas a partir de campos existentes en nuestro DataFrame."
      ],
      "metadata": {
        "id": "8lfZ2NqH8iWg"
      }
    },
    {
      "cell_type": "code",
      "source": [
        "# creamos un nuevo campo como operación entre columnas existentes\n",
        "# versión 1\n",
        "df_cars$price_eur = df_cars$price / 1.2"
      ],
      "metadata": {
        "id": "uJlvMNTB86-P"
      },
      "execution_count": null,
      "outputs": []
    },
    {
      "cell_type": "code",
      "source": [
        "# creamos un nuevo campo como operación entre columnas existentes\n",
        "# versión 2\n",
        "df_cars[,'price_eur'] = df_cars$price / 1.2"
      ],
      "metadata": {
        "id": "RHGSFxHd87Ak"
      },
      "execution_count": null,
      "outputs": []
    },
    {
      "cell_type": "code",
      "source": [
        "# creamos un nuevo campo como operación entre columnas existentes\n",
        "# versión 1\n",
        "df_cars[,'price_eur'] = df_cars[,'price'] / 1.2"
      ],
      "metadata": {
        "id": "bvzT5Dif87Co"
      },
      "execution_count": null,
      "outputs": []
    },
    {
      "cell_type": "markdown",
      "source": [
        "### Editar campos"
      ],
      "metadata": {
        "id": "bKc5vNQU-odh"
      }
    },
    {
      "cell_type": "code",
      "source": [
        "# editamos un campo existante en nuestro Data Frame\n",
        "# la sintaxis es idéntica a la que usamos para declarar un campo\n",
        "df_cars$price_eur = round(df_cars$price_eur, 2)"
      ],
      "metadata": {
        "id": "ofjd63wr-LrG"
      },
      "execution_count": null,
      "outputs": []
    },
    {
      "cell_type": "code",
      "source": [
        "# invocamos df\n",
        "df_cars[1:5,c('brand','price_eur')]"
      ],
      "metadata": {
        "colab": {
          "base_uri": "https://localhost:8080/",
          "height": 255
        },
        "id": "cwbELUrv-9gF",
        "outputId": "265bcb76-e779-4fbb-afb2-60ad81a1ccf8"
      },
      "execution_count": null,
      "outputs": [
        {
          "output_type": "display_data",
          "data": {
            "text/html": [
              "<table class=\"dataframe\">\n",
              "<caption>A data.table: 5 × 2</caption>\n",
              "<thead>\n",
              "\t<tr><th scope=col>brand</th><th scope=col>price_eur</th></tr>\n",
              "\t<tr><th scope=col>&lt;chr&gt;</th><th scope=col>&lt;dbl&gt;</th></tr>\n",
              "</thead>\n",
              "<tbody>\n",
              "\t<tr><td>toyota   </td><td> 5250.00</td></tr>\n",
              "\t<tr><td>ford     </td><td> 2415.83</td></tr>\n",
              "\t<tr><td>dodge    </td><td> 4458.33</td></tr>\n",
              "\t<tr><td>ford     </td><td>20833.33</td></tr>\n",
              "\t<tr><td>chevrolet</td><td>23083.33</td></tr>\n",
              "</tbody>\n",
              "</table>\n"
            ],
            "text/markdown": "\nA data.table: 5 × 2\n\n| brand &lt;chr&gt; | price_eur &lt;dbl&gt; |\n|---|---|\n| toyota    |  5250.00 |\n| ford      |  2415.83 |\n| dodge     |  4458.33 |\n| ford      | 20833.33 |\n| chevrolet | 23083.33 |\n\n",
            "text/latex": "A data.table: 5 × 2\n\\begin{tabular}{ll}\n brand & price\\_eur\\\\\n <chr> & <dbl>\\\\\n\\hline\n\t toyota    &  5250.00\\\\\n\t ford      &  2415.83\\\\\n\t dodge     &  4458.33\\\\\n\t ford      & 20833.33\\\\\n\t chevrolet & 23083.33\\\\\n\\end{tabular}\n",
            "text/plain": [
              "  brand     price_eur\n",
              "1 toyota     5250.00 \n",
              "2 ford       2415.83 \n",
              "3 dodge      4458.33 \n",
              "4 ford      20833.33 \n",
              "5 chevrolet 23083.33 "
            ]
          },
          "metadata": {}
        }
      ]
    },
    {
      "cell_type": "markdown",
      "source": [
        "### Eliminar campos en un Data Frame"
      ],
      "metadata": {
        "id": "Bw5y6ZKfAtea"
      }
    },
    {
      "cell_type": "code",
      "source": [
        "# R nos permite utilizar la siguiente sintaxis para omitir seleccionar columnas\n",
        "df_cars[,-c('brand','price')]"
      ],
      "metadata": {
        "colab": {
          "base_uri": "https://localhost:8080/",
          "height": 1000
        },
        "id": "JpGhHMuD_Dn3",
        "outputId": "2bc7cd4f-197b-489d-d00f-be9c5588e6c5"
      },
      "execution_count": null,
      "outputs": [
        {
          "output_type": "display_data",
          "data": {
            "text/html": [
              "<table class=\"dataframe\">\n",
              "<caption>A data.table: 2499 × 6</caption>\n",
              "<thead>\n",
              "\t<tr><th scope=col>year</th><th scope=col>mileage</th><th scope=col>color</th><th scope=col>state</th><th scope=col>country</th><th scope=col>price_eur</th></tr>\n",
              "\t<tr><th scope=col>&lt;int&gt;</th><th scope=col>&lt;int&gt;</th><th scope=col>&lt;chr&gt;</th><th scope=col>&lt;chr&gt;</th><th scope=col>&lt;chr&gt;</th><th scope=col>&lt;dbl&gt;</th></tr>\n",
              "</thead>\n",
              "<tbody>\n",
              "\t<tr><td>2008</td><td>274117</td><td>black </td><td>new jersey    </td><td>usa</td><td> 5250.00</td></tr>\n",
              "\t<tr><td>2011</td><td>190552</td><td>silver</td><td>tennessee     </td><td>usa</td><td> 2415.83</td></tr>\n",
              "\t<tr><td>2018</td><td> 39590</td><td>silver</td><td>georgia       </td><td>usa</td><td> 4458.33</td></tr>\n",
              "\t<tr><td>2014</td><td> 64146</td><td>blue  </td><td>virginia      </td><td>usa</td><td>20833.33</td></tr>\n",
              "\t<tr><td>2018</td><td>  6654</td><td>red   </td><td>florida       </td><td>usa</td><td>23083.33</td></tr>\n",
              "\t<tr><td>2018</td><td> 45561</td><td>white </td><td>texas         </td><td>usa</td><td> 4750.00</td></tr>\n",
              "\t<tr><td>2010</td><td>149050</td><td>black </td><td>georgia       </td><td>usa</td><td> 6083.33</td></tr>\n",
              "\t<tr><td>2017</td><td> 23525</td><td>gray  </td><td>california    </td><td>usa</td><td>11125.00</td></tr>\n",
              "\t<tr><td>2018</td><td>  9371</td><td>silver</td><td>florida       </td><td>usa</td><td>12166.67</td></tr>\n",
              "\t<tr><td>2017</td><td> 63418</td><td>black </td><td>texas         </td><td>usa</td><td> 4375.00</td></tr>\n",
              "\t<tr><td>2009</td><td>107856</td><td>orange</td><td>georgia       </td><td>usa</td><td> 8666.67</td></tr>\n",
              "\t<tr><td>2017</td><td> 39650</td><td>white </td><td>california    </td><td>usa</td><td>10766.67</td></tr>\n",
              "\t<tr><td>2018</td><td> 22909</td><td>black </td><td>tennessee     </td><td>usa</td><td>26583.33</td></tr>\n",
              "\t<tr><td>2017</td><td>138650</td><td>gray  </td><td>texas         </td><td>usa</td><td> 4525.00</td></tr>\n",
              "\t<tr><td>2013</td><td>100757</td><td>black </td><td>virginia      </td><td>usa</td><td>17250.00</td></tr>\n",
              "\t<tr><td>2017</td><td> 25747</td><td>white </td><td>california    </td><td>usa</td><td>10591.67</td></tr>\n",
              "\t<tr><td>2018</td><td> 46194</td><td>blue  </td><td>north carolina</td><td>usa</td><td> 4333.33</td></tr>\n",
              "\t<tr><td>2018</td><td> 20002</td><td>red   </td><td>tennessee     </td><td>usa</td><td>13750.00</td></tr>\n",
              "\t<tr><td>2017</td><td> 35714</td><td>white </td><td>texas         </td><td>usa</td><td> 4341.67</td></tr>\n",
              "\t<tr><td>2013</td><td> 54380</td><td>gray  </td><td>virginia      </td><td>usa</td><td>31750.00</td></tr>\n",
              "\t<tr><td>2017</td><td> 30114</td><td>white </td><td>california    </td><td>usa</td><td>10433.33</td></tr>\n",
              "\t<tr><td>2018</td><td> 38823</td><td>black </td><td>north carolina</td><td>usa</td><td> 6083.33</td></tr>\n",
              "\t<tr><td>2015</td><td> 61578</td><td>black </td><td>ohio          </td><td>usa</td><td>12500.00</td></tr>\n",
              "\t<tr><td>2017</td><td> 46010</td><td>blue  </td><td>texas         </td><td>usa</td><td> 5150.00</td></tr>\n",
              "\t<tr><td>2013</td><td>105510</td><td>silver</td><td>virginia      </td><td>usa</td><td>17333.33</td></tr>\n",
              "\t<tr><td>2017</td><td> 28040</td><td>silver</td><td>california    </td><td>usa</td><td> 9916.67</td></tr>\n",
              "\t<tr><td>2020</td><td> 11451</td><td>blue  </td><td>north carolina</td><td>usa</td><td>17916.67</td></tr>\n",
              "\t<tr><td>2014</td><td> 31039</td><td>brown </td><td>ohio          </td><td>usa</td><td>10000.00</td></tr>\n",
              "\t<tr><td>2017</td><td> 44174</td><td>white </td><td>texas         </td><td>usa</td><td> 3491.67</td></tr>\n",
              "\t<tr><td>2008</td><td> 93698</td><td>white </td><td>tennessee     </td><td>usa</td><td>10833.33</td></tr>\n",
              "\t<tr><td>⋮</td><td>⋮</td><td>⋮</td><td>⋮</td><td>⋮</td><td>⋮</td></tr>\n",
              "\t<tr><td>2018</td><td>34547</td><td>white </td><td>florida       </td><td>usa</td><td>11583.33</td></tr>\n",
              "\t<tr><td>2015</td><td>75858</td><td>silver</td><td>illinois      </td><td>usa</td><td> 3083.33</td></tr>\n",
              "\t<tr><td>2019</td><td>31123</td><td>white </td><td>north carolina</td><td>usa</td><td>15666.67</td></tr>\n",
              "\t<tr><td>2018</td><td>33808</td><td>black </td><td>florida       </td><td>usa</td><td> 7666.67</td></tr>\n",
              "\t<tr><td>2019</td><td>30599</td><td>black </td><td>north carolina</td><td>usa</td><td>25083.33</td></tr>\n",
              "\t<tr><td>2018</td><td>33931</td><td>black </td><td>florida       </td><td>usa</td><td> 7666.67</td></tr>\n",
              "\t<tr><td>2019</td><td>40359</td><td>black </td><td>north carolina</td><td>usa</td><td> 9250.00</td></tr>\n",
              "\t<tr><td>2018</td><td>44313</td><td>white </td><td>florida       </td><td>usa</td><td>11583.33</td></tr>\n",
              "\t<tr><td>2018</td><td>33078</td><td>black </td><td>florida       </td><td>usa</td><td> 7583.33</td></tr>\n",
              "\t<tr><td>2019</td><td>24320</td><td>black </td><td>illinois      </td><td>usa</td><td>19000.00</td></tr>\n",
              "\t<tr><td>2018</td><td>42502</td><td>black </td><td>florida       </td><td>usa</td><td>11583.33</td></tr>\n",
              "\t<tr><td>2019</td><td>33497</td><td>gray  </td><td>california    </td><td>usa</td><td>10500.00</td></tr>\n",
              "\t<tr><td>2018</td><td>39577</td><td>silver</td><td>florida       </td><td>usa</td><td> 7666.67</td></tr>\n",
              "\t<tr><td>2019</td><td>36974</td><td>gray  </td><td>california    </td><td>usa</td><td>10083.33</td></tr>\n",
              "\t<tr><td>2018</td><td>41220</td><td>black </td><td>florida       </td><td>usa</td><td> 7666.67</td></tr>\n",
              "\t<tr><td>2019</td><td>    1</td><td>silver</td><td>california    </td><td>usa</td><td> 1916.67</td></tr>\n",
              "\t<tr><td>2018</td><td>41539</td><td>black </td><td>florida       </td><td>usa</td><td>11583.33</td></tr>\n",
              "\t<tr><td>2019</td><td>19646</td><td>black </td><td>california    </td><td>usa</td><td> 7916.67</td></tr>\n",
              "\t<tr><td>2018</td><td>39924</td><td>white </td><td>florida       </td><td>usa</td><td>11583.33</td></tr>\n",
              "\t<tr><td>2019</td><td>33279</td><td>red   </td><td>california    </td><td>usa</td><td> 1416.67</td></tr>\n",
              "\t<tr><td>2018</td><td>40259</td><td>gray  </td><td>florida       </td><td>usa</td><td>11583.33</td></tr>\n",
              "\t<tr><td>2019</td><td>25264</td><td>blue  </td><td>california    </td><td>usa</td><td> 8666.67</td></tr>\n",
              "\t<tr><td>2018</td><td>35677</td><td>black </td><td>florida       </td><td>usa</td><td> 7666.67</td></tr>\n",
              "\t<tr><td>2019</td><td>35511</td><td>black </td><td>california    </td><td>usa</td><td> 6166.67</td></tr>\n",
              "\t<tr><td>2018</td><td>33027</td><td>black </td><td>florida       </td><td>usa</td><td> 7666.67</td></tr>\n",
              "\t<tr><td>2019</td><td>23609</td><td>red   </td><td>california    </td><td>usa</td><td> 6500.00</td></tr>\n",
              "\t<tr><td>2018</td><td>34553</td><td>silver</td><td>florida       </td><td>usa</td><td> 7666.67</td></tr>\n",
              "\t<tr><td>2018</td><td>31594</td><td>silver</td><td>florida       </td><td>usa</td><td> 7666.67</td></tr>\n",
              "\t<tr><td>2018</td><td>32557</td><td>black </td><td>florida       </td><td>usa</td><td> 7666.67</td></tr>\n",
              "\t<tr><td>2018</td><td>31371</td><td>silver</td><td>florida       </td><td>usa</td><td> 7666.67</td></tr>\n",
              "</tbody>\n",
              "</table>\n"
            ],
            "text/markdown": "\nA data.table: 2499 × 6\n\n| year &lt;int&gt; | mileage &lt;int&gt; | color &lt;chr&gt; | state &lt;chr&gt; | country &lt;chr&gt; | price_eur &lt;dbl&gt; |\n|---|---|---|---|---|---|\n| 2008 | 274117 | black  | new jersey     | usa |  5250.00 |\n| 2011 | 190552 | silver | tennessee      | usa |  2415.83 |\n| 2018 |  39590 | silver | georgia        | usa |  4458.33 |\n| 2014 |  64146 | blue   | virginia       | usa | 20833.33 |\n| 2018 |   6654 | red    | florida        | usa | 23083.33 |\n| 2018 |  45561 | white  | texas          | usa |  4750.00 |\n| 2010 | 149050 | black  | georgia        | usa |  6083.33 |\n| 2017 |  23525 | gray   | california     | usa | 11125.00 |\n| 2018 |   9371 | silver | florida        | usa | 12166.67 |\n| 2017 |  63418 | black  | texas          | usa |  4375.00 |\n| 2009 | 107856 | orange | georgia        | usa |  8666.67 |\n| 2017 |  39650 | white  | california     | usa | 10766.67 |\n| 2018 |  22909 | black  | tennessee      | usa | 26583.33 |\n| 2017 | 138650 | gray   | texas          | usa |  4525.00 |\n| 2013 | 100757 | black  | virginia       | usa | 17250.00 |\n| 2017 |  25747 | white  | california     | usa | 10591.67 |\n| 2018 |  46194 | blue   | north carolina | usa |  4333.33 |\n| 2018 |  20002 | red    | tennessee      | usa | 13750.00 |\n| 2017 |  35714 | white  | texas          | usa |  4341.67 |\n| 2013 |  54380 | gray   | virginia       | usa | 31750.00 |\n| 2017 |  30114 | white  | california     | usa | 10433.33 |\n| 2018 |  38823 | black  | north carolina | usa |  6083.33 |\n| 2015 |  61578 | black  | ohio           | usa | 12500.00 |\n| 2017 |  46010 | blue   | texas          | usa |  5150.00 |\n| 2013 | 105510 | silver | virginia       | usa | 17333.33 |\n| 2017 |  28040 | silver | california     | usa |  9916.67 |\n| 2020 |  11451 | blue   | north carolina | usa | 17916.67 |\n| 2014 |  31039 | brown  | ohio           | usa | 10000.00 |\n| 2017 |  44174 | white  | texas          | usa |  3491.67 |\n| 2008 |  93698 | white  | tennessee      | usa | 10833.33 |\n| ⋮ | ⋮ | ⋮ | ⋮ | ⋮ | ⋮ |\n| 2018 | 34547 | white  | florida        | usa | 11583.33 |\n| 2015 | 75858 | silver | illinois       | usa |  3083.33 |\n| 2019 | 31123 | white  | north carolina | usa | 15666.67 |\n| 2018 | 33808 | black  | florida        | usa |  7666.67 |\n| 2019 | 30599 | black  | north carolina | usa | 25083.33 |\n| 2018 | 33931 | black  | florida        | usa |  7666.67 |\n| 2019 | 40359 | black  | north carolina | usa |  9250.00 |\n| 2018 | 44313 | white  | florida        | usa | 11583.33 |\n| 2018 | 33078 | black  | florida        | usa |  7583.33 |\n| 2019 | 24320 | black  | illinois       | usa | 19000.00 |\n| 2018 | 42502 | black  | florida        | usa | 11583.33 |\n| 2019 | 33497 | gray   | california     | usa | 10500.00 |\n| 2018 | 39577 | silver | florida        | usa |  7666.67 |\n| 2019 | 36974 | gray   | california     | usa | 10083.33 |\n| 2018 | 41220 | black  | florida        | usa |  7666.67 |\n| 2019 |     1 | silver | california     | usa |  1916.67 |\n| 2018 | 41539 | black  | florida        | usa | 11583.33 |\n| 2019 | 19646 | black  | california     | usa |  7916.67 |\n| 2018 | 39924 | white  | florida        | usa | 11583.33 |\n| 2019 | 33279 | red    | california     | usa |  1416.67 |\n| 2018 | 40259 | gray   | florida        | usa | 11583.33 |\n| 2019 | 25264 | blue   | california     | usa |  8666.67 |\n| 2018 | 35677 | black  | florida        | usa |  7666.67 |\n| 2019 | 35511 | black  | california     | usa |  6166.67 |\n| 2018 | 33027 | black  | florida        | usa |  7666.67 |\n| 2019 | 23609 | red    | california     | usa |  6500.00 |\n| 2018 | 34553 | silver | florida        | usa |  7666.67 |\n| 2018 | 31594 | silver | florida        | usa |  7666.67 |\n| 2018 | 32557 | black  | florida        | usa |  7666.67 |\n| 2018 | 31371 | silver | florida        | usa |  7666.67 |\n\n",
            "text/latex": "A data.table: 2499 × 6\n\\begin{tabular}{llllll}\n year & mileage & color & state & country & price\\_eur\\\\\n <int> & <int> & <chr> & <chr> & <chr> & <dbl>\\\\\n\\hline\n\t 2008 & 274117 & black  & new jersey     & usa &  5250.00\\\\\n\t 2011 & 190552 & silver & tennessee      & usa &  2415.83\\\\\n\t 2018 &  39590 & silver & georgia        & usa &  4458.33\\\\\n\t 2014 &  64146 & blue   & virginia       & usa & 20833.33\\\\\n\t 2018 &   6654 & red    & florida        & usa & 23083.33\\\\\n\t 2018 &  45561 & white  & texas          & usa &  4750.00\\\\\n\t 2010 & 149050 & black  & georgia        & usa &  6083.33\\\\\n\t 2017 &  23525 & gray   & california     & usa & 11125.00\\\\\n\t 2018 &   9371 & silver & florida        & usa & 12166.67\\\\\n\t 2017 &  63418 & black  & texas          & usa &  4375.00\\\\\n\t 2009 & 107856 & orange & georgia        & usa &  8666.67\\\\\n\t 2017 &  39650 & white  & california     & usa & 10766.67\\\\\n\t 2018 &  22909 & black  & tennessee      & usa & 26583.33\\\\\n\t 2017 & 138650 & gray   & texas          & usa &  4525.00\\\\\n\t 2013 & 100757 & black  & virginia       & usa & 17250.00\\\\\n\t 2017 &  25747 & white  & california     & usa & 10591.67\\\\\n\t 2018 &  46194 & blue   & north carolina & usa &  4333.33\\\\\n\t 2018 &  20002 & red    & tennessee      & usa & 13750.00\\\\\n\t 2017 &  35714 & white  & texas          & usa &  4341.67\\\\\n\t 2013 &  54380 & gray   & virginia       & usa & 31750.00\\\\\n\t 2017 &  30114 & white  & california     & usa & 10433.33\\\\\n\t 2018 &  38823 & black  & north carolina & usa &  6083.33\\\\\n\t 2015 &  61578 & black  & ohio           & usa & 12500.00\\\\\n\t 2017 &  46010 & blue   & texas          & usa &  5150.00\\\\\n\t 2013 & 105510 & silver & virginia       & usa & 17333.33\\\\\n\t 2017 &  28040 & silver & california     & usa &  9916.67\\\\\n\t 2020 &  11451 & blue   & north carolina & usa & 17916.67\\\\\n\t 2014 &  31039 & brown  & ohio           & usa & 10000.00\\\\\n\t 2017 &  44174 & white  & texas          & usa &  3491.67\\\\\n\t 2008 &  93698 & white  & tennessee      & usa & 10833.33\\\\\n\t ⋮ & ⋮ & ⋮ & ⋮ & ⋮ & ⋮\\\\\n\t 2018 & 34547 & white  & florida        & usa & 11583.33\\\\\n\t 2015 & 75858 & silver & illinois       & usa &  3083.33\\\\\n\t 2019 & 31123 & white  & north carolina & usa & 15666.67\\\\\n\t 2018 & 33808 & black  & florida        & usa &  7666.67\\\\\n\t 2019 & 30599 & black  & north carolina & usa & 25083.33\\\\\n\t 2018 & 33931 & black  & florida        & usa &  7666.67\\\\\n\t 2019 & 40359 & black  & north carolina & usa &  9250.00\\\\\n\t 2018 & 44313 & white  & florida        & usa & 11583.33\\\\\n\t 2018 & 33078 & black  & florida        & usa &  7583.33\\\\\n\t 2019 & 24320 & black  & illinois       & usa & 19000.00\\\\\n\t 2018 & 42502 & black  & florida        & usa & 11583.33\\\\\n\t 2019 & 33497 & gray   & california     & usa & 10500.00\\\\\n\t 2018 & 39577 & silver & florida        & usa &  7666.67\\\\\n\t 2019 & 36974 & gray   & california     & usa & 10083.33\\\\\n\t 2018 & 41220 & black  & florida        & usa &  7666.67\\\\\n\t 2019 &     1 & silver & california     & usa &  1916.67\\\\\n\t 2018 & 41539 & black  & florida        & usa & 11583.33\\\\\n\t 2019 & 19646 & black  & california     & usa &  7916.67\\\\\n\t 2018 & 39924 & white  & florida        & usa & 11583.33\\\\\n\t 2019 & 33279 & red    & california     & usa &  1416.67\\\\\n\t 2018 & 40259 & gray   & florida        & usa & 11583.33\\\\\n\t 2019 & 25264 & blue   & california     & usa &  8666.67\\\\\n\t 2018 & 35677 & black  & florida        & usa &  7666.67\\\\\n\t 2019 & 35511 & black  & california     & usa &  6166.67\\\\\n\t 2018 & 33027 & black  & florida        & usa &  7666.67\\\\\n\t 2019 & 23609 & red    & california     & usa &  6500.00\\\\\n\t 2018 & 34553 & silver & florida        & usa &  7666.67\\\\\n\t 2018 & 31594 & silver & florida        & usa &  7666.67\\\\\n\t 2018 & 32557 & black  & florida        & usa &  7666.67\\\\\n\t 2018 & 31371 & silver & florida        & usa &  7666.67\\\\\n\\end{tabular}\n",
            "text/plain": [
              "     year mileage color  state          country price_eur\n",
              "1    2008 274117  black  new jersey     usa      5250.00 \n",
              "2    2011 190552  silver tennessee      usa      2415.83 \n",
              "3    2018  39590  silver georgia        usa      4458.33 \n",
              "4    2014  64146  blue   virginia       usa     20833.33 \n",
              "5    2018   6654  red    florida        usa     23083.33 \n",
              "6    2018  45561  white  texas          usa      4750.00 \n",
              "7    2010 149050  black  georgia        usa      6083.33 \n",
              "8    2017  23525  gray   california     usa     11125.00 \n",
              "9    2018   9371  silver florida        usa     12166.67 \n",
              "10   2017  63418  black  texas          usa      4375.00 \n",
              "11   2009 107856  orange georgia        usa      8666.67 \n",
              "12   2017  39650  white  california     usa     10766.67 \n",
              "13   2018  22909  black  tennessee      usa     26583.33 \n",
              "14   2017 138650  gray   texas          usa      4525.00 \n",
              "15   2013 100757  black  virginia       usa     17250.00 \n",
              "16   2017  25747  white  california     usa     10591.67 \n",
              "17   2018  46194  blue   north carolina usa      4333.33 \n",
              "18   2018  20002  red    tennessee      usa     13750.00 \n",
              "19   2017  35714  white  texas          usa      4341.67 \n",
              "20   2013  54380  gray   virginia       usa     31750.00 \n",
              "21   2017  30114  white  california     usa     10433.33 \n",
              "22   2018  38823  black  north carolina usa      6083.33 \n",
              "23   2015  61578  black  ohio           usa     12500.00 \n",
              "24   2017  46010  blue   texas          usa      5150.00 \n",
              "25   2013 105510  silver virginia       usa     17333.33 \n",
              "26   2017  28040  silver california     usa      9916.67 \n",
              "27   2020  11451  blue   north carolina usa     17916.67 \n",
              "28   2014  31039  brown  ohio           usa     10000.00 \n",
              "29   2017  44174  white  texas          usa      3491.67 \n",
              "30   2008  93698  white  tennessee      usa     10833.33 \n",
              "⋮    ⋮    ⋮       ⋮      ⋮              ⋮       ⋮        \n",
              "2470 2018 34547   white  florida        usa     11583.33 \n",
              "2471 2015 75858   silver illinois       usa      3083.33 \n",
              "2472 2019 31123   white  north carolina usa     15666.67 \n",
              "2473 2018 33808   black  florida        usa      7666.67 \n",
              "2474 2019 30599   black  north carolina usa     25083.33 \n",
              "2475 2018 33931   black  florida        usa      7666.67 \n",
              "2476 2019 40359   black  north carolina usa      9250.00 \n",
              "2477 2018 44313   white  florida        usa     11583.33 \n",
              "2478 2018 33078   black  florida        usa      7583.33 \n",
              "2479 2019 24320   black  illinois       usa     19000.00 \n",
              "2480 2018 42502   black  florida        usa     11583.33 \n",
              "2481 2019 33497   gray   california     usa     10500.00 \n",
              "2482 2018 39577   silver florida        usa      7666.67 \n",
              "2483 2019 36974   gray   california     usa     10083.33 \n",
              "2484 2018 41220   black  florida        usa      7666.67 \n",
              "2485 2019     1   silver california     usa      1916.67 \n",
              "2486 2018 41539   black  florida        usa     11583.33 \n",
              "2487 2019 19646   black  california     usa      7916.67 \n",
              "2488 2018 39924   white  florida        usa     11583.33 \n",
              "2489 2019 33279   red    california     usa      1416.67 \n",
              "2490 2018 40259   gray   florida        usa     11583.33 \n",
              "2491 2019 25264   blue   california     usa      8666.67 \n",
              "2492 2018 35677   black  florida        usa      7666.67 \n",
              "2493 2019 35511   black  california     usa      6166.67 \n",
              "2494 2018 33027   black  florida        usa      7666.67 \n",
              "2495 2019 23609   red    california     usa      6500.00 \n",
              "2496 2018 34553   silver florida        usa      7666.67 \n",
              "2497 2018 31594   silver florida        usa      7666.67 \n",
              "2498 2018 32557   black  florida        usa      7666.67 \n",
              "2499 2018 31371   silver florida        usa      7666.67 "
            ]
          },
          "metadata": {}
        }
      ]
    },
    {
      "cell_type": "code",
      "source": [
        "# sobreescribimos el df tras omitir una columna\n",
        "df_cars = df_cars[,-'price_eur']"
      ],
      "metadata": {
        "id": "ebtHfPtvAcIx"
      },
      "execution_count": null,
      "outputs": []
    },
    {
      "cell_type": "code",
      "source": [
        "str(df_cars)"
      ],
      "metadata": {
        "colab": {
          "base_uri": "https://localhost:8080/"
        },
        "id": "HLqUbCWH_ymt",
        "outputId": "5eb94044-ab42-4efc-a410-99f0c4ba22b0"
      },
      "execution_count": null,
      "outputs": [
        {
          "output_type": "stream",
          "name": "stdout",
          "text": [
            "Classes ‘data.table’ and 'data.frame':\t2499 obs. of  7 variables:\n",
            " $ year   : int  2008 2011 2018 2014 2018 2018 2010 2017 2018 2017 ...\n",
            " $ brand  : chr  \"toyota\" \"ford\" \"dodge\" \"ford\" ...\n",
            " $ price  : int  6300 2899 5350 25000 27700 5700 7300 13350 14600 5250 ...\n",
            " $ mileage: int  274117 190552 39590 64146 6654 45561 149050 23525 9371 63418 ...\n",
            " $ color  : chr  \"black\" \"silver\" \"silver\" \"blue\" ...\n",
            " $ state  : chr  \"new jersey\" \"tennessee\" \"georgia\" \"virginia\" ...\n",
            " $ country: chr  \"usa\" \"usa\" \"usa\" \"usa\" ...\n",
            " - attr(*, \".internal.selfref\")=<externalptr> \n"
          ]
        }
      ]
    },
    {
      "cell_type": "markdown",
      "source": [
        "# 4. Ejercicios\n",
        "---\n",
        "> 👉 Puedes encontrar las soluciones a los ejercicios [aquí](https://nbviewer.org/github/SomosDataWizards/R-Curso-Introductorio-Ejercicios/blob/main/Capitulo_2_Ejercicios.ipynb)"
      ],
      "metadata": {
        "id": "MM5BrgTLBj5o"
      }
    },
    {
      "cell_type": "markdown",
      "source": [
        "### Ejercicio #1\n",
        "\n",
        "##### 1A. Importar dataframe. Seleccionar columnas \"name\", \"homeworld\", \"species\" para las primeras 10 filas del DataFrame.\n",
        "\n",
        "##### 1B. Seleccionar personajes que a) no sean *species* hombre y b) sean *homeworld* Naboo, Endor o Kashyyyk.\n",
        "\n",
        "> *Dataset https://data-wizards.s3.amazonaws.com/datasets/dataset_star_wars.csv*"
      ],
      "metadata": {
        "id": "nyx_p0I9Br9Q"
      }
    },
    {
      "cell_type": "markdown",
      "source": [
        "### Ejercicio #2\n",
        "\n",
        "##### EX 2A. Importar dataframe. Seleccionar columnas *country*, *director_name*, *imdb_score* para las primeras 10 filas del dataframe\n",
        "##### EX 2B. Seleccionar películas:  \n",
        "(i) *producidas fuera de USA o con IMDB score mayor a 8.5*, y  \n",
        "(ii) *dirigidas por alguno de lo siguientes directores: James Cameron, Peter Jackson, Tim Burton.*\n",
        "\n",
        "> Dataset https://data-wizards.s3.amazonaws.com/datasets/movies.csv"
      ],
      "metadata": {
        "id": "Eqq3PVCpBu6V"
      }
    },
    {
      "cell_type": "markdown",
      "source": [
        "### Ejercicio #3  \n",
        "\n",
        "#### EX 3A. Importar dataframe. Seleccionar columnas \"Company\", \"Sector\" y \"Revenue\".\n",
        "#### EX 3B. Crear una columna \"Profits_per_Employee\" como operación entre las columnas \"Profits\" / \"Employees\".\n",
        "\n",
        "\n",
        "> Dataset https://data-wizards.s3.amazonaws.com/datasets/fortune1000.csv\n"
      ],
      "metadata": {
        "id": "EpbpIE7jBv7t"
      }
    }
  ]
}